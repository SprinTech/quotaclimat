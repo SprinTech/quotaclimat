{
 "cells": [
  {
   "cell_type": "code",
   "execution_count": null,
   "metadata": {},
   "outputs": [],
   "source": [
    "%load_ext autoreload\n",
    "%autoreload 2"
   ]
  },
  {
   "cell_type": "code",
   "execution_count": null,
   "metadata": {},
   "outputs": [],
   "source": [
    "import sys\n",
    "sys.path.append('..')\n",
    "from quotaclimat.data_processing.sitemap_processing import load_all\n",
    "\n",
    "import pandas as pd\n",
    "import plotly.graph_objects as go\n",
    "from plotly.subplots import make_subplots\n",
    "import plotly.express as px\n",
    "import matplotlib.pyplot as plt\n",
    "\n",
    "from sklearn.preprocessing import MultiLabelBinarizer\n",
    "from sklearn.feature_extraction.text import TfidfVectorizer\n",
    "from nltk.corpus import stopwords\n",
    "from wordcloud import WordCloud\n",
    "\n",
    "\n",
    "stopwords = stopwords.words('french')\n",
    "pd.options.display.max_colwidth = 200\n",
    "\n"
   ]
  },
  {
   "cell_type": "code",
   "execution_count": null,
   "metadata": {},
   "outputs": [],
   "source": [
    "df = load_all(\"../data_public/sitemap_dumps/\")\n"
   ]
  },
  {
   "cell_type": "code",
   "execution_count": null,
   "metadata": {},
   "outputs": [],
   "source": [
    "df.columns"
   ]
  },
  {
   "cell_type": "markdown",
   "metadata": {},
   "source": [
    "# Feature engineering"
   ]
  },
  {
   "cell_type": "code",
   "execution_count": null,
   "metadata": {},
   "outputs": [],
   "source": [
    "print(df.news_publication_date.min())\n",
    "print(df.news_publication_date.max())"
   ]
  },
  {
   "cell_type": "code",
   "execution_count": null,
   "metadata": {},
   "outputs": [],
   "source": [
    "# format date\n",
    "df['news_publication_date'] = df.news_publication_date.dt.strftime(\"%Y-%m-%d\")\n",
    "df['download_date'] = df.download_date.dt.strftime(\"%Y-%m-%d\")\n",
    "# filtering\n",
    "df = df[df.news_publication_date > '2022-11-24']  # some article are very old\n",
    "\n",
    "# extract section \n",
    "mlb = MultiLabelBinarizer()\n",
    "df_sparse = pd.DataFrame(mlb.fit_transform(df.section),columns=mlb.classes_, index=df.index)\n",
    "df[df_sparse.columns] = df_sparse\n",
    "\n",
    "# news title processing\n",
    "df.news_title = df.news_title.str.lower()\n"
   ]
  },
  {
   "cell_type": "code",
   "execution_count": null,
   "metadata": {},
   "outputs": [],
   "source": [
    "from quotaclimat.data_ingestion.config_sitmap import MEDIA_CONFIG, SITEMAP_CONFIG\n",
    "import datetime\n"
   ]
  },
  {
   "cell_type": "markdown",
   "metadata": {},
   "source": [
    "# EDA"
   ]
  },
  {
   "cell_type": "code",
   "execution_count": null,
   "id": "d47cbf0e",
   "metadata": {},
   "outputs": [],
   "source": [
    "df['type'] = df['media'].apply(lambda m: MEDIA_CONFIG[m]['type'])"
   ]
  },
  {
   "cell_type": "code",
   "execution_count": null,
   "metadata": {},
   "outputs": [],
   "source": [
    "df_count_pub_date_media = df.groupby(['news_publication_date', 'media'], as_index=False).count()\n",
    "keywords = ['COP27', 'écologie']\n",
    "keywords_comp = ['marcon', 'qatar']\n",
    "df['day_of_the_month'] = df.download_date.str[-5:]\n"
   ]
  },
  {
   "cell_type": "code",
   "execution_count": null,
   "id": "7e4f89d9",
   "metadata": {},
   "outputs": [],
   "source": [
    "keywords = ['COP27', 'écologie']\n",
    "keywords_comp = ['marcon', 'qatar']"
   ]
  },
  {
   "cell_type": "markdown",
   "metadata": {},
   "source": [
    "## Section exploration"
   ]
  },
  {
   "cell_type": "code",
   "execution_count": null,
   "metadata": {},
   "outputs": [],
   "source": [
    "# top n sections\n",
    "top_n = 70\n",
    "df_count_sections = df_sparse.sum(axis=0).sort_values(ascending=False).head(top_n)\n",
    "fig = go.Figure()\n",
    "fig.add_trace(go.Bar(y=df_count_sections, x=df_count_sections.index))\n",
    "fig.update_xaxes(tickangle=-45, title=None)\n",
    "fig.update_yaxes(title=None)\n",
    "fig.update_layout(margin={\"b\": 100}, title_text='Nombre total d article par section')"
   ]
  },
  {
   "cell_type": "code",
   "execution_count": null,
   "metadata": {},
   "outputs": [],
   "source": [
    "df_sum_media = df.groupby(\"media\").sum()"
   ]
  },
  {
   "cell_type": "code",
   "execution_count": null,
   "metadata": {},
   "outputs": [],
   "source": [
    "nb_section_per_media = df_sum_media.shape[1] - df_sum_media[df_sum_media==0].isna().sum(axis=1)\n",
    "print(nb_section_per_media)"
   ]
  },
  {
   "cell_type": "code",
   "execution_count": null,
   "metadata": {},
   "outputs": [],
   "source": [
    "SECTION_CLIMAT = ['planete', 'environnement', 'crise-climatique']\n",
    "\n"
   ]
  },
  {
   "cell_type": "code",
   "execution_count": null,
   "metadata": {},
   "outputs": [],
   "source": [
    "df[df.publication_name == 'Le Figaro'].section\n",
    "keywords = [' cop27', '  cop ', 'climatique', 'écologie', 'CO2', 'effet de serre', 'transition énergétique', 'carbone']\n",
    "\n",
    "df[(df.news_title.str.contains(\"|\".join(keywords)))&(df.publication_name == 'Le Figaro')].news_title\n"
   ]
  },
  {
   "cell_type": "code",
   "execution_count": null,
   "metadata": {},
   "outputs": [],
   "source": [
    "df_nb_in_climat_section = df[SECTION_CLIMAT + ['publication_name']].groupby(\"publication_name\").sum().sum(axis=1)\n",
    "df_nb_total = df.groupby(\"publication_name\").sum().sum(axis=1)\n",
    "percentage_article_in_climat_sections = df_nb_in_climat_section/df_nb_total * 100"
   ]
  },
  {
   "cell_type": "code",
   "execution_count": null,
   "metadata": {},
   "outputs": [],
   "source": [
    "\n",
    "# top n sections\n",
    "top_n = 10\n",
    "percentage_article_in_climat_sections = percentage_article_in_climat_sections.sort_values(ascending=False).head(top_n)\n",
    "fig = go.Figure()\n",
    "fig.add_trace(go.Bar(y=percentage_article_in_climat_sections, x=percentage_article_in_climat_sections.index))\n",
    "fig.update_xaxes(tickangle=-45, title=None)\n",
    "fig.update_yaxes(title=None)\n",
    "fig.update_layout(margin={\"b\": 100}, title_text='Pourcentage d article dans la section climat par publisher')"
   ]
  },
  {
   "cell_type": "code",
   "execution_count": null,
   "metadata": {},
   "outputs": [],
   "source": [
    "keywords = [' cop27', '  cop ', 'climatique', 'écologie', 'CO2', 'effet de serre', 'transition énergétique', 'carbone']\n",
    "\n",
    "df[df.news_title.str.contains(\"|\".join(keywords))].section\n"
   ]
  },
  {
   "cell_type": "code",
   "execution_count": null,
   "metadata": {},
   "outputs": [],
   "source": [
    "df.news_title.str.len().max()"
   ]
  },
  {
   "cell_type": "code",
   "execution_count": null,
   "metadata": {},
   "outputs": [],
   "source": [
    "df[(df.planete !=0)|(df.environnement !=0)|(df['crise-climatique'] !=0)].news_title"
   ]
  },
  {
   "cell_type": "markdown",
   "metadata": {},
   "source": [
    "# Find back news from other sections"
   ]
  },
  {
   "cell_type": "markdown",
   "metadata": {},
   "source": [
    "## Similarity score"
   ]
  },
  {
   "cell_type": "code",
   "execution_count": null,
   "metadata": {},
   "outputs": [],
   "source": [
    "vectorizer = TfidfVectorizer(max_df=0.3, min_df=0.01, stop_words=stopwords)\n",
    "df_tfidf = vectorizer.fit_transform(df['news_title'])                                                                                                                                                                                               \n"
   ]
  },
  {
   "cell_type": "code",
   "execution_count": null,
   "metadata": {},
   "outputs": [],
   "source": [
    "df_tfidf_sum = pd.DataFrame(df_tfidf.T.sum(axis=1), index=vectorizer.get_feature_names(), columns=[\"tfidf_sum\"])"
   ]
  },
  {
   "cell_type": "code",
   "execution_count": null,
   "metadata": {},
   "outputs": [],
   "source": [
    "wordcloud = WordCloud()\n",
    "wordcloud.generate_from_frequencies(frequencies=df_tfidf_sum.to_dict()['tfidf_sum'])\n",
    "plt.figure()\n",
    "plt.imshow(wordcloud, interpolation=\"bilinear\")\n",
    "plt.axis(\"off\")\n",
    "plt.show()"
   ]
  },
  {
   "cell_type": "code",
   "execution_count": null,
   "metadata": {},
   "outputs": [],
   "source": [
    "df[(df.planete !=0)|(df.environnement !=0)|(df['crise-climatique'] !=0) | (df[SECTION_CLIMAT] == 1).any(axis=1)].news_title"
   ]
  },
  {
   "cell_type": "code",
   "execution_count": null,
   "metadata": {},
   "outputs": [],
   "source": [
    "print(df.shape)"
   ]
  },
  {
   "cell_type": "code",
   "execution_count": null,
   "metadata": {},
   "outputs": [],
   "source": [
    "import datetime"
   ]
  },
  {
   "cell_type": "code",
   "execution_count": null,
   "metadata": {},
   "outputs": [],
   "source": [
    "a_week_ago = datetime.datetime.today() - datetime.timedelta(weeks = 1)\n",
    "df[pd.to_datetime(df.download_date) > a_week_ago]"
   ]
  },
  {
   "cell_type": "code",
   "execution_count": null,
   "metadata": {},
   "outputs": [],
   "source": [
    "## word cloud per section\n",
    "## here filtered only on section planete, crise climatique and environnment\n",
    "\n",
    "\n",
    "climate_keywords = [' cop27', '  cop ', 'climatique', 'écologie', 'CO2', 'effet de serre', 'transition énergétique', 'carbone', 'sécheresse' 'transition énergétique', 'méthane', 'GIEC', 'zéro émission']\n",
    "\n",
    "\n",
    "vectorizer = TfidfVectorizer(max_df=0.06, min_df=0.01, stop_words=stopwords)\n",
    "df_positive_climat_topic = df[df.news_title.str.contains(\"|\".join(climate_keywords)) | (df[SECTION_CLIMAT] == 1).any(axis=1)].news_title\n",
    "tfidf_positive_climat_topic = vectorizer.fit_transform(df_positive_climat_topic)\n",
    "tfidf_positive_climat_topic_sum = pd.DataFrame(tfidf_positive_climat_topic.T.sum(axis=1), index=vectorizer.get_feature_names(), columns=[\"tfidf_sum\"])\n",
    "\n",
    "wordcloud = WordCloud()\n",
    "wordcloud.generate_from_frequencies(frequencies=tfidf_positive_climat_topic_sum.to_dict()['tfidf_sum'])\n",
    "plt.figure(figsize=(13,8))\n",
    "\n",
    "plt.imshow(wordcloud, interpolation=\"bilinear\")\n",
    "plt.axis(\"off\")\n",
    "plt.show()\n"
   ]
  },
  {
   "cell_type": "code",
   "execution_count": null,
   "metadata": {},
   "outputs": [],
   "source": [
    "## word cloud per section\n",
    "## Here we try to build a data set with only non climat topics\n",
    "\n",
    "NON_CLIMAT_SECTION = ['football', \"sport\", 'coupe-du-monde', 'sante', 'justice', 'moyen-orient', 'tech', 'crypto', 'gaming', \"economie\", 'culture']\n",
    "\n",
    "vectorizer = TfidfVectorizer(max_df=0.06, min_df=0.01, stop_words=stopwords)\n",
    "df_negative_climat_topic = df[(df.politique !=0)|(df['economie'] !=0)| (df[NON_CLIMAT_SECTION] == 1).any(axis=1)].news_title\n",
    "\n",
    "tfidf_negative_climat_topic = vectorizer.fit_transform(df_negative_climat_topic)\n",
    "tfidf_negative_climat_topic_sum = pd.DataFrame(tfidf_negative_climat_topic.T.sum(axis=1), index=vectorizer.get_feature_names(), columns=[\"tfidf_sum\"])\n",
    "\n",
    "wordcloud = WordCloud()\n",
    "wordcloud.generate_from_frequencies(frequencies=tfidf_negative_climat_topic_sum.to_dict()['tfidf_sum'])\n",
    "plt.figure(figsize=(13,8))\n",
    "\n",
    "plt.imshow(wordcloud, interpolation=\"bilinear\")\n",
    "plt.axis(\"off\")\n",
    "plt.show()"
   ]
  },
  {
   "cell_type": "markdown",
   "metadata": {},
   "source": [
    "# Classifier"
   ]
  },
  {
   "cell_type": "code",
   "execution_count": null,
   "metadata": {},
   "outputs": [],
   "source": [
    "df_positive_climat_topic.shape"
   ]
  },
  {
   "cell_type": "code",
   "execution_count": null,
   "metadata": {},
   "outputs": [],
   "source": [
    "df_negative_climat_topic.shape"
   ]
  },
  {
   "cell_type": "code",
   "execution_count": null,
   "metadata": {},
   "outputs": [],
   "source": []
  },
  {
   "cell_type": "code",
   "execution_count": null,
   "metadata": {},
   "outputs": [],
   "source": []
  },
  {
   "cell_type": "markdown",
   "metadata": {},
   "source": [
    "# Topic modeling"
   ]
  },
  {
   "cell_type": "code",
   "execution_count": null,
   "metadata": {},
   "outputs": [],
   "source": []
  }
 ],
 "metadata": {
  "kernelspec": {
   "display_name": "Python 3.10.2 64-bit ('quotaclimat')",
   "language": "python",
   "name": "python3"
  },
  "language_info": {
   "codemirror_mode": {
    "name": "ipython",
    "version": 3
   },
   "file_extension": ".py",
   "mimetype": "text/x-python",
   "name": "python",
   "nbconvert_exporter": "python",
   "pygments_lexer": "ipython3",
   "version": "3.10.2"
  },
  "vscode": {
   "interpreter": {
    "hash": "fa40f323f1c0a36c4832587fac31f22da183f3bc0e5df6291769ab78c07659b0"
   }
  }
 },
 "nbformat": 4,
 "nbformat_minor": 5
}
