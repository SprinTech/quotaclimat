{
 "cells": [
  {
   "cell_type": "code",
   "execution_count": 1,
   "source": [
    "%load_ext autoreload\n",
    "%autoreload 2"
   ],
   "outputs": [],
   "metadata": {}
  },
  {
   "cell_type": "markdown",
   "source": [
    "# COP27`"
   ],
   "metadata": {}
  },
  {
   "cell_type": "code",
   "execution_count": 2,
   "source": [
    "import pandas as pd\n",
    "import numpy as np\n",
    "import plotly.express as px\n",
    "import plotly.graph_objects as go\n",
    "import matplotlib.pyplot as plt\n",
    "import datetime\n",
    "\n",
    "import sys\n",
    "sys.path.append(\"../\")\n",
    "\n",
    "%load_ext autoreload\n",
    "%autoreload 2\n",
    "\n",
    "from quotaclimat.utils.plotly_theme import *\n"
   ],
   "outputs": [
    {
     "output_type": "stream",
     "name": "stdout",
     "text": [
      "The autoreload extension is already loaded. To reload it, use:\n",
      "  %reload_ext autoreload\n"
     ]
    }
   ],
   "metadata": {}
  },
  {
   "cell_type": "markdown",
   "source": [
    "# 1. Update les data de la journée dans ../data/keywords/cop27/\n",
    "Vous pouvez restrindre l'analyse à une journée en placant seulement data de la journée dan le ficher ou en changant DATA_PATH en dessous"
   ],
   "metadata": {}
  },
  {
   "cell_type": "markdown",
   "source": [
    "# 2. Récupération des données"
   ],
   "metadata": {}
  },
  {
   "cell_type": "code",
   "execution_count": 5,
   "source": [
    "DATA_PATH = \"../data/keywords/cop27/\"\n",
    "os.listdir(DATA_PATH)\n"
   ],
   "outputs": [
    {
     "output_type": "execute_result",
     "data": {
      "text/plain": [
       "['20221105_20221029_gregoirefournas.xlsx',\n",
       " '20221105_20221029_cop27.xlsx',\n",
       " '20221105_20221104_routeduRhum.xlsx',\n",
       " '20221104_20221102_routeduRhum.xlsx',\n",
       " '20221101_20221029_routeduRhum.xlsx',\n",
       " '20221105_20221029_elonmusk.xlsx']"
      ]
     },
     "metadata": {},
     "execution_count": 5
    }
   ],
   "metadata": {}
  },
  {
   "cell_type": "code",
   "execution_count": 6,
   "source": [
    "from quotaclimat.data_processing.read_format_deduplicate import read_and_format_one\n",
    "from quotaclimat.data_processing.read_format_deduplicate import read_and_format_all_data_dump\n",
    "from quotaclimat.data_processing.read_format_deduplicate import deduplicate_extracts\n",
    "from quotaclimat.data_analytics.exploration import filter_data_between_hours\n",
    "from quotaclimat.utils.channels import TOP_25_CHANNELS,TOP_CHANNELS_TV,TOP_CHANNELS_TV_8\n",
    "from quotaclimat.data_analytics.exploration import show_mentions_by_channel\n",
    "from quotaclimat.data_analytics.exploration import show_mentions_by_time_of_the_day\n",
    "from quotaclimat.data_analytics.exploration import show_mentions_over_time\n",
    "from quotaclimat.data_analytics.exploration import show_mentions_treemap\n",
    "from quotaclimat.data_analytics.exploration import show_piechart_split_tv_radio"
   ],
   "outputs": [],
   "metadata": {}
  },
  {
   "cell_type": "code",
   "execution_count": 7,
   "source": [
    "data = read_and_format_all_data_dump(path_folder=DATA_PATH, path_channel_metadata=None)\n",
    "data.shape"
   ],
   "outputs": [
    {
     "output_type": "execute_result",
     "data": {
      "text/plain": [
       "(10788, 15)"
      ]
     },
     "metadata": {},
     "execution_count": 7
    }
   ],
   "metadata": {}
  },
  {
   "cell_type": "markdown",
   "source": [
    "## Processing"
   ],
   "metadata": {}
  },
  {
   "cell_type": "code",
   "execution_count": 8,
   "source": [
    "top_audiences = pd.read_excel(\"../data/channels.xlsx\",sheet_name = \"top_audiences\")\n",
    "top_audiences[\"channel_id\"] = top_audiences[\"channel_name\"] + \"_\" + top_audiences[\"media\"]\n",
    "top_channels_tv = top_audiences.query(\"media=='TV'\")[\"channel_name\"].tolist()\n",
    "top_channels_radio = top_audiences.query(\"media=='Radio'\")[\"channel_name\"].tolist()"
   ],
   "outputs": [],
   "metadata": {}
  },
  {
   "cell_type": "code",
   "execution_count": 59,
   "source": [
    "# Boolean for top audiance TV and Radios\n",
    "data['is_top_audiance'] = False\n",
    "data.loc[data.channel_name.isin(top_channels_tv + top_channels_radio), 'is_top_audiance'] = True\n",
    "\n",
    "data_at_pick_hours_6_00 = filter_data_between_hours(data, min_hour=\"06:00\", max_hour=\"24:00\")\n",
    "data_at_pick_hours_6_10 = filter_data_between_hours(data, min_hour=\"06:00\", max_hour=\"10:00\")\n",
    "data_at_pick_hours_19_21 = filter_data_between_hours(data, min_hour=\"19:00\", max_hour=\"21:00\")\n"
   ],
   "outputs": [],
   "metadata": {}
  },
  {
   "cell_type": "markdown",
   "source": [
    "# 3. Analyse mot clef COP 27"
   ],
   "metadata": {}
  },
  {
   "cell_type": "code",
   "execution_count": 11,
   "source": [
    "data_cop27 = data_at_pick_hours_6_00[data_at_pick_hours_6_00.keyword == 'cop27']"
   ],
   "outputs": [],
   "metadata": {}
  },
  {
   "cell_type": "markdown",
   "source": [
    "## Courverture total"
   ],
   "metadata": {}
  },
  {
   "cell_type": "code",
   "execution_count": 12,
   "source": [
    "# Multiplier = n_mentions * 2 min / (n_channels * 60 minutes * 18h * n_days)\n",
    "n_days = (data_cop27.date.max() - data_cop27.date.min()).days\n",
    "media_time = data_cop27.groupby([\"media\"]).agg({\"count\":\"sum\",\"channel_name\":\"nunique\"})\n",
    "media_time = media_time.append(pd.DataFrame(media_time.sum(axis = 0).rename(\"Total\")).T)\n",
    "media_time[\"media_time\"] = media_time[\"count\"] * 2\n",
    "media_time[\"total_time\"] = media_time[\"channel_name\"] * n_days * 18 * 60\n",
    "media_time[\"media_part\"] = media_time[\"media_time\"] / media_time[\"total_time\"]\n",
    "\n",
    "media_time"
   ],
   "outputs": [
    {
     "output_type": "stream",
     "name": "stderr",
     "text": [
      "/var/folders/v6/vd9wd_yd6sq8q9yr7gjwfrfc0000gn/T/ipykernel_59998/874457535.py:4: FutureWarning: The frame.append method is deprecated and will be removed from pandas in a future version. Use pandas.concat instead.\n",
      "  media_time = media_time.append(pd.DataFrame(media_time.sum(axis = 0).rename(\"Total\")).T)\n"
     ]
    },
    {
     "output_type": "execute_result",
     "data": {
      "text/html": [
       "<div>\n",
       "<style scoped>\n",
       "    .dataframe tbody tr th:only-of-type {\n",
       "        vertical-align: middle;\n",
       "    }\n",
       "\n",
       "    .dataframe tbody tr th {\n",
       "        vertical-align: top;\n",
       "    }\n",
       "\n",
       "    .dataframe thead th {\n",
       "        text-align: right;\n",
       "    }\n",
       "</style>\n",
       "<table border=\"1\" class=\"dataframe\">\n",
       "  <thead>\n",
       "    <tr style=\"text-align: right;\">\n",
       "      <th></th>\n",
       "      <th>count</th>\n",
       "      <th>channel_name</th>\n",
       "      <th>media_time</th>\n",
       "      <th>total_time</th>\n",
       "      <th>media_part</th>\n",
       "    </tr>\n",
       "  </thead>\n",
       "  <tbody>\n",
       "    <tr>\n",
       "      <th>Radio</th>\n",
       "      <td>568</td>\n",
       "      <td>132</td>\n",
       "      <td>1136</td>\n",
       "      <td>855360</td>\n",
       "      <td>0.001328</td>\n",
       "    </tr>\n",
       "    <tr>\n",
       "      <th>TV</th>\n",
       "      <td>471</td>\n",
       "      <td>25</td>\n",
       "      <td>942</td>\n",
       "      <td>162000</td>\n",
       "      <td>0.005815</td>\n",
       "    </tr>\n",
       "    <tr>\n",
       "      <th>Total</th>\n",
       "      <td>1039</td>\n",
       "      <td>157</td>\n",
       "      <td>2078</td>\n",
       "      <td>1017360</td>\n",
       "      <td>0.002043</td>\n",
       "    </tr>\n",
       "  </tbody>\n",
       "</table>\n",
       "</div>"
      ],
      "text/plain": [
       "       count  channel_name  media_time  total_time  media_part\n",
       "Radio    568           132        1136      855360    0.001328\n",
       "TV       471            25         942      162000    0.005815\n",
       "Total   1039           157        2078     1017360    0.002043"
      ]
     },
     "metadata": {},
     "execution_count": 12
    }
   ],
   "metadata": {}
  },
  {
   "cell_type": "markdown",
   "source": [
    "##  TOP 3 TV // radio"
   ],
   "metadata": {}
  },
  {
   "cell_type": "code",
   "execution_count": 14,
   "source": [
    "# Multiplier for one channel = n_mentions * 2 min / (60 minutes * 18h * n_days)\n",
    "multiplier = 2 / (1 * 60 * 18 * n_days)\n",
    "\n",
    "fig = show_mentions_by_channel(data_cop27,list_of_channels=top_channels_tv,n = 3,\n",
    "                               title = \"TOP 3 TV COP27\",\n",
    "                               method = multiplier,height = 400,text_auto = \".1%\")\n",
    "fig.update_layout(yaxis_tickformat='0%')"
   ],
   "outputs": [
    {
     "output_type": "display_data",
     "data": {
      "application/vnd.plotly.v1+json": {
       "data": [
        {
         "alignmentgroup": "True",
         "hovertemplate": "media=TV<br>channel_name=%{x}<br>count=%{y}<extra></extra>",
         "legendgroup": "TV",
         "marker": {
          "color": "rgb(95, 70, 144)",
          "pattern": {
           "shape": ""
          }
         },
         "name": "TV",
         "offsetgroup": "TV",
         "orientation": "v",
         "showlegend": true,
         "textposition": "auto",
         "texttemplate": "%{y:.1%}",
         "x": [
          "France 24",
          "France Info:",
          "France 2"
         ],
         "xaxis": "x",
         "y": [
          0.04506172839506173,
          0.016049382716049384,
          0.0049382716049382715
         ],
         "yaxis": "y",
         "type": "bar"
        }
       ],
       "layout": {
        "template": {
         "data": {
          "barpolar": [
           {
            "marker": {
             "line": {
              "color": "white",
              "width": 0.5
             },
             "pattern": {
              "fillmode": "overlay",
              "size": 10,
              "solidity": 0.2
             }
            },
            "type": "barpolar"
           }
          ],
          "bar": [
           {
            "error_x": {
             "color": "#2a3f5f"
            },
            "error_y": {
             "color": "#2a3f5f"
            },
            "marker": {
             "line": {
              "color": "white",
              "width": 0.5
             },
             "pattern": {
              "fillmode": "overlay",
              "size": 10,
              "solidity": 0.2
             }
            },
            "type": "bar"
           }
          ],
          "carpet": [
           {
            "aaxis": {
             "endlinecolor": "#2a3f5f",
             "gridcolor": "#C8D4E3",
             "linecolor": "#C8D4E3",
             "minorgridcolor": "#C8D4E3",
             "startlinecolor": "#2a3f5f"
            },
            "baxis": {
             "endlinecolor": "#2a3f5f",
             "gridcolor": "#C8D4E3",
             "linecolor": "#C8D4E3",
             "minorgridcolor": "#C8D4E3",
             "startlinecolor": "#2a3f5f"
            },
            "type": "carpet"
           }
          ],
          "choropleth": [
           {
            "colorbar": {
             "outlinewidth": 0,
             "ticks": ""
            },
            "type": "choropleth"
           }
          ],
          "contourcarpet": [
           {
            "colorbar": {
             "outlinewidth": 0,
             "ticks": ""
            },
            "type": "contourcarpet"
           }
          ],
          "contour": [
           {
            "colorbar": {
             "outlinewidth": 0,
             "ticks": ""
            },
            "colorscale": [
             [
              0,
              "#0d0887"
             ],
             [
              0.1111111111111111,
              "#46039f"
             ],
             [
              0.2222222222222222,
              "#7201a8"
             ],
             [
              0.3333333333333333,
              "#9c179e"
             ],
             [
              0.4444444444444444,
              "#bd3786"
             ],
             [
              0.5555555555555556,
              "#d8576b"
             ],
             [
              0.6666666666666666,
              "#ed7953"
             ],
             [
              0.7777777777777778,
              "#fb9f3a"
             ],
             [
              0.8888888888888888,
              "#fdca26"
             ],
             [
              1,
              "#f0f921"
             ]
            ],
            "type": "contour"
           }
          ],
          "heatmapgl": [
           {
            "colorbar": {
             "outlinewidth": 0,
             "ticks": ""
            },
            "colorscale": [
             [
              0,
              "#0d0887"
             ],
             [
              0.1111111111111111,
              "#46039f"
             ],
             [
              0.2222222222222222,
              "#7201a8"
             ],
             [
              0.3333333333333333,
              "#9c179e"
             ],
             [
              0.4444444444444444,
              "#bd3786"
             ],
             [
              0.5555555555555556,
              "#d8576b"
             ],
             [
              0.6666666666666666,
              "#ed7953"
             ],
             [
              0.7777777777777778,
              "#fb9f3a"
             ],
             [
              0.8888888888888888,
              "#fdca26"
             ],
             [
              1,
              "#f0f921"
             ]
            ],
            "type": "heatmapgl"
           }
          ],
          "heatmap": [
           {
            "colorbar": {
             "outlinewidth": 0,
             "ticks": ""
            },
            "colorscale": [
             [
              0,
              "#0d0887"
             ],
             [
              0.1111111111111111,
              "#46039f"
             ],
             [
              0.2222222222222222,
              "#7201a8"
             ],
             [
              0.3333333333333333,
              "#9c179e"
             ],
             [
              0.4444444444444444,
              "#bd3786"
             ],
             [
              0.5555555555555556,
              "#d8576b"
             ],
             [
              0.6666666666666666,
              "#ed7953"
             ],
             [
              0.7777777777777778,
              "#fb9f3a"
             ],
             [
              0.8888888888888888,
              "#fdca26"
             ],
             [
              1,
              "#f0f921"
             ]
            ],
            "type": "heatmap"
           }
          ],
          "histogram2dcontour": [
           {
            "colorbar": {
             "outlinewidth": 0,
             "ticks": ""
            },
            "colorscale": [
             [
              0,
              "#0d0887"
             ],
             [
              0.1111111111111111,
              "#46039f"
             ],
             [
              0.2222222222222222,
              "#7201a8"
             ],
             [
              0.3333333333333333,
              "#9c179e"
             ],
             [
              0.4444444444444444,
              "#bd3786"
             ],
             [
              0.5555555555555556,
              "#d8576b"
             ],
             [
              0.6666666666666666,
              "#ed7953"
             ],
             [
              0.7777777777777778,
              "#fb9f3a"
             ],
             [
              0.8888888888888888,
              "#fdca26"
             ],
             [
              1,
              "#f0f921"
             ]
            ],
            "type": "histogram2dcontour"
           }
          ],
          "histogram2d": [
           {
            "colorbar": {
             "outlinewidth": 0,
             "ticks": ""
            },
            "colorscale": [
             [
              0,
              "#0d0887"
             ],
             [
              0.1111111111111111,
              "#46039f"
             ],
             [
              0.2222222222222222,
              "#7201a8"
             ],
             [
              0.3333333333333333,
              "#9c179e"
             ],
             [
              0.4444444444444444,
              "#bd3786"
             ],
             [
              0.5555555555555556,
              "#d8576b"
             ],
             [
              0.6666666666666666,
              "#ed7953"
             ],
             [
              0.7777777777777778,
              "#fb9f3a"
             ],
             [
              0.8888888888888888,
              "#fdca26"
             ],
             [
              1,
              "#f0f921"
             ]
            ],
            "type": "histogram2d"
           }
          ],
          "histogram": [
           {
            "marker": {
             "pattern": {
              "fillmode": "overlay",
              "size": 10,
              "solidity": 0.2
             }
            },
            "type": "histogram"
           }
          ],
          "mesh3d": [
           {
            "colorbar": {
             "outlinewidth": 0,
             "ticks": ""
            },
            "type": "mesh3d"
           }
          ],
          "parcoords": [
           {
            "line": {
             "colorbar": {
              "outlinewidth": 0,
              "ticks": ""
             }
            },
            "type": "parcoords"
           }
          ],
          "pie": [
           {
            "automargin": true,
            "type": "pie"
           }
          ],
          "scatter3d": [
           {
            "line": {
             "colorbar": {
              "outlinewidth": 0,
              "ticks": ""
             }
            },
            "marker": {
             "colorbar": {
              "outlinewidth": 0,
              "ticks": ""
             }
            },
            "type": "scatter3d"
           }
          ],
          "scattercarpet": [
           {
            "marker": {
             "colorbar": {
              "outlinewidth": 0,
              "ticks": ""
             }
            },
            "type": "scattercarpet"
           }
          ],
          "scattergeo": [
           {
            "marker": {
             "colorbar": {
              "outlinewidth": 0,
              "ticks": ""
             }
            },
            "type": "scattergeo"
           }
          ],
          "scattergl": [
           {
            "marker": {
             "colorbar": {
              "outlinewidth": 0,
              "ticks": ""
             }
            },
            "type": "scattergl"
           }
          ],
          "scattermapbox": [
           {
            "marker": {
             "colorbar": {
              "outlinewidth": 0,
              "ticks": ""
             }
            },
            "type": "scattermapbox"
           }
          ],
          "scatterpolargl": [
           {
            "marker": {
             "colorbar": {
              "outlinewidth": 0,
              "ticks": ""
             }
            },
            "type": "scatterpolargl"
           }
          ],
          "scatterpolar": [
           {
            "marker": {
             "colorbar": {
              "outlinewidth": 0,
              "ticks": ""
             }
            },
            "type": "scatterpolar"
           }
          ],
          "scatter": [
           {
            "fillpattern": {
             "fillmode": "overlay",
             "size": 10,
             "solidity": 0.2
            },
            "type": "scatter"
           }
          ],
          "scatterternary": [
           {
            "marker": {
             "colorbar": {
              "outlinewidth": 0,
              "ticks": ""
             }
            },
            "type": "scatterternary"
           }
          ],
          "surface": [
           {
            "colorbar": {
             "outlinewidth": 0,
             "ticks": ""
            },
            "colorscale": [
             [
              0,
              "#0d0887"
             ],
             [
              0.1111111111111111,
              "#46039f"
             ],
             [
              0.2222222222222222,
              "#7201a8"
             ],
             [
              0.3333333333333333,
              "#9c179e"
             ],
             [
              0.4444444444444444,
              "#bd3786"
             ],
             [
              0.5555555555555556,
              "#d8576b"
             ],
             [
              0.6666666666666666,
              "#ed7953"
             ],
             [
              0.7777777777777778,
              "#fb9f3a"
             ],
             [
              0.8888888888888888,
              "#fdca26"
             ],
             [
              1,
              "#f0f921"
             ]
            ],
            "type": "surface"
           }
          ],
          "table": [
           {
            "cells": {
             "fill": {
              "color": "#EBF0F8"
             },
             "line": {
              "color": "white"
             }
            },
            "header": {
             "fill": {
              "color": "#C8D4E3"
             },
             "line": {
              "color": "white"
             }
            },
            "type": "table"
           }
          ]
         },
         "layout": {
          "annotationdefaults": {
           "arrowcolor": "#2a3f5f",
           "arrowhead": 0,
           "arrowwidth": 1
          },
          "autotypenumbers": "strict",
          "coloraxis": {
           "colorbar": {
            "outlinewidth": 0,
            "ticks": ""
           }
          },
          "colorscale": {
           "diverging": [
            [
             0,
             "#8e0152"
            ],
            [
             0.1,
             "#c51b7d"
            ],
            [
             0.2,
             "#de77ae"
            ],
            [
             0.3,
             "#f1b6da"
            ],
            [
             0.4,
             "#fde0ef"
            ],
            [
             0.5,
             "#f7f7f7"
            ],
            [
             0.6,
             "#e6f5d0"
            ],
            [
             0.7,
             "#b8e186"
            ],
            [
             0.8,
             "#7fbc41"
            ],
            [
             0.9,
             "#4d9221"
            ],
            [
             1,
             "#276419"
            ]
           ],
           "sequential": [
            [
             0,
             "#0d0887"
            ],
            [
             0.1111111111111111,
             "#46039f"
            ],
            [
             0.2222222222222222,
             "#7201a8"
            ],
            [
             0.3333333333333333,
             "#9c179e"
            ],
            [
             0.4444444444444444,
             "#bd3786"
            ],
            [
             0.5555555555555556,
             "#d8576b"
            ],
            [
             0.6666666666666666,
             "#ed7953"
            ],
            [
             0.7777777777777778,
             "#fb9f3a"
            ],
            [
             0.8888888888888888,
             "#fdca26"
            ],
            [
             1,
             "#f0f921"
            ]
           ],
           "sequentialminus": [
            [
             0,
             "#0d0887"
            ],
            [
             0.1111111111111111,
             "#46039f"
            ],
            [
             0.2222222222222222,
             "#7201a8"
            ],
            [
             0.3333333333333333,
             "#9c179e"
            ],
            [
             0.4444444444444444,
             "#bd3786"
            ],
            [
             0.5555555555555556,
             "#d8576b"
            ],
            [
             0.6666666666666666,
             "#ed7953"
            ],
            [
             0.7777777777777778,
             "#fb9f3a"
            ],
            [
             0.8888888888888888,
             "#fdca26"
            ],
            [
             1,
             "#f0f921"
            ]
           ]
          },
          "colorway": [
           "#636efa",
           "#EF553B",
           "#00cc96",
           "#ab63fa",
           "#FFA15A",
           "#19d3f3",
           "#FF6692",
           "#B6E880",
           "#FF97FF",
           "#FECB52"
          ],
          "font": {
           "color": "#2a3f5f"
          },
          "geo": {
           "bgcolor": "white",
           "lakecolor": "white",
           "landcolor": "white",
           "showlakes": true,
           "showland": true,
           "subunitcolor": "#C8D4E3"
          },
          "hoverlabel": {
           "align": "left"
          },
          "hovermode": "closest",
          "mapbox": {
           "style": "light"
          },
          "paper_bgcolor": "white",
          "plot_bgcolor": "white",
          "polar": {
           "angularaxis": {
            "gridcolor": "#EBF0F8",
            "linecolor": "#EBF0F8",
            "ticks": ""
           },
           "bgcolor": "white",
           "radialaxis": {
            "gridcolor": "#EBF0F8",
            "linecolor": "#EBF0F8",
            "ticks": ""
           }
          },
          "scene": {
           "xaxis": {
            "backgroundcolor": "white",
            "gridcolor": "#DFE8F3",
            "gridwidth": 2,
            "linecolor": "#EBF0F8",
            "showbackground": true,
            "ticks": "",
            "zerolinecolor": "#EBF0F8"
           },
           "yaxis": {
            "backgroundcolor": "white",
            "gridcolor": "#DFE8F3",
            "gridwidth": 2,
            "linecolor": "#EBF0F8",
            "showbackground": true,
            "ticks": "",
            "zerolinecolor": "#EBF0F8"
           },
           "zaxis": {
            "backgroundcolor": "white",
            "gridcolor": "#DFE8F3",
            "gridwidth": 2,
            "linecolor": "#EBF0F8",
            "showbackground": true,
            "ticks": "",
            "zerolinecolor": "#EBF0F8"
           }
          },
          "shapedefaults": {
           "line": {
            "color": "#2a3f5f"
           }
          },
          "ternary": {
           "aaxis": {
            "gridcolor": "#DFE8F3",
            "linecolor": "#A2B1C6",
            "ticks": ""
           },
           "baxis": {
            "gridcolor": "#DFE8F3",
            "linecolor": "#A2B1C6",
            "ticks": ""
           },
           "bgcolor": "white",
           "caxis": {
            "gridcolor": "#DFE8F3",
            "linecolor": "#A2B1C6",
            "ticks": ""
           }
          },
          "title": {
           "x": 0.05
          },
          "xaxis": {
           "automargin": true,
           "gridcolor": "#EBF0F8",
           "linecolor": "#EBF0F8",
           "ticks": "",
           "title": {
            "standoff": 15
           },
           "zerolinecolor": "#EBF0F8",
           "zerolinewidth": 2
          },
          "yaxis": {
           "automargin": true,
           "gridcolor": "#EBF0F8",
           "linecolor": "#EBF0F8",
           "ticks": "",
           "title": {
            "standoff": 15
           },
           "zerolinecolor": "#EBF0F8",
           "zerolinewidth": 2
          }
         }
        },
        "xaxis": {
         "anchor": "y",
         "domain": [
          0,
          1
         ],
         "title": {},
         "categoryorder": "array",
         "categoryarray": [
          "France 24",
          "France Info:",
          "France 2"
         ],
         "tickangle": -45
        },
        "yaxis": {
         "anchor": "x",
         "domain": [
          0,
          1
         ],
         "title": {},
         "tickformat": "0%"
        },
        "legend": {
         "title": {
          "text": "media"
         },
         "tracegroupgap": 0
        },
        "title": {
         "text": "TOP 3 TV COP26"
        },
        "barmode": "relative",
        "height": 400,
        "margin": {
         "b": 100
        }
       },
       "config": {
        "plotlyServerURL": "https://plot.ly"
       }
      }
     },
     "metadata": {}
    }
   ],
   "metadata": {}
  },
  {
   "cell_type": "code",
   "execution_count": 15,
   "source": [
    "# Multiplier for one channel = n_mentions * 2 min / (60 minutes * 18h * n_days)\n",
    "multiplier = 2 / (1 * 60 * 18 * n_days)\n",
    "\n",
    "fig = show_mentions_by_channel(data_cop27,list_of_channels=top_channels_radio,n = 3,\n",
    "                               title = \"TOP 3 Radio COP27\",\n",
    "                               method = multiplier,height = 400,text_auto = \".1%\")\n",
    "fig.update_layout(yaxis_tickformat='0%')"
   ],
   "outputs": [
    {
     "output_type": "display_data",
     "data": {
      "application/vnd.plotly.v1+json": {
       "data": [
        {
         "alignmentgroup": "True",
         "hovertemplate": "media=Radio<br>channel_name=%{x}<br>count=%{y}<extra></extra>",
         "legendgroup": "Radio",
         "marker": {
          "color": "rgb(95, 70, 144)",
          "pattern": {
           "shape": ""
          }
         },
         "name": "Radio",
         "offsetgroup": "Radio",
         "orientation": "v",
         "showlegend": true,
         "textposition": "auto",
         "texttemplate": "%{y:.1%}",
         "x": [
          "RFI",
          "France Info",
          "France Inter"
         ],
         "xaxis": "x",
         "y": [
          0.022530864197530864,
          0.020061728395061727,
          0.012962962962962963
         ],
         "yaxis": "y",
         "type": "bar"
        }
       ],
       "layout": {
        "template": {
         "data": {
          "barpolar": [
           {
            "marker": {
             "line": {
              "color": "white",
              "width": 0.5
             },
             "pattern": {
              "fillmode": "overlay",
              "size": 10,
              "solidity": 0.2
             }
            },
            "type": "barpolar"
           }
          ],
          "bar": [
           {
            "error_x": {
             "color": "#2a3f5f"
            },
            "error_y": {
             "color": "#2a3f5f"
            },
            "marker": {
             "line": {
              "color": "white",
              "width": 0.5
             },
             "pattern": {
              "fillmode": "overlay",
              "size": 10,
              "solidity": 0.2
             }
            },
            "type": "bar"
           }
          ],
          "carpet": [
           {
            "aaxis": {
             "endlinecolor": "#2a3f5f",
             "gridcolor": "#C8D4E3",
             "linecolor": "#C8D4E3",
             "minorgridcolor": "#C8D4E3",
             "startlinecolor": "#2a3f5f"
            },
            "baxis": {
             "endlinecolor": "#2a3f5f",
             "gridcolor": "#C8D4E3",
             "linecolor": "#C8D4E3",
             "minorgridcolor": "#C8D4E3",
             "startlinecolor": "#2a3f5f"
            },
            "type": "carpet"
           }
          ],
          "choropleth": [
           {
            "colorbar": {
             "outlinewidth": 0,
             "ticks": ""
            },
            "type": "choropleth"
           }
          ],
          "contourcarpet": [
           {
            "colorbar": {
             "outlinewidth": 0,
             "ticks": ""
            },
            "type": "contourcarpet"
           }
          ],
          "contour": [
           {
            "colorbar": {
             "outlinewidth": 0,
             "ticks": ""
            },
            "colorscale": [
             [
              0,
              "#0d0887"
             ],
             [
              0.1111111111111111,
              "#46039f"
             ],
             [
              0.2222222222222222,
              "#7201a8"
             ],
             [
              0.3333333333333333,
              "#9c179e"
             ],
             [
              0.4444444444444444,
              "#bd3786"
             ],
             [
              0.5555555555555556,
              "#d8576b"
             ],
             [
              0.6666666666666666,
              "#ed7953"
             ],
             [
              0.7777777777777778,
              "#fb9f3a"
             ],
             [
              0.8888888888888888,
              "#fdca26"
             ],
             [
              1,
              "#f0f921"
             ]
            ],
            "type": "contour"
           }
          ],
          "heatmapgl": [
           {
            "colorbar": {
             "outlinewidth": 0,
             "ticks": ""
            },
            "colorscale": [
             [
              0,
              "#0d0887"
             ],
             [
              0.1111111111111111,
              "#46039f"
             ],
             [
              0.2222222222222222,
              "#7201a8"
             ],
             [
              0.3333333333333333,
              "#9c179e"
             ],
             [
              0.4444444444444444,
              "#bd3786"
             ],
             [
              0.5555555555555556,
              "#d8576b"
             ],
             [
              0.6666666666666666,
              "#ed7953"
             ],
             [
              0.7777777777777778,
              "#fb9f3a"
             ],
             [
              0.8888888888888888,
              "#fdca26"
             ],
             [
              1,
              "#f0f921"
             ]
            ],
            "type": "heatmapgl"
           }
          ],
          "heatmap": [
           {
            "colorbar": {
             "outlinewidth": 0,
             "ticks": ""
            },
            "colorscale": [
             [
              0,
              "#0d0887"
             ],
             [
              0.1111111111111111,
              "#46039f"
             ],
             [
              0.2222222222222222,
              "#7201a8"
             ],
             [
              0.3333333333333333,
              "#9c179e"
             ],
             [
              0.4444444444444444,
              "#bd3786"
             ],
             [
              0.5555555555555556,
              "#d8576b"
             ],
             [
              0.6666666666666666,
              "#ed7953"
             ],
             [
              0.7777777777777778,
              "#fb9f3a"
             ],
             [
              0.8888888888888888,
              "#fdca26"
             ],
             [
              1,
              "#f0f921"
             ]
            ],
            "type": "heatmap"
           }
          ],
          "histogram2dcontour": [
           {
            "colorbar": {
             "outlinewidth": 0,
             "ticks": ""
            },
            "colorscale": [
             [
              0,
              "#0d0887"
             ],
             [
              0.1111111111111111,
              "#46039f"
             ],
             [
              0.2222222222222222,
              "#7201a8"
             ],
             [
              0.3333333333333333,
              "#9c179e"
             ],
             [
              0.4444444444444444,
              "#bd3786"
             ],
             [
              0.5555555555555556,
              "#d8576b"
             ],
             [
              0.6666666666666666,
              "#ed7953"
             ],
             [
              0.7777777777777778,
              "#fb9f3a"
             ],
             [
              0.8888888888888888,
              "#fdca26"
             ],
             [
              1,
              "#f0f921"
             ]
            ],
            "type": "histogram2dcontour"
           }
          ],
          "histogram2d": [
           {
            "colorbar": {
             "outlinewidth": 0,
             "ticks": ""
            },
            "colorscale": [
             [
              0,
              "#0d0887"
             ],
             [
              0.1111111111111111,
              "#46039f"
             ],
             [
              0.2222222222222222,
              "#7201a8"
             ],
             [
              0.3333333333333333,
              "#9c179e"
             ],
             [
              0.4444444444444444,
              "#bd3786"
             ],
             [
              0.5555555555555556,
              "#d8576b"
             ],
             [
              0.6666666666666666,
              "#ed7953"
             ],
             [
              0.7777777777777778,
              "#fb9f3a"
             ],
             [
              0.8888888888888888,
              "#fdca26"
             ],
             [
              1,
              "#f0f921"
             ]
            ],
            "type": "histogram2d"
           }
          ],
          "histogram": [
           {
            "marker": {
             "pattern": {
              "fillmode": "overlay",
              "size": 10,
              "solidity": 0.2
             }
            },
            "type": "histogram"
           }
          ],
          "mesh3d": [
           {
            "colorbar": {
             "outlinewidth": 0,
             "ticks": ""
            },
            "type": "mesh3d"
           }
          ],
          "parcoords": [
           {
            "line": {
             "colorbar": {
              "outlinewidth": 0,
              "ticks": ""
             }
            },
            "type": "parcoords"
           }
          ],
          "pie": [
           {
            "automargin": true,
            "type": "pie"
           }
          ],
          "scatter3d": [
           {
            "line": {
             "colorbar": {
              "outlinewidth": 0,
              "ticks": ""
             }
            },
            "marker": {
             "colorbar": {
              "outlinewidth": 0,
              "ticks": ""
             }
            },
            "type": "scatter3d"
           }
          ],
          "scattercarpet": [
           {
            "marker": {
             "colorbar": {
              "outlinewidth": 0,
              "ticks": ""
             }
            },
            "type": "scattercarpet"
           }
          ],
          "scattergeo": [
           {
            "marker": {
             "colorbar": {
              "outlinewidth": 0,
              "ticks": ""
             }
            },
            "type": "scattergeo"
           }
          ],
          "scattergl": [
           {
            "marker": {
             "colorbar": {
              "outlinewidth": 0,
              "ticks": ""
             }
            },
            "type": "scattergl"
           }
          ],
          "scattermapbox": [
           {
            "marker": {
             "colorbar": {
              "outlinewidth": 0,
              "ticks": ""
             }
            },
            "type": "scattermapbox"
           }
          ],
          "scatterpolargl": [
           {
            "marker": {
             "colorbar": {
              "outlinewidth": 0,
              "ticks": ""
             }
            },
            "type": "scatterpolargl"
           }
          ],
          "scatterpolar": [
           {
            "marker": {
             "colorbar": {
              "outlinewidth": 0,
              "ticks": ""
             }
            },
            "type": "scatterpolar"
           }
          ],
          "scatter": [
           {
            "fillpattern": {
             "fillmode": "overlay",
             "size": 10,
             "solidity": 0.2
            },
            "type": "scatter"
           }
          ],
          "scatterternary": [
           {
            "marker": {
             "colorbar": {
              "outlinewidth": 0,
              "ticks": ""
             }
            },
            "type": "scatterternary"
           }
          ],
          "surface": [
           {
            "colorbar": {
             "outlinewidth": 0,
             "ticks": ""
            },
            "colorscale": [
             [
              0,
              "#0d0887"
             ],
             [
              0.1111111111111111,
              "#46039f"
             ],
             [
              0.2222222222222222,
              "#7201a8"
             ],
             [
              0.3333333333333333,
              "#9c179e"
             ],
             [
              0.4444444444444444,
              "#bd3786"
             ],
             [
              0.5555555555555556,
              "#d8576b"
             ],
             [
              0.6666666666666666,
              "#ed7953"
             ],
             [
              0.7777777777777778,
              "#fb9f3a"
             ],
             [
              0.8888888888888888,
              "#fdca26"
             ],
             [
              1,
              "#f0f921"
             ]
            ],
            "type": "surface"
           }
          ],
          "table": [
           {
            "cells": {
             "fill": {
              "color": "#EBF0F8"
             },
             "line": {
              "color": "white"
             }
            },
            "header": {
             "fill": {
              "color": "#C8D4E3"
             },
             "line": {
              "color": "white"
             }
            },
            "type": "table"
           }
          ]
         },
         "layout": {
          "annotationdefaults": {
           "arrowcolor": "#2a3f5f",
           "arrowhead": 0,
           "arrowwidth": 1
          },
          "autotypenumbers": "strict",
          "coloraxis": {
           "colorbar": {
            "outlinewidth": 0,
            "ticks": ""
           }
          },
          "colorscale": {
           "diverging": [
            [
             0,
             "#8e0152"
            ],
            [
             0.1,
             "#c51b7d"
            ],
            [
             0.2,
             "#de77ae"
            ],
            [
             0.3,
             "#f1b6da"
            ],
            [
             0.4,
             "#fde0ef"
            ],
            [
             0.5,
             "#f7f7f7"
            ],
            [
             0.6,
             "#e6f5d0"
            ],
            [
             0.7,
             "#b8e186"
            ],
            [
             0.8,
             "#7fbc41"
            ],
            [
             0.9,
             "#4d9221"
            ],
            [
             1,
             "#276419"
            ]
           ],
           "sequential": [
            [
             0,
             "#0d0887"
            ],
            [
             0.1111111111111111,
             "#46039f"
            ],
            [
             0.2222222222222222,
             "#7201a8"
            ],
            [
             0.3333333333333333,
             "#9c179e"
            ],
            [
             0.4444444444444444,
             "#bd3786"
            ],
            [
             0.5555555555555556,
             "#d8576b"
            ],
            [
             0.6666666666666666,
             "#ed7953"
            ],
            [
             0.7777777777777778,
             "#fb9f3a"
            ],
            [
             0.8888888888888888,
             "#fdca26"
            ],
            [
             1,
             "#f0f921"
            ]
           ],
           "sequentialminus": [
            [
             0,
             "#0d0887"
            ],
            [
             0.1111111111111111,
             "#46039f"
            ],
            [
             0.2222222222222222,
             "#7201a8"
            ],
            [
             0.3333333333333333,
             "#9c179e"
            ],
            [
             0.4444444444444444,
             "#bd3786"
            ],
            [
             0.5555555555555556,
             "#d8576b"
            ],
            [
             0.6666666666666666,
             "#ed7953"
            ],
            [
             0.7777777777777778,
             "#fb9f3a"
            ],
            [
             0.8888888888888888,
             "#fdca26"
            ],
            [
             1,
             "#f0f921"
            ]
           ]
          },
          "colorway": [
           "#636efa",
           "#EF553B",
           "#00cc96",
           "#ab63fa",
           "#FFA15A",
           "#19d3f3",
           "#FF6692",
           "#B6E880",
           "#FF97FF",
           "#FECB52"
          ],
          "font": {
           "color": "#2a3f5f"
          },
          "geo": {
           "bgcolor": "white",
           "lakecolor": "white",
           "landcolor": "white",
           "showlakes": true,
           "showland": true,
           "subunitcolor": "#C8D4E3"
          },
          "hoverlabel": {
           "align": "left"
          },
          "hovermode": "closest",
          "mapbox": {
           "style": "light"
          },
          "paper_bgcolor": "white",
          "plot_bgcolor": "white",
          "polar": {
           "angularaxis": {
            "gridcolor": "#EBF0F8",
            "linecolor": "#EBF0F8",
            "ticks": ""
           },
           "bgcolor": "white",
           "radialaxis": {
            "gridcolor": "#EBF0F8",
            "linecolor": "#EBF0F8",
            "ticks": ""
           }
          },
          "scene": {
           "xaxis": {
            "backgroundcolor": "white",
            "gridcolor": "#DFE8F3",
            "gridwidth": 2,
            "linecolor": "#EBF0F8",
            "showbackground": true,
            "ticks": "",
            "zerolinecolor": "#EBF0F8"
           },
           "yaxis": {
            "backgroundcolor": "white",
            "gridcolor": "#DFE8F3",
            "gridwidth": 2,
            "linecolor": "#EBF0F8",
            "showbackground": true,
            "ticks": "",
            "zerolinecolor": "#EBF0F8"
           },
           "zaxis": {
            "backgroundcolor": "white",
            "gridcolor": "#DFE8F3",
            "gridwidth": 2,
            "linecolor": "#EBF0F8",
            "showbackground": true,
            "ticks": "",
            "zerolinecolor": "#EBF0F8"
           }
          },
          "shapedefaults": {
           "line": {
            "color": "#2a3f5f"
           }
          },
          "ternary": {
           "aaxis": {
            "gridcolor": "#DFE8F3",
            "linecolor": "#A2B1C6",
            "ticks": ""
           },
           "baxis": {
            "gridcolor": "#DFE8F3",
            "linecolor": "#A2B1C6",
            "ticks": ""
           },
           "bgcolor": "white",
           "caxis": {
            "gridcolor": "#DFE8F3",
            "linecolor": "#A2B1C6",
            "ticks": ""
           }
          },
          "title": {
           "x": 0.05
          },
          "xaxis": {
           "automargin": true,
           "gridcolor": "#EBF0F8",
           "linecolor": "#EBF0F8",
           "ticks": "",
           "title": {
            "standoff": 15
           },
           "zerolinecolor": "#EBF0F8",
           "zerolinewidth": 2
          },
          "yaxis": {
           "automargin": true,
           "gridcolor": "#EBF0F8",
           "linecolor": "#EBF0F8",
           "ticks": "",
           "title": {
            "standoff": 15
           },
           "zerolinecolor": "#EBF0F8",
           "zerolinewidth": 2
          }
         }
        },
        "xaxis": {
         "anchor": "y",
         "domain": [
          0,
          1
         ],
         "title": {},
         "categoryorder": "array",
         "categoryarray": [
          "RFI",
          "France Info",
          "France Inter"
         ],
         "tickangle": -45
        },
        "yaxis": {
         "anchor": "x",
         "domain": [
          0,
          1
         ],
         "title": {},
         "tickformat": "0%"
        },
        "legend": {
         "title": {
          "text": "media"
         },
         "tracegroupgap": 0
        },
        "title": {
         "text": "TOP 3 Radio COP27"
        },
        "barmode": "relative",
        "height": 400,
        "margin": {
         "b": 100
        }
       },
       "config": {
        "plotlyServerURL": "https://plot.ly"
       }
      }
     },
     "metadata": {}
    }
   ],
   "metadata": {}
  },
  {
   "cell_type": "markdown",
   "source": [
    "## Classement complet radio et tv"
   ],
   "metadata": {}
  },
  {
   "cell_type": "code",
   "execution_count": 16,
   "source": [
    "# Multiplier for one channel = n_mentions * 2 min / (60 minutes * 18h * n_days)\n",
    "multiplier = 2 / (1 * 60 * 18 * n_days)\n",
    "\n",
    "fig = show_mentions_by_channel(data_cop27,list_of_channels=top_channels_tv,n = 25,\n",
    "                               title = \"Classement TV COP26\",\n",
    "                               method = multiplier,height = 400,text_auto = \".1%\")\n",
    "fig.update_layout(yaxis_tickformat='0%').show()\n",
    "\n",
    "\n",
    "# Multiplier for one channel = n_mentions * 2 min / (60 minutes * 18h * n_days)\n",
    "multiplier = 2 / (1 * 60 * 18 * n_days)\n",
    "\n",
    "fig = show_mentions_by_channel(data_cop27,list_of_channels=top_channels_radio,n = 25,\n",
    "                               title = \"Classement Radio COP26\",\n",
    "                               method = multiplier,height = 400,text_auto = \".1%\")\n",
    "fig.update_layout(yaxis_tickformat='0%').show()"
   ],
   "outputs": [
    {
     "output_type": "display_data",
     "data": {
      "application/vnd.plotly.v1+json": {
       "data": [
        {
         "alignmentgroup": "True",
         "hovertemplate": "media=TV<br>channel_name=%{x}<br>count=%{y}<extra></extra>",
         "legendgroup": "TV",
         "marker": {
          "color": "rgb(95, 70, 144)",
          "pattern": {
           "shape": ""
          }
         },
         "name": "TV",
         "offsetgroup": "TV",
         "orientation": "v",
         "showlegend": true,
         "textposition": "auto",
         "texttemplate": "%{y:.1%}",
         "x": [
          "France 24",
          "France Info:",
          "France 2",
          "CNEWS",
          "TF1",
          "BFMTV",
          "TMC",
          "C8",
          "France 5",
          "LCP",
          "RMC Story",
          "LCI"
         ],
         "xaxis": "x",
         "y": [
          0.04506172839506173,
          0.016049382716049384,
          0.0049382716049382715,
          0.0030864197530864196,
          0.002777777777777778,
          0.0024691358024691358,
          0.0021604938271604936,
          0.001851851851851852,
          0.0012345679012345679,
          0.000925925925925926,
          0.0006172839506172839,
          0.00030864197530864197
         ],
         "yaxis": "y",
         "type": "bar"
        }
       ],
       "layout": {
        "template": {
         "data": {
          "barpolar": [
           {
            "marker": {
             "line": {
              "color": "white",
              "width": 0.5
             },
             "pattern": {
              "fillmode": "overlay",
              "size": 10,
              "solidity": 0.2
             }
            },
            "type": "barpolar"
           }
          ],
          "bar": [
           {
            "error_x": {
             "color": "#2a3f5f"
            },
            "error_y": {
             "color": "#2a3f5f"
            },
            "marker": {
             "line": {
              "color": "white",
              "width": 0.5
             },
             "pattern": {
              "fillmode": "overlay",
              "size": 10,
              "solidity": 0.2
             }
            },
            "type": "bar"
           }
          ],
          "carpet": [
           {
            "aaxis": {
             "endlinecolor": "#2a3f5f",
             "gridcolor": "#C8D4E3",
             "linecolor": "#C8D4E3",
             "minorgridcolor": "#C8D4E3",
             "startlinecolor": "#2a3f5f"
            },
            "baxis": {
             "endlinecolor": "#2a3f5f",
             "gridcolor": "#C8D4E3",
             "linecolor": "#C8D4E3",
             "minorgridcolor": "#C8D4E3",
             "startlinecolor": "#2a3f5f"
            },
            "type": "carpet"
           }
          ],
          "choropleth": [
           {
            "colorbar": {
             "outlinewidth": 0,
             "ticks": ""
            },
            "type": "choropleth"
           }
          ],
          "contourcarpet": [
           {
            "colorbar": {
             "outlinewidth": 0,
             "ticks": ""
            },
            "type": "contourcarpet"
           }
          ],
          "contour": [
           {
            "colorbar": {
             "outlinewidth": 0,
             "ticks": ""
            },
            "colorscale": [
             [
              0,
              "#0d0887"
             ],
             [
              0.1111111111111111,
              "#46039f"
             ],
             [
              0.2222222222222222,
              "#7201a8"
             ],
             [
              0.3333333333333333,
              "#9c179e"
             ],
             [
              0.4444444444444444,
              "#bd3786"
             ],
             [
              0.5555555555555556,
              "#d8576b"
             ],
             [
              0.6666666666666666,
              "#ed7953"
             ],
             [
              0.7777777777777778,
              "#fb9f3a"
             ],
             [
              0.8888888888888888,
              "#fdca26"
             ],
             [
              1,
              "#f0f921"
             ]
            ],
            "type": "contour"
           }
          ],
          "heatmapgl": [
           {
            "colorbar": {
             "outlinewidth": 0,
             "ticks": ""
            },
            "colorscale": [
             [
              0,
              "#0d0887"
             ],
             [
              0.1111111111111111,
              "#46039f"
             ],
             [
              0.2222222222222222,
              "#7201a8"
             ],
             [
              0.3333333333333333,
              "#9c179e"
             ],
             [
              0.4444444444444444,
              "#bd3786"
             ],
             [
              0.5555555555555556,
              "#d8576b"
             ],
             [
              0.6666666666666666,
              "#ed7953"
             ],
             [
              0.7777777777777778,
              "#fb9f3a"
             ],
             [
              0.8888888888888888,
              "#fdca26"
             ],
             [
              1,
              "#f0f921"
             ]
            ],
            "type": "heatmapgl"
           }
          ],
          "heatmap": [
           {
            "colorbar": {
             "outlinewidth": 0,
             "ticks": ""
            },
            "colorscale": [
             [
              0,
              "#0d0887"
             ],
             [
              0.1111111111111111,
              "#46039f"
             ],
             [
              0.2222222222222222,
              "#7201a8"
             ],
             [
              0.3333333333333333,
              "#9c179e"
             ],
             [
              0.4444444444444444,
              "#bd3786"
             ],
             [
              0.5555555555555556,
              "#d8576b"
             ],
             [
              0.6666666666666666,
              "#ed7953"
             ],
             [
              0.7777777777777778,
              "#fb9f3a"
             ],
             [
              0.8888888888888888,
              "#fdca26"
             ],
             [
              1,
              "#f0f921"
             ]
            ],
            "type": "heatmap"
           }
          ],
          "histogram2dcontour": [
           {
            "colorbar": {
             "outlinewidth": 0,
             "ticks": ""
            },
            "colorscale": [
             [
              0,
              "#0d0887"
             ],
             [
              0.1111111111111111,
              "#46039f"
             ],
             [
              0.2222222222222222,
              "#7201a8"
             ],
             [
              0.3333333333333333,
              "#9c179e"
             ],
             [
              0.4444444444444444,
              "#bd3786"
             ],
             [
              0.5555555555555556,
              "#d8576b"
             ],
             [
              0.6666666666666666,
              "#ed7953"
             ],
             [
              0.7777777777777778,
              "#fb9f3a"
             ],
             [
              0.8888888888888888,
              "#fdca26"
             ],
             [
              1,
              "#f0f921"
             ]
            ],
            "type": "histogram2dcontour"
           }
          ],
          "histogram2d": [
           {
            "colorbar": {
             "outlinewidth": 0,
             "ticks": ""
            },
            "colorscale": [
             [
              0,
              "#0d0887"
             ],
             [
              0.1111111111111111,
              "#46039f"
             ],
             [
              0.2222222222222222,
              "#7201a8"
             ],
             [
              0.3333333333333333,
              "#9c179e"
             ],
             [
              0.4444444444444444,
              "#bd3786"
             ],
             [
              0.5555555555555556,
              "#d8576b"
             ],
             [
              0.6666666666666666,
              "#ed7953"
             ],
             [
              0.7777777777777778,
              "#fb9f3a"
             ],
             [
              0.8888888888888888,
              "#fdca26"
             ],
             [
              1,
              "#f0f921"
             ]
            ],
            "type": "histogram2d"
           }
          ],
          "histogram": [
           {
            "marker": {
             "pattern": {
              "fillmode": "overlay",
              "size": 10,
              "solidity": 0.2
             }
            },
            "type": "histogram"
           }
          ],
          "mesh3d": [
           {
            "colorbar": {
             "outlinewidth": 0,
             "ticks": ""
            },
            "type": "mesh3d"
           }
          ],
          "parcoords": [
           {
            "line": {
             "colorbar": {
              "outlinewidth": 0,
              "ticks": ""
             }
            },
            "type": "parcoords"
           }
          ],
          "pie": [
           {
            "automargin": true,
            "type": "pie"
           }
          ],
          "scatter3d": [
           {
            "line": {
             "colorbar": {
              "outlinewidth": 0,
              "ticks": ""
             }
            },
            "marker": {
             "colorbar": {
              "outlinewidth": 0,
              "ticks": ""
             }
            },
            "type": "scatter3d"
           }
          ],
          "scattercarpet": [
           {
            "marker": {
             "colorbar": {
              "outlinewidth": 0,
              "ticks": ""
             }
            },
            "type": "scattercarpet"
           }
          ],
          "scattergeo": [
           {
            "marker": {
             "colorbar": {
              "outlinewidth": 0,
              "ticks": ""
             }
            },
            "type": "scattergeo"
           }
          ],
          "scattergl": [
           {
            "marker": {
             "colorbar": {
              "outlinewidth": 0,
              "ticks": ""
             }
            },
            "type": "scattergl"
           }
          ],
          "scattermapbox": [
           {
            "marker": {
             "colorbar": {
              "outlinewidth": 0,
              "ticks": ""
             }
            },
            "type": "scattermapbox"
           }
          ],
          "scatterpolargl": [
           {
            "marker": {
             "colorbar": {
              "outlinewidth": 0,
              "ticks": ""
             }
            },
            "type": "scatterpolargl"
           }
          ],
          "scatterpolar": [
           {
            "marker": {
             "colorbar": {
              "outlinewidth": 0,
              "ticks": ""
             }
            },
            "type": "scatterpolar"
           }
          ],
          "scatter": [
           {
            "fillpattern": {
             "fillmode": "overlay",
             "size": 10,
             "solidity": 0.2
            },
            "type": "scatter"
           }
          ],
          "scatterternary": [
           {
            "marker": {
             "colorbar": {
              "outlinewidth": 0,
              "ticks": ""
             }
            },
            "type": "scatterternary"
           }
          ],
          "surface": [
           {
            "colorbar": {
             "outlinewidth": 0,
             "ticks": ""
            },
            "colorscale": [
             [
              0,
              "#0d0887"
             ],
             [
              0.1111111111111111,
              "#46039f"
             ],
             [
              0.2222222222222222,
              "#7201a8"
             ],
             [
              0.3333333333333333,
              "#9c179e"
             ],
             [
              0.4444444444444444,
              "#bd3786"
             ],
             [
              0.5555555555555556,
              "#d8576b"
             ],
             [
              0.6666666666666666,
              "#ed7953"
             ],
             [
              0.7777777777777778,
              "#fb9f3a"
             ],
             [
              0.8888888888888888,
              "#fdca26"
             ],
             [
              1,
              "#f0f921"
             ]
            ],
            "type": "surface"
           }
          ],
          "table": [
           {
            "cells": {
             "fill": {
              "color": "#EBF0F8"
             },
             "line": {
              "color": "white"
             }
            },
            "header": {
             "fill": {
              "color": "#C8D4E3"
             },
             "line": {
              "color": "white"
             }
            },
            "type": "table"
           }
          ]
         },
         "layout": {
          "annotationdefaults": {
           "arrowcolor": "#2a3f5f",
           "arrowhead": 0,
           "arrowwidth": 1
          },
          "autotypenumbers": "strict",
          "coloraxis": {
           "colorbar": {
            "outlinewidth": 0,
            "ticks": ""
           }
          },
          "colorscale": {
           "diverging": [
            [
             0,
             "#8e0152"
            ],
            [
             0.1,
             "#c51b7d"
            ],
            [
             0.2,
             "#de77ae"
            ],
            [
             0.3,
             "#f1b6da"
            ],
            [
             0.4,
             "#fde0ef"
            ],
            [
             0.5,
             "#f7f7f7"
            ],
            [
             0.6,
             "#e6f5d0"
            ],
            [
             0.7,
             "#b8e186"
            ],
            [
             0.8,
             "#7fbc41"
            ],
            [
             0.9,
             "#4d9221"
            ],
            [
             1,
             "#276419"
            ]
           ],
           "sequential": [
            [
             0,
             "#0d0887"
            ],
            [
             0.1111111111111111,
             "#46039f"
            ],
            [
             0.2222222222222222,
             "#7201a8"
            ],
            [
             0.3333333333333333,
             "#9c179e"
            ],
            [
             0.4444444444444444,
             "#bd3786"
            ],
            [
             0.5555555555555556,
             "#d8576b"
            ],
            [
             0.6666666666666666,
             "#ed7953"
            ],
            [
             0.7777777777777778,
             "#fb9f3a"
            ],
            [
             0.8888888888888888,
             "#fdca26"
            ],
            [
             1,
             "#f0f921"
            ]
           ],
           "sequentialminus": [
            [
             0,
             "#0d0887"
            ],
            [
             0.1111111111111111,
             "#46039f"
            ],
            [
             0.2222222222222222,
             "#7201a8"
            ],
            [
             0.3333333333333333,
             "#9c179e"
            ],
            [
             0.4444444444444444,
             "#bd3786"
            ],
            [
             0.5555555555555556,
             "#d8576b"
            ],
            [
             0.6666666666666666,
             "#ed7953"
            ],
            [
             0.7777777777777778,
             "#fb9f3a"
            ],
            [
             0.8888888888888888,
             "#fdca26"
            ],
            [
             1,
             "#f0f921"
            ]
           ]
          },
          "colorway": [
           "#636efa",
           "#EF553B",
           "#00cc96",
           "#ab63fa",
           "#FFA15A",
           "#19d3f3",
           "#FF6692",
           "#B6E880",
           "#FF97FF",
           "#FECB52"
          ],
          "font": {
           "color": "#2a3f5f"
          },
          "geo": {
           "bgcolor": "white",
           "lakecolor": "white",
           "landcolor": "white",
           "showlakes": true,
           "showland": true,
           "subunitcolor": "#C8D4E3"
          },
          "hoverlabel": {
           "align": "left"
          },
          "hovermode": "closest",
          "mapbox": {
           "style": "light"
          },
          "paper_bgcolor": "white",
          "plot_bgcolor": "white",
          "polar": {
           "angularaxis": {
            "gridcolor": "#EBF0F8",
            "linecolor": "#EBF0F8",
            "ticks": ""
           },
           "bgcolor": "white",
           "radialaxis": {
            "gridcolor": "#EBF0F8",
            "linecolor": "#EBF0F8",
            "ticks": ""
           }
          },
          "scene": {
           "xaxis": {
            "backgroundcolor": "white",
            "gridcolor": "#DFE8F3",
            "gridwidth": 2,
            "linecolor": "#EBF0F8",
            "showbackground": true,
            "ticks": "",
            "zerolinecolor": "#EBF0F8"
           },
           "yaxis": {
            "backgroundcolor": "white",
            "gridcolor": "#DFE8F3",
            "gridwidth": 2,
            "linecolor": "#EBF0F8",
            "showbackground": true,
            "ticks": "",
            "zerolinecolor": "#EBF0F8"
           },
           "zaxis": {
            "backgroundcolor": "white",
            "gridcolor": "#DFE8F3",
            "gridwidth": 2,
            "linecolor": "#EBF0F8",
            "showbackground": true,
            "ticks": "",
            "zerolinecolor": "#EBF0F8"
           }
          },
          "shapedefaults": {
           "line": {
            "color": "#2a3f5f"
           }
          },
          "ternary": {
           "aaxis": {
            "gridcolor": "#DFE8F3",
            "linecolor": "#A2B1C6",
            "ticks": ""
           },
           "baxis": {
            "gridcolor": "#DFE8F3",
            "linecolor": "#A2B1C6",
            "ticks": ""
           },
           "bgcolor": "white",
           "caxis": {
            "gridcolor": "#DFE8F3",
            "linecolor": "#A2B1C6",
            "ticks": ""
           }
          },
          "title": {
           "x": 0.05
          },
          "xaxis": {
           "automargin": true,
           "gridcolor": "#EBF0F8",
           "linecolor": "#EBF0F8",
           "ticks": "",
           "title": {
            "standoff": 15
           },
           "zerolinecolor": "#EBF0F8",
           "zerolinewidth": 2
          },
          "yaxis": {
           "automargin": true,
           "gridcolor": "#EBF0F8",
           "linecolor": "#EBF0F8",
           "ticks": "",
           "title": {
            "standoff": 15
           },
           "zerolinecolor": "#EBF0F8",
           "zerolinewidth": 2
          }
         }
        },
        "xaxis": {
         "anchor": "y",
         "domain": [
          0,
          1
         ],
         "title": {},
         "categoryorder": "array",
         "categoryarray": [
          "France 24",
          "France Info:",
          "France 2",
          "CNEWS",
          "TF1",
          "BFMTV",
          "TMC",
          "C8",
          "France 5",
          "LCP",
          "RMC Story",
          "LCI"
         ],
         "tickangle": -45
        },
        "yaxis": {
         "anchor": "x",
         "domain": [
          0,
          1
         ],
         "title": {},
         "tickformat": "0%"
        },
        "legend": {
         "title": {
          "text": "media"
         },
         "tracegroupgap": 0
        },
        "title": {
         "text": "Classement TV COP26"
        },
        "barmode": "relative",
        "height": 400,
        "margin": {
         "b": 100
        }
       },
       "config": {
        "plotlyServerURL": "https://plot.ly"
       }
      }
     },
     "metadata": {}
    },
    {
     "output_type": "display_data",
     "data": {
      "application/vnd.plotly.v1+json": {
       "data": [
        {
         "alignmentgroup": "True",
         "hovertemplate": "media=Radio<br>channel_name=%{x}<br>count=%{y}<extra></extra>",
         "legendgroup": "Radio",
         "marker": {
          "color": "rgb(95, 70, 144)",
          "pattern": {
           "shape": ""
          }
         },
         "name": "Radio",
         "offsetgroup": "Radio",
         "orientation": "v",
         "showlegend": true,
         "textposition": "auto",
         "texttemplate": "%{y:.1%}",
         "x": [
          "RFI",
          "France Info",
          "France Inter",
          "RTL",
          "BFM Business Radio",
          "France Culture",
          "Radio Classique",
          "Nova",
          "Le Mouv",
          "Radio FG",
          "RMC",
          "TSF Jazz",
          "France Musique",
          "Nostalgie"
         ],
         "xaxis": "x",
         "y": [
          0.022530864197530864,
          0.020061728395061727,
          0.012962962962962963,
          0.007407407407407408,
          0.005246913580246914,
          0.004629629629629629,
          0.003703703703703704,
          0.001851851851851852,
          0.0015432098765432098,
          0.0012345679012345679,
          0.000925925925925926,
          0.0006172839506172839,
          0.00030864197530864197,
          0.00030864197530864197
         ],
         "yaxis": "y",
         "type": "bar"
        },
        {
         "alignmentgroup": "True",
         "hovertemplate": "media=TV<br>channel_name=%{x}<br>count=%{y}<extra></extra>",
         "legendgroup": "TV",
         "marker": {
          "color": "rgb(29, 105, 150)",
          "pattern": {
           "shape": ""
          }
         },
         "name": "TV",
         "offsetgroup": "TV",
         "orientation": "v",
         "showlegend": true,
         "textposition": "auto",
         "texttemplate": "%{y:.1%}",
         "x": [
          "France Inter"
         ],
         "xaxis": "x",
         "y": [
          0.00030864197530864197
         ],
         "yaxis": "y",
         "type": "bar"
        }
       ],
       "layout": {
        "template": {
         "data": {
          "barpolar": [
           {
            "marker": {
             "line": {
              "color": "white",
              "width": 0.5
             },
             "pattern": {
              "fillmode": "overlay",
              "size": 10,
              "solidity": 0.2
             }
            },
            "type": "barpolar"
           }
          ],
          "bar": [
           {
            "error_x": {
             "color": "#2a3f5f"
            },
            "error_y": {
             "color": "#2a3f5f"
            },
            "marker": {
             "line": {
              "color": "white",
              "width": 0.5
             },
             "pattern": {
              "fillmode": "overlay",
              "size": 10,
              "solidity": 0.2
             }
            },
            "type": "bar"
           }
          ],
          "carpet": [
           {
            "aaxis": {
             "endlinecolor": "#2a3f5f",
             "gridcolor": "#C8D4E3",
             "linecolor": "#C8D4E3",
             "minorgridcolor": "#C8D4E3",
             "startlinecolor": "#2a3f5f"
            },
            "baxis": {
             "endlinecolor": "#2a3f5f",
             "gridcolor": "#C8D4E3",
             "linecolor": "#C8D4E3",
             "minorgridcolor": "#C8D4E3",
             "startlinecolor": "#2a3f5f"
            },
            "type": "carpet"
           }
          ],
          "choropleth": [
           {
            "colorbar": {
             "outlinewidth": 0,
             "ticks": ""
            },
            "type": "choropleth"
           }
          ],
          "contourcarpet": [
           {
            "colorbar": {
             "outlinewidth": 0,
             "ticks": ""
            },
            "type": "contourcarpet"
           }
          ],
          "contour": [
           {
            "colorbar": {
             "outlinewidth": 0,
             "ticks": ""
            },
            "colorscale": [
             [
              0,
              "#0d0887"
             ],
             [
              0.1111111111111111,
              "#46039f"
             ],
             [
              0.2222222222222222,
              "#7201a8"
             ],
             [
              0.3333333333333333,
              "#9c179e"
             ],
             [
              0.4444444444444444,
              "#bd3786"
             ],
             [
              0.5555555555555556,
              "#d8576b"
             ],
             [
              0.6666666666666666,
              "#ed7953"
             ],
             [
              0.7777777777777778,
              "#fb9f3a"
             ],
             [
              0.8888888888888888,
              "#fdca26"
             ],
             [
              1,
              "#f0f921"
             ]
            ],
            "type": "contour"
           }
          ],
          "heatmapgl": [
           {
            "colorbar": {
             "outlinewidth": 0,
             "ticks": ""
            },
            "colorscale": [
             [
              0,
              "#0d0887"
             ],
             [
              0.1111111111111111,
              "#46039f"
             ],
             [
              0.2222222222222222,
              "#7201a8"
             ],
             [
              0.3333333333333333,
              "#9c179e"
             ],
             [
              0.4444444444444444,
              "#bd3786"
             ],
             [
              0.5555555555555556,
              "#d8576b"
             ],
             [
              0.6666666666666666,
              "#ed7953"
             ],
             [
              0.7777777777777778,
              "#fb9f3a"
             ],
             [
              0.8888888888888888,
              "#fdca26"
             ],
             [
              1,
              "#f0f921"
             ]
            ],
            "type": "heatmapgl"
           }
          ],
          "heatmap": [
           {
            "colorbar": {
             "outlinewidth": 0,
             "ticks": ""
            },
            "colorscale": [
             [
              0,
              "#0d0887"
             ],
             [
              0.1111111111111111,
              "#46039f"
             ],
             [
              0.2222222222222222,
              "#7201a8"
             ],
             [
              0.3333333333333333,
              "#9c179e"
             ],
             [
              0.4444444444444444,
              "#bd3786"
             ],
             [
              0.5555555555555556,
              "#d8576b"
             ],
             [
              0.6666666666666666,
              "#ed7953"
             ],
             [
              0.7777777777777778,
              "#fb9f3a"
             ],
             [
              0.8888888888888888,
              "#fdca26"
             ],
             [
              1,
              "#f0f921"
             ]
            ],
            "type": "heatmap"
           }
          ],
          "histogram2dcontour": [
           {
            "colorbar": {
             "outlinewidth": 0,
             "ticks": ""
            },
            "colorscale": [
             [
              0,
              "#0d0887"
             ],
             [
              0.1111111111111111,
              "#46039f"
             ],
             [
              0.2222222222222222,
              "#7201a8"
             ],
             [
              0.3333333333333333,
              "#9c179e"
             ],
             [
              0.4444444444444444,
              "#bd3786"
             ],
             [
              0.5555555555555556,
              "#d8576b"
             ],
             [
              0.6666666666666666,
              "#ed7953"
             ],
             [
              0.7777777777777778,
              "#fb9f3a"
             ],
             [
              0.8888888888888888,
              "#fdca26"
             ],
             [
              1,
              "#f0f921"
             ]
            ],
            "type": "histogram2dcontour"
           }
          ],
          "histogram2d": [
           {
            "colorbar": {
             "outlinewidth": 0,
             "ticks": ""
            },
            "colorscale": [
             [
              0,
              "#0d0887"
             ],
             [
              0.1111111111111111,
              "#46039f"
             ],
             [
              0.2222222222222222,
              "#7201a8"
             ],
             [
              0.3333333333333333,
              "#9c179e"
             ],
             [
              0.4444444444444444,
              "#bd3786"
             ],
             [
              0.5555555555555556,
              "#d8576b"
             ],
             [
              0.6666666666666666,
              "#ed7953"
             ],
             [
              0.7777777777777778,
              "#fb9f3a"
             ],
             [
              0.8888888888888888,
              "#fdca26"
             ],
             [
              1,
              "#f0f921"
             ]
            ],
            "type": "histogram2d"
           }
          ],
          "histogram": [
           {
            "marker": {
             "pattern": {
              "fillmode": "overlay",
              "size": 10,
              "solidity": 0.2
             }
            },
            "type": "histogram"
           }
          ],
          "mesh3d": [
           {
            "colorbar": {
             "outlinewidth": 0,
             "ticks": ""
            },
            "type": "mesh3d"
           }
          ],
          "parcoords": [
           {
            "line": {
             "colorbar": {
              "outlinewidth": 0,
              "ticks": ""
             }
            },
            "type": "parcoords"
           }
          ],
          "pie": [
           {
            "automargin": true,
            "type": "pie"
           }
          ],
          "scatter3d": [
           {
            "line": {
             "colorbar": {
              "outlinewidth": 0,
              "ticks": ""
             }
            },
            "marker": {
             "colorbar": {
              "outlinewidth": 0,
              "ticks": ""
             }
            },
            "type": "scatter3d"
           }
          ],
          "scattercarpet": [
           {
            "marker": {
             "colorbar": {
              "outlinewidth": 0,
              "ticks": ""
             }
            },
            "type": "scattercarpet"
           }
          ],
          "scattergeo": [
           {
            "marker": {
             "colorbar": {
              "outlinewidth": 0,
              "ticks": ""
             }
            },
            "type": "scattergeo"
           }
          ],
          "scattergl": [
           {
            "marker": {
             "colorbar": {
              "outlinewidth": 0,
              "ticks": ""
             }
            },
            "type": "scattergl"
           }
          ],
          "scattermapbox": [
           {
            "marker": {
             "colorbar": {
              "outlinewidth": 0,
              "ticks": ""
             }
            },
            "type": "scattermapbox"
           }
          ],
          "scatterpolargl": [
           {
            "marker": {
             "colorbar": {
              "outlinewidth": 0,
              "ticks": ""
             }
            },
            "type": "scatterpolargl"
           }
          ],
          "scatterpolar": [
           {
            "marker": {
             "colorbar": {
              "outlinewidth": 0,
              "ticks": ""
             }
            },
            "type": "scatterpolar"
           }
          ],
          "scatter": [
           {
            "fillpattern": {
             "fillmode": "overlay",
             "size": 10,
             "solidity": 0.2
            },
            "type": "scatter"
           }
          ],
          "scatterternary": [
           {
            "marker": {
             "colorbar": {
              "outlinewidth": 0,
              "ticks": ""
             }
            },
            "type": "scatterternary"
           }
          ],
          "surface": [
           {
            "colorbar": {
             "outlinewidth": 0,
             "ticks": ""
            },
            "colorscale": [
             [
              0,
              "#0d0887"
             ],
             [
              0.1111111111111111,
              "#46039f"
             ],
             [
              0.2222222222222222,
              "#7201a8"
             ],
             [
              0.3333333333333333,
              "#9c179e"
             ],
             [
              0.4444444444444444,
              "#bd3786"
             ],
             [
              0.5555555555555556,
              "#d8576b"
             ],
             [
              0.6666666666666666,
              "#ed7953"
             ],
             [
              0.7777777777777778,
              "#fb9f3a"
             ],
             [
              0.8888888888888888,
              "#fdca26"
             ],
             [
              1,
              "#f0f921"
             ]
            ],
            "type": "surface"
           }
          ],
          "table": [
           {
            "cells": {
             "fill": {
              "color": "#EBF0F8"
             },
             "line": {
              "color": "white"
             }
            },
            "header": {
             "fill": {
              "color": "#C8D4E3"
             },
             "line": {
              "color": "white"
             }
            },
            "type": "table"
           }
          ]
         },
         "layout": {
          "annotationdefaults": {
           "arrowcolor": "#2a3f5f",
           "arrowhead": 0,
           "arrowwidth": 1
          },
          "autotypenumbers": "strict",
          "coloraxis": {
           "colorbar": {
            "outlinewidth": 0,
            "ticks": ""
           }
          },
          "colorscale": {
           "diverging": [
            [
             0,
             "#8e0152"
            ],
            [
             0.1,
             "#c51b7d"
            ],
            [
             0.2,
             "#de77ae"
            ],
            [
             0.3,
             "#f1b6da"
            ],
            [
             0.4,
             "#fde0ef"
            ],
            [
             0.5,
             "#f7f7f7"
            ],
            [
             0.6,
             "#e6f5d0"
            ],
            [
             0.7,
             "#b8e186"
            ],
            [
             0.8,
             "#7fbc41"
            ],
            [
             0.9,
             "#4d9221"
            ],
            [
             1,
             "#276419"
            ]
           ],
           "sequential": [
            [
             0,
             "#0d0887"
            ],
            [
             0.1111111111111111,
             "#46039f"
            ],
            [
             0.2222222222222222,
             "#7201a8"
            ],
            [
             0.3333333333333333,
             "#9c179e"
            ],
            [
             0.4444444444444444,
             "#bd3786"
            ],
            [
             0.5555555555555556,
             "#d8576b"
            ],
            [
             0.6666666666666666,
             "#ed7953"
            ],
            [
             0.7777777777777778,
             "#fb9f3a"
            ],
            [
             0.8888888888888888,
             "#fdca26"
            ],
            [
             1,
             "#f0f921"
            ]
           ],
           "sequentialminus": [
            [
             0,
             "#0d0887"
            ],
            [
             0.1111111111111111,
             "#46039f"
            ],
            [
             0.2222222222222222,
             "#7201a8"
            ],
            [
             0.3333333333333333,
             "#9c179e"
            ],
            [
             0.4444444444444444,
             "#bd3786"
            ],
            [
             0.5555555555555556,
             "#d8576b"
            ],
            [
             0.6666666666666666,
             "#ed7953"
            ],
            [
             0.7777777777777778,
             "#fb9f3a"
            ],
            [
             0.8888888888888888,
             "#fdca26"
            ],
            [
             1,
             "#f0f921"
            ]
           ]
          },
          "colorway": [
           "#636efa",
           "#EF553B",
           "#00cc96",
           "#ab63fa",
           "#FFA15A",
           "#19d3f3",
           "#FF6692",
           "#B6E880",
           "#FF97FF",
           "#FECB52"
          ],
          "font": {
           "color": "#2a3f5f"
          },
          "geo": {
           "bgcolor": "white",
           "lakecolor": "white",
           "landcolor": "white",
           "showlakes": true,
           "showland": true,
           "subunitcolor": "#C8D4E3"
          },
          "hoverlabel": {
           "align": "left"
          },
          "hovermode": "closest",
          "mapbox": {
           "style": "light"
          },
          "paper_bgcolor": "white",
          "plot_bgcolor": "white",
          "polar": {
           "angularaxis": {
            "gridcolor": "#EBF0F8",
            "linecolor": "#EBF0F8",
            "ticks": ""
           },
           "bgcolor": "white",
           "radialaxis": {
            "gridcolor": "#EBF0F8",
            "linecolor": "#EBF0F8",
            "ticks": ""
           }
          },
          "scene": {
           "xaxis": {
            "backgroundcolor": "white",
            "gridcolor": "#DFE8F3",
            "gridwidth": 2,
            "linecolor": "#EBF0F8",
            "showbackground": true,
            "ticks": "",
            "zerolinecolor": "#EBF0F8"
           },
           "yaxis": {
            "backgroundcolor": "white",
            "gridcolor": "#DFE8F3",
            "gridwidth": 2,
            "linecolor": "#EBF0F8",
            "showbackground": true,
            "ticks": "",
            "zerolinecolor": "#EBF0F8"
           },
           "zaxis": {
            "backgroundcolor": "white",
            "gridcolor": "#DFE8F3",
            "gridwidth": 2,
            "linecolor": "#EBF0F8",
            "showbackground": true,
            "ticks": "",
            "zerolinecolor": "#EBF0F8"
           }
          },
          "shapedefaults": {
           "line": {
            "color": "#2a3f5f"
           }
          },
          "ternary": {
           "aaxis": {
            "gridcolor": "#DFE8F3",
            "linecolor": "#A2B1C6",
            "ticks": ""
           },
           "baxis": {
            "gridcolor": "#DFE8F3",
            "linecolor": "#A2B1C6",
            "ticks": ""
           },
           "bgcolor": "white",
           "caxis": {
            "gridcolor": "#DFE8F3",
            "linecolor": "#A2B1C6",
            "ticks": ""
           }
          },
          "title": {
           "x": 0.05
          },
          "xaxis": {
           "automargin": true,
           "gridcolor": "#EBF0F8",
           "linecolor": "#EBF0F8",
           "ticks": "",
           "title": {
            "standoff": 15
           },
           "zerolinecolor": "#EBF0F8",
           "zerolinewidth": 2
          },
          "yaxis": {
           "automargin": true,
           "gridcolor": "#EBF0F8",
           "linecolor": "#EBF0F8",
           "ticks": "",
           "title": {
            "standoff": 15
           },
           "zerolinecolor": "#EBF0F8",
           "zerolinewidth": 2
          }
         }
        },
        "xaxis": {
         "anchor": "y",
         "domain": [
          0,
          1
         ],
         "title": {},
         "categoryorder": "array",
         "categoryarray": [
          "RFI",
          "France Info",
          "France Inter",
          "RTL",
          "BFM Business Radio",
          "France Culture",
          "Radio Classique",
          "Nova",
          "Le Mouv",
          "Radio FG",
          "RMC",
          "TSF Jazz",
          "France Inter",
          "France Musique",
          "Nostalgie"
         ],
         "tickangle": -45
        },
        "yaxis": {
         "anchor": "x",
         "domain": [
          0,
          1
         ],
         "title": {},
         "tickformat": "0%"
        },
        "legend": {
         "title": {
          "text": "media"
         },
         "tracegroupgap": 0
        },
        "title": {
         "text": "Classement Radio COP26"
        },
        "barmode": "relative",
        "height": 400,
        "margin": {
         "b": 100
        }
       },
       "config": {
        "plotlyServerURL": "https://plot.ly"
       }
      }
     },
     "metadata": {}
    }
   ],
   "metadata": {}
  },
  {
   "cell_type": "code",
   "execution_count": 18,
   "source": [
    "## Multiplier = n_mentions * 2 min / (n_channels * 60 minutes * 20h)\n",
    "multiplier = 2 / (data[\"channel_name\"].nunique() * 60 * 18)\n",
    "\n",
    "fig = show_mentions_over_time(data_cop27,freq = \"D\",method = multiplier,height = 500,text_auto = \".1%\")\n",
    "fig.update_layout(yaxis_tickformat='0%')"
   ],
   "outputs": [
    {
     "output_type": "display_data",
     "data": {
      "application/vnd.plotly.v1+json": {
       "data": [
        {
         "alignmentgroup": "True",
         "hovertemplate": "date=%{x}<br>count=%{y}<extra></extra>",
         "legendgroup": "",
         "marker": {
          "color": "rgb(95, 70, 144)",
          "pattern": {
           "shape": ""
          }
         },
         "name": "",
         "offsetgroup": "",
         "orientation": "v",
         "showlegend": false,
         "textposition": "auto",
         "texttemplate": "%{y:.1%}",
         "x": [
          "2022-10-29T00:00:00",
          "2022-10-30T00:00:00",
          "2022-10-31T00:00:00",
          "2022-11-01T00:00:00",
          "2022-11-02T00:00:00",
          "2022-11-03T00:00:00",
          "2022-11-04T00:00:00",
          "2022-11-05T00:00:00"
         ],
         "xaxis": "x",
         "y": [
          0.000056980056980056985,
          0.00011870845204178538,
          0.00029914529914529915,
          0.00028490028490028494,
          0.0005698005698005699,
          0.0012393162393162394,
          0.001315289648622982,
          0.0010493827160493827
         ],
         "yaxis": "y",
         "type": "bar"
        }
       ],
       "layout": {
        "template": {
         "data": {
          "barpolar": [
           {
            "marker": {
             "line": {
              "color": "white",
              "width": 0.5
             },
             "pattern": {
              "fillmode": "overlay",
              "size": 10,
              "solidity": 0.2
             }
            },
            "type": "barpolar"
           }
          ],
          "bar": [
           {
            "error_x": {
             "color": "#2a3f5f"
            },
            "error_y": {
             "color": "#2a3f5f"
            },
            "marker": {
             "line": {
              "color": "white",
              "width": 0.5
             },
             "pattern": {
              "fillmode": "overlay",
              "size": 10,
              "solidity": 0.2
             }
            },
            "type": "bar"
           }
          ],
          "carpet": [
           {
            "aaxis": {
             "endlinecolor": "#2a3f5f",
             "gridcolor": "#C8D4E3",
             "linecolor": "#C8D4E3",
             "minorgridcolor": "#C8D4E3",
             "startlinecolor": "#2a3f5f"
            },
            "baxis": {
             "endlinecolor": "#2a3f5f",
             "gridcolor": "#C8D4E3",
             "linecolor": "#C8D4E3",
             "minorgridcolor": "#C8D4E3",
             "startlinecolor": "#2a3f5f"
            },
            "type": "carpet"
           }
          ],
          "choropleth": [
           {
            "colorbar": {
             "outlinewidth": 0,
             "ticks": ""
            },
            "type": "choropleth"
           }
          ],
          "contourcarpet": [
           {
            "colorbar": {
             "outlinewidth": 0,
             "ticks": ""
            },
            "type": "contourcarpet"
           }
          ],
          "contour": [
           {
            "colorbar": {
             "outlinewidth": 0,
             "ticks": ""
            },
            "colorscale": [
             [
              0,
              "#0d0887"
             ],
             [
              0.1111111111111111,
              "#46039f"
             ],
             [
              0.2222222222222222,
              "#7201a8"
             ],
             [
              0.3333333333333333,
              "#9c179e"
             ],
             [
              0.4444444444444444,
              "#bd3786"
             ],
             [
              0.5555555555555556,
              "#d8576b"
             ],
             [
              0.6666666666666666,
              "#ed7953"
             ],
             [
              0.7777777777777778,
              "#fb9f3a"
             ],
             [
              0.8888888888888888,
              "#fdca26"
             ],
             [
              1,
              "#f0f921"
             ]
            ],
            "type": "contour"
           }
          ],
          "heatmapgl": [
           {
            "colorbar": {
             "outlinewidth": 0,
             "ticks": ""
            },
            "colorscale": [
             [
              0,
              "#0d0887"
             ],
             [
              0.1111111111111111,
              "#46039f"
             ],
             [
              0.2222222222222222,
              "#7201a8"
             ],
             [
              0.3333333333333333,
              "#9c179e"
             ],
             [
              0.4444444444444444,
              "#bd3786"
             ],
             [
              0.5555555555555556,
              "#d8576b"
             ],
             [
              0.6666666666666666,
              "#ed7953"
             ],
             [
              0.7777777777777778,
              "#fb9f3a"
             ],
             [
              0.8888888888888888,
              "#fdca26"
             ],
             [
              1,
              "#f0f921"
             ]
            ],
            "type": "heatmapgl"
           }
          ],
          "heatmap": [
           {
            "colorbar": {
             "outlinewidth": 0,
             "ticks": ""
            },
            "colorscale": [
             [
              0,
              "#0d0887"
             ],
             [
              0.1111111111111111,
              "#46039f"
             ],
             [
              0.2222222222222222,
              "#7201a8"
             ],
             [
              0.3333333333333333,
              "#9c179e"
             ],
             [
              0.4444444444444444,
              "#bd3786"
             ],
             [
              0.5555555555555556,
              "#d8576b"
             ],
             [
              0.6666666666666666,
              "#ed7953"
             ],
             [
              0.7777777777777778,
              "#fb9f3a"
             ],
             [
              0.8888888888888888,
              "#fdca26"
             ],
             [
              1,
              "#f0f921"
             ]
            ],
            "type": "heatmap"
           }
          ],
          "histogram2dcontour": [
           {
            "colorbar": {
             "outlinewidth": 0,
             "ticks": ""
            },
            "colorscale": [
             [
              0,
              "#0d0887"
             ],
             [
              0.1111111111111111,
              "#46039f"
             ],
             [
              0.2222222222222222,
              "#7201a8"
             ],
             [
              0.3333333333333333,
              "#9c179e"
             ],
             [
              0.4444444444444444,
              "#bd3786"
             ],
             [
              0.5555555555555556,
              "#d8576b"
             ],
             [
              0.6666666666666666,
              "#ed7953"
             ],
             [
              0.7777777777777778,
              "#fb9f3a"
             ],
             [
              0.8888888888888888,
              "#fdca26"
             ],
             [
              1,
              "#f0f921"
             ]
            ],
            "type": "histogram2dcontour"
           }
          ],
          "histogram2d": [
           {
            "colorbar": {
             "outlinewidth": 0,
             "ticks": ""
            },
            "colorscale": [
             [
              0,
              "#0d0887"
             ],
             [
              0.1111111111111111,
              "#46039f"
             ],
             [
              0.2222222222222222,
              "#7201a8"
             ],
             [
              0.3333333333333333,
              "#9c179e"
             ],
             [
              0.4444444444444444,
              "#bd3786"
             ],
             [
              0.5555555555555556,
              "#d8576b"
             ],
             [
              0.6666666666666666,
              "#ed7953"
             ],
             [
              0.7777777777777778,
              "#fb9f3a"
             ],
             [
              0.8888888888888888,
              "#fdca26"
             ],
             [
              1,
              "#f0f921"
             ]
            ],
            "type": "histogram2d"
           }
          ],
          "histogram": [
           {
            "marker": {
             "pattern": {
              "fillmode": "overlay",
              "size": 10,
              "solidity": 0.2
             }
            },
            "type": "histogram"
           }
          ],
          "mesh3d": [
           {
            "colorbar": {
             "outlinewidth": 0,
             "ticks": ""
            },
            "type": "mesh3d"
           }
          ],
          "parcoords": [
           {
            "line": {
             "colorbar": {
              "outlinewidth": 0,
              "ticks": ""
             }
            },
            "type": "parcoords"
           }
          ],
          "pie": [
           {
            "automargin": true,
            "type": "pie"
           }
          ],
          "scatter3d": [
           {
            "line": {
             "colorbar": {
              "outlinewidth": 0,
              "ticks": ""
             }
            },
            "marker": {
             "colorbar": {
              "outlinewidth": 0,
              "ticks": ""
             }
            },
            "type": "scatter3d"
           }
          ],
          "scattercarpet": [
           {
            "marker": {
             "colorbar": {
              "outlinewidth": 0,
              "ticks": ""
             }
            },
            "type": "scattercarpet"
           }
          ],
          "scattergeo": [
           {
            "marker": {
             "colorbar": {
              "outlinewidth": 0,
              "ticks": ""
             }
            },
            "type": "scattergeo"
           }
          ],
          "scattergl": [
           {
            "marker": {
             "colorbar": {
              "outlinewidth": 0,
              "ticks": ""
             }
            },
            "type": "scattergl"
           }
          ],
          "scattermapbox": [
           {
            "marker": {
             "colorbar": {
              "outlinewidth": 0,
              "ticks": ""
             }
            },
            "type": "scattermapbox"
           }
          ],
          "scatterpolargl": [
           {
            "marker": {
             "colorbar": {
              "outlinewidth": 0,
              "ticks": ""
             }
            },
            "type": "scatterpolargl"
           }
          ],
          "scatterpolar": [
           {
            "marker": {
             "colorbar": {
              "outlinewidth": 0,
              "ticks": ""
             }
            },
            "type": "scatterpolar"
           }
          ],
          "scatter": [
           {
            "fillpattern": {
             "fillmode": "overlay",
             "size": 10,
             "solidity": 0.2
            },
            "type": "scatter"
           }
          ],
          "scatterternary": [
           {
            "marker": {
             "colorbar": {
              "outlinewidth": 0,
              "ticks": ""
             }
            },
            "type": "scatterternary"
           }
          ],
          "surface": [
           {
            "colorbar": {
             "outlinewidth": 0,
             "ticks": ""
            },
            "colorscale": [
             [
              0,
              "#0d0887"
             ],
             [
              0.1111111111111111,
              "#46039f"
             ],
             [
              0.2222222222222222,
              "#7201a8"
             ],
             [
              0.3333333333333333,
              "#9c179e"
             ],
             [
              0.4444444444444444,
              "#bd3786"
             ],
             [
              0.5555555555555556,
              "#d8576b"
             ],
             [
              0.6666666666666666,
              "#ed7953"
             ],
             [
              0.7777777777777778,
              "#fb9f3a"
             ],
             [
              0.8888888888888888,
              "#fdca26"
             ],
             [
              1,
              "#f0f921"
             ]
            ],
            "type": "surface"
           }
          ],
          "table": [
           {
            "cells": {
             "fill": {
              "color": "#EBF0F8"
             },
             "line": {
              "color": "white"
             }
            },
            "header": {
             "fill": {
              "color": "#C8D4E3"
             },
             "line": {
              "color": "white"
             }
            },
            "type": "table"
           }
          ]
         },
         "layout": {
          "annotationdefaults": {
           "arrowcolor": "#2a3f5f",
           "arrowhead": 0,
           "arrowwidth": 1
          },
          "autotypenumbers": "strict",
          "coloraxis": {
           "colorbar": {
            "outlinewidth": 0,
            "ticks": ""
           }
          },
          "colorscale": {
           "diverging": [
            [
             0,
             "#8e0152"
            ],
            [
             0.1,
             "#c51b7d"
            ],
            [
             0.2,
             "#de77ae"
            ],
            [
             0.3,
             "#f1b6da"
            ],
            [
             0.4,
             "#fde0ef"
            ],
            [
             0.5,
             "#f7f7f7"
            ],
            [
             0.6,
             "#e6f5d0"
            ],
            [
             0.7,
             "#b8e186"
            ],
            [
             0.8,
             "#7fbc41"
            ],
            [
             0.9,
             "#4d9221"
            ],
            [
             1,
             "#276419"
            ]
           ],
           "sequential": [
            [
             0,
             "#0d0887"
            ],
            [
             0.1111111111111111,
             "#46039f"
            ],
            [
             0.2222222222222222,
             "#7201a8"
            ],
            [
             0.3333333333333333,
             "#9c179e"
            ],
            [
             0.4444444444444444,
             "#bd3786"
            ],
            [
             0.5555555555555556,
             "#d8576b"
            ],
            [
             0.6666666666666666,
             "#ed7953"
            ],
            [
             0.7777777777777778,
             "#fb9f3a"
            ],
            [
             0.8888888888888888,
             "#fdca26"
            ],
            [
             1,
             "#f0f921"
            ]
           ],
           "sequentialminus": [
            [
             0,
             "#0d0887"
            ],
            [
             0.1111111111111111,
             "#46039f"
            ],
            [
             0.2222222222222222,
             "#7201a8"
            ],
            [
             0.3333333333333333,
             "#9c179e"
            ],
            [
             0.4444444444444444,
             "#bd3786"
            ],
            [
             0.5555555555555556,
             "#d8576b"
            ],
            [
             0.6666666666666666,
             "#ed7953"
            ],
            [
             0.7777777777777778,
             "#fb9f3a"
            ],
            [
             0.8888888888888888,
             "#fdca26"
            ],
            [
             1,
             "#f0f921"
            ]
           ]
          },
          "colorway": [
           "#636efa",
           "#EF553B",
           "#00cc96",
           "#ab63fa",
           "#FFA15A",
           "#19d3f3",
           "#FF6692",
           "#B6E880",
           "#FF97FF",
           "#FECB52"
          ],
          "font": {
           "color": "#2a3f5f"
          },
          "geo": {
           "bgcolor": "white",
           "lakecolor": "white",
           "landcolor": "white",
           "showlakes": true,
           "showland": true,
           "subunitcolor": "#C8D4E3"
          },
          "hoverlabel": {
           "align": "left"
          },
          "hovermode": "closest",
          "mapbox": {
           "style": "light"
          },
          "paper_bgcolor": "white",
          "plot_bgcolor": "white",
          "polar": {
           "angularaxis": {
            "gridcolor": "#EBF0F8",
            "linecolor": "#EBF0F8",
            "ticks": ""
           },
           "bgcolor": "white",
           "radialaxis": {
            "gridcolor": "#EBF0F8",
            "linecolor": "#EBF0F8",
            "ticks": ""
           }
          },
          "scene": {
           "xaxis": {
            "backgroundcolor": "white",
            "gridcolor": "#DFE8F3",
            "gridwidth": 2,
            "linecolor": "#EBF0F8",
            "showbackground": true,
            "ticks": "",
            "zerolinecolor": "#EBF0F8"
           },
           "yaxis": {
            "backgroundcolor": "white",
            "gridcolor": "#DFE8F3",
            "gridwidth": 2,
            "linecolor": "#EBF0F8",
            "showbackground": true,
            "ticks": "",
            "zerolinecolor": "#EBF0F8"
           },
           "zaxis": {
            "backgroundcolor": "white",
            "gridcolor": "#DFE8F3",
            "gridwidth": 2,
            "linecolor": "#EBF0F8",
            "showbackground": true,
            "ticks": "",
            "zerolinecolor": "#EBF0F8"
           }
          },
          "shapedefaults": {
           "line": {
            "color": "#2a3f5f"
           }
          },
          "ternary": {
           "aaxis": {
            "gridcolor": "#DFE8F3",
            "linecolor": "#A2B1C6",
            "ticks": ""
           },
           "baxis": {
            "gridcolor": "#DFE8F3",
            "linecolor": "#A2B1C6",
            "ticks": ""
           },
           "bgcolor": "white",
           "caxis": {
            "gridcolor": "#DFE8F3",
            "linecolor": "#A2B1C6",
            "ticks": ""
           }
          },
          "title": {
           "x": 0.05
          },
          "xaxis": {
           "automargin": true,
           "gridcolor": "#EBF0F8",
           "linecolor": "#EBF0F8",
           "ticks": "",
           "title": {
            "standoff": 15
           },
           "zerolinecolor": "#EBF0F8",
           "zerolinewidth": 2
          },
          "yaxis": {
           "automargin": true,
           "gridcolor": "#EBF0F8",
           "linecolor": "#EBF0F8",
           "ticks": "",
           "title": {
            "standoff": 15
           },
           "zerolinecolor": "#EBF0F8",
           "zerolinewidth": 2
          }
         }
        },
        "xaxis": {
         "anchor": "y",
         "domain": [
          0,
          1
         ],
         "title": {
          "text": "date"
         }
        },
        "yaxis": {
         "anchor": "x",
         "domain": [
          0,
          1
         ],
         "title": {
          "text": "count"
         },
         "tickformat": "0%"
        },
        "legend": {
         "tracegroupgap": 0
        },
        "margin": {
         "t": 60
        },
        "barmode": "relative",
        "height": 500
       },
       "config": {
        "plotlyServerURL": "https://plot.ly"
       }
      }
     },
     "metadata": {}
    }
   ],
   "metadata": {}
  },
  {
   "cell_type": "markdown",
   "source": [
    "# 4. COP 27 et autres actualités"
   ],
   "metadata": {}
  },
  {
   "cell_type": "code",
   "execution_count": 20,
   "source": [
    "data_elonmusk = data[data.keyword == 'elonmusk']"
   ],
   "outputs": [],
   "metadata": {}
  },
  {
   "cell_type": "code",
   "execution_count": 65,
   "source": [
    "data_at_pick_hours_19_21.date.dt.hour"
   ],
   "outputs": [
    {
     "output_type": "execute_result",
     "data": {
      "text/plain": [
       "12       19\n",
       "39       19\n",
       "54       19\n",
       "72       19\n",
       "73       20\n",
       "         ..\n",
       "10742    19\n",
       "10756    19\n",
       "10757    20\n",
       "10758    20\n",
       "10779    19\n",
       "Name: date, Length: 902, dtype: int64"
      ]
     },
     "metadata": {},
     "execution_count": 65
    }
   ],
   "metadata": {}
  },
  {
   "cell_type": "code",
   "execution_count": 66,
   "source": [],
   "outputs": [
    {
     "output_type": "execute_result",
     "data": {
      "text/plain": [
       "2"
      ]
     },
     "metadata": {},
     "execution_count": 66
    }
   ],
   "metadata": {}
  },
  {
   "cell_type": "code",
   "execution_count": 76,
   "source": [
    "def get_percentage_per_day(df):\n",
    "    minutes_per_sample = 2\n",
    "    minutes_covered_per_day = ((max(df.date.dt.hour) - min(df.date.dt.hour)) + 1) * 60 * df.media.nunique()\n",
    "    nb_days = (df.date.max() - df.date.min()).days\n",
    "\n",
    "    df_percentage = df.set_index('date').groupby(pd.Grouper(freq='d')).count()['index'] * minutes_per_sample / (minutes_covered_per_day * nb_days) * 100\n",
    "    df_percentage.name = 'percentage'\n",
    "    return df_percentage\n",
    "\n"
   ],
   "outputs": [],
   "metadata": {}
  },
  {
   "cell_type": "code",
   "execution_count": 77,
   "source": [
    "fig = go.Figure()\n",
    "data_percentage_elon = get_percentage_per_day(data[data.keyword == 'elonmusk'])\n",
    "data_percentage_cop27 = get_percentage_per_day(data[data.keyword == 'cop27'])\n",
    "data_percentage_routeduRhum = get_percentage_per_day(data[data.keyword == 'routeduRhum'])\n",
    "data_percentage_gregoirefournas = get_percentage_per_day(data[data.keyword == 'gregoirefournas'])\n",
    "fig.add_trace(go.Scatter(y=data_percentage_elon, x=data_percentage_elon.index, name='Elon Musk'))\n",
    "fig.add_trace(go.Scatter(y=data_percentage_cop27, x=data_percentage_cop27.index, name='COP 27'))\n",
    "fig.add_trace(go.Scatter(y=data_percentage_gregoirefournas, x=data_percentage_gregoirefournas.index, name='Gregoire Fournas'))\n",
    "fig.add_trace(go.Scatter(y=data_percentage_routeduRhum, x=data_percentage_routeduRhum.index, name='route du Rhum'))\n",
    "fig.update_layout(title='Couverture en % des sujet d actualité TV + Radio de 6h à 00h')\n",
    "fig.show()"
   ],
   "outputs": [
    {
     "output_type": "display_data",
     "data": {
      "application/vnd.plotly.v1+json": {
       "data": [
        {
         "name": "Elon Musk",
         "x": [
          "2022-10-29T00:00:00",
          "2022-10-30T00:00:00",
          "2022-10-31T00:00:00",
          "2022-11-01T00:00:00",
          "2022-11-02T00:00:00",
          "2022-11-03T00:00:00",
          "2022-11-04T00:00:00",
          "2022-11-05T00:00:00"
         ],
         "y": [
          0.787037037037037,
          0.7638888888888888,
          1.4699074074074074,
          1.9675925925925926,
          4.224537037037037,
          1.2268518518518519,
          4.872685185185185,
          2.1875
         ],
         "type": "scatter"
        },
        {
         "name": "COP 27",
         "x": [
          "2022-10-29T00:00:00",
          "2022-10-30T00:00:00",
          "2022-10-31T00:00:00",
          "2022-11-01T00:00:00",
          "2022-11-02T00:00:00",
          "2022-11-03T00:00:00",
          "2022-11-04T00:00:00",
          "2022-11-05T00:00:00"
         ],
         "y": [
          0.1388888888888889,
          0.28935185185185186,
          0.8101851851851851,
          0.7523148148148148,
          1.4236111111111112,
          3.113425925925926,
          3.356481481481482,
          2.5925925925925926
         ],
         "type": "scatter"
        },
        {
         "name": "Gregoire Fournas",
         "x": [
          "2022-10-31T00:00:00",
          "2022-11-01T00:00:00",
          "2022-11-02T00:00:00",
          "2022-11-03T00:00:00",
          "2022-11-04T00:00:00",
          "2022-11-05T00:00:00"
         ],
         "y": [
          0.04166666666666667,
          0,
          0,
          5.347222222222222,
          36.45833333333333,
          11.166666666666666
         ],
         "type": "scatter"
        },
        {
         "name": "route du Rhum",
         "x": [
          "2022-11-02T00:00:00",
          "2022-11-03T00:00:00",
          "2022-11-04T00:00:00",
          "2022-11-05T00:00:00"
         ],
         "y": [
          22.453703703703702,
          24.35185185185185,
          33.31018518518519,
          21.296296296296298
         ],
         "type": "scatter"
        }
       ],
       "layout": {
        "template": {
         "data": {
          "histogram2dcontour": [
           {
            "type": "histogram2dcontour",
            "colorbar": {
             "outlinewidth": 0,
             "ticks": ""
            },
            "colorscale": [
             [
              0,
              "#0d0887"
             ],
             [
              0.1111111111111111,
              "#46039f"
             ],
             [
              0.2222222222222222,
              "#7201a8"
             ],
             [
              0.3333333333333333,
              "#9c179e"
             ],
             [
              0.4444444444444444,
              "#bd3786"
             ],
             [
              0.5555555555555556,
              "#d8576b"
             ],
             [
              0.6666666666666666,
              "#ed7953"
             ],
             [
              0.7777777777777778,
              "#fb9f3a"
             ],
             [
              0.8888888888888888,
              "#fdca26"
             ],
             [
              1,
              "#f0f921"
             ]
            ]
           }
          ],
          "choropleth": [
           {
            "type": "choropleth",
            "colorbar": {
             "outlinewidth": 0,
             "ticks": ""
            }
           }
          ],
          "histogram2d": [
           {
            "type": "histogram2d",
            "colorbar": {
             "outlinewidth": 0,
             "ticks": ""
            },
            "colorscale": [
             [
              0,
              "#0d0887"
             ],
             [
              0.1111111111111111,
              "#46039f"
             ],
             [
              0.2222222222222222,
              "#7201a8"
             ],
             [
              0.3333333333333333,
              "#9c179e"
             ],
             [
              0.4444444444444444,
              "#bd3786"
             ],
             [
              0.5555555555555556,
              "#d8576b"
             ],
             [
              0.6666666666666666,
              "#ed7953"
             ],
             [
              0.7777777777777778,
              "#fb9f3a"
             ],
             [
              0.8888888888888888,
              "#fdca26"
             ],
             [
              1,
              "#f0f921"
             ]
            ]
           }
          ],
          "heatmap": [
           {
            "type": "heatmap",
            "colorbar": {
             "outlinewidth": 0,
             "ticks": ""
            },
            "colorscale": [
             [
              0,
              "#0d0887"
             ],
             [
              0.1111111111111111,
              "#46039f"
             ],
             [
              0.2222222222222222,
              "#7201a8"
             ],
             [
              0.3333333333333333,
              "#9c179e"
             ],
             [
              0.4444444444444444,
              "#bd3786"
             ],
             [
              0.5555555555555556,
              "#d8576b"
             ],
             [
              0.6666666666666666,
              "#ed7953"
             ],
             [
              0.7777777777777778,
              "#fb9f3a"
             ],
             [
              0.8888888888888888,
              "#fdca26"
             ],
             [
              1,
              "#f0f921"
             ]
            ]
           }
          ],
          "heatmapgl": [
           {
            "type": "heatmapgl",
            "colorbar": {
             "outlinewidth": 0,
             "ticks": ""
            },
            "colorscale": [
             [
              0,
              "#0d0887"
             ],
             [
              0.1111111111111111,
              "#46039f"
             ],
             [
              0.2222222222222222,
              "#7201a8"
             ],
             [
              0.3333333333333333,
              "#9c179e"
             ],
             [
              0.4444444444444444,
              "#bd3786"
             ],
             [
              0.5555555555555556,
              "#d8576b"
             ],
             [
              0.6666666666666666,
              "#ed7953"
             ],
             [
              0.7777777777777778,
              "#fb9f3a"
             ],
             [
              0.8888888888888888,
              "#fdca26"
             ],
             [
              1,
              "#f0f921"
             ]
            ]
           }
          ],
          "contourcarpet": [
           {
            "type": "contourcarpet",
            "colorbar": {
             "outlinewidth": 0,
             "ticks": ""
            }
           }
          ],
          "contour": [
           {
            "type": "contour",
            "colorbar": {
             "outlinewidth": 0,
             "ticks": ""
            },
            "colorscale": [
             [
              0,
              "#0d0887"
             ],
             [
              0.1111111111111111,
              "#46039f"
             ],
             [
              0.2222222222222222,
              "#7201a8"
             ],
             [
              0.3333333333333333,
              "#9c179e"
             ],
             [
              0.4444444444444444,
              "#bd3786"
             ],
             [
              0.5555555555555556,
              "#d8576b"
             ],
             [
              0.6666666666666666,
              "#ed7953"
             ],
             [
              0.7777777777777778,
              "#fb9f3a"
             ],
             [
              0.8888888888888888,
              "#fdca26"
             ],
             [
              1,
              "#f0f921"
             ]
            ]
           }
          ],
          "surface": [
           {
            "type": "surface",
            "colorbar": {
             "outlinewidth": 0,
             "ticks": ""
            },
            "colorscale": [
             [
              0,
              "#0d0887"
             ],
             [
              0.1111111111111111,
              "#46039f"
             ],
             [
              0.2222222222222222,
              "#7201a8"
             ],
             [
              0.3333333333333333,
              "#9c179e"
             ],
             [
              0.4444444444444444,
              "#bd3786"
             ],
             [
              0.5555555555555556,
              "#d8576b"
             ],
             [
              0.6666666666666666,
              "#ed7953"
             ],
             [
              0.7777777777777778,
              "#fb9f3a"
             ],
             [
              0.8888888888888888,
              "#fdca26"
             ],
             [
              1,
              "#f0f921"
             ]
            ]
           }
          ],
          "mesh3d": [
           {
            "type": "mesh3d",
            "colorbar": {
             "outlinewidth": 0,
             "ticks": ""
            }
           }
          ],
          "scatter": [
           {
            "fillpattern": {
             "fillmode": "overlay",
             "size": 10,
             "solidity": 0.2
            },
            "type": "scatter"
           }
          ],
          "parcoords": [
           {
            "type": "parcoords",
            "line": {
             "colorbar": {
              "outlinewidth": 0,
              "ticks": ""
             }
            }
           }
          ],
          "scatterpolargl": [
           {
            "type": "scatterpolargl",
            "marker": {
             "colorbar": {
              "outlinewidth": 0,
              "ticks": ""
             }
            }
           }
          ],
          "bar": [
           {
            "error_x": {
             "color": "#2a3f5f"
            },
            "error_y": {
             "color": "#2a3f5f"
            },
            "marker": {
             "line": {
              "color": "#E5ECF6",
              "width": 0.5
             },
             "pattern": {
              "fillmode": "overlay",
              "size": 10,
              "solidity": 0.2
             }
            },
            "type": "bar"
           }
          ],
          "scattergeo": [
           {
            "type": "scattergeo",
            "marker": {
             "colorbar": {
              "outlinewidth": 0,
              "ticks": ""
             }
            }
           }
          ],
          "scatterpolar": [
           {
            "type": "scatterpolar",
            "marker": {
             "colorbar": {
              "outlinewidth": 0,
              "ticks": ""
             }
            }
           }
          ],
          "histogram": [
           {
            "marker": {
             "pattern": {
              "fillmode": "overlay",
              "size": 10,
              "solidity": 0.2
             }
            },
            "type": "histogram"
           }
          ],
          "scattergl": [
           {
            "type": "scattergl",
            "marker": {
             "colorbar": {
              "outlinewidth": 0,
              "ticks": ""
             }
            }
           }
          ],
          "scatter3d": [
           {
            "type": "scatter3d",
            "line": {
             "colorbar": {
              "outlinewidth": 0,
              "ticks": ""
             }
            },
            "marker": {
             "colorbar": {
              "outlinewidth": 0,
              "ticks": ""
             }
            }
           }
          ],
          "scattermapbox": [
           {
            "type": "scattermapbox",
            "marker": {
             "colorbar": {
              "outlinewidth": 0,
              "ticks": ""
             }
            }
           }
          ],
          "scatterternary": [
           {
            "type": "scatterternary",
            "marker": {
             "colorbar": {
              "outlinewidth": 0,
              "ticks": ""
             }
            }
           }
          ],
          "scattercarpet": [
           {
            "type": "scattercarpet",
            "marker": {
             "colorbar": {
              "outlinewidth": 0,
              "ticks": ""
             }
            }
           }
          ],
          "carpet": [
           {
            "aaxis": {
             "endlinecolor": "#2a3f5f",
             "gridcolor": "white",
             "linecolor": "white",
             "minorgridcolor": "white",
             "startlinecolor": "#2a3f5f"
            },
            "baxis": {
             "endlinecolor": "#2a3f5f",
             "gridcolor": "white",
             "linecolor": "white",
             "minorgridcolor": "white",
             "startlinecolor": "#2a3f5f"
            },
            "type": "carpet"
           }
          ],
          "table": [
           {
            "cells": {
             "fill": {
              "color": "#EBF0F8"
             },
             "line": {
              "color": "white"
             }
            },
            "header": {
             "fill": {
              "color": "#C8D4E3"
             },
             "line": {
              "color": "white"
             }
            },
            "type": "table"
           }
          ],
          "barpolar": [
           {
            "marker": {
             "line": {
              "color": "#E5ECF6",
              "width": 0.5
             },
             "pattern": {
              "fillmode": "overlay",
              "size": 10,
              "solidity": 0.2
             }
            },
            "type": "barpolar"
           }
          ],
          "pie": [
           {
            "automargin": true,
            "type": "pie"
           }
          ]
         },
         "layout": {
          "autotypenumbers": "strict",
          "colorway": [
           "#636efa",
           "#EF553B",
           "#00cc96",
           "#ab63fa",
           "#FFA15A",
           "#19d3f3",
           "#FF6692",
           "#B6E880",
           "#FF97FF",
           "#FECB52"
          ],
          "font": {
           "color": "#2a3f5f"
          },
          "hovermode": "closest",
          "hoverlabel": {
           "align": "left"
          },
          "paper_bgcolor": "white",
          "plot_bgcolor": "#E5ECF6",
          "polar": {
           "bgcolor": "#E5ECF6",
           "angularaxis": {
            "gridcolor": "white",
            "linecolor": "white",
            "ticks": ""
           },
           "radialaxis": {
            "gridcolor": "white",
            "linecolor": "white",
            "ticks": ""
           }
          },
          "ternary": {
           "bgcolor": "#E5ECF6",
           "aaxis": {
            "gridcolor": "white",
            "linecolor": "white",
            "ticks": ""
           },
           "baxis": {
            "gridcolor": "white",
            "linecolor": "white",
            "ticks": ""
           },
           "caxis": {
            "gridcolor": "white",
            "linecolor": "white",
            "ticks": ""
           }
          },
          "coloraxis": {
           "colorbar": {
            "outlinewidth": 0,
            "ticks": ""
           }
          },
          "colorscale": {
           "sequential": [
            [
             0,
             "#0d0887"
            ],
            [
             0.1111111111111111,
             "#46039f"
            ],
            [
             0.2222222222222222,
             "#7201a8"
            ],
            [
             0.3333333333333333,
             "#9c179e"
            ],
            [
             0.4444444444444444,
             "#bd3786"
            ],
            [
             0.5555555555555556,
             "#d8576b"
            ],
            [
             0.6666666666666666,
             "#ed7953"
            ],
            [
             0.7777777777777778,
             "#fb9f3a"
            ],
            [
             0.8888888888888888,
             "#fdca26"
            ],
            [
             1,
             "#f0f921"
            ]
           ],
           "sequentialminus": [
            [
             0,
             "#0d0887"
            ],
            [
             0.1111111111111111,
             "#46039f"
            ],
            [
             0.2222222222222222,
             "#7201a8"
            ],
            [
             0.3333333333333333,
             "#9c179e"
            ],
            [
             0.4444444444444444,
             "#bd3786"
            ],
            [
             0.5555555555555556,
             "#d8576b"
            ],
            [
             0.6666666666666666,
             "#ed7953"
            ],
            [
             0.7777777777777778,
             "#fb9f3a"
            ],
            [
             0.8888888888888888,
             "#fdca26"
            ],
            [
             1,
             "#f0f921"
            ]
           ],
           "diverging": [
            [
             0,
             "#8e0152"
            ],
            [
             0.1,
             "#c51b7d"
            ],
            [
             0.2,
             "#de77ae"
            ],
            [
             0.3,
             "#f1b6da"
            ],
            [
             0.4,
             "#fde0ef"
            ],
            [
             0.5,
             "#f7f7f7"
            ],
            [
             0.6,
             "#e6f5d0"
            ],
            [
             0.7,
             "#b8e186"
            ],
            [
             0.8,
             "#7fbc41"
            ],
            [
             0.9,
             "#4d9221"
            ],
            [
             1,
             "#276419"
            ]
           ]
          },
          "xaxis": {
           "gridcolor": "white",
           "linecolor": "white",
           "ticks": "",
           "title": {
            "standoff": 15
           },
           "zerolinecolor": "white",
           "automargin": true,
           "zerolinewidth": 2
          },
          "yaxis": {
           "gridcolor": "white",
           "linecolor": "white",
           "ticks": "",
           "title": {
            "standoff": 15
           },
           "zerolinecolor": "white",
           "automargin": true,
           "zerolinewidth": 2
          },
          "scene": {
           "xaxis": {
            "backgroundcolor": "#E5ECF6",
            "gridcolor": "white",
            "linecolor": "white",
            "showbackground": true,
            "ticks": "",
            "zerolinecolor": "white",
            "gridwidth": 2
           },
           "yaxis": {
            "backgroundcolor": "#E5ECF6",
            "gridcolor": "white",
            "linecolor": "white",
            "showbackground": true,
            "ticks": "",
            "zerolinecolor": "white",
            "gridwidth": 2
           },
           "zaxis": {
            "backgroundcolor": "#E5ECF6",
            "gridcolor": "white",
            "linecolor": "white",
            "showbackground": true,
            "ticks": "",
            "zerolinecolor": "white",
            "gridwidth": 2
           }
          },
          "shapedefaults": {
           "line": {
            "color": "#2a3f5f"
           }
          },
          "annotationdefaults": {
           "arrowcolor": "#2a3f5f",
           "arrowhead": 0,
           "arrowwidth": 1
          },
          "geo": {
           "bgcolor": "white",
           "landcolor": "#E5ECF6",
           "subunitcolor": "white",
           "showland": true,
           "showlakes": true,
           "lakecolor": "white"
          },
          "title": {
           "x": 0.05
          },
          "mapbox": {
           "style": "light"
          }
         }
        },
        "title": {
         "text": "Couverture en % des sujet d actualité TV + Radio de 6h à 00h"
        }
       },
       "config": {
        "plotlyServerURL": "https://plot.ly"
       }
      }
     },
     "metadata": {}
    }
   ],
   "metadata": {}
  },
  {
   "cell_type": "code",
   "execution_count": 78,
   "source": [
    "fig = go.Figure()\n",
    "data_percentage_elon = get_percentage_per_day(data[(data.keyword == 'elonmusk')&data.radio])\n",
    "data_percentage_cop27 = get_percentage_per_day(data[(data.keyword == 'cop27')&data.radio])\n",
    "data_percentage_routeduRhum = get_percentage_per_day(data[(data.keyword == 'routeduRhum')&data.radio])\n",
    "data_percentage_gregoirefournas = get_percentage_per_day(data[(data.keyword == 'gregoirefournas')&data.radio])\n",
    "fig.add_trace(go.Scatter(y=data_percentage_elon, x=data_percentage_elon.index, name='Elon Musk'))\n",
    "fig.add_trace(go.Scatter(y=data_percentage_cop27, x=data_percentage_cop27.index, name='COP 27'))\n",
    "fig.add_trace(go.Scatter(y=data_percentage_gregoirefournas, x=data_percentage_gregoirefournas.index, name='Gregoire Fournas'))\n",
    "fig.add_trace(go.Scatter(y=data_percentage_routeduRhum, x=data_percentage_routeduRhum.index, name='route du Rhum'))\n",
    "fig.update_layout(title='Couverture en % des sujet d actualité Radio de 6h à 00h')\n",
    "fig.show()"
   ],
   "outputs": [
    {
     "output_type": "display_data",
     "data": {
      "application/vnd.plotly.v1+json": {
       "data": [
        {
         "name": "Elon Musk",
         "x": [
          "2022-10-29T00:00:00",
          "2022-10-30T00:00:00",
          "2022-10-31T00:00:00",
          "2022-11-01T00:00:00",
          "2022-11-02T00:00:00",
          "2022-11-03T00:00:00",
          "2022-11-04T00:00:00",
          "2022-11-05T00:00:00"
         ],
         "y": [
          0.25462962962962965,
          0.4398148148148148,
          2.1527777777777777,
          2.476851851851852,
          5.277777777777778,
          1.8055555555555554,
          5.9259259259259265,
          2.5925925925925926
         ],
         "type": "scatter"
        },
        {
         "name": "COP 27",
         "x": [
          "2022-10-29T00:00:00",
          "2022-10-30T00:00:00",
          "2022-10-31T00:00:00",
          "2022-11-01T00:00:00",
          "2022-11-02T00:00:00",
          "2022-11-03T00:00:00",
          "2022-11-04T00:00:00",
          "2022-11-05T00:00:00"
         ],
         "y": [
          0.14492753623188406,
          0.3864734299516908,
          1.2560386473429952,
          0.7004830917874396,
          1.2560386473429952,
          4.3478260869565215,
          3.3574879227053143,
          2.8260869565217392
         ],
         "type": "scatter"
        },
        {
         "name": "Gregoire Fournas",
         "x": [
          "2022-11-03T00:00:00",
          "2022-11-04T00:00:00",
          "2022-11-05T00:00:00"
         ],
         "y": [
          32.77777777777778,
          279.16666666666663,
          82.63888888888889
         ],
         "type": "scatter"
        },
        {
         "name": "route du Rhum",
         "x": [
          "2022-11-02T00:00:00",
          "2022-11-03T00:00:00",
          "2022-11-04T00:00:00",
          "2022-11-05T00:00:00"
         ],
         "y": [
          27.500000000000004,
          26.111111111111114,
          39.907407407407405,
          25
         ],
         "type": "scatter"
        }
       ],
       "layout": {
        "template": {
         "data": {
          "histogram2dcontour": [
           {
            "type": "histogram2dcontour",
            "colorbar": {
             "outlinewidth": 0,
             "ticks": ""
            },
            "colorscale": [
             [
              0,
              "#0d0887"
             ],
             [
              0.1111111111111111,
              "#46039f"
             ],
             [
              0.2222222222222222,
              "#7201a8"
             ],
             [
              0.3333333333333333,
              "#9c179e"
             ],
             [
              0.4444444444444444,
              "#bd3786"
             ],
             [
              0.5555555555555556,
              "#d8576b"
             ],
             [
              0.6666666666666666,
              "#ed7953"
             ],
             [
              0.7777777777777778,
              "#fb9f3a"
             ],
             [
              0.8888888888888888,
              "#fdca26"
             ],
             [
              1,
              "#f0f921"
             ]
            ]
           }
          ],
          "choropleth": [
           {
            "type": "choropleth",
            "colorbar": {
             "outlinewidth": 0,
             "ticks": ""
            }
           }
          ],
          "histogram2d": [
           {
            "type": "histogram2d",
            "colorbar": {
             "outlinewidth": 0,
             "ticks": ""
            },
            "colorscale": [
             [
              0,
              "#0d0887"
             ],
             [
              0.1111111111111111,
              "#46039f"
             ],
             [
              0.2222222222222222,
              "#7201a8"
             ],
             [
              0.3333333333333333,
              "#9c179e"
             ],
             [
              0.4444444444444444,
              "#bd3786"
             ],
             [
              0.5555555555555556,
              "#d8576b"
             ],
             [
              0.6666666666666666,
              "#ed7953"
             ],
             [
              0.7777777777777778,
              "#fb9f3a"
             ],
             [
              0.8888888888888888,
              "#fdca26"
             ],
             [
              1,
              "#f0f921"
             ]
            ]
           }
          ],
          "heatmap": [
           {
            "type": "heatmap",
            "colorbar": {
             "outlinewidth": 0,
             "ticks": ""
            },
            "colorscale": [
             [
              0,
              "#0d0887"
             ],
             [
              0.1111111111111111,
              "#46039f"
             ],
             [
              0.2222222222222222,
              "#7201a8"
             ],
             [
              0.3333333333333333,
              "#9c179e"
             ],
             [
              0.4444444444444444,
              "#bd3786"
             ],
             [
              0.5555555555555556,
              "#d8576b"
             ],
             [
              0.6666666666666666,
              "#ed7953"
             ],
             [
              0.7777777777777778,
              "#fb9f3a"
             ],
             [
              0.8888888888888888,
              "#fdca26"
             ],
             [
              1,
              "#f0f921"
             ]
            ]
           }
          ],
          "heatmapgl": [
           {
            "type": "heatmapgl",
            "colorbar": {
             "outlinewidth": 0,
             "ticks": ""
            },
            "colorscale": [
             [
              0,
              "#0d0887"
             ],
             [
              0.1111111111111111,
              "#46039f"
             ],
             [
              0.2222222222222222,
              "#7201a8"
             ],
             [
              0.3333333333333333,
              "#9c179e"
             ],
             [
              0.4444444444444444,
              "#bd3786"
             ],
             [
              0.5555555555555556,
              "#d8576b"
             ],
             [
              0.6666666666666666,
              "#ed7953"
             ],
             [
              0.7777777777777778,
              "#fb9f3a"
             ],
             [
              0.8888888888888888,
              "#fdca26"
             ],
             [
              1,
              "#f0f921"
             ]
            ]
           }
          ],
          "contourcarpet": [
           {
            "type": "contourcarpet",
            "colorbar": {
             "outlinewidth": 0,
             "ticks": ""
            }
           }
          ],
          "contour": [
           {
            "type": "contour",
            "colorbar": {
             "outlinewidth": 0,
             "ticks": ""
            },
            "colorscale": [
             [
              0,
              "#0d0887"
             ],
             [
              0.1111111111111111,
              "#46039f"
             ],
             [
              0.2222222222222222,
              "#7201a8"
             ],
             [
              0.3333333333333333,
              "#9c179e"
             ],
             [
              0.4444444444444444,
              "#bd3786"
             ],
             [
              0.5555555555555556,
              "#d8576b"
             ],
             [
              0.6666666666666666,
              "#ed7953"
             ],
             [
              0.7777777777777778,
              "#fb9f3a"
             ],
             [
              0.8888888888888888,
              "#fdca26"
             ],
             [
              1,
              "#f0f921"
             ]
            ]
           }
          ],
          "surface": [
           {
            "type": "surface",
            "colorbar": {
             "outlinewidth": 0,
             "ticks": ""
            },
            "colorscale": [
             [
              0,
              "#0d0887"
             ],
             [
              0.1111111111111111,
              "#46039f"
             ],
             [
              0.2222222222222222,
              "#7201a8"
             ],
             [
              0.3333333333333333,
              "#9c179e"
             ],
             [
              0.4444444444444444,
              "#bd3786"
             ],
             [
              0.5555555555555556,
              "#d8576b"
             ],
             [
              0.6666666666666666,
              "#ed7953"
             ],
             [
              0.7777777777777778,
              "#fb9f3a"
             ],
             [
              0.8888888888888888,
              "#fdca26"
             ],
             [
              1,
              "#f0f921"
             ]
            ]
           }
          ],
          "mesh3d": [
           {
            "type": "mesh3d",
            "colorbar": {
             "outlinewidth": 0,
             "ticks": ""
            }
           }
          ],
          "scatter": [
           {
            "fillpattern": {
             "fillmode": "overlay",
             "size": 10,
             "solidity": 0.2
            },
            "type": "scatter"
           }
          ],
          "parcoords": [
           {
            "type": "parcoords",
            "line": {
             "colorbar": {
              "outlinewidth": 0,
              "ticks": ""
             }
            }
           }
          ],
          "scatterpolargl": [
           {
            "type": "scatterpolargl",
            "marker": {
             "colorbar": {
              "outlinewidth": 0,
              "ticks": ""
             }
            }
           }
          ],
          "bar": [
           {
            "error_x": {
             "color": "#2a3f5f"
            },
            "error_y": {
             "color": "#2a3f5f"
            },
            "marker": {
             "line": {
              "color": "#E5ECF6",
              "width": 0.5
             },
             "pattern": {
              "fillmode": "overlay",
              "size": 10,
              "solidity": 0.2
             }
            },
            "type": "bar"
           }
          ],
          "scattergeo": [
           {
            "type": "scattergeo",
            "marker": {
             "colorbar": {
              "outlinewidth": 0,
              "ticks": ""
             }
            }
           }
          ],
          "scatterpolar": [
           {
            "type": "scatterpolar",
            "marker": {
             "colorbar": {
              "outlinewidth": 0,
              "ticks": ""
             }
            }
           }
          ],
          "histogram": [
           {
            "marker": {
             "pattern": {
              "fillmode": "overlay",
              "size": 10,
              "solidity": 0.2
             }
            },
            "type": "histogram"
           }
          ],
          "scattergl": [
           {
            "type": "scattergl",
            "marker": {
             "colorbar": {
              "outlinewidth": 0,
              "ticks": ""
             }
            }
           }
          ],
          "scatter3d": [
           {
            "type": "scatter3d",
            "line": {
             "colorbar": {
              "outlinewidth": 0,
              "ticks": ""
             }
            },
            "marker": {
             "colorbar": {
              "outlinewidth": 0,
              "ticks": ""
             }
            }
           }
          ],
          "scattermapbox": [
           {
            "type": "scattermapbox",
            "marker": {
             "colorbar": {
              "outlinewidth": 0,
              "ticks": ""
             }
            }
           }
          ],
          "scatterternary": [
           {
            "type": "scatterternary",
            "marker": {
             "colorbar": {
              "outlinewidth": 0,
              "ticks": ""
             }
            }
           }
          ],
          "scattercarpet": [
           {
            "type": "scattercarpet",
            "marker": {
             "colorbar": {
              "outlinewidth": 0,
              "ticks": ""
             }
            }
           }
          ],
          "carpet": [
           {
            "aaxis": {
             "endlinecolor": "#2a3f5f",
             "gridcolor": "white",
             "linecolor": "white",
             "minorgridcolor": "white",
             "startlinecolor": "#2a3f5f"
            },
            "baxis": {
             "endlinecolor": "#2a3f5f",
             "gridcolor": "white",
             "linecolor": "white",
             "minorgridcolor": "white",
             "startlinecolor": "#2a3f5f"
            },
            "type": "carpet"
           }
          ],
          "table": [
           {
            "cells": {
             "fill": {
              "color": "#EBF0F8"
             },
             "line": {
              "color": "white"
             }
            },
            "header": {
             "fill": {
              "color": "#C8D4E3"
             },
             "line": {
              "color": "white"
             }
            },
            "type": "table"
           }
          ],
          "barpolar": [
           {
            "marker": {
             "line": {
              "color": "#E5ECF6",
              "width": 0.5
             },
             "pattern": {
              "fillmode": "overlay",
              "size": 10,
              "solidity": 0.2
             }
            },
            "type": "barpolar"
           }
          ],
          "pie": [
           {
            "automargin": true,
            "type": "pie"
           }
          ]
         },
         "layout": {
          "autotypenumbers": "strict",
          "colorway": [
           "#636efa",
           "#EF553B",
           "#00cc96",
           "#ab63fa",
           "#FFA15A",
           "#19d3f3",
           "#FF6692",
           "#B6E880",
           "#FF97FF",
           "#FECB52"
          ],
          "font": {
           "color": "#2a3f5f"
          },
          "hovermode": "closest",
          "hoverlabel": {
           "align": "left"
          },
          "paper_bgcolor": "white",
          "plot_bgcolor": "#E5ECF6",
          "polar": {
           "bgcolor": "#E5ECF6",
           "angularaxis": {
            "gridcolor": "white",
            "linecolor": "white",
            "ticks": ""
           },
           "radialaxis": {
            "gridcolor": "white",
            "linecolor": "white",
            "ticks": ""
           }
          },
          "ternary": {
           "bgcolor": "#E5ECF6",
           "aaxis": {
            "gridcolor": "white",
            "linecolor": "white",
            "ticks": ""
           },
           "baxis": {
            "gridcolor": "white",
            "linecolor": "white",
            "ticks": ""
           },
           "caxis": {
            "gridcolor": "white",
            "linecolor": "white",
            "ticks": ""
           }
          },
          "coloraxis": {
           "colorbar": {
            "outlinewidth": 0,
            "ticks": ""
           }
          },
          "colorscale": {
           "sequential": [
            [
             0,
             "#0d0887"
            ],
            [
             0.1111111111111111,
             "#46039f"
            ],
            [
             0.2222222222222222,
             "#7201a8"
            ],
            [
             0.3333333333333333,
             "#9c179e"
            ],
            [
             0.4444444444444444,
             "#bd3786"
            ],
            [
             0.5555555555555556,
             "#d8576b"
            ],
            [
             0.6666666666666666,
             "#ed7953"
            ],
            [
             0.7777777777777778,
             "#fb9f3a"
            ],
            [
             0.8888888888888888,
             "#fdca26"
            ],
            [
             1,
             "#f0f921"
            ]
           ],
           "sequentialminus": [
            [
             0,
             "#0d0887"
            ],
            [
             0.1111111111111111,
             "#46039f"
            ],
            [
             0.2222222222222222,
             "#7201a8"
            ],
            [
             0.3333333333333333,
             "#9c179e"
            ],
            [
             0.4444444444444444,
             "#bd3786"
            ],
            [
             0.5555555555555556,
             "#d8576b"
            ],
            [
             0.6666666666666666,
             "#ed7953"
            ],
            [
             0.7777777777777778,
             "#fb9f3a"
            ],
            [
             0.8888888888888888,
             "#fdca26"
            ],
            [
             1,
             "#f0f921"
            ]
           ],
           "diverging": [
            [
             0,
             "#8e0152"
            ],
            [
             0.1,
             "#c51b7d"
            ],
            [
             0.2,
             "#de77ae"
            ],
            [
             0.3,
             "#f1b6da"
            ],
            [
             0.4,
             "#fde0ef"
            ],
            [
             0.5,
             "#f7f7f7"
            ],
            [
             0.6,
             "#e6f5d0"
            ],
            [
             0.7,
             "#b8e186"
            ],
            [
             0.8,
             "#7fbc41"
            ],
            [
             0.9,
             "#4d9221"
            ],
            [
             1,
             "#276419"
            ]
           ]
          },
          "xaxis": {
           "gridcolor": "white",
           "linecolor": "white",
           "ticks": "",
           "title": {
            "standoff": 15
           },
           "zerolinecolor": "white",
           "automargin": true,
           "zerolinewidth": 2
          },
          "yaxis": {
           "gridcolor": "white",
           "linecolor": "white",
           "ticks": "",
           "title": {
            "standoff": 15
           },
           "zerolinecolor": "white",
           "automargin": true,
           "zerolinewidth": 2
          },
          "scene": {
           "xaxis": {
            "backgroundcolor": "#E5ECF6",
            "gridcolor": "white",
            "linecolor": "white",
            "showbackground": true,
            "ticks": "",
            "zerolinecolor": "white",
            "gridwidth": 2
           },
           "yaxis": {
            "backgroundcolor": "#E5ECF6",
            "gridcolor": "white",
            "linecolor": "white",
            "showbackground": true,
            "ticks": "",
            "zerolinecolor": "white",
            "gridwidth": 2
           },
           "zaxis": {
            "backgroundcolor": "#E5ECF6",
            "gridcolor": "white",
            "linecolor": "white",
            "showbackground": true,
            "ticks": "",
            "zerolinecolor": "white",
            "gridwidth": 2
           }
          },
          "shapedefaults": {
           "line": {
            "color": "#2a3f5f"
           }
          },
          "annotationdefaults": {
           "arrowcolor": "#2a3f5f",
           "arrowhead": 0,
           "arrowwidth": 1
          },
          "geo": {
           "bgcolor": "white",
           "landcolor": "#E5ECF6",
           "subunitcolor": "white",
           "showland": true,
           "showlakes": true,
           "lakecolor": "white"
          },
          "title": {
           "x": 0.05
          },
          "mapbox": {
           "style": "light"
          }
         }
        },
        "title": {
         "text": "Couverture en % des sujet d actualité Radio de 6h à 00h"
        }
       },
       "config": {
        "plotlyServerURL": "https://plot.ly"
       }
      }
     },
     "metadata": {}
    }
   ],
   "metadata": {}
  },
  {
   "cell_type": "code",
   "execution_count": 79,
   "source": [
    "data_to_use = data_at_pick_hours_19_21.copy()\n",
    "\n",
    "fig = go.Figure()\n",
    "data_percentage_elon = get_percentage_per_day(data_to_use[(data_to_use.keyword == 'elonmusk')& ~data_to_use.radio])\n",
    "data_percentage_cop27 = get_percentage_per_day(data_to_use[(data_to_use.keyword == 'cop27')& ~data_to_use.radio])\n",
    "data_percentage_routeduRhum = get_percentage_per_day(data_to_use[(data_to_use.keyword == 'routeduRhum')& ~data_to_use.radio])\n",
    "data_percentage_gregoirefournas = get_percentage_per_day(data_to_use[(data_to_use.keyword == 'gregoirefournas')& ~data_to_use.radio])\n",
    "fig.add_trace(go.Scatter(y=data_percentage_elon, x=data_percentage_elon.index, name='Elon Musk'))\n",
    "fig.add_trace(go.Scatter(y=data_percentage_cop27, x=data_percentage_cop27.index, name='COP 27'))\n",
    "fig.add_trace(go.Scatter(y=data_percentage_gregoirefournas, x=data_percentage_gregoirefournas.index, name='Gregoire Fournas'))\n",
    "fig.add_trace(go.Scatter(y=data_percentage_routeduRhum, x=data_percentage_routeduRhum.index, name='route du Rhum'))\n",
    "fig.update_layout(title='Couverture en % des sujet d actualité TV de 6h à 00h')\n",
    "fig.show()"
   ],
   "outputs": [
    {
     "output_type": "display_data",
     "data": {
      "application/vnd.plotly.v1+json": {
       "data": [
        {
         "name": "Elon Musk",
         "x": [
          "2022-10-29T00:00:00",
          "2022-10-30T00:00:00",
          "2022-10-31T00:00:00",
          "2022-11-01T00:00:00",
          "2022-11-02T00:00:00",
          "2022-11-03T00:00:00",
          "2022-11-04T00:00:00"
         ],
         "y": [
          0.5555555555555556,
          0.8333333333333334,
          3.6111111111111107,
          7.777777777777778,
          5,
          1.6666666666666667,
          10
         ],
         "type": "scatter"
        },
        {
         "name": "COP 27",
         "x": [
          "2022-10-29T00:00:00",
          "2022-10-30T00:00:00",
          "2022-10-31T00:00:00",
          "2022-11-01T00:00:00",
          "2022-11-02T00:00:00",
          "2022-11-03T00:00:00",
          "2022-11-04T00:00:00"
         ],
         "y": [
          0.5555555555555556,
          0,
          1.3888888888888888,
          3.3333333333333335,
          3.888888888888889,
          4.166666666666666,
          8.61111111111111
         ],
         "type": "scatter"
        },
        {
         "name": "Gregoire Fournas",
         "x": [
          "2022-11-03T00:00:00",
          "2022-11-04T00:00:00"
         ],
         "y": [
          93.33333333333333,
          163.33333333333334
         ],
         "type": "scatter"
        },
        {
         "name": "route du Rhum",
         "x": [
          "2022-11-02T00:00:00",
          "2022-11-03T00:00:00",
          "2022-11-04T00:00:00"
         ],
         "y": [
          46.666666666666664,
          58.333333333333336,
          60.83333333333333
         ],
         "type": "scatter"
        }
       ],
       "layout": {
        "template": {
         "data": {
          "histogram2dcontour": [
           {
            "type": "histogram2dcontour",
            "colorbar": {
             "outlinewidth": 0,
             "ticks": ""
            },
            "colorscale": [
             [
              0,
              "#0d0887"
             ],
             [
              0.1111111111111111,
              "#46039f"
             ],
             [
              0.2222222222222222,
              "#7201a8"
             ],
             [
              0.3333333333333333,
              "#9c179e"
             ],
             [
              0.4444444444444444,
              "#bd3786"
             ],
             [
              0.5555555555555556,
              "#d8576b"
             ],
             [
              0.6666666666666666,
              "#ed7953"
             ],
             [
              0.7777777777777778,
              "#fb9f3a"
             ],
             [
              0.8888888888888888,
              "#fdca26"
             ],
             [
              1,
              "#f0f921"
             ]
            ]
           }
          ],
          "choropleth": [
           {
            "type": "choropleth",
            "colorbar": {
             "outlinewidth": 0,
             "ticks": ""
            }
           }
          ],
          "histogram2d": [
           {
            "type": "histogram2d",
            "colorbar": {
             "outlinewidth": 0,
             "ticks": ""
            },
            "colorscale": [
             [
              0,
              "#0d0887"
             ],
             [
              0.1111111111111111,
              "#46039f"
             ],
             [
              0.2222222222222222,
              "#7201a8"
             ],
             [
              0.3333333333333333,
              "#9c179e"
             ],
             [
              0.4444444444444444,
              "#bd3786"
             ],
             [
              0.5555555555555556,
              "#d8576b"
             ],
             [
              0.6666666666666666,
              "#ed7953"
             ],
             [
              0.7777777777777778,
              "#fb9f3a"
             ],
             [
              0.8888888888888888,
              "#fdca26"
             ],
             [
              1,
              "#f0f921"
             ]
            ]
           }
          ],
          "heatmap": [
           {
            "type": "heatmap",
            "colorbar": {
             "outlinewidth": 0,
             "ticks": ""
            },
            "colorscale": [
             [
              0,
              "#0d0887"
             ],
             [
              0.1111111111111111,
              "#46039f"
             ],
             [
              0.2222222222222222,
              "#7201a8"
             ],
             [
              0.3333333333333333,
              "#9c179e"
             ],
             [
              0.4444444444444444,
              "#bd3786"
             ],
             [
              0.5555555555555556,
              "#d8576b"
             ],
             [
              0.6666666666666666,
              "#ed7953"
             ],
             [
              0.7777777777777778,
              "#fb9f3a"
             ],
             [
              0.8888888888888888,
              "#fdca26"
             ],
             [
              1,
              "#f0f921"
             ]
            ]
           }
          ],
          "heatmapgl": [
           {
            "type": "heatmapgl",
            "colorbar": {
             "outlinewidth": 0,
             "ticks": ""
            },
            "colorscale": [
             [
              0,
              "#0d0887"
             ],
             [
              0.1111111111111111,
              "#46039f"
             ],
             [
              0.2222222222222222,
              "#7201a8"
             ],
             [
              0.3333333333333333,
              "#9c179e"
             ],
             [
              0.4444444444444444,
              "#bd3786"
             ],
             [
              0.5555555555555556,
              "#d8576b"
             ],
             [
              0.6666666666666666,
              "#ed7953"
             ],
             [
              0.7777777777777778,
              "#fb9f3a"
             ],
             [
              0.8888888888888888,
              "#fdca26"
             ],
             [
              1,
              "#f0f921"
             ]
            ]
           }
          ],
          "contourcarpet": [
           {
            "type": "contourcarpet",
            "colorbar": {
             "outlinewidth": 0,
             "ticks": ""
            }
           }
          ],
          "contour": [
           {
            "type": "contour",
            "colorbar": {
             "outlinewidth": 0,
             "ticks": ""
            },
            "colorscale": [
             [
              0,
              "#0d0887"
             ],
             [
              0.1111111111111111,
              "#46039f"
             ],
             [
              0.2222222222222222,
              "#7201a8"
             ],
             [
              0.3333333333333333,
              "#9c179e"
             ],
             [
              0.4444444444444444,
              "#bd3786"
             ],
             [
              0.5555555555555556,
              "#d8576b"
             ],
             [
              0.6666666666666666,
              "#ed7953"
             ],
             [
              0.7777777777777778,
              "#fb9f3a"
             ],
             [
              0.8888888888888888,
              "#fdca26"
             ],
             [
              1,
              "#f0f921"
             ]
            ]
           }
          ],
          "surface": [
           {
            "type": "surface",
            "colorbar": {
             "outlinewidth": 0,
             "ticks": ""
            },
            "colorscale": [
             [
              0,
              "#0d0887"
             ],
             [
              0.1111111111111111,
              "#46039f"
             ],
             [
              0.2222222222222222,
              "#7201a8"
             ],
             [
              0.3333333333333333,
              "#9c179e"
             ],
             [
              0.4444444444444444,
              "#bd3786"
             ],
             [
              0.5555555555555556,
              "#d8576b"
             ],
             [
              0.6666666666666666,
              "#ed7953"
             ],
             [
              0.7777777777777778,
              "#fb9f3a"
             ],
             [
              0.8888888888888888,
              "#fdca26"
             ],
             [
              1,
              "#f0f921"
             ]
            ]
           }
          ],
          "mesh3d": [
           {
            "type": "mesh3d",
            "colorbar": {
             "outlinewidth": 0,
             "ticks": ""
            }
           }
          ],
          "scatter": [
           {
            "fillpattern": {
             "fillmode": "overlay",
             "size": 10,
             "solidity": 0.2
            },
            "type": "scatter"
           }
          ],
          "parcoords": [
           {
            "type": "parcoords",
            "line": {
             "colorbar": {
              "outlinewidth": 0,
              "ticks": ""
             }
            }
           }
          ],
          "scatterpolargl": [
           {
            "type": "scatterpolargl",
            "marker": {
             "colorbar": {
              "outlinewidth": 0,
              "ticks": ""
             }
            }
           }
          ],
          "bar": [
           {
            "error_x": {
             "color": "#2a3f5f"
            },
            "error_y": {
             "color": "#2a3f5f"
            },
            "marker": {
             "line": {
              "color": "#E5ECF6",
              "width": 0.5
             },
             "pattern": {
              "fillmode": "overlay",
              "size": 10,
              "solidity": 0.2
             }
            },
            "type": "bar"
           }
          ],
          "scattergeo": [
           {
            "type": "scattergeo",
            "marker": {
             "colorbar": {
              "outlinewidth": 0,
              "ticks": ""
             }
            }
           }
          ],
          "scatterpolar": [
           {
            "type": "scatterpolar",
            "marker": {
             "colorbar": {
              "outlinewidth": 0,
              "ticks": ""
             }
            }
           }
          ],
          "histogram": [
           {
            "marker": {
             "pattern": {
              "fillmode": "overlay",
              "size": 10,
              "solidity": 0.2
             }
            },
            "type": "histogram"
           }
          ],
          "scattergl": [
           {
            "type": "scattergl",
            "marker": {
             "colorbar": {
              "outlinewidth": 0,
              "ticks": ""
             }
            }
           }
          ],
          "scatter3d": [
           {
            "type": "scatter3d",
            "line": {
             "colorbar": {
              "outlinewidth": 0,
              "ticks": ""
             }
            },
            "marker": {
             "colorbar": {
              "outlinewidth": 0,
              "ticks": ""
             }
            }
           }
          ],
          "scattermapbox": [
           {
            "type": "scattermapbox",
            "marker": {
             "colorbar": {
              "outlinewidth": 0,
              "ticks": ""
             }
            }
           }
          ],
          "scatterternary": [
           {
            "type": "scatterternary",
            "marker": {
             "colorbar": {
              "outlinewidth": 0,
              "ticks": ""
             }
            }
           }
          ],
          "scattercarpet": [
           {
            "type": "scattercarpet",
            "marker": {
             "colorbar": {
              "outlinewidth": 0,
              "ticks": ""
             }
            }
           }
          ],
          "carpet": [
           {
            "aaxis": {
             "endlinecolor": "#2a3f5f",
             "gridcolor": "white",
             "linecolor": "white",
             "minorgridcolor": "white",
             "startlinecolor": "#2a3f5f"
            },
            "baxis": {
             "endlinecolor": "#2a3f5f",
             "gridcolor": "white",
             "linecolor": "white",
             "minorgridcolor": "white",
             "startlinecolor": "#2a3f5f"
            },
            "type": "carpet"
           }
          ],
          "table": [
           {
            "cells": {
             "fill": {
              "color": "#EBF0F8"
             },
             "line": {
              "color": "white"
             }
            },
            "header": {
             "fill": {
              "color": "#C8D4E3"
             },
             "line": {
              "color": "white"
             }
            },
            "type": "table"
           }
          ],
          "barpolar": [
           {
            "marker": {
             "line": {
              "color": "#E5ECF6",
              "width": 0.5
             },
             "pattern": {
              "fillmode": "overlay",
              "size": 10,
              "solidity": 0.2
             }
            },
            "type": "barpolar"
           }
          ],
          "pie": [
           {
            "automargin": true,
            "type": "pie"
           }
          ]
         },
         "layout": {
          "autotypenumbers": "strict",
          "colorway": [
           "#636efa",
           "#EF553B",
           "#00cc96",
           "#ab63fa",
           "#FFA15A",
           "#19d3f3",
           "#FF6692",
           "#B6E880",
           "#FF97FF",
           "#FECB52"
          ],
          "font": {
           "color": "#2a3f5f"
          },
          "hovermode": "closest",
          "hoverlabel": {
           "align": "left"
          },
          "paper_bgcolor": "white",
          "plot_bgcolor": "#E5ECF6",
          "polar": {
           "bgcolor": "#E5ECF6",
           "angularaxis": {
            "gridcolor": "white",
            "linecolor": "white",
            "ticks": ""
           },
           "radialaxis": {
            "gridcolor": "white",
            "linecolor": "white",
            "ticks": ""
           }
          },
          "ternary": {
           "bgcolor": "#E5ECF6",
           "aaxis": {
            "gridcolor": "white",
            "linecolor": "white",
            "ticks": ""
           },
           "baxis": {
            "gridcolor": "white",
            "linecolor": "white",
            "ticks": ""
           },
           "caxis": {
            "gridcolor": "white",
            "linecolor": "white",
            "ticks": ""
           }
          },
          "coloraxis": {
           "colorbar": {
            "outlinewidth": 0,
            "ticks": ""
           }
          },
          "colorscale": {
           "sequential": [
            [
             0,
             "#0d0887"
            ],
            [
             0.1111111111111111,
             "#46039f"
            ],
            [
             0.2222222222222222,
             "#7201a8"
            ],
            [
             0.3333333333333333,
             "#9c179e"
            ],
            [
             0.4444444444444444,
             "#bd3786"
            ],
            [
             0.5555555555555556,
             "#d8576b"
            ],
            [
             0.6666666666666666,
             "#ed7953"
            ],
            [
             0.7777777777777778,
             "#fb9f3a"
            ],
            [
             0.8888888888888888,
             "#fdca26"
            ],
            [
             1,
             "#f0f921"
            ]
           ],
           "sequentialminus": [
            [
             0,
             "#0d0887"
            ],
            [
             0.1111111111111111,
             "#46039f"
            ],
            [
             0.2222222222222222,
             "#7201a8"
            ],
            [
             0.3333333333333333,
             "#9c179e"
            ],
            [
             0.4444444444444444,
             "#bd3786"
            ],
            [
             0.5555555555555556,
             "#d8576b"
            ],
            [
             0.6666666666666666,
             "#ed7953"
            ],
            [
             0.7777777777777778,
             "#fb9f3a"
            ],
            [
             0.8888888888888888,
             "#fdca26"
            ],
            [
             1,
             "#f0f921"
            ]
           ],
           "diverging": [
            [
             0,
             "#8e0152"
            ],
            [
             0.1,
             "#c51b7d"
            ],
            [
             0.2,
             "#de77ae"
            ],
            [
             0.3,
             "#f1b6da"
            ],
            [
             0.4,
             "#fde0ef"
            ],
            [
             0.5,
             "#f7f7f7"
            ],
            [
             0.6,
             "#e6f5d0"
            ],
            [
             0.7,
             "#b8e186"
            ],
            [
             0.8,
             "#7fbc41"
            ],
            [
             0.9,
             "#4d9221"
            ],
            [
             1,
             "#276419"
            ]
           ]
          },
          "xaxis": {
           "gridcolor": "white",
           "linecolor": "white",
           "ticks": "",
           "title": {
            "standoff": 15
           },
           "zerolinecolor": "white",
           "automargin": true,
           "zerolinewidth": 2
          },
          "yaxis": {
           "gridcolor": "white",
           "linecolor": "white",
           "ticks": "",
           "title": {
            "standoff": 15
           },
           "zerolinecolor": "white",
           "automargin": true,
           "zerolinewidth": 2
          },
          "scene": {
           "xaxis": {
            "backgroundcolor": "#E5ECF6",
            "gridcolor": "white",
            "linecolor": "white",
            "showbackground": true,
            "ticks": "",
            "zerolinecolor": "white",
            "gridwidth": 2
           },
           "yaxis": {
            "backgroundcolor": "#E5ECF6",
            "gridcolor": "white",
            "linecolor": "white",
            "showbackground": true,
            "ticks": "",
            "zerolinecolor": "white",
            "gridwidth": 2
           },
           "zaxis": {
            "backgroundcolor": "#E5ECF6",
            "gridcolor": "white",
            "linecolor": "white",
            "showbackground": true,
            "ticks": "",
            "zerolinecolor": "white",
            "gridwidth": 2
           }
          },
          "shapedefaults": {
           "line": {
            "color": "#2a3f5f"
           }
          },
          "annotationdefaults": {
           "arrowcolor": "#2a3f5f",
           "arrowhead": 0,
           "arrowwidth": 1
          },
          "geo": {
           "bgcolor": "white",
           "landcolor": "#E5ECF6",
           "subunitcolor": "white",
           "showland": true,
           "showlakes": true,
           "lakecolor": "white"
          },
          "title": {
           "x": 0.05
          },
          "mapbox": {
           "style": "light"
          }
         }
        },
        "title": {
         "text": "Couverture en % des sujet d actualité TV de 6h à 00h"
        }
       },
       "config": {
        "plotlyServerURL": "https://plot.ly"
       }
      }
     },
     "metadata": {}
    }
   ],
   "metadata": {}
  },
  {
   "cell_type": "markdown",
   "source": [
    "## Quelle media parle de quoi?"
   ],
   "metadata": {}
  },
  {
   "cell_type": "code",
   "execution_count": null,
   "source": [],
   "outputs": [],
   "metadata": {}
  },
  {
   "cell_type": "code",
   "execution_count": null,
   "source": [],
   "outputs": [],
   "metadata": {}
  },
  {
   "cell_type": "code",
   "execution_count": 19,
   "source": [
    "minutes_per_sample = 2\n",
    "minutes_covered_radio_per_day = (10 - 6) * 60\n",
    "nb_days = (data_cop27.date.max() - data_cop27.date.min()).days\n",
    "\n",
    "def get_ration(df, minutes_per_sample = 2, minutes_covered_radio_per_day = (10 - 6) * 60):\n",
    "    nb_days = (df.date.max() - df.date.min()).days\n",
    "    ratio = round(df[(df.radio)&df.is_top_audiance& data.is_heure_grande_ecoute].groupby('channel_name').count()['count'] *minutes_per_sample / (minutes_covered_radio_per_day * nb_days) * 100, 1)\n",
    "    ratio.name = 'percentage'\n",
    "    return ratio\n",
    "cop27_ratio = get_ration(data[data.keyword == 'cop27'])\n",
    "gregoirefournas_ratio = get_ration(data[data.keyword == 'gregoirefournas'])\n",
    "elonmusk = get_ration(data[data.keyword == 'elonmusk'])\n",
    "routeduRhum_ratio = get_ration(data[data.keyword == 'routeduRhum'])"
   ],
   "outputs": [
    {
     "output_type": "error",
     "ename": "AttributeError",
     "evalue": "'DataFrame' object has no attribute 'is_heure_grande_ecoute'",
     "traceback": [
      "\u001b[0;31m---------------------------------------------------------------------------\u001b[0m",
      "\u001b[0;31mAttributeError\u001b[0m                            Traceback (most recent call last)",
      "Cell \u001b[0;32mIn [19], line 10\u001b[0m\n\u001b[1;32m      8\u001b[0m     ratio\u001b[38;5;241m.\u001b[39mname \u001b[38;5;241m=\u001b[39m \u001b[38;5;124m'\u001b[39m\u001b[38;5;124mpercentage\u001b[39m\u001b[38;5;124m'\u001b[39m\n\u001b[1;32m      9\u001b[0m     \u001b[38;5;28;01mreturn\u001b[39;00m ratio\n\u001b[0;32m---> 10\u001b[0m cop27_ratio \u001b[38;5;241m=\u001b[39m \u001b[43mget_ration\u001b[49m\u001b[43m(\u001b[49m\u001b[43mdata\u001b[49m\u001b[43m[\u001b[49m\u001b[43mdata\u001b[49m\u001b[38;5;241;43m.\u001b[39;49m\u001b[43mkeyword\u001b[49m\u001b[43m \u001b[49m\u001b[38;5;241;43m==\u001b[39;49m\u001b[43m \u001b[49m\u001b[38;5;124;43m'\u001b[39;49m\u001b[38;5;124;43mcop27\u001b[39;49m\u001b[38;5;124;43m'\u001b[39;49m\u001b[43m]\u001b[49m\u001b[43m)\u001b[49m\n\u001b[1;32m     11\u001b[0m gregoirefournas_ratio \u001b[38;5;241m=\u001b[39m get_ration(data[data\u001b[38;5;241m.\u001b[39mkeyword \u001b[38;5;241m==\u001b[39m \u001b[38;5;124m'\u001b[39m\u001b[38;5;124mgregoirefournas\u001b[39m\u001b[38;5;124m'\u001b[39m])\n\u001b[1;32m     12\u001b[0m elonmusk \u001b[38;5;241m=\u001b[39m get_ration(data[data\u001b[38;5;241m.\u001b[39mkeyword \u001b[38;5;241m==\u001b[39m \u001b[38;5;124m'\u001b[39m\u001b[38;5;124melonmusk\u001b[39m\u001b[38;5;124m'\u001b[39m])\n",
      "Cell \u001b[0;32mIn [19], line 7\u001b[0m, in \u001b[0;36mget_ration\u001b[0;34m(df, minutes_per_sample, minutes_covered_radio_per_day)\u001b[0m\n\u001b[1;32m      5\u001b[0m \u001b[38;5;28;01mdef\u001b[39;00m \u001b[38;5;21mget_ration\u001b[39m(df, minutes_per_sample \u001b[38;5;241m=\u001b[39m \u001b[38;5;241m2\u001b[39m, minutes_covered_radio_per_day \u001b[38;5;241m=\u001b[39m (\u001b[38;5;241m10\u001b[39m \u001b[38;5;241m-\u001b[39m \u001b[38;5;241m6\u001b[39m) \u001b[38;5;241m*\u001b[39m \u001b[38;5;241m60\u001b[39m):\n\u001b[1;32m      6\u001b[0m     nb_days \u001b[38;5;241m=\u001b[39m (df\u001b[38;5;241m.\u001b[39mdate\u001b[38;5;241m.\u001b[39mmax() \u001b[38;5;241m-\u001b[39m df\u001b[38;5;241m.\u001b[39mdate\u001b[38;5;241m.\u001b[39mmin())\u001b[38;5;241m.\u001b[39mdays\n\u001b[0;32m----> 7\u001b[0m     ratio \u001b[38;5;241m=\u001b[39m \u001b[38;5;28mround\u001b[39m(df[(df\u001b[38;5;241m.\u001b[39mradio)\u001b[38;5;241m&\u001b[39mdf\u001b[38;5;241m.\u001b[39mis_top_audiance\u001b[38;5;241m&\u001b[39m \u001b[43mdata\u001b[49m\u001b[38;5;241;43m.\u001b[39;49m\u001b[43mis_heure_grande_ecoute\u001b[49m]\u001b[38;5;241m.\u001b[39mgroupby(\u001b[38;5;124m'\u001b[39m\u001b[38;5;124mchannel_name\u001b[39m\u001b[38;5;124m'\u001b[39m)\u001b[38;5;241m.\u001b[39mcount()[\u001b[38;5;124m'\u001b[39m\u001b[38;5;124mcount\u001b[39m\u001b[38;5;124m'\u001b[39m] \u001b[38;5;241m*\u001b[39mminutes_per_sample \u001b[38;5;241m/\u001b[39m (minutes_covered_radio_per_day \u001b[38;5;241m*\u001b[39m nb_days) \u001b[38;5;241m*\u001b[39m \u001b[38;5;241m100\u001b[39m, \u001b[38;5;241m1\u001b[39m)\n\u001b[1;32m      8\u001b[0m     ratio\u001b[38;5;241m.\u001b[39mname \u001b[38;5;241m=\u001b[39m \u001b[38;5;124m'\u001b[39m\u001b[38;5;124mpercentage\u001b[39m\u001b[38;5;124m'\u001b[39m\n\u001b[1;32m      9\u001b[0m     \u001b[38;5;28;01mreturn\u001b[39;00m ratio\n",
      "File \u001b[0;32m~/.pyenv/versions/3.10.2/envs/quotaclimat/lib/python3.10/site-packages/pandas/core/generic.py:5907\u001b[0m, in \u001b[0;36mNDFrame.__getattr__\u001b[0;34m(self, name)\u001b[0m\n\u001b[1;32m   5900\u001b[0m \u001b[38;5;28;01mif\u001b[39;00m (\n\u001b[1;32m   5901\u001b[0m     name \u001b[38;5;129;01mnot\u001b[39;00m \u001b[38;5;129;01min\u001b[39;00m \u001b[38;5;28mself\u001b[39m\u001b[38;5;241m.\u001b[39m_internal_names_set\n\u001b[1;32m   5902\u001b[0m     \u001b[38;5;129;01mand\u001b[39;00m name \u001b[38;5;129;01mnot\u001b[39;00m \u001b[38;5;129;01min\u001b[39;00m \u001b[38;5;28mself\u001b[39m\u001b[38;5;241m.\u001b[39m_metadata\n\u001b[1;32m   5903\u001b[0m     \u001b[38;5;129;01mand\u001b[39;00m name \u001b[38;5;129;01mnot\u001b[39;00m \u001b[38;5;129;01min\u001b[39;00m \u001b[38;5;28mself\u001b[39m\u001b[38;5;241m.\u001b[39m_accessors\n\u001b[1;32m   5904\u001b[0m     \u001b[38;5;129;01mand\u001b[39;00m \u001b[38;5;28mself\u001b[39m\u001b[38;5;241m.\u001b[39m_info_axis\u001b[38;5;241m.\u001b[39m_can_hold_identifiers_and_holds_name(name)\n\u001b[1;32m   5905\u001b[0m ):\n\u001b[1;32m   5906\u001b[0m     \u001b[38;5;28;01mreturn\u001b[39;00m \u001b[38;5;28mself\u001b[39m[name]\n\u001b[0;32m-> 5907\u001b[0m \u001b[38;5;28;01mreturn\u001b[39;00m \u001b[38;5;28;43mobject\u001b[39;49m\u001b[38;5;241;43m.\u001b[39;49m\u001b[38;5;21;43m__getattribute__\u001b[39;49m\u001b[43m(\u001b[49m\u001b[38;5;28;43mself\u001b[39;49m\u001b[43m,\u001b[49m\u001b[43m \u001b[49m\u001b[43mname\u001b[49m\u001b[43m)\u001b[49m\n",
      "\u001b[0;31mAttributeError\u001b[0m: 'DataFrame' object has no attribute 'is_heure_grande_ecoute'"
     ]
    }
   ],
   "metadata": {}
  },
  {
   "cell_type": "code",
   "execution_count": null,
   "source": [],
   "outputs": [],
   "metadata": {}
  },
  {
   "cell_type": "code",
   "execution_count": null,
   "source": [],
   "outputs": [],
   "metadata": {}
  },
  {
   "cell_type": "code",
   "execution_count": null,
   "source": [],
   "outputs": [],
   "metadata": {}
  },
  {
   "cell_type": "code",
   "execution_count": 114,
   "source": [
    "minutes_per_sample = 2\n",
    "minutes_covered_radio_per_day = (10 - 6) * 60\n",
    "nb_days = (data_cop27.date.max() - data_cop27.date.min()).days\n",
    "\n",
    "def get_ration(df, minutes_per_sample = 2, minutes_covered_radio_per_day = (10 - 6) * 60):\n",
    "    nb_days = (df.date.max() - df.date.min()).days\n",
    "    ratio = round(df[(df.radio)&df.is_top_audiance& data.is_heure_grande_ecoute].groupby('channel_name').count()['count'] *minutes_per_sample / (minutes_covered_radio_per_day * nb_days) * 100, 1)\n",
    "    ratio.name = 'percentage'\n",
    "    return ratio\n",
    "cop27_ratio = get_ration(data[data.keyword == 'cop27'])\n",
    "gregoirefournas_ratio = get_ration(data[data.keyword == 'gregoirefournas'])\n",
    "elonmusk = get_ration(data[data.keyword == 'elonmusk'])\n",
    "routeduRhum_ratio = get_ration(data[data.keyword == 'routeduRhum'])"
   ],
   "outputs": [
    {
     "output_type": "stream",
     "name": "stderr",
     "text": [
      "/var/folders/v6/vd9wd_yd6sq8q9yr7gjwfrfc0000gn/T/ipykernel_51379/2171505532.py:7: UserWarning:\n",
      "\n",
      "Boolean Series key will be reindexed to match DataFrame index.\n",
      "\n",
      "/var/folders/v6/vd9wd_yd6sq8q9yr7gjwfrfc0000gn/T/ipykernel_51379/2171505532.py:7: UserWarning:\n",
      "\n",
      "Boolean Series key will be reindexed to match DataFrame index.\n",
      "\n",
      "/var/folders/v6/vd9wd_yd6sq8q9yr7gjwfrfc0000gn/T/ipykernel_51379/2171505532.py:7: UserWarning:\n",
      "\n",
      "Boolean Series key will be reindexed to match DataFrame index.\n",
      "\n",
      "/var/folders/v6/vd9wd_yd6sq8q9yr7gjwfrfc0000gn/T/ipykernel_51379/2171505532.py:7: UserWarning:\n",
      "\n",
      "Boolean Series key will be reindexed to match DataFrame index.\n",
      "\n"
     ]
    }
   ],
   "metadata": {}
  },
  {
   "cell_type": "code",
   "execution_count": 125,
   "source": [
    "fig = go.Figure()\n",
    "fig.add_trace(go.Bar(\n",
    "    y = cop27_ratio,\n",
    "    x = cop27_ratio.index,\n",
    "    text=cop27_ratio,\n",
    "    textposition='auto',\n",
    "    name='cop27'\n",
    "))\n",
    "fig.add_trace(go.Bar(\n",
    "    y = gregoirefournas_ratio,\n",
    "    x = gregoirefournas_ratio.index,\n",
    "    name='Gregoire Fournas',\n",
    "    textposition='auto',\n",
    "    text=gregoirefournas_ratio,\n",
    "))\n",
    "fig.add_trace(go.Bar(\n",
    "    y = elonmusk,\n",
    "    x = elonmusk.index,\n",
    "    textposition='auto',\n",
    "    text=elonmusk,\n",
    "    name='Elon Musk'\n",
    "))\n",
    "fig.add_trace(go.Bar(\n",
    "    y = routeduRhum_ratio,\n",
    "    x = routeduRhum_ratio.index,\n",
    "    textposition='auto',\n",
    "    text=routeduRhum_ratio,\n",
    "    name='route du Rhum'\n",
    "))\n",
    "fig.update_layout(title='% couverture radio entre 6h et 10h semaine du 31 Octobre')\n",
    "fig.update_yaxes(title='% de couverture')\n",
    "fig.show()"
   ],
   "outputs": [
    {
     "output_type": "display_data",
     "data": {
      "application/vnd.plotly.v1+json": {
       "data": [
        {
         "name": "cop27",
         "text": [
          0.6,
          1.2,
          4.7,
          2.9,
          0.1,
          0.3,
          0.1,
          0.8,
          3.6,
          2.5,
          1.4,
          0.6,
          0.3
         ],
         "textposition": "auto",
         "x": [
          "BFM Business Radio",
          "France Culture",
          "France Info",
          "France Inter",
          "France Musique",
          "Le Mouv",
          "Nostalgie",
          "Nova",
          "RFI",
          "RTL",
          "Radio Classique",
          "Radio FG",
          "TSF Jazz"
         ],
         "y": [
          0.6,
          1.2,
          4.7,
          2.9,
          0.1,
          0.3,
          0.1,
          0.8,
          3.6,
          2.5,
          1.4,
          0.6,
          0.3
         ],
         "type": "bar"
        },
        {
         "name": "Gregoire Fournas",
         "text": [
          0.8,
          1.7,
          9.8,
          2.7,
          0.2,
          1.2,
          0.7,
          1.8,
          0.8,
          2.8,
          5.8,
          2.7,
          0.5,
          1.2,
          1,
          1,
          0.8
         ],
         "textposition": "auto",
         "x": [
          "Chérie FM",
          "France Culture",
          "France Info",
          "France Inter",
          "France Musique",
          "Fun Radio",
          "Le Mouv",
          "Nostalgie",
          "Nova",
          "RFI",
          "RMC",
          "RTL",
          "RTL2",
          "Radio Classique",
          "Radio FG",
          "Skyrock",
          "TSF Jazz"
         ],
         "y": [
          0.8,
          1.7,
          9.8,
          2.7,
          0.2,
          1.2,
          0.7,
          1.8,
          0.8,
          2.8,
          5.8,
          2.7,
          0.5,
          1.2,
          1,
          1,
          0.8
         ],
         "type": "bar"
        },
        {
         "name": "Elon Musk",
         "text": [
          4.3,
          0.6,
          0.3,
          0.8,
          2.9,
          1.1,
          0.6,
          1,
          1,
          1.4,
          0.4,
          0.7,
          0.3,
          0.6,
          0.1,
          0.1,
          0.4,
          0.6
         ],
         "textposition": "auto",
         "x": [
          "BFM Business Radio",
          "Chérie FM",
          "France Culture",
          "France Info",
          "France Inter",
          "Fun Radio",
          "Le Mouv",
          "NRJ",
          "Nova",
          "RFI",
          "RMC",
          "RTL",
          "RTL2",
          "Radio Classique",
          "Radio FG",
          "Rire et Chansons",
          "Skyrock",
          "TSF Jazz"
         ],
         "y": [
          4.3,
          0.6,
          0.3,
          0.8,
          2.9,
          1.1,
          0.6,
          1,
          1,
          1.4,
          0.4,
          0.7,
          0.3,
          0.6,
          0.1,
          0.1,
          0.4,
          0.6
         ],
         "type": "bar"
        },
        {
         "name": "route du Rhum",
         "text": [
          1.1,
          0.6,
          10.6,
          3.1,
          0.8,
          1.4,
          0.3,
          3.6,
          3.9,
          5.6
         ],
         "textposition": "auto",
         "x": [
          "BFM Business Radio",
          "France Culture",
          "France Info",
          "France Inter",
          "NRJ",
          "Nostalgie",
          "RFI",
          "RMC",
          "RTL",
          "Radio Classique"
         ],
         "y": [
          1.1,
          0.6,
          10.6,
          3.1,
          0.8,
          1.4,
          0.3,
          3.6,
          3.9,
          5.6
         ],
         "type": "bar"
        }
       ],
       "layout": {
        "template": {
         "data": {
          "histogram2dcontour": [
           {
            "type": "histogram2dcontour",
            "colorbar": {
             "outlinewidth": 0,
             "ticks": ""
            },
            "colorscale": [
             [
              0,
              "#0d0887"
             ],
             [
              0.1111111111111111,
              "#46039f"
             ],
             [
              0.2222222222222222,
              "#7201a8"
             ],
             [
              0.3333333333333333,
              "#9c179e"
             ],
             [
              0.4444444444444444,
              "#bd3786"
             ],
             [
              0.5555555555555556,
              "#d8576b"
             ],
             [
              0.6666666666666666,
              "#ed7953"
             ],
             [
              0.7777777777777778,
              "#fb9f3a"
             ],
             [
              0.8888888888888888,
              "#fdca26"
             ],
             [
              1,
              "#f0f921"
             ]
            ]
           }
          ],
          "choropleth": [
           {
            "type": "choropleth",
            "colorbar": {
             "outlinewidth": 0,
             "ticks": ""
            }
           }
          ],
          "histogram2d": [
           {
            "type": "histogram2d",
            "colorbar": {
             "outlinewidth": 0,
             "ticks": ""
            },
            "colorscale": [
             [
              0,
              "#0d0887"
             ],
             [
              0.1111111111111111,
              "#46039f"
             ],
             [
              0.2222222222222222,
              "#7201a8"
             ],
             [
              0.3333333333333333,
              "#9c179e"
             ],
             [
              0.4444444444444444,
              "#bd3786"
             ],
             [
              0.5555555555555556,
              "#d8576b"
             ],
             [
              0.6666666666666666,
              "#ed7953"
             ],
             [
              0.7777777777777778,
              "#fb9f3a"
             ],
             [
              0.8888888888888888,
              "#fdca26"
             ],
             [
              1,
              "#f0f921"
             ]
            ]
           }
          ],
          "heatmap": [
           {
            "type": "heatmap",
            "colorbar": {
             "outlinewidth": 0,
             "ticks": ""
            },
            "colorscale": [
             [
              0,
              "#0d0887"
             ],
             [
              0.1111111111111111,
              "#46039f"
             ],
             [
              0.2222222222222222,
              "#7201a8"
             ],
             [
              0.3333333333333333,
              "#9c179e"
             ],
             [
              0.4444444444444444,
              "#bd3786"
             ],
             [
              0.5555555555555556,
              "#d8576b"
             ],
             [
              0.6666666666666666,
              "#ed7953"
             ],
             [
              0.7777777777777778,
              "#fb9f3a"
             ],
             [
              0.8888888888888888,
              "#fdca26"
             ],
             [
              1,
              "#f0f921"
             ]
            ]
           }
          ],
          "heatmapgl": [
           {
            "type": "heatmapgl",
            "colorbar": {
             "outlinewidth": 0,
             "ticks": ""
            },
            "colorscale": [
             [
              0,
              "#0d0887"
             ],
             [
              0.1111111111111111,
              "#46039f"
             ],
             [
              0.2222222222222222,
              "#7201a8"
             ],
             [
              0.3333333333333333,
              "#9c179e"
             ],
             [
              0.4444444444444444,
              "#bd3786"
             ],
             [
              0.5555555555555556,
              "#d8576b"
             ],
             [
              0.6666666666666666,
              "#ed7953"
             ],
             [
              0.7777777777777778,
              "#fb9f3a"
             ],
             [
              0.8888888888888888,
              "#fdca26"
             ],
             [
              1,
              "#f0f921"
             ]
            ]
           }
          ],
          "contourcarpet": [
           {
            "type": "contourcarpet",
            "colorbar": {
             "outlinewidth": 0,
             "ticks": ""
            }
           }
          ],
          "contour": [
           {
            "type": "contour",
            "colorbar": {
             "outlinewidth": 0,
             "ticks": ""
            },
            "colorscale": [
             [
              0,
              "#0d0887"
             ],
             [
              0.1111111111111111,
              "#46039f"
             ],
             [
              0.2222222222222222,
              "#7201a8"
             ],
             [
              0.3333333333333333,
              "#9c179e"
             ],
             [
              0.4444444444444444,
              "#bd3786"
             ],
             [
              0.5555555555555556,
              "#d8576b"
             ],
             [
              0.6666666666666666,
              "#ed7953"
             ],
             [
              0.7777777777777778,
              "#fb9f3a"
             ],
             [
              0.8888888888888888,
              "#fdca26"
             ],
             [
              1,
              "#f0f921"
             ]
            ]
           }
          ],
          "surface": [
           {
            "type": "surface",
            "colorbar": {
             "outlinewidth": 0,
             "ticks": ""
            },
            "colorscale": [
             [
              0,
              "#0d0887"
             ],
             [
              0.1111111111111111,
              "#46039f"
             ],
             [
              0.2222222222222222,
              "#7201a8"
             ],
             [
              0.3333333333333333,
              "#9c179e"
             ],
             [
              0.4444444444444444,
              "#bd3786"
             ],
             [
              0.5555555555555556,
              "#d8576b"
             ],
             [
              0.6666666666666666,
              "#ed7953"
             ],
             [
              0.7777777777777778,
              "#fb9f3a"
             ],
             [
              0.8888888888888888,
              "#fdca26"
             ],
             [
              1,
              "#f0f921"
             ]
            ]
           }
          ],
          "mesh3d": [
           {
            "type": "mesh3d",
            "colorbar": {
             "outlinewidth": 0,
             "ticks": ""
            }
           }
          ],
          "scatter": [
           {
            "fillpattern": {
             "fillmode": "overlay",
             "size": 10,
             "solidity": 0.2
            },
            "type": "scatter"
           }
          ],
          "parcoords": [
           {
            "type": "parcoords",
            "line": {
             "colorbar": {
              "outlinewidth": 0,
              "ticks": ""
             }
            }
           }
          ],
          "scatterpolargl": [
           {
            "type": "scatterpolargl",
            "marker": {
             "colorbar": {
              "outlinewidth": 0,
              "ticks": ""
             }
            }
           }
          ],
          "bar": [
           {
            "error_x": {
             "color": "#2a3f5f"
            },
            "error_y": {
             "color": "#2a3f5f"
            },
            "marker": {
             "line": {
              "color": "#E5ECF6",
              "width": 0.5
             },
             "pattern": {
              "fillmode": "overlay",
              "size": 10,
              "solidity": 0.2
             }
            },
            "type": "bar"
           }
          ],
          "scattergeo": [
           {
            "type": "scattergeo",
            "marker": {
             "colorbar": {
              "outlinewidth": 0,
              "ticks": ""
             }
            }
           }
          ],
          "scatterpolar": [
           {
            "type": "scatterpolar",
            "marker": {
             "colorbar": {
              "outlinewidth": 0,
              "ticks": ""
             }
            }
           }
          ],
          "histogram": [
           {
            "marker": {
             "pattern": {
              "fillmode": "overlay",
              "size": 10,
              "solidity": 0.2
             }
            },
            "type": "histogram"
           }
          ],
          "scattergl": [
           {
            "type": "scattergl",
            "marker": {
             "colorbar": {
              "outlinewidth": 0,
              "ticks": ""
             }
            }
           }
          ],
          "scatter3d": [
           {
            "type": "scatter3d",
            "line": {
             "colorbar": {
              "outlinewidth": 0,
              "ticks": ""
             }
            },
            "marker": {
             "colorbar": {
              "outlinewidth": 0,
              "ticks": ""
             }
            }
           }
          ],
          "scattermapbox": [
           {
            "type": "scattermapbox",
            "marker": {
             "colorbar": {
              "outlinewidth": 0,
              "ticks": ""
             }
            }
           }
          ],
          "scatterternary": [
           {
            "type": "scatterternary",
            "marker": {
             "colorbar": {
              "outlinewidth": 0,
              "ticks": ""
             }
            }
           }
          ],
          "scattercarpet": [
           {
            "type": "scattercarpet",
            "marker": {
             "colorbar": {
              "outlinewidth": 0,
              "ticks": ""
             }
            }
           }
          ],
          "carpet": [
           {
            "aaxis": {
             "endlinecolor": "#2a3f5f",
             "gridcolor": "white",
             "linecolor": "white",
             "minorgridcolor": "white",
             "startlinecolor": "#2a3f5f"
            },
            "baxis": {
             "endlinecolor": "#2a3f5f",
             "gridcolor": "white",
             "linecolor": "white",
             "minorgridcolor": "white",
             "startlinecolor": "#2a3f5f"
            },
            "type": "carpet"
           }
          ],
          "table": [
           {
            "cells": {
             "fill": {
              "color": "#EBF0F8"
             },
             "line": {
              "color": "white"
             }
            },
            "header": {
             "fill": {
              "color": "#C8D4E3"
             },
             "line": {
              "color": "white"
             }
            },
            "type": "table"
           }
          ],
          "barpolar": [
           {
            "marker": {
             "line": {
              "color": "#E5ECF6",
              "width": 0.5
             },
             "pattern": {
              "fillmode": "overlay",
              "size": 10,
              "solidity": 0.2
             }
            },
            "type": "barpolar"
           }
          ],
          "pie": [
           {
            "automargin": true,
            "type": "pie"
           }
          ]
         },
         "layout": {
          "autotypenumbers": "strict",
          "colorway": [
           "#636efa",
           "#EF553B",
           "#00cc96",
           "#ab63fa",
           "#FFA15A",
           "#19d3f3",
           "#FF6692",
           "#B6E880",
           "#FF97FF",
           "#FECB52"
          ],
          "font": {
           "color": "#2a3f5f"
          },
          "hovermode": "closest",
          "hoverlabel": {
           "align": "left"
          },
          "paper_bgcolor": "white",
          "plot_bgcolor": "#E5ECF6",
          "polar": {
           "bgcolor": "#E5ECF6",
           "angularaxis": {
            "gridcolor": "white",
            "linecolor": "white",
            "ticks": ""
           },
           "radialaxis": {
            "gridcolor": "white",
            "linecolor": "white",
            "ticks": ""
           }
          },
          "ternary": {
           "bgcolor": "#E5ECF6",
           "aaxis": {
            "gridcolor": "white",
            "linecolor": "white",
            "ticks": ""
           },
           "baxis": {
            "gridcolor": "white",
            "linecolor": "white",
            "ticks": ""
           },
           "caxis": {
            "gridcolor": "white",
            "linecolor": "white",
            "ticks": ""
           }
          },
          "coloraxis": {
           "colorbar": {
            "outlinewidth": 0,
            "ticks": ""
           }
          },
          "colorscale": {
           "sequential": [
            [
             0,
             "#0d0887"
            ],
            [
             0.1111111111111111,
             "#46039f"
            ],
            [
             0.2222222222222222,
             "#7201a8"
            ],
            [
             0.3333333333333333,
             "#9c179e"
            ],
            [
             0.4444444444444444,
             "#bd3786"
            ],
            [
             0.5555555555555556,
             "#d8576b"
            ],
            [
             0.6666666666666666,
             "#ed7953"
            ],
            [
             0.7777777777777778,
             "#fb9f3a"
            ],
            [
             0.8888888888888888,
             "#fdca26"
            ],
            [
             1,
             "#f0f921"
            ]
           ],
           "sequentialminus": [
            [
             0,
             "#0d0887"
            ],
            [
             0.1111111111111111,
             "#46039f"
            ],
            [
             0.2222222222222222,
             "#7201a8"
            ],
            [
             0.3333333333333333,
             "#9c179e"
            ],
            [
             0.4444444444444444,
             "#bd3786"
            ],
            [
             0.5555555555555556,
             "#d8576b"
            ],
            [
             0.6666666666666666,
             "#ed7953"
            ],
            [
             0.7777777777777778,
             "#fb9f3a"
            ],
            [
             0.8888888888888888,
             "#fdca26"
            ],
            [
             1,
             "#f0f921"
            ]
           ],
           "diverging": [
            [
             0,
             "#8e0152"
            ],
            [
             0.1,
             "#c51b7d"
            ],
            [
             0.2,
             "#de77ae"
            ],
            [
             0.3,
             "#f1b6da"
            ],
            [
             0.4,
             "#fde0ef"
            ],
            [
             0.5,
             "#f7f7f7"
            ],
            [
             0.6,
             "#e6f5d0"
            ],
            [
             0.7,
             "#b8e186"
            ],
            [
             0.8,
             "#7fbc41"
            ],
            [
             0.9,
             "#4d9221"
            ],
            [
             1,
             "#276419"
            ]
           ]
          },
          "xaxis": {
           "gridcolor": "white",
           "linecolor": "white",
           "ticks": "",
           "title": {
            "standoff": 15
           },
           "zerolinecolor": "white",
           "automargin": true,
           "zerolinewidth": 2
          },
          "yaxis": {
           "gridcolor": "white",
           "linecolor": "white",
           "ticks": "",
           "title": {
            "standoff": 15
           },
           "zerolinecolor": "white",
           "automargin": true,
           "zerolinewidth": 2
          },
          "scene": {
           "xaxis": {
            "backgroundcolor": "#E5ECF6",
            "gridcolor": "white",
            "linecolor": "white",
            "showbackground": true,
            "ticks": "",
            "zerolinecolor": "white",
            "gridwidth": 2
           },
           "yaxis": {
            "backgroundcolor": "#E5ECF6",
            "gridcolor": "white",
            "linecolor": "white",
            "showbackground": true,
            "ticks": "",
            "zerolinecolor": "white",
            "gridwidth": 2
           },
           "zaxis": {
            "backgroundcolor": "#E5ECF6",
            "gridcolor": "white",
            "linecolor": "white",
            "showbackground": true,
            "ticks": "",
            "zerolinecolor": "white",
            "gridwidth": 2
           }
          },
          "shapedefaults": {
           "line": {
            "color": "#2a3f5f"
           }
          },
          "annotationdefaults": {
           "arrowcolor": "#2a3f5f",
           "arrowhead": 0,
           "arrowwidth": 1
          },
          "geo": {
           "bgcolor": "white",
           "landcolor": "#E5ECF6",
           "subunitcolor": "white",
           "showland": true,
           "showlakes": true,
           "lakecolor": "white"
          },
          "title": {
           "x": 0.05
          },
          "mapbox": {
           "style": "light"
          }
         }
        },
        "title": {
         "text": "% couverture radio entre 6h et 10h semaine du 31 Octobre"
        },
        "yaxis": {
         "title": {
          "text": "% de couverture"
         }
        }
       },
       "config": {
        "plotlyServerURL": "https://plot.ly"
       }
      }
     },
     "metadata": {}
    }
   ],
   "metadata": {}
  },
  {
   "cell_type": "code",
   "execution_count": 126,
   "source": [
    "## TV"
   ],
   "outputs": [],
   "metadata": {}
  },
  {
   "cell_type": "code",
   "execution_count": null,
   "source": [
    "minutes_per_sample = 2\n",
    "minutes_covered_radio_per_day = (21 - 19) * 60\n",
    "nb_days = (data_cop27.date.max() - data_cop27.date.min()).days\n",
    "\n",
    "def get_ratio_tv(df, minutes_per_sample = 2, minutes_covered_radio_per_day =minutes_covered_radio_per_day):\n",
    "    nb_days = (df.date.max() - df.date.min()).days\n",
    "    ratio = round(df[(~df.radio)&df.is_top_audiance& data.is_heure_grande_ecoute].groupby('channel_name').count()['count'] *minutes_per_sample / (minutes_covered_radio_per_day * nb_days) * 100, 1)\n",
    "    ratio.name = 'percentage'\n",
    "    return ratio\n",
    "cop27_ratio = get_ratio_tv(data[data.keyword == 'cop27'])\n",
    "gregoirefournas_ratio = get_ratio_tv(data[data.keyword == 'gregoirefournas'])\n",
    "elonmusk = get_ratio_tv(data[data.keyword == 'elonmusk'])\n",
    "routeduRhum_ratio = get_ratio_tv(data[data.keyword == 'routeduRhum'])"
   ],
   "outputs": [],
   "metadata": {}
  },
  {
   "cell_type": "code",
   "execution_count": 81,
   "source": [
    "show_mentions_by_channel(data_cop27[(data_cop27.radio)&data_cop27.is_top_audiance& data.is_heure_grande_ecoute], n=3, method=\"count\", title='Nombre de mention par radio top 3 semaine pre COP27 ')\n",
    "\n"
   ],
   "outputs": [
    {
     "output_type": "stream",
     "name": "stderr",
     "text": [
      "/var/folders/v6/vd9wd_yd6sq8q9yr7gjwfrfc0000gn/T/ipykernel_51379/2808829541.py:1: UserWarning:\n",
      "\n",
      "Boolean Series key will be reindexed to match DataFrame index.\n",
      "\n"
     ]
    },
    {
     "output_type": "display_data",
     "data": {
      "application/vnd.plotly.v1+json": {
       "data": [
        {
         "alignmentgroup": "True",
         "hovertemplate": "media=Radio<br>channel_name=%{x}<br>count=%{y}<extra></extra>",
         "legendgroup": "Radio",
         "marker": {
          "color": "rgb(95, 70, 144)",
          "pattern": {
           "shape": ""
          }
         },
         "name": "Radio",
         "offsetgroup": "Radio",
         "orientation": "v",
         "showlegend": true,
         "textposition": "auto",
         "x": [
          "France Info",
          "RFI",
          "France Inter"
         ],
         "xaxis": "x",
         "y": [
          34,
          26,
          21
         ],
         "yaxis": "y",
         "type": "bar"
        }
       ],
       "layout": {
        "template": {
         "data": {
          "barpolar": [
           {
            "marker": {
             "line": {
              "color": "white",
              "width": 0.5
             },
             "pattern": {
              "fillmode": "overlay",
              "size": 10,
              "solidity": 0.2
             }
            },
            "type": "barpolar"
           }
          ],
          "bar": [
           {
            "error_x": {
             "color": "#2a3f5f"
            },
            "error_y": {
             "color": "#2a3f5f"
            },
            "marker": {
             "line": {
              "color": "white",
              "width": 0.5
             },
             "pattern": {
              "fillmode": "overlay",
              "size": 10,
              "solidity": 0.2
             }
            },
            "type": "bar"
           }
          ],
          "carpet": [
           {
            "aaxis": {
             "endlinecolor": "#2a3f5f",
             "gridcolor": "#C8D4E3",
             "linecolor": "#C8D4E3",
             "minorgridcolor": "#C8D4E3",
             "startlinecolor": "#2a3f5f"
            },
            "baxis": {
             "endlinecolor": "#2a3f5f",
             "gridcolor": "#C8D4E3",
             "linecolor": "#C8D4E3",
             "minorgridcolor": "#C8D4E3",
             "startlinecolor": "#2a3f5f"
            },
            "type": "carpet"
           }
          ],
          "choropleth": [
           {
            "colorbar": {
             "outlinewidth": 0,
             "ticks": ""
            },
            "type": "choropleth"
           }
          ],
          "contourcarpet": [
           {
            "colorbar": {
             "outlinewidth": 0,
             "ticks": ""
            },
            "type": "contourcarpet"
           }
          ],
          "contour": [
           {
            "colorbar": {
             "outlinewidth": 0,
             "ticks": ""
            },
            "colorscale": [
             [
              0,
              "#0d0887"
             ],
             [
              0.1111111111111111,
              "#46039f"
             ],
             [
              0.2222222222222222,
              "#7201a8"
             ],
             [
              0.3333333333333333,
              "#9c179e"
             ],
             [
              0.4444444444444444,
              "#bd3786"
             ],
             [
              0.5555555555555556,
              "#d8576b"
             ],
             [
              0.6666666666666666,
              "#ed7953"
             ],
             [
              0.7777777777777778,
              "#fb9f3a"
             ],
             [
              0.8888888888888888,
              "#fdca26"
             ],
             [
              1,
              "#f0f921"
             ]
            ],
            "type": "contour"
           }
          ],
          "heatmapgl": [
           {
            "colorbar": {
             "outlinewidth": 0,
             "ticks": ""
            },
            "colorscale": [
             [
              0,
              "#0d0887"
             ],
             [
              0.1111111111111111,
              "#46039f"
             ],
             [
              0.2222222222222222,
              "#7201a8"
             ],
             [
              0.3333333333333333,
              "#9c179e"
             ],
             [
              0.4444444444444444,
              "#bd3786"
             ],
             [
              0.5555555555555556,
              "#d8576b"
             ],
             [
              0.6666666666666666,
              "#ed7953"
             ],
             [
              0.7777777777777778,
              "#fb9f3a"
             ],
             [
              0.8888888888888888,
              "#fdca26"
             ],
             [
              1,
              "#f0f921"
             ]
            ],
            "type": "heatmapgl"
           }
          ],
          "heatmap": [
           {
            "colorbar": {
             "outlinewidth": 0,
             "ticks": ""
            },
            "colorscale": [
             [
              0,
              "#0d0887"
             ],
             [
              0.1111111111111111,
              "#46039f"
             ],
             [
              0.2222222222222222,
              "#7201a8"
             ],
             [
              0.3333333333333333,
              "#9c179e"
             ],
             [
              0.4444444444444444,
              "#bd3786"
             ],
             [
              0.5555555555555556,
              "#d8576b"
             ],
             [
              0.6666666666666666,
              "#ed7953"
             ],
             [
              0.7777777777777778,
              "#fb9f3a"
             ],
             [
              0.8888888888888888,
              "#fdca26"
             ],
             [
              1,
              "#f0f921"
             ]
            ],
            "type": "heatmap"
           }
          ],
          "histogram2dcontour": [
           {
            "colorbar": {
             "outlinewidth": 0,
             "ticks": ""
            },
            "colorscale": [
             [
              0,
              "#0d0887"
             ],
             [
              0.1111111111111111,
              "#46039f"
             ],
             [
              0.2222222222222222,
              "#7201a8"
             ],
             [
              0.3333333333333333,
              "#9c179e"
             ],
             [
              0.4444444444444444,
              "#bd3786"
             ],
             [
              0.5555555555555556,
              "#d8576b"
             ],
             [
              0.6666666666666666,
              "#ed7953"
             ],
             [
              0.7777777777777778,
              "#fb9f3a"
             ],
             [
              0.8888888888888888,
              "#fdca26"
             ],
             [
              1,
              "#f0f921"
             ]
            ],
            "type": "histogram2dcontour"
           }
          ],
          "histogram2d": [
           {
            "colorbar": {
             "outlinewidth": 0,
             "ticks": ""
            },
            "colorscale": [
             [
              0,
              "#0d0887"
             ],
             [
              0.1111111111111111,
              "#46039f"
             ],
             [
              0.2222222222222222,
              "#7201a8"
             ],
             [
              0.3333333333333333,
              "#9c179e"
             ],
             [
              0.4444444444444444,
              "#bd3786"
             ],
             [
              0.5555555555555556,
              "#d8576b"
             ],
             [
              0.6666666666666666,
              "#ed7953"
             ],
             [
              0.7777777777777778,
              "#fb9f3a"
             ],
             [
              0.8888888888888888,
              "#fdca26"
             ],
             [
              1,
              "#f0f921"
             ]
            ],
            "type": "histogram2d"
           }
          ],
          "histogram": [
           {
            "marker": {
             "pattern": {
              "fillmode": "overlay",
              "size": 10,
              "solidity": 0.2
             }
            },
            "type": "histogram"
           }
          ],
          "mesh3d": [
           {
            "colorbar": {
             "outlinewidth": 0,
             "ticks": ""
            },
            "type": "mesh3d"
           }
          ],
          "parcoords": [
           {
            "line": {
             "colorbar": {
              "outlinewidth": 0,
              "ticks": ""
             }
            },
            "type": "parcoords"
           }
          ],
          "pie": [
           {
            "automargin": true,
            "type": "pie"
           }
          ],
          "scatter3d": [
           {
            "line": {
             "colorbar": {
              "outlinewidth": 0,
              "ticks": ""
             }
            },
            "marker": {
             "colorbar": {
              "outlinewidth": 0,
              "ticks": ""
             }
            },
            "type": "scatter3d"
           }
          ],
          "scattercarpet": [
           {
            "marker": {
             "colorbar": {
              "outlinewidth": 0,
              "ticks": ""
             }
            },
            "type": "scattercarpet"
           }
          ],
          "scattergeo": [
           {
            "marker": {
             "colorbar": {
              "outlinewidth": 0,
              "ticks": ""
             }
            },
            "type": "scattergeo"
           }
          ],
          "scattergl": [
           {
            "marker": {
             "colorbar": {
              "outlinewidth": 0,
              "ticks": ""
             }
            },
            "type": "scattergl"
           }
          ],
          "scattermapbox": [
           {
            "marker": {
             "colorbar": {
              "outlinewidth": 0,
              "ticks": ""
             }
            },
            "type": "scattermapbox"
           }
          ],
          "scatterpolargl": [
           {
            "marker": {
             "colorbar": {
              "outlinewidth": 0,
              "ticks": ""
             }
            },
            "type": "scatterpolargl"
           }
          ],
          "scatterpolar": [
           {
            "marker": {
             "colorbar": {
              "outlinewidth": 0,
              "ticks": ""
             }
            },
            "type": "scatterpolar"
           }
          ],
          "scatter": [
           {
            "fillpattern": {
             "fillmode": "overlay",
             "size": 10,
             "solidity": 0.2
            },
            "type": "scatter"
           }
          ],
          "scatterternary": [
           {
            "marker": {
             "colorbar": {
              "outlinewidth": 0,
              "ticks": ""
             }
            },
            "type": "scatterternary"
           }
          ],
          "surface": [
           {
            "colorbar": {
             "outlinewidth": 0,
             "ticks": ""
            },
            "colorscale": [
             [
              0,
              "#0d0887"
             ],
             [
              0.1111111111111111,
              "#46039f"
             ],
             [
              0.2222222222222222,
              "#7201a8"
             ],
             [
              0.3333333333333333,
              "#9c179e"
             ],
             [
              0.4444444444444444,
              "#bd3786"
             ],
             [
              0.5555555555555556,
              "#d8576b"
             ],
             [
              0.6666666666666666,
              "#ed7953"
             ],
             [
              0.7777777777777778,
              "#fb9f3a"
             ],
             [
              0.8888888888888888,
              "#fdca26"
             ],
             [
              1,
              "#f0f921"
             ]
            ],
            "type": "surface"
           }
          ],
          "table": [
           {
            "cells": {
             "fill": {
              "color": "#EBF0F8"
             },
             "line": {
              "color": "white"
             }
            },
            "header": {
             "fill": {
              "color": "#C8D4E3"
             },
             "line": {
              "color": "white"
             }
            },
            "type": "table"
           }
          ]
         },
         "layout": {
          "annotationdefaults": {
           "arrowcolor": "#2a3f5f",
           "arrowhead": 0,
           "arrowwidth": 1
          },
          "autotypenumbers": "strict",
          "coloraxis": {
           "colorbar": {
            "outlinewidth": 0,
            "ticks": ""
           }
          },
          "colorscale": {
           "diverging": [
            [
             0,
             "#8e0152"
            ],
            [
             0.1,
             "#c51b7d"
            ],
            [
             0.2,
             "#de77ae"
            ],
            [
             0.3,
             "#f1b6da"
            ],
            [
             0.4,
             "#fde0ef"
            ],
            [
             0.5,
             "#f7f7f7"
            ],
            [
             0.6,
             "#e6f5d0"
            ],
            [
             0.7,
             "#b8e186"
            ],
            [
             0.8,
             "#7fbc41"
            ],
            [
             0.9,
             "#4d9221"
            ],
            [
             1,
             "#276419"
            ]
           ],
           "sequential": [
            [
             0,
             "#0d0887"
            ],
            [
             0.1111111111111111,
             "#46039f"
            ],
            [
             0.2222222222222222,
             "#7201a8"
            ],
            [
             0.3333333333333333,
             "#9c179e"
            ],
            [
             0.4444444444444444,
             "#bd3786"
            ],
            [
             0.5555555555555556,
             "#d8576b"
            ],
            [
             0.6666666666666666,
             "#ed7953"
            ],
            [
             0.7777777777777778,
             "#fb9f3a"
            ],
            [
             0.8888888888888888,
             "#fdca26"
            ],
            [
             1,
             "#f0f921"
            ]
           ],
           "sequentialminus": [
            [
             0,
             "#0d0887"
            ],
            [
             0.1111111111111111,
             "#46039f"
            ],
            [
             0.2222222222222222,
             "#7201a8"
            ],
            [
             0.3333333333333333,
             "#9c179e"
            ],
            [
             0.4444444444444444,
             "#bd3786"
            ],
            [
             0.5555555555555556,
             "#d8576b"
            ],
            [
             0.6666666666666666,
             "#ed7953"
            ],
            [
             0.7777777777777778,
             "#fb9f3a"
            ],
            [
             0.8888888888888888,
             "#fdca26"
            ],
            [
             1,
             "#f0f921"
            ]
           ]
          },
          "colorway": [
           "#636efa",
           "#EF553B",
           "#00cc96",
           "#ab63fa",
           "#FFA15A",
           "#19d3f3",
           "#FF6692",
           "#B6E880",
           "#FF97FF",
           "#FECB52"
          ],
          "font": {
           "color": "#2a3f5f"
          },
          "geo": {
           "bgcolor": "white",
           "lakecolor": "white",
           "landcolor": "white",
           "showlakes": true,
           "showland": true,
           "subunitcolor": "#C8D4E3"
          },
          "hoverlabel": {
           "align": "left"
          },
          "hovermode": "closest",
          "mapbox": {
           "style": "light"
          },
          "paper_bgcolor": "white",
          "plot_bgcolor": "white",
          "polar": {
           "angularaxis": {
            "gridcolor": "#EBF0F8",
            "linecolor": "#EBF0F8",
            "ticks": ""
           },
           "bgcolor": "white",
           "radialaxis": {
            "gridcolor": "#EBF0F8",
            "linecolor": "#EBF0F8",
            "ticks": ""
           }
          },
          "scene": {
           "xaxis": {
            "backgroundcolor": "white",
            "gridcolor": "#DFE8F3",
            "gridwidth": 2,
            "linecolor": "#EBF0F8",
            "showbackground": true,
            "ticks": "",
            "zerolinecolor": "#EBF0F8"
           },
           "yaxis": {
            "backgroundcolor": "white",
            "gridcolor": "#DFE8F3",
            "gridwidth": 2,
            "linecolor": "#EBF0F8",
            "showbackground": true,
            "ticks": "",
            "zerolinecolor": "#EBF0F8"
           },
           "zaxis": {
            "backgroundcolor": "white",
            "gridcolor": "#DFE8F3",
            "gridwidth": 2,
            "linecolor": "#EBF0F8",
            "showbackground": true,
            "ticks": "",
            "zerolinecolor": "#EBF0F8"
           }
          },
          "shapedefaults": {
           "line": {
            "color": "#2a3f5f"
           }
          },
          "ternary": {
           "aaxis": {
            "gridcolor": "#DFE8F3",
            "linecolor": "#A2B1C6",
            "ticks": ""
           },
           "baxis": {
            "gridcolor": "#DFE8F3",
            "linecolor": "#A2B1C6",
            "ticks": ""
           },
           "bgcolor": "white",
           "caxis": {
            "gridcolor": "#DFE8F3",
            "linecolor": "#A2B1C6",
            "ticks": ""
           }
          },
          "title": {
           "x": 0.05
          },
          "xaxis": {
           "automargin": true,
           "gridcolor": "#EBF0F8",
           "linecolor": "#EBF0F8",
           "ticks": "",
           "title": {
            "standoff": 15
           },
           "zerolinecolor": "#EBF0F8",
           "zerolinewidth": 2
          },
          "yaxis": {
           "automargin": true,
           "gridcolor": "#EBF0F8",
           "linecolor": "#EBF0F8",
           "ticks": "",
           "title": {
            "standoff": 15
           },
           "zerolinecolor": "#EBF0F8",
           "zerolinewidth": 2
          }
         }
        },
        "xaxis": {
         "anchor": "y",
         "domain": [
          0,
          1
         ],
         "title": {},
         "categoryorder": "array",
         "categoryarray": [
          "France Info",
          "RFI",
          "France Inter"
         ],
         "tickangle": -45
        },
        "yaxis": {
         "anchor": "x",
         "domain": [
          0,
          1
         ],
         "title": {}
        },
        "legend": {
         "title": {
          "text": "media"
         },
         "tracegroupgap": 0
        },
        "title": {
         "text": "Nombre de mention par radio top 3 semaine pre COP27 "
        },
        "barmode": "relative",
        "margin": {
         "b": 100
        }
       },
       "config": {
        "plotlyServerURL": "https://plot.ly"
       }
      }
     },
     "metadata": {}
    }
   ],
   "metadata": {}
  },
  {
   "cell_type": "code",
   "execution_count": 12,
   "source": [
    "show_mentions_by_channel(data_cop27[~data_cop27.radio], n=10,method=\"minutes\", title='Nombre de mention par TV top 10 semaine pre COP27 ')"
   ],
   "outputs": [
    {
     "output_type": "display_data",
     "data": {
      "application/vnd.plotly.v1+json": {
       "data": [
        {
         "alignmentgroup": "True",
         "hovertemplate": "media=TV<br>channel_name=%{x}<br>count=%{y}<extra></extra>",
         "legendgroup": "TV",
         "marker": {
          "color": "rgb(95, 70, 144)",
          "pattern": {
           "shape": ""
          }
         },
         "name": "TV",
         "offsetgroup": "TV",
         "orientation": "v",
         "showlegend": true,
         "textposition": "auto",
         "texttemplate": "%{y:.2s}",
         "x": [
          "Euronews",
          "B Smart TV",
          "France 24",
          "France Info:",
          "TV5Monde",
          "BFM Business",
          "BFM Paris",
          "viàOccitanie",
          "BFMTV",
          "CNEWS"
         ],
         "xaxis": "x",
         "y": [
          114,
          88,
          54,
          20,
          20,
          16,
          16,
          14,
          14,
          8
         ],
         "yaxis": "y",
         "type": "bar"
        }
       ],
       "layout": {
        "template": {
         "data": {
          "barpolar": [
           {
            "marker": {
             "line": {
              "color": "white",
              "width": 0.5
             },
             "pattern": {
              "fillmode": "overlay",
              "size": 10,
              "solidity": 0.2
             }
            },
            "type": "barpolar"
           }
          ],
          "bar": [
           {
            "error_x": {
             "color": "#2a3f5f"
            },
            "error_y": {
             "color": "#2a3f5f"
            },
            "marker": {
             "line": {
              "color": "white",
              "width": 0.5
             },
             "pattern": {
              "fillmode": "overlay",
              "size": 10,
              "solidity": 0.2
             }
            },
            "type": "bar"
           }
          ],
          "carpet": [
           {
            "aaxis": {
             "endlinecolor": "#2a3f5f",
             "gridcolor": "#C8D4E3",
             "linecolor": "#C8D4E3",
             "minorgridcolor": "#C8D4E3",
             "startlinecolor": "#2a3f5f"
            },
            "baxis": {
             "endlinecolor": "#2a3f5f",
             "gridcolor": "#C8D4E3",
             "linecolor": "#C8D4E3",
             "minorgridcolor": "#C8D4E3",
             "startlinecolor": "#2a3f5f"
            },
            "type": "carpet"
           }
          ],
          "choropleth": [
           {
            "colorbar": {
             "outlinewidth": 0,
             "ticks": ""
            },
            "type": "choropleth"
           }
          ],
          "contourcarpet": [
           {
            "colorbar": {
             "outlinewidth": 0,
             "ticks": ""
            },
            "type": "contourcarpet"
           }
          ],
          "contour": [
           {
            "colorbar": {
             "outlinewidth": 0,
             "ticks": ""
            },
            "colorscale": [
             [
              0,
              "#0d0887"
             ],
             [
              0.1111111111111111,
              "#46039f"
             ],
             [
              0.2222222222222222,
              "#7201a8"
             ],
             [
              0.3333333333333333,
              "#9c179e"
             ],
             [
              0.4444444444444444,
              "#bd3786"
             ],
             [
              0.5555555555555556,
              "#d8576b"
             ],
             [
              0.6666666666666666,
              "#ed7953"
             ],
             [
              0.7777777777777778,
              "#fb9f3a"
             ],
             [
              0.8888888888888888,
              "#fdca26"
             ],
             [
              1,
              "#f0f921"
             ]
            ],
            "type": "contour"
           }
          ],
          "heatmapgl": [
           {
            "colorbar": {
             "outlinewidth": 0,
             "ticks": ""
            },
            "colorscale": [
             [
              0,
              "#0d0887"
             ],
             [
              0.1111111111111111,
              "#46039f"
             ],
             [
              0.2222222222222222,
              "#7201a8"
             ],
             [
              0.3333333333333333,
              "#9c179e"
             ],
             [
              0.4444444444444444,
              "#bd3786"
             ],
             [
              0.5555555555555556,
              "#d8576b"
             ],
             [
              0.6666666666666666,
              "#ed7953"
             ],
             [
              0.7777777777777778,
              "#fb9f3a"
             ],
             [
              0.8888888888888888,
              "#fdca26"
             ],
             [
              1,
              "#f0f921"
             ]
            ],
            "type": "heatmapgl"
           }
          ],
          "heatmap": [
           {
            "colorbar": {
             "outlinewidth": 0,
             "ticks": ""
            },
            "colorscale": [
             [
              0,
              "#0d0887"
             ],
             [
              0.1111111111111111,
              "#46039f"
             ],
             [
              0.2222222222222222,
              "#7201a8"
             ],
             [
              0.3333333333333333,
              "#9c179e"
             ],
             [
              0.4444444444444444,
              "#bd3786"
             ],
             [
              0.5555555555555556,
              "#d8576b"
             ],
             [
              0.6666666666666666,
              "#ed7953"
             ],
             [
              0.7777777777777778,
              "#fb9f3a"
             ],
             [
              0.8888888888888888,
              "#fdca26"
             ],
             [
              1,
              "#f0f921"
             ]
            ],
            "type": "heatmap"
           }
          ],
          "histogram2dcontour": [
           {
            "colorbar": {
             "outlinewidth": 0,
             "ticks": ""
            },
            "colorscale": [
             [
              0,
              "#0d0887"
             ],
             [
              0.1111111111111111,
              "#46039f"
             ],
             [
              0.2222222222222222,
              "#7201a8"
             ],
             [
              0.3333333333333333,
              "#9c179e"
             ],
             [
              0.4444444444444444,
              "#bd3786"
             ],
             [
              0.5555555555555556,
              "#d8576b"
             ],
             [
              0.6666666666666666,
              "#ed7953"
             ],
             [
              0.7777777777777778,
              "#fb9f3a"
             ],
             [
              0.8888888888888888,
              "#fdca26"
             ],
             [
              1,
              "#f0f921"
             ]
            ],
            "type": "histogram2dcontour"
           }
          ],
          "histogram2d": [
           {
            "colorbar": {
             "outlinewidth": 0,
             "ticks": ""
            },
            "colorscale": [
             [
              0,
              "#0d0887"
             ],
             [
              0.1111111111111111,
              "#46039f"
             ],
             [
              0.2222222222222222,
              "#7201a8"
             ],
             [
              0.3333333333333333,
              "#9c179e"
             ],
             [
              0.4444444444444444,
              "#bd3786"
             ],
             [
              0.5555555555555556,
              "#d8576b"
             ],
             [
              0.6666666666666666,
              "#ed7953"
             ],
             [
              0.7777777777777778,
              "#fb9f3a"
             ],
             [
              0.8888888888888888,
              "#fdca26"
             ],
             [
              1,
              "#f0f921"
             ]
            ],
            "type": "histogram2d"
           }
          ],
          "histogram": [
           {
            "marker": {
             "pattern": {
              "fillmode": "overlay",
              "size": 10,
              "solidity": 0.2
             }
            },
            "type": "histogram"
           }
          ],
          "mesh3d": [
           {
            "colorbar": {
             "outlinewidth": 0,
             "ticks": ""
            },
            "type": "mesh3d"
           }
          ],
          "parcoords": [
           {
            "line": {
             "colorbar": {
              "outlinewidth": 0,
              "ticks": ""
             }
            },
            "type": "parcoords"
           }
          ],
          "pie": [
           {
            "automargin": true,
            "type": "pie"
           }
          ],
          "scatter3d": [
           {
            "line": {
             "colorbar": {
              "outlinewidth": 0,
              "ticks": ""
             }
            },
            "marker": {
             "colorbar": {
              "outlinewidth": 0,
              "ticks": ""
             }
            },
            "type": "scatter3d"
           }
          ],
          "scattercarpet": [
           {
            "marker": {
             "colorbar": {
              "outlinewidth": 0,
              "ticks": ""
             }
            },
            "type": "scattercarpet"
           }
          ],
          "scattergeo": [
           {
            "marker": {
             "colorbar": {
              "outlinewidth": 0,
              "ticks": ""
             }
            },
            "type": "scattergeo"
           }
          ],
          "scattergl": [
           {
            "marker": {
             "colorbar": {
              "outlinewidth": 0,
              "ticks": ""
             }
            },
            "type": "scattergl"
           }
          ],
          "scattermapbox": [
           {
            "marker": {
             "colorbar": {
              "outlinewidth": 0,
              "ticks": ""
             }
            },
            "type": "scattermapbox"
           }
          ],
          "scatterpolargl": [
           {
            "marker": {
             "colorbar": {
              "outlinewidth": 0,
              "ticks": ""
             }
            },
            "type": "scatterpolargl"
           }
          ],
          "scatterpolar": [
           {
            "marker": {
             "colorbar": {
              "outlinewidth": 0,
              "ticks": ""
             }
            },
            "type": "scatterpolar"
           }
          ],
          "scatter": [
           {
            "fillpattern": {
             "fillmode": "overlay",
             "size": 10,
             "solidity": 0.2
            },
            "type": "scatter"
           }
          ],
          "scatterternary": [
           {
            "marker": {
             "colorbar": {
              "outlinewidth": 0,
              "ticks": ""
             }
            },
            "type": "scatterternary"
           }
          ],
          "surface": [
           {
            "colorbar": {
             "outlinewidth": 0,
             "ticks": ""
            },
            "colorscale": [
             [
              0,
              "#0d0887"
             ],
             [
              0.1111111111111111,
              "#46039f"
             ],
             [
              0.2222222222222222,
              "#7201a8"
             ],
             [
              0.3333333333333333,
              "#9c179e"
             ],
             [
              0.4444444444444444,
              "#bd3786"
             ],
             [
              0.5555555555555556,
              "#d8576b"
             ],
             [
              0.6666666666666666,
              "#ed7953"
             ],
             [
              0.7777777777777778,
              "#fb9f3a"
             ],
             [
              0.8888888888888888,
              "#fdca26"
             ],
             [
              1,
              "#f0f921"
             ]
            ],
            "type": "surface"
           }
          ],
          "table": [
           {
            "cells": {
             "fill": {
              "color": "#EBF0F8"
             },
             "line": {
              "color": "white"
             }
            },
            "header": {
             "fill": {
              "color": "#C8D4E3"
             },
             "line": {
              "color": "white"
             }
            },
            "type": "table"
           }
          ]
         },
         "layout": {
          "annotationdefaults": {
           "arrowcolor": "#2a3f5f",
           "arrowhead": 0,
           "arrowwidth": 1
          },
          "autotypenumbers": "strict",
          "coloraxis": {
           "colorbar": {
            "outlinewidth": 0,
            "ticks": ""
           }
          },
          "colorscale": {
           "diverging": [
            [
             0,
             "#8e0152"
            ],
            [
             0.1,
             "#c51b7d"
            ],
            [
             0.2,
             "#de77ae"
            ],
            [
             0.3,
             "#f1b6da"
            ],
            [
             0.4,
             "#fde0ef"
            ],
            [
             0.5,
             "#f7f7f7"
            ],
            [
             0.6,
             "#e6f5d0"
            ],
            [
             0.7,
             "#b8e186"
            ],
            [
             0.8,
             "#7fbc41"
            ],
            [
             0.9,
             "#4d9221"
            ],
            [
             1,
             "#276419"
            ]
           ],
           "sequential": [
            [
             0,
             "#0d0887"
            ],
            [
             0.1111111111111111,
             "#46039f"
            ],
            [
             0.2222222222222222,
             "#7201a8"
            ],
            [
             0.3333333333333333,
             "#9c179e"
            ],
            [
             0.4444444444444444,
             "#bd3786"
            ],
            [
             0.5555555555555556,
             "#d8576b"
            ],
            [
             0.6666666666666666,
             "#ed7953"
            ],
            [
             0.7777777777777778,
             "#fb9f3a"
            ],
            [
             0.8888888888888888,
             "#fdca26"
            ],
            [
             1,
             "#f0f921"
            ]
           ],
           "sequentialminus": [
            [
             0,
             "#0d0887"
            ],
            [
             0.1111111111111111,
             "#46039f"
            ],
            [
             0.2222222222222222,
             "#7201a8"
            ],
            [
             0.3333333333333333,
             "#9c179e"
            ],
            [
             0.4444444444444444,
             "#bd3786"
            ],
            [
             0.5555555555555556,
             "#d8576b"
            ],
            [
             0.6666666666666666,
             "#ed7953"
            ],
            [
             0.7777777777777778,
             "#fb9f3a"
            ],
            [
             0.8888888888888888,
             "#fdca26"
            ],
            [
             1,
             "#f0f921"
            ]
           ]
          },
          "colorway": [
           "#636efa",
           "#EF553B",
           "#00cc96",
           "#ab63fa",
           "#FFA15A",
           "#19d3f3",
           "#FF6692",
           "#B6E880",
           "#FF97FF",
           "#FECB52"
          ],
          "font": {
           "color": "#2a3f5f"
          },
          "geo": {
           "bgcolor": "white",
           "lakecolor": "white",
           "landcolor": "white",
           "showlakes": true,
           "showland": true,
           "subunitcolor": "#C8D4E3"
          },
          "hoverlabel": {
           "align": "left"
          },
          "hovermode": "closest",
          "mapbox": {
           "style": "light"
          },
          "paper_bgcolor": "white",
          "plot_bgcolor": "white",
          "polar": {
           "angularaxis": {
            "gridcolor": "#EBF0F8",
            "linecolor": "#EBF0F8",
            "ticks": ""
           },
           "bgcolor": "white",
           "radialaxis": {
            "gridcolor": "#EBF0F8",
            "linecolor": "#EBF0F8",
            "ticks": ""
           }
          },
          "scene": {
           "xaxis": {
            "backgroundcolor": "white",
            "gridcolor": "#DFE8F3",
            "gridwidth": 2,
            "linecolor": "#EBF0F8",
            "showbackground": true,
            "ticks": "",
            "zerolinecolor": "#EBF0F8"
           },
           "yaxis": {
            "backgroundcolor": "white",
            "gridcolor": "#DFE8F3",
            "gridwidth": 2,
            "linecolor": "#EBF0F8",
            "showbackground": true,
            "ticks": "",
            "zerolinecolor": "#EBF0F8"
           },
           "zaxis": {
            "backgroundcolor": "white",
            "gridcolor": "#DFE8F3",
            "gridwidth": 2,
            "linecolor": "#EBF0F8",
            "showbackground": true,
            "ticks": "",
            "zerolinecolor": "#EBF0F8"
           }
          },
          "shapedefaults": {
           "line": {
            "color": "#2a3f5f"
           }
          },
          "ternary": {
           "aaxis": {
            "gridcolor": "#DFE8F3",
            "linecolor": "#A2B1C6",
            "ticks": ""
           },
           "baxis": {
            "gridcolor": "#DFE8F3",
            "linecolor": "#A2B1C6",
            "ticks": ""
           },
           "bgcolor": "white",
           "caxis": {
            "gridcolor": "#DFE8F3",
            "linecolor": "#A2B1C6",
            "ticks": ""
           }
          },
          "title": {
           "x": 0.05
          },
          "xaxis": {
           "automargin": true,
           "gridcolor": "#EBF0F8",
           "linecolor": "#EBF0F8",
           "ticks": "",
           "title": {
            "standoff": 15
           },
           "zerolinecolor": "#EBF0F8",
           "zerolinewidth": 2
          },
          "yaxis": {
           "automargin": true,
           "gridcolor": "#EBF0F8",
           "linecolor": "#EBF0F8",
           "ticks": "",
           "title": {
            "standoff": 15
           },
           "zerolinecolor": "#EBF0F8",
           "zerolinewidth": 2
          }
         }
        },
        "xaxis": {
         "anchor": "y",
         "domain": [
          0,
          1
         ],
         "title": {},
         "categoryorder": "array",
         "categoryarray": [
          "Euronews",
          "B Smart TV",
          "France 24",
          "France Info:",
          "TV5Monde",
          "BFM Business",
          "BFM Paris",
          "viàOccitanie",
          "BFMTV",
          "CNEWS"
         ],
         "tickangle": -45
        },
        "yaxis": {
         "anchor": "x",
         "domain": [
          0,
          1
         ],
         "title": {}
        },
        "legend": {
         "title": {
          "text": "media"
         },
         "tracegroupgap": 0
        },
        "title": {
         "text": "Nombre de mention par TV top 10 semaine pre COP27 "
        },
        "barmode": "relative",
        "height": 500,
        "margin": {
         "b": 100
        }
       },
       "config": {
        "plotlyServerURL": "https://plot.ly"
       }
      }
     },
     "metadata": {}
    }
   ],
   "metadata": {}
  },
  {
   "cell_type": "markdown",
   "source": [
    "## En heure de haute audiance"
   ],
   "metadata": {}
  },
  {
   "cell_type": "code",
   "execution_count": 19,
   "source": [
    "data_tv_1920 = data[(~data.radio)&(data.date.dt.hour >= 19)&(data.date.dt.hour < 21)]\n",
    "show_mentions_by_channel(data_tv_1920, n=10,method=\"minutes\", title='Nombre de mention par TV entre 19h et 21h top 10 semaine pre COP27')"
   ],
   "outputs": [
    {
     "output_type": "display_data",
     "data": {
      "application/vnd.plotly.v1+json": {
       "data": [
        {
         "alignmentgroup": "True",
         "hovertemplate": "media=TV<br>channel_name=%{x}<br>count=%{y}<extra></extra>",
         "legendgroup": "TV",
         "marker": {
          "color": "rgb(95, 70, 144)",
          "pattern": {
           "shape": ""
          }
         },
         "name": "TV",
         "offsetgroup": "TV",
         "orientation": "v",
         "showlegend": true,
         "textposition": "auto",
         "texttemplate": "%{y:.2s}",
         "x": [
          "B Smart TV",
          "Euronews",
          "Arte",
          "France Info:",
          "BFM Business",
          "BFMTV",
          "TF1",
          "France 24",
          "France 3 Idf",
          "France 5"
         ],
         "xaxis": "x",
         "y": [
          10,
          8,
          6,
          6,
          4,
          4,
          4,
          2,
          2,
          2
         ],
         "yaxis": "y",
         "type": "bar"
        }
       ],
       "layout": {
        "template": {
         "data": {
          "barpolar": [
           {
            "marker": {
             "line": {
              "color": "white",
              "width": 0.5
             },
             "pattern": {
              "fillmode": "overlay",
              "size": 10,
              "solidity": 0.2
             }
            },
            "type": "barpolar"
           }
          ],
          "bar": [
           {
            "error_x": {
             "color": "#2a3f5f"
            },
            "error_y": {
             "color": "#2a3f5f"
            },
            "marker": {
             "line": {
              "color": "white",
              "width": 0.5
             },
             "pattern": {
              "fillmode": "overlay",
              "size": 10,
              "solidity": 0.2
             }
            },
            "type": "bar"
           }
          ],
          "carpet": [
           {
            "aaxis": {
             "endlinecolor": "#2a3f5f",
             "gridcolor": "#C8D4E3",
             "linecolor": "#C8D4E3",
             "minorgridcolor": "#C8D4E3",
             "startlinecolor": "#2a3f5f"
            },
            "baxis": {
             "endlinecolor": "#2a3f5f",
             "gridcolor": "#C8D4E3",
             "linecolor": "#C8D4E3",
             "minorgridcolor": "#C8D4E3",
             "startlinecolor": "#2a3f5f"
            },
            "type": "carpet"
           }
          ],
          "choropleth": [
           {
            "colorbar": {
             "outlinewidth": 0,
             "ticks": ""
            },
            "type": "choropleth"
           }
          ],
          "contourcarpet": [
           {
            "colorbar": {
             "outlinewidth": 0,
             "ticks": ""
            },
            "type": "contourcarpet"
           }
          ],
          "contour": [
           {
            "colorbar": {
             "outlinewidth": 0,
             "ticks": ""
            },
            "colorscale": [
             [
              0,
              "#0d0887"
             ],
             [
              0.1111111111111111,
              "#46039f"
             ],
             [
              0.2222222222222222,
              "#7201a8"
             ],
             [
              0.3333333333333333,
              "#9c179e"
             ],
             [
              0.4444444444444444,
              "#bd3786"
             ],
             [
              0.5555555555555556,
              "#d8576b"
             ],
             [
              0.6666666666666666,
              "#ed7953"
             ],
             [
              0.7777777777777778,
              "#fb9f3a"
             ],
             [
              0.8888888888888888,
              "#fdca26"
             ],
             [
              1,
              "#f0f921"
             ]
            ],
            "type": "contour"
           }
          ],
          "heatmapgl": [
           {
            "colorbar": {
             "outlinewidth": 0,
             "ticks": ""
            },
            "colorscale": [
             [
              0,
              "#0d0887"
             ],
             [
              0.1111111111111111,
              "#46039f"
             ],
             [
              0.2222222222222222,
              "#7201a8"
             ],
             [
              0.3333333333333333,
              "#9c179e"
             ],
             [
              0.4444444444444444,
              "#bd3786"
             ],
             [
              0.5555555555555556,
              "#d8576b"
             ],
             [
              0.6666666666666666,
              "#ed7953"
             ],
             [
              0.7777777777777778,
              "#fb9f3a"
             ],
             [
              0.8888888888888888,
              "#fdca26"
             ],
             [
              1,
              "#f0f921"
             ]
            ],
            "type": "heatmapgl"
           }
          ],
          "heatmap": [
           {
            "colorbar": {
             "outlinewidth": 0,
             "ticks": ""
            },
            "colorscale": [
             [
              0,
              "#0d0887"
             ],
             [
              0.1111111111111111,
              "#46039f"
             ],
             [
              0.2222222222222222,
              "#7201a8"
             ],
             [
              0.3333333333333333,
              "#9c179e"
             ],
             [
              0.4444444444444444,
              "#bd3786"
             ],
             [
              0.5555555555555556,
              "#d8576b"
             ],
             [
              0.6666666666666666,
              "#ed7953"
             ],
             [
              0.7777777777777778,
              "#fb9f3a"
             ],
             [
              0.8888888888888888,
              "#fdca26"
             ],
             [
              1,
              "#f0f921"
             ]
            ],
            "type": "heatmap"
           }
          ],
          "histogram2dcontour": [
           {
            "colorbar": {
             "outlinewidth": 0,
             "ticks": ""
            },
            "colorscale": [
             [
              0,
              "#0d0887"
             ],
             [
              0.1111111111111111,
              "#46039f"
             ],
             [
              0.2222222222222222,
              "#7201a8"
             ],
             [
              0.3333333333333333,
              "#9c179e"
             ],
             [
              0.4444444444444444,
              "#bd3786"
             ],
             [
              0.5555555555555556,
              "#d8576b"
             ],
             [
              0.6666666666666666,
              "#ed7953"
             ],
             [
              0.7777777777777778,
              "#fb9f3a"
             ],
             [
              0.8888888888888888,
              "#fdca26"
             ],
             [
              1,
              "#f0f921"
             ]
            ],
            "type": "histogram2dcontour"
           }
          ],
          "histogram2d": [
           {
            "colorbar": {
             "outlinewidth": 0,
             "ticks": ""
            },
            "colorscale": [
             [
              0,
              "#0d0887"
             ],
             [
              0.1111111111111111,
              "#46039f"
             ],
             [
              0.2222222222222222,
              "#7201a8"
             ],
             [
              0.3333333333333333,
              "#9c179e"
             ],
             [
              0.4444444444444444,
              "#bd3786"
             ],
             [
              0.5555555555555556,
              "#d8576b"
             ],
             [
              0.6666666666666666,
              "#ed7953"
             ],
             [
              0.7777777777777778,
              "#fb9f3a"
             ],
             [
              0.8888888888888888,
              "#fdca26"
             ],
             [
              1,
              "#f0f921"
             ]
            ],
            "type": "histogram2d"
           }
          ],
          "histogram": [
           {
            "marker": {
             "pattern": {
              "fillmode": "overlay",
              "size": 10,
              "solidity": 0.2
             }
            },
            "type": "histogram"
           }
          ],
          "mesh3d": [
           {
            "colorbar": {
             "outlinewidth": 0,
             "ticks": ""
            },
            "type": "mesh3d"
           }
          ],
          "parcoords": [
           {
            "line": {
             "colorbar": {
              "outlinewidth": 0,
              "ticks": ""
             }
            },
            "type": "parcoords"
           }
          ],
          "pie": [
           {
            "automargin": true,
            "type": "pie"
           }
          ],
          "scatter3d": [
           {
            "line": {
             "colorbar": {
              "outlinewidth": 0,
              "ticks": ""
             }
            },
            "marker": {
             "colorbar": {
              "outlinewidth": 0,
              "ticks": ""
             }
            },
            "type": "scatter3d"
           }
          ],
          "scattercarpet": [
           {
            "marker": {
             "colorbar": {
              "outlinewidth": 0,
              "ticks": ""
             }
            },
            "type": "scattercarpet"
           }
          ],
          "scattergeo": [
           {
            "marker": {
             "colorbar": {
              "outlinewidth": 0,
              "ticks": ""
             }
            },
            "type": "scattergeo"
           }
          ],
          "scattergl": [
           {
            "marker": {
             "colorbar": {
              "outlinewidth": 0,
              "ticks": ""
             }
            },
            "type": "scattergl"
           }
          ],
          "scattermapbox": [
           {
            "marker": {
             "colorbar": {
              "outlinewidth": 0,
              "ticks": ""
             }
            },
            "type": "scattermapbox"
           }
          ],
          "scatterpolargl": [
           {
            "marker": {
             "colorbar": {
              "outlinewidth": 0,
              "ticks": ""
             }
            },
            "type": "scatterpolargl"
           }
          ],
          "scatterpolar": [
           {
            "marker": {
             "colorbar": {
              "outlinewidth": 0,
              "ticks": ""
             }
            },
            "type": "scatterpolar"
           }
          ],
          "scatter": [
           {
            "fillpattern": {
             "fillmode": "overlay",
             "size": 10,
             "solidity": 0.2
            },
            "type": "scatter"
           }
          ],
          "scatterternary": [
           {
            "marker": {
             "colorbar": {
              "outlinewidth": 0,
              "ticks": ""
             }
            },
            "type": "scatterternary"
           }
          ],
          "surface": [
           {
            "colorbar": {
             "outlinewidth": 0,
             "ticks": ""
            },
            "colorscale": [
             [
              0,
              "#0d0887"
             ],
             [
              0.1111111111111111,
              "#46039f"
             ],
             [
              0.2222222222222222,
              "#7201a8"
             ],
             [
              0.3333333333333333,
              "#9c179e"
             ],
             [
              0.4444444444444444,
              "#bd3786"
             ],
             [
              0.5555555555555556,
              "#d8576b"
             ],
             [
              0.6666666666666666,
              "#ed7953"
             ],
             [
              0.7777777777777778,
              "#fb9f3a"
             ],
             [
              0.8888888888888888,
              "#fdca26"
             ],
             [
              1,
              "#f0f921"
             ]
            ],
            "type": "surface"
           }
          ],
          "table": [
           {
            "cells": {
             "fill": {
              "color": "#EBF0F8"
             },
             "line": {
              "color": "white"
             }
            },
            "header": {
             "fill": {
              "color": "#C8D4E3"
             },
             "line": {
              "color": "white"
             }
            },
            "type": "table"
           }
          ]
         },
         "layout": {
          "annotationdefaults": {
           "arrowcolor": "#2a3f5f",
           "arrowhead": 0,
           "arrowwidth": 1
          },
          "autotypenumbers": "strict",
          "coloraxis": {
           "colorbar": {
            "outlinewidth": 0,
            "ticks": ""
           }
          },
          "colorscale": {
           "diverging": [
            [
             0,
             "#8e0152"
            ],
            [
             0.1,
             "#c51b7d"
            ],
            [
             0.2,
             "#de77ae"
            ],
            [
             0.3,
             "#f1b6da"
            ],
            [
             0.4,
             "#fde0ef"
            ],
            [
             0.5,
             "#f7f7f7"
            ],
            [
             0.6,
             "#e6f5d0"
            ],
            [
             0.7,
             "#b8e186"
            ],
            [
             0.8,
             "#7fbc41"
            ],
            [
             0.9,
             "#4d9221"
            ],
            [
             1,
             "#276419"
            ]
           ],
           "sequential": [
            [
             0,
             "#0d0887"
            ],
            [
             0.1111111111111111,
             "#46039f"
            ],
            [
             0.2222222222222222,
             "#7201a8"
            ],
            [
             0.3333333333333333,
             "#9c179e"
            ],
            [
             0.4444444444444444,
             "#bd3786"
            ],
            [
             0.5555555555555556,
             "#d8576b"
            ],
            [
             0.6666666666666666,
             "#ed7953"
            ],
            [
             0.7777777777777778,
             "#fb9f3a"
            ],
            [
             0.8888888888888888,
             "#fdca26"
            ],
            [
             1,
             "#f0f921"
            ]
           ],
           "sequentialminus": [
            [
             0,
             "#0d0887"
            ],
            [
             0.1111111111111111,
             "#46039f"
            ],
            [
             0.2222222222222222,
             "#7201a8"
            ],
            [
             0.3333333333333333,
             "#9c179e"
            ],
            [
             0.4444444444444444,
             "#bd3786"
            ],
            [
             0.5555555555555556,
             "#d8576b"
            ],
            [
             0.6666666666666666,
             "#ed7953"
            ],
            [
             0.7777777777777778,
             "#fb9f3a"
            ],
            [
             0.8888888888888888,
             "#fdca26"
            ],
            [
             1,
             "#f0f921"
            ]
           ]
          },
          "colorway": [
           "#636efa",
           "#EF553B",
           "#00cc96",
           "#ab63fa",
           "#FFA15A",
           "#19d3f3",
           "#FF6692",
           "#B6E880",
           "#FF97FF",
           "#FECB52"
          ],
          "font": {
           "color": "#2a3f5f"
          },
          "geo": {
           "bgcolor": "white",
           "lakecolor": "white",
           "landcolor": "white",
           "showlakes": true,
           "showland": true,
           "subunitcolor": "#C8D4E3"
          },
          "hoverlabel": {
           "align": "left"
          },
          "hovermode": "closest",
          "mapbox": {
           "style": "light"
          },
          "paper_bgcolor": "white",
          "plot_bgcolor": "white",
          "polar": {
           "angularaxis": {
            "gridcolor": "#EBF0F8",
            "linecolor": "#EBF0F8",
            "ticks": ""
           },
           "bgcolor": "white",
           "radialaxis": {
            "gridcolor": "#EBF0F8",
            "linecolor": "#EBF0F8",
            "ticks": ""
           }
          },
          "scene": {
           "xaxis": {
            "backgroundcolor": "white",
            "gridcolor": "#DFE8F3",
            "gridwidth": 2,
            "linecolor": "#EBF0F8",
            "showbackground": true,
            "ticks": "",
            "zerolinecolor": "#EBF0F8"
           },
           "yaxis": {
            "backgroundcolor": "white",
            "gridcolor": "#DFE8F3",
            "gridwidth": 2,
            "linecolor": "#EBF0F8",
            "showbackground": true,
            "ticks": "",
            "zerolinecolor": "#EBF0F8"
           },
           "zaxis": {
            "backgroundcolor": "white",
            "gridcolor": "#DFE8F3",
            "gridwidth": 2,
            "linecolor": "#EBF0F8",
            "showbackground": true,
            "ticks": "",
            "zerolinecolor": "#EBF0F8"
           }
          },
          "shapedefaults": {
           "line": {
            "color": "#2a3f5f"
           }
          },
          "ternary": {
           "aaxis": {
            "gridcolor": "#DFE8F3",
            "linecolor": "#A2B1C6",
            "ticks": ""
           },
           "baxis": {
            "gridcolor": "#DFE8F3",
            "linecolor": "#A2B1C6",
            "ticks": ""
           },
           "bgcolor": "white",
           "caxis": {
            "gridcolor": "#DFE8F3",
            "linecolor": "#A2B1C6",
            "ticks": ""
           }
          },
          "title": {
           "x": 0.05
          },
          "xaxis": {
           "automargin": true,
           "gridcolor": "#EBF0F8",
           "linecolor": "#EBF0F8",
           "ticks": "",
           "title": {
            "standoff": 15
           },
           "zerolinecolor": "#EBF0F8",
           "zerolinewidth": 2
          },
          "yaxis": {
           "automargin": true,
           "gridcolor": "#EBF0F8",
           "linecolor": "#EBF0F8",
           "ticks": "",
           "title": {
            "standoff": 15
           },
           "zerolinecolor": "#EBF0F8",
           "zerolinewidth": 2
          }
         }
        },
        "xaxis": {
         "anchor": "y",
         "domain": [
          0,
          1
         ],
         "title": {},
         "categoryorder": "array",
         "categoryarray": [
          "B Smart TV",
          "Euronews",
          "Arte",
          "France Info:",
          "BFM Business",
          "BFMTV",
          "TF1",
          "France 24",
          "France 3 Idf",
          "France 5"
         ],
         "tickangle": -45
        },
        "yaxis": {
         "anchor": "x",
         "domain": [
          0,
          1
         ],
         "title": {}
        },
        "legend": {
         "title": {
          "text": "media"
         },
         "tracegroupgap": 0
        },
        "title": {
         "text": "Nombre de mention par TV entre 19h et 21h top 10 semaine pre COP27"
        },
        "barmode": "relative",
        "height": 500,
        "margin": {
         "b": 100
        }
       },
       "config": {
        "plotlyServerURL": "https://plot.ly"
       }
      }
     },
     "metadata": {}
    }
   ],
   "metadata": {}
  },
  {
   "cell_type": "code",
   "execution_count": 26,
   "source": [
    "data_radio_1920 = data[(data.radio)&(data.date.dt.hour >= 6)&(data.date.dt.hour < 10)]\n",
    "show_mentions_by_channel(data_radio_1920, n=10,method=\"minutes\", title='Nombre de mention par radio entre 6h et 10h top 10 semaine pre COP27')"
   ],
   "outputs": [
    {
     "output_type": "display_data",
     "data": {
      "application/vnd.plotly.v1+json": {
       "data": [
        {
         "alignmentgroup": "True",
         "hovertemplate": "media=Radio<br>channel_name=%{x}<br>count=%{y}<extra></extra>",
         "legendgroup": "Radio",
         "marker": {
          "color": "rgb(95, 70, 144)",
          "pattern": {
           "shape": ""
          }
         },
         "name": "Radio",
         "offsetgroup": "Radio",
         "orientation": "v",
         "showlegend": true,
         "textposition": "auto",
         "texttemplate": "%{y:.2s}",
         "x": [
          "RFI",
          "France Info",
          "Nova",
          "RTBF La Première",
          "Nova Lyon",
          "France Bleu Azur",
          "Radio J",
          "RCF Reims Ardennes",
          "France Inter",
          "Sud Radio Paris"
         ],
         "xaxis": "x",
         "y": [
          34,
          22,
          16,
          16,
          14,
          10,
          10,
          8,
          8,
          8
         ],
         "yaxis": "y",
         "type": "bar"
        }
       ],
       "layout": {
        "template": {
         "data": {
          "barpolar": [
           {
            "marker": {
             "line": {
              "color": "white",
              "width": 0.5
             },
             "pattern": {
              "fillmode": "overlay",
              "size": 10,
              "solidity": 0.2
             }
            },
            "type": "barpolar"
           }
          ],
          "bar": [
           {
            "error_x": {
             "color": "#2a3f5f"
            },
            "error_y": {
             "color": "#2a3f5f"
            },
            "marker": {
             "line": {
              "color": "white",
              "width": 0.5
             },
             "pattern": {
              "fillmode": "overlay",
              "size": 10,
              "solidity": 0.2
             }
            },
            "type": "bar"
           }
          ],
          "carpet": [
           {
            "aaxis": {
             "endlinecolor": "#2a3f5f",
             "gridcolor": "#C8D4E3",
             "linecolor": "#C8D4E3",
             "minorgridcolor": "#C8D4E3",
             "startlinecolor": "#2a3f5f"
            },
            "baxis": {
             "endlinecolor": "#2a3f5f",
             "gridcolor": "#C8D4E3",
             "linecolor": "#C8D4E3",
             "minorgridcolor": "#C8D4E3",
             "startlinecolor": "#2a3f5f"
            },
            "type": "carpet"
           }
          ],
          "choropleth": [
           {
            "colorbar": {
             "outlinewidth": 0,
             "ticks": ""
            },
            "type": "choropleth"
           }
          ],
          "contourcarpet": [
           {
            "colorbar": {
             "outlinewidth": 0,
             "ticks": ""
            },
            "type": "contourcarpet"
           }
          ],
          "contour": [
           {
            "colorbar": {
             "outlinewidth": 0,
             "ticks": ""
            },
            "colorscale": [
             [
              0,
              "#0d0887"
             ],
             [
              0.1111111111111111,
              "#46039f"
             ],
             [
              0.2222222222222222,
              "#7201a8"
             ],
             [
              0.3333333333333333,
              "#9c179e"
             ],
             [
              0.4444444444444444,
              "#bd3786"
             ],
             [
              0.5555555555555556,
              "#d8576b"
             ],
             [
              0.6666666666666666,
              "#ed7953"
             ],
             [
              0.7777777777777778,
              "#fb9f3a"
             ],
             [
              0.8888888888888888,
              "#fdca26"
             ],
             [
              1,
              "#f0f921"
             ]
            ],
            "type": "contour"
           }
          ],
          "heatmapgl": [
           {
            "colorbar": {
             "outlinewidth": 0,
             "ticks": ""
            },
            "colorscale": [
             [
              0,
              "#0d0887"
             ],
             [
              0.1111111111111111,
              "#46039f"
             ],
             [
              0.2222222222222222,
              "#7201a8"
             ],
             [
              0.3333333333333333,
              "#9c179e"
             ],
             [
              0.4444444444444444,
              "#bd3786"
             ],
             [
              0.5555555555555556,
              "#d8576b"
             ],
             [
              0.6666666666666666,
              "#ed7953"
             ],
             [
              0.7777777777777778,
              "#fb9f3a"
             ],
             [
              0.8888888888888888,
              "#fdca26"
             ],
             [
              1,
              "#f0f921"
             ]
            ],
            "type": "heatmapgl"
           }
          ],
          "heatmap": [
           {
            "colorbar": {
             "outlinewidth": 0,
             "ticks": ""
            },
            "colorscale": [
             [
              0,
              "#0d0887"
             ],
             [
              0.1111111111111111,
              "#46039f"
             ],
             [
              0.2222222222222222,
              "#7201a8"
             ],
             [
              0.3333333333333333,
              "#9c179e"
             ],
             [
              0.4444444444444444,
              "#bd3786"
             ],
             [
              0.5555555555555556,
              "#d8576b"
             ],
             [
              0.6666666666666666,
              "#ed7953"
             ],
             [
              0.7777777777777778,
              "#fb9f3a"
             ],
             [
              0.8888888888888888,
              "#fdca26"
             ],
             [
              1,
              "#f0f921"
             ]
            ],
            "type": "heatmap"
           }
          ],
          "histogram2dcontour": [
           {
            "colorbar": {
             "outlinewidth": 0,
             "ticks": ""
            },
            "colorscale": [
             [
              0,
              "#0d0887"
             ],
             [
              0.1111111111111111,
              "#46039f"
             ],
             [
              0.2222222222222222,
              "#7201a8"
             ],
             [
              0.3333333333333333,
              "#9c179e"
             ],
             [
              0.4444444444444444,
              "#bd3786"
             ],
             [
              0.5555555555555556,
              "#d8576b"
             ],
             [
              0.6666666666666666,
              "#ed7953"
             ],
             [
              0.7777777777777778,
              "#fb9f3a"
             ],
             [
              0.8888888888888888,
              "#fdca26"
             ],
             [
              1,
              "#f0f921"
             ]
            ],
            "type": "histogram2dcontour"
           }
          ],
          "histogram2d": [
           {
            "colorbar": {
             "outlinewidth": 0,
             "ticks": ""
            },
            "colorscale": [
             [
              0,
              "#0d0887"
             ],
             [
              0.1111111111111111,
              "#46039f"
             ],
             [
              0.2222222222222222,
              "#7201a8"
             ],
             [
              0.3333333333333333,
              "#9c179e"
             ],
             [
              0.4444444444444444,
              "#bd3786"
             ],
             [
              0.5555555555555556,
              "#d8576b"
             ],
             [
              0.6666666666666666,
              "#ed7953"
             ],
             [
              0.7777777777777778,
              "#fb9f3a"
             ],
             [
              0.8888888888888888,
              "#fdca26"
             ],
             [
              1,
              "#f0f921"
             ]
            ],
            "type": "histogram2d"
           }
          ],
          "histogram": [
           {
            "marker": {
             "pattern": {
              "fillmode": "overlay",
              "size": 10,
              "solidity": 0.2
             }
            },
            "type": "histogram"
           }
          ],
          "mesh3d": [
           {
            "colorbar": {
             "outlinewidth": 0,
             "ticks": ""
            },
            "type": "mesh3d"
           }
          ],
          "parcoords": [
           {
            "line": {
             "colorbar": {
              "outlinewidth": 0,
              "ticks": ""
             }
            },
            "type": "parcoords"
           }
          ],
          "pie": [
           {
            "automargin": true,
            "type": "pie"
           }
          ],
          "scatter3d": [
           {
            "line": {
             "colorbar": {
              "outlinewidth": 0,
              "ticks": ""
             }
            },
            "marker": {
             "colorbar": {
              "outlinewidth": 0,
              "ticks": ""
             }
            },
            "type": "scatter3d"
           }
          ],
          "scattercarpet": [
           {
            "marker": {
             "colorbar": {
              "outlinewidth": 0,
              "ticks": ""
             }
            },
            "type": "scattercarpet"
           }
          ],
          "scattergeo": [
           {
            "marker": {
             "colorbar": {
              "outlinewidth": 0,
              "ticks": ""
             }
            },
            "type": "scattergeo"
           }
          ],
          "scattergl": [
           {
            "marker": {
             "colorbar": {
              "outlinewidth": 0,
              "ticks": ""
             }
            },
            "type": "scattergl"
           }
          ],
          "scattermapbox": [
           {
            "marker": {
             "colorbar": {
              "outlinewidth": 0,
              "ticks": ""
             }
            },
            "type": "scattermapbox"
           }
          ],
          "scatterpolargl": [
           {
            "marker": {
             "colorbar": {
              "outlinewidth": 0,
              "ticks": ""
             }
            },
            "type": "scatterpolargl"
           }
          ],
          "scatterpolar": [
           {
            "marker": {
             "colorbar": {
              "outlinewidth": 0,
              "ticks": ""
             }
            },
            "type": "scatterpolar"
           }
          ],
          "scatter": [
           {
            "fillpattern": {
             "fillmode": "overlay",
             "size": 10,
             "solidity": 0.2
            },
            "type": "scatter"
           }
          ],
          "scatterternary": [
           {
            "marker": {
             "colorbar": {
              "outlinewidth": 0,
              "ticks": ""
             }
            },
            "type": "scatterternary"
           }
          ],
          "surface": [
           {
            "colorbar": {
             "outlinewidth": 0,
             "ticks": ""
            },
            "colorscale": [
             [
              0,
              "#0d0887"
             ],
             [
              0.1111111111111111,
              "#46039f"
             ],
             [
              0.2222222222222222,
              "#7201a8"
             ],
             [
              0.3333333333333333,
              "#9c179e"
             ],
             [
              0.4444444444444444,
              "#bd3786"
             ],
             [
              0.5555555555555556,
              "#d8576b"
             ],
             [
              0.6666666666666666,
              "#ed7953"
             ],
             [
              0.7777777777777778,
              "#fb9f3a"
             ],
             [
              0.8888888888888888,
              "#fdca26"
             ],
             [
              1,
              "#f0f921"
             ]
            ],
            "type": "surface"
           }
          ],
          "table": [
           {
            "cells": {
             "fill": {
              "color": "#EBF0F8"
             },
             "line": {
              "color": "white"
             }
            },
            "header": {
             "fill": {
              "color": "#C8D4E3"
             },
             "line": {
              "color": "white"
             }
            },
            "type": "table"
           }
          ]
         },
         "layout": {
          "annotationdefaults": {
           "arrowcolor": "#2a3f5f",
           "arrowhead": 0,
           "arrowwidth": 1
          },
          "autotypenumbers": "strict",
          "coloraxis": {
           "colorbar": {
            "outlinewidth": 0,
            "ticks": ""
           }
          },
          "colorscale": {
           "diverging": [
            [
             0,
             "#8e0152"
            ],
            [
             0.1,
             "#c51b7d"
            ],
            [
             0.2,
             "#de77ae"
            ],
            [
             0.3,
             "#f1b6da"
            ],
            [
             0.4,
             "#fde0ef"
            ],
            [
             0.5,
             "#f7f7f7"
            ],
            [
             0.6,
             "#e6f5d0"
            ],
            [
             0.7,
             "#b8e186"
            ],
            [
             0.8,
             "#7fbc41"
            ],
            [
             0.9,
             "#4d9221"
            ],
            [
             1,
             "#276419"
            ]
           ],
           "sequential": [
            [
             0,
             "#0d0887"
            ],
            [
             0.1111111111111111,
             "#46039f"
            ],
            [
             0.2222222222222222,
             "#7201a8"
            ],
            [
             0.3333333333333333,
             "#9c179e"
            ],
            [
             0.4444444444444444,
             "#bd3786"
            ],
            [
             0.5555555555555556,
             "#d8576b"
            ],
            [
             0.6666666666666666,
             "#ed7953"
            ],
            [
             0.7777777777777778,
             "#fb9f3a"
            ],
            [
             0.8888888888888888,
             "#fdca26"
            ],
            [
             1,
             "#f0f921"
            ]
           ],
           "sequentialminus": [
            [
             0,
             "#0d0887"
            ],
            [
             0.1111111111111111,
             "#46039f"
            ],
            [
             0.2222222222222222,
             "#7201a8"
            ],
            [
             0.3333333333333333,
             "#9c179e"
            ],
            [
             0.4444444444444444,
             "#bd3786"
            ],
            [
             0.5555555555555556,
             "#d8576b"
            ],
            [
             0.6666666666666666,
             "#ed7953"
            ],
            [
             0.7777777777777778,
             "#fb9f3a"
            ],
            [
             0.8888888888888888,
             "#fdca26"
            ],
            [
             1,
             "#f0f921"
            ]
           ]
          },
          "colorway": [
           "#636efa",
           "#EF553B",
           "#00cc96",
           "#ab63fa",
           "#FFA15A",
           "#19d3f3",
           "#FF6692",
           "#B6E880",
           "#FF97FF",
           "#FECB52"
          ],
          "font": {
           "color": "#2a3f5f"
          },
          "geo": {
           "bgcolor": "white",
           "lakecolor": "white",
           "landcolor": "white",
           "showlakes": true,
           "showland": true,
           "subunitcolor": "#C8D4E3"
          },
          "hoverlabel": {
           "align": "left"
          },
          "hovermode": "closest",
          "mapbox": {
           "style": "light"
          },
          "paper_bgcolor": "white",
          "plot_bgcolor": "white",
          "polar": {
           "angularaxis": {
            "gridcolor": "#EBF0F8",
            "linecolor": "#EBF0F8",
            "ticks": ""
           },
           "bgcolor": "white",
           "radialaxis": {
            "gridcolor": "#EBF0F8",
            "linecolor": "#EBF0F8",
            "ticks": ""
           }
          },
          "scene": {
           "xaxis": {
            "backgroundcolor": "white",
            "gridcolor": "#DFE8F3",
            "gridwidth": 2,
            "linecolor": "#EBF0F8",
            "showbackground": true,
            "ticks": "",
            "zerolinecolor": "#EBF0F8"
           },
           "yaxis": {
            "backgroundcolor": "white",
            "gridcolor": "#DFE8F3",
            "gridwidth": 2,
            "linecolor": "#EBF0F8",
            "showbackground": true,
            "ticks": "",
            "zerolinecolor": "#EBF0F8"
           },
           "zaxis": {
            "backgroundcolor": "white",
            "gridcolor": "#DFE8F3",
            "gridwidth": 2,
            "linecolor": "#EBF0F8",
            "showbackground": true,
            "ticks": "",
            "zerolinecolor": "#EBF0F8"
           }
          },
          "shapedefaults": {
           "line": {
            "color": "#2a3f5f"
           }
          },
          "ternary": {
           "aaxis": {
            "gridcolor": "#DFE8F3",
            "linecolor": "#A2B1C6",
            "ticks": ""
           },
           "baxis": {
            "gridcolor": "#DFE8F3",
            "linecolor": "#A2B1C6",
            "ticks": ""
           },
           "bgcolor": "white",
           "caxis": {
            "gridcolor": "#DFE8F3",
            "linecolor": "#A2B1C6",
            "ticks": ""
           }
          },
          "title": {
           "x": 0.05
          },
          "xaxis": {
           "automargin": true,
           "gridcolor": "#EBF0F8",
           "linecolor": "#EBF0F8",
           "ticks": "",
           "title": {
            "standoff": 15
           },
           "zerolinecolor": "#EBF0F8",
           "zerolinewidth": 2
          },
          "yaxis": {
           "automargin": true,
           "gridcolor": "#EBF0F8",
           "linecolor": "#EBF0F8",
           "ticks": "",
           "title": {
            "standoff": 15
           },
           "zerolinecolor": "#EBF0F8",
           "zerolinewidth": 2
          }
         }
        },
        "xaxis": {
         "anchor": "y",
         "domain": [
          0,
          1
         ],
         "title": {},
         "categoryorder": "array",
         "categoryarray": [
          "RFI",
          "France Info",
          "Nova",
          "RTBF La Première",
          "Nova Lyon",
          "France Bleu Azur",
          "Radio J",
          "RCF Reims Ardennes",
          "France Inter",
          "Sud Radio Paris"
         ],
         "tickangle": -45
        },
        "yaxis": {
         "anchor": "x",
         "domain": [
          0,
          1
         ],
         "title": {}
        },
        "legend": {
         "title": {
          "text": "media"
         },
         "tracegroupgap": 0
        },
        "title": {
         "text": "Nombre de mention par radio entre 6h et 10h top 10 semaine pre COP27"
        },
        "barmode": "relative",
        "height": 500,
        "margin": {
         "b": 100
        }
       },
       "config": {
        "plotlyServerURL": "https://plot.ly"
       }
      }
     },
     "metadata": {}
    }
   ],
   "metadata": {}
  },
  {
   "cell_type": "markdown",
   "source": [
    "# Mention au cours du temps"
   ],
   "metadata": {}
  },
  {
   "cell_type": "code",
   "execution_count": 21,
   "source": [
    "data_top_25_tv = data[data.channel_name.isin(TOP_CHANNELS_TV)]\n",
    "data_gb = data_top_25_tv.groupby(['channel_name', data_top_25_tv['date'].dt.date]).count()['text'].reset_index()\n",
    "data_gb.columns = ['Chaîne', 'Date', 'Nombre de mention']\n",
    "fig = px.area(\n",
    "    data_gb,\n",
    "    x = \"Date\", y = 'Nombre de mention',color = \"Chaîne\",\n",
    "    category_orders={\"TIME\":data_gb[\"Date\"].unique()},\n",
    "    title = \"Evoluation des mentions au cours de la semaine pre COP 27 top 25 TV\", height = 400,\n",
    ")\n",
    "fig.update_layout( xaxis=dict(type=\"category\", categoryorder='category ascending'),\n",
    "                     yaxis_title='Nomre de mention COP27 par jour')\n",
    "fig.show()"
   ],
   "outputs": [
    {
     "output_type": "display_data",
     "data": {
      "application/vnd.plotly.v1+json": {
       "data": [
        {
         "fillpattern": {
          "shape": ""
         },
         "hovertemplate": "Chaîne=Arte<br>Date=%{x}<br>Nombre de mention=%{y}<extra></extra>",
         "legendgroup": "Arte",
         "line": {
          "color": "rgb(95, 70, 144)"
         },
         "marker": {
          "symbol": "circle"
         },
         "mode": "lines",
         "name": "Arte",
         "orientation": "v",
         "showlegend": true,
         "stackgroup": "1",
         "x": [
          "2022-10-27",
          "2022-10-28"
         ],
         "xaxis": "x",
         "y": [
          2,
          1
         ],
         "yaxis": "y",
         "type": "scatter"
        },
        {
         "fillpattern": {
          "shape": ""
         },
         "hovertemplate": "Chaîne=BFMTV<br>Date=%{x}<br>Nombre de mention=%{y}<extra></extra>",
         "legendgroup": "BFMTV",
         "line": {
          "color": "rgb(29, 105, 150)"
         },
         "marker": {
          "symbol": "circle"
         },
         "mode": "lines",
         "name": "BFMTV",
         "orientation": "v",
         "showlegend": true,
         "stackgroup": "1",
         "x": [
          "2022-10-26",
          "2022-10-27",
          "2022-10-28",
          "2022-10-31"
         ],
         "xaxis": "x",
         "y": [
          1,
          1,
          3,
          2
         ],
         "yaxis": "y",
         "type": "scatter"
        },
        {
         "fillpattern": {
          "shape": ""
         },
         "hovertemplate": "Chaîne=Euronews<br>Date=%{x}<br>Nombre de mention=%{y}<extra></extra>",
         "legendgroup": "Euronews",
         "line": {
          "color": "rgb(56, 166, 165)"
         },
         "marker": {
          "symbol": "circle"
         },
         "mode": "lines",
         "name": "Euronews",
         "orientation": "v",
         "showlegend": true,
         "stackgroup": "1",
         "x": [
          "2022-10-24",
          "2022-10-25",
          "2022-10-27"
         ],
         "xaxis": "x",
         "y": [
          6,
          13,
          38
         ],
         "yaxis": "y",
         "type": "scatter"
        },
        {
         "fillpattern": {
          "shape": ""
         },
         "hovertemplate": "Chaîne=France 2<br>Date=%{x}<br>Nombre de mention=%{y}<extra></extra>",
         "legendgroup": "France 2",
         "line": {
          "color": "rgb(15, 133, 84)"
         },
         "marker": {
          "symbol": "circle"
         },
         "mode": "lines",
         "name": "France 2",
         "orientation": "v",
         "showlegend": true,
         "stackgroup": "1",
         "x": [
          "2022-10-27",
          "2022-10-31"
         ],
         "xaxis": "x",
         "y": [
          1,
          1
         ],
         "yaxis": "y",
         "type": "scatter"
        },
        {
         "fillpattern": {
          "shape": ""
         },
         "hovertemplate": "Chaîne=France 24<br>Date=%{x}<br>Nombre de mention=%{y}<extra></extra>",
         "legendgroup": "France 24",
         "line": {
          "color": "rgb(115, 175, 72)"
         },
         "marker": {
          "symbol": "circle"
         },
         "mode": "lines",
         "name": "France 24",
         "orientation": "v",
         "showlegend": true,
         "stackgroup": "1",
         "x": [
          "2022-10-26",
          "2022-10-27",
          "2022-10-28",
          "2022-10-29",
          "2022-10-31"
         ],
         "xaxis": "x",
         "y": [
          9,
          11,
          3,
          3,
          1
         ],
         "yaxis": "y",
         "type": "scatter"
        },
        {
         "fillpattern": {
          "shape": ""
         },
         "hovertemplate": "Chaîne=France 5<br>Date=%{x}<br>Nombre de mention=%{y}<extra></extra>",
         "legendgroup": "France 5",
         "line": {
          "color": "rgb(237, 173, 8)"
         },
         "marker": {
          "symbol": "circle"
         },
         "mode": "lines",
         "name": "France 5",
         "orientation": "v",
         "showlegend": true,
         "stackgroup": "1",
         "x": [
          "2022-10-28"
         ],
         "xaxis": "x",
         "y": [
          2
         ],
         "yaxis": "y",
         "type": "scatter"
        },
        {
         "fillpattern": {
          "shape": ""
         },
         "hovertemplate": "Chaîne=LCI<br>Date=%{x}<br>Nombre de mention=%{y}<extra></extra>",
         "legendgroup": "LCI",
         "line": {
          "color": "rgb(225, 124, 5)"
         },
         "marker": {
          "symbol": "circle"
         },
         "mode": "lines",
         "name": "LCI",
         "orientation": "v",
         "showlegend": true,
         "stackgroup": "1",
         "x": [
          "2022-10-30"
         ],
         "xaxis": "x",
         "y": [
          1
         ],
         "yaxis": "y",
         "type": "scatter"
        },
        {
         "fillpattern": {
          "shape": ""
         },
         "hovertemplate": "Chaîne=TF1<br>Date=%{x}<br>Nombre de mention=%{y}<extra></extra>",
         "legendgroup": "TF1",
         "line": {
          "color": "rgb(204, 80, 62)"
         },
         "marker": {
          "symbol": "circle"
         },
         "mode": "lines",
         "name": "TF1",
         "orientation": "v",
         "showlegend": true,
         "stackgroup": "1",
         "x": [
          "2022-10-31"
         ],
         "xaxis": "x",
         "y": [
          2
         ],
         "yaxis": "y",
         "type": "scatter"
        }
       ],
       "layout": {
        "template": {
         "data": {
          "barpolar": [
           {
            "marker": {
             "line": {
              "color": "white",
              "width": 0.5
             },
             "pattern": {
              "fillmode": "overlay",
              "size": 10,
              "solidity": 0.2
             }
            },
            "type": "barpolar"
           }
          ],
          "bar": [
           {
            "error_x": {
             "color": "#2a3f5f"
            },
            "error_y": {
             "color": "#2a3f5f"
            },
            "marker": {
             "line": {
              "color": "white",
              "width": 0.5
             },
             "pattern": {
              "fillmode": "overlay",
              "size": 10,
              "solidity": 0.2
             }
            },
            "type": "bar"
           }
          ],
          "carpet": [
           {
            "aaxis": {
             "endlinecolor": "#2a3f5f",
             "gridcolor": "#C8D4E3",
             "linecolor": "#C8D4E3",
             "minorgridcolor": "#C8D4E3",
             "startlinecolor": "#2a3f5f"
            },
            "baxis": {
             "endlinecolor": "#2a3f5f",
             "gridcolor": "#C8D4E3",
             "linecolor": "#C8D4E3",
             "minorgridcolor": "#C8D4E3",
             "startlinecolor": "#2a3f5f"
            },
            "type": "carpet"
           }
          ],
          "choropleth": [
           {
            "colorbar": {
             "outlinewidth": 0,
             "ticks": ""
            },
            "type": "choropleth"
           }
          ],
          "contourcarpet": [
           {
            "colorbar": {
             "outlinewidth": 0,
             "ticks": ""
            },
            "type": "contourcarpet"
           }
          ],
          "contour": [
           {
            "colorbar": {
             "outlinewidth": 0,
             "ticks": ""
            },
            "colorscale": [
             [
              0,
              "#0d0887"
             ],
             [
              0.1111111111111111,
              "#46039f"
             ],
             [
              0.2222222222222222,
              "#7201a8"
             ],
             [
              0.3333333333333333,
              "#9c179e"
             ],
             [
              0.4444444444444444,
              "#bd3786"
             ],
             [
              0.5555555555555556,
              "#d8576b"
             ],
             [
              0.6666666666666666,
              "#ed7953"
             ],
             [
              0.7777777777777778,
              "#fb9f3a"
             ],
             [
              0.8888888888888888,
              "#fdca26"
             ],
             [
              1,
              "#f0f921"
             ]
            ],
            "type": "contour"
           }
          ],
          "heatmapgl": [
           {
            "colorbar": {
             "outlinewidth": 0,
             "ticks": ""
            },
            "colorscale": [
             [
              0,
              "#0d0887"
             ],
             [
              0.1111111111111111,
              "#46039f"
             ],
             [
              0.2222222222222222,
              "#7201a8"
             ],
             [
              0.3333333333333333,
              "#9c179e"
             ],
             [
              0.4444444444444444,
              "#bd3786"
             ],
             [
              0.5555555555555556,
              "#d8576b"
             ],
             [
              0.6666666666666666,
              "#ed7953"
             ],
             [
              0.7777777777777778,
              "#fb9f3a"
             ],
             [
              0.8888888888888888,
              "#fdca26"
             ],
             [
              1,
              "#f0f921"
             ]
            ],
            "type": "heatmapgl"
           }
          ],
          "heatmap": [
           {
            "colorbar": {
             "outlinewidth": 0,
             "ticks": ""
            },
            "colorscale": [
             [
              0,
              "#0d0887"
             ],
             [
              0.1111111111111111,
              "#46039f"
             ],
             [
              0.2222222222222222,
              "#7201a8"
             ],
             [
              0.3333333333333333,
              "#9c179e"
             ],
             [
              0.4444444444444444,
              "#bd3786"
             ],
             [
              0.5555555555555556,
              "#d8576b"
             ],
             [
              0.6666666666666666,
              "#ed7953"
             ],
             [
              0.7777777777777778,
              "#fb9f3a"
             ],
             [
              0.8888888888888888,
              "#fdca26"
             ],
             [
              1,
              "#f0f921"
             ]
            ],
            "type": "heatmap"
           }
          ],
          "histogram2dcontour": [
           {
            "colorbar": {
             "outlinewidth": 0,
             "ticks": ""
            },
            "colorscale": [
             [
              0,
              "#0d0887"
             ],
             [
              0.1111111111111111,
              "#46039f"
             ],
             [
              0.2222222222222222,
              "#7201a8"
             ],
             [
              0.3333333333333333,
              "#9c179e"
             ],
             [
              0.4444444444444444,
              "#bd3786"
             ],
             [
              0.5555555555555556,
              "#d8576b"
             ],
             [
              0.6666666666666666,
              "#ed7953"
             ],
             [
              0.7777777777777778,
              "#fb9f3a"
             ],
             [
              0.8888888888888888,
              "#fdca26"
             ],
             [
              1,
              "#f0f921"
             ]
            ],
            "type": "histogram2dcontour"
           }
          ],
          "histogram2d": [
           {
            "colorbar": {
             "outlinewidth": 0,
             "ticks": ""
            },
            "colorscale": [
             [
              0,
              "#0d0887"
             ],
             [
              0.1111111111111111,
              "#46039f"
             ],
             [
              0.2222222222222222,
              "#7201a8"
             ],
             [
              0.3333333333333333,
              "#9c179e"
             ],
             [
              0.4444444444444444,
              "#bd3786"
             ],
             [
              0.5555555555555556,
              "#d8576b"
             ],
             [
              0.6666666666666666,
              "#ed7953"
             ],
             [
              0.7777777777777778,
              "#fb9f3a"
             ],
             [
              0.8888888888888888,
              "#fdca26"
             ],
             [
              1,
              "#f0f921"
             ]
            ],
            "type": "histogram2d"
           }
          ],
          "histogram": [
           {
            "marker": {
             "pattern": {
              "fillmode": "overlay",
              "size": 10,
              "solidity": 0.2
             }
            },
            "type": "histogram"
           }
          ],
          "mesh3d": [
           {
            "colorbar": {
             "outlinewidth": 0,
             "ticks": ""
            },
            "type": "mesh3d"
           }
          ],
          "parcoords": [
           {
            "line": {
             "colorbar": {
              "outlinewidth": 0,
              "ticks": ""
             }
            },
            "type": "parcoords"
           }
          ],
          "pie": [
           {
            "automargin": true,
            "type": "pie"
           }
          ],
          "scatter3d": [
           {
            "line": {
             "colorbar": {
              "outlinewidth": 0,
              "ticks": ""
             }
            },
            "marker": {
             "colorbar": {
              "outlinewidth": 0,
              "ticks": ""
             }
            },
            "type": "scatter3d"
           }
          ],
          "scattercarpet": [
           {
            "marker": {
             "colorbar": {
              "outlinewidth": 0,
              "ticks": ""
             }
            },
            "type": "scattercarpet"
           }
          ],
          "scattergeo": [
           {
            "marker": {
             "colorbar": {
              "outlinewidth": 0,
              "ticks": ""
             }
            },
            "type": "scattergeo"
           }
          ],
          "scattergl": [
           {
            "marker": {
             "colorbar": {
              "outlinewidth": 0,
              "ticks": ""
             }
            },
            "type": "scattergl"
           }
          ],
          "scattermapbox": [
           {
            "marker": {
             "colorbar": {
              "outlinewidth": 0,
              "ticks": ""
             }
            },
            "type": "scattermapbox"
           }
          ],
          "scatterpolargl": [
           {
            "marker": {
             "colorbar": {
              "outlinewidth": 0,
              "ticks": ""
             }
            },
            "type": "scatterpolargl"
           }
          ],
          "scatterpolar": [
           {
            "marker": {
             "colorbar": {
              "outlinewidth": 0,
              "ticks": ""
             }
            },
            "type": "scatterpolar"
           }
          ],
          "scatter": [
           {
            "fillpattern": {
             "fillmode": "overlay",
             "size": 10,
             "solidity": 0.2
            },
            "type": "scatter"
           }
          ],
          "scatterternary": [
           {
            "marker": {
             "colorbar": {
              "outlinewidth": 0,
              "ticks": ""
             }
            },
            "type": "scatterternary"
           }
          ],
          "surface": [
           {
            "colorbar": {
             "outlinewidth": 0,
             "ticks": ""
            },
            "colorscale": [
             [
              0,
              "#0d0887"
             ],
             [
              0.1111111111111111,
              "#46039f"
             ],
             [
              0.2222222222222222,
              "#7201a8"
             ],
             [
              0.3333333333333333,
              "#9c179e"
             ],
             [
              0.4444444444444444,
              "#bd3786"
             ],
             [
              0.5555555555555556,
              "#d8576b"
             ],
             [
              0.6666666666666666,
              "#ed7953"
             ],
             [
              0.7777777777777778,
              "#fb9f3a"
             ],
             [
              0.8888888888888888,
              "#fdca26"
             ],
             [
              1,
              "#f0f921"
             ]
            ],
            "type": "surface"
           }
          ],
          "table": [
           {
            "cells": {
             "fill": {
              "color": "#EBF0F8"
             },
             "line": {
              "color": "white"
             }
            },
            "header": {
             "fill": {
              "color": "#C8D4E3"
             },
             "line": {
              "color": "white"
             }
            },
            "type": "table"
           }
          ]
         },
         "layout": {
          "annotationdefaults": {
           "arrowcolor": "#2a3f5f",
           "arrowhead": 0,
           "arrowwidth": 1
          },
          "autotypenumbers": "strict",
          "coloraxis": {
           "colorbar": {
            "outlinewidth": 0,
            "ticks": ""
           }
          },
          "colorscale": {
           "diverging": [
            [
             0,
             "#8e0152"
            ],
            [
             0.1,
             "#c51b7d"
            ],
            [
             0.2,
             "#de77ae"
            ],
            [
             0.3,
             "#f1b6da"
            ],
            [
             0.4,
             "#fde0ef"
            ],
            [
             0.5,
             "#f7f7f7"
            ],
            [
             0.6,
             "#e6f5d0"
            ],
            [
             0.7,
             "#b8e186"
            ],
            [
             0.8,
             "#7fbc41"
            ],
            [
             0.9,
             "#4d9221"
            ],
            [
             1,
             "#276419"
            ]
           ],
           "sequential": [
            [
             0,
             "#0d0887"
            ],
            [
             0.1111111111111111,
             "#46039f"
            ],
            [
             0.2222222222222222,
             "#7201a8"
            ],
            [
             0.3333333333333333,
             "#9c179e"
            ],
            [
             0.4444444444444444,
             "#bd3786"
            ],
            [
             0.5555555555555556,
             "#d8576b"
            ],
            [
             0.6666666666666666,
             "#ed7953"
            ],
            [
             0.7777777777777778,
             "#fb9f3a"
            ],
            [
             0.8888888888888888,
             "#fdca26"
            ],
            [
             1,
             "#f0f921"
            ]
           ],
           "sequentialminus": [
            [
             0,
             "#0d0887"
            ],
            [
             0.1111111111111111,
             "#46039f"
            ],
            [
             0.2222222222222222,
             "#7201a8"
            ],
            [
             0.3333333333333333,
             "#9c179e"
            ],
            [
             0.4444444444444444,
             "#bd3786"
            ],
            [
             0.5555555555555556,
             "#d8576b"
            ],
            [
             0.6666666666666666,
             "#ed7953"
            ],
            [
             0.7777777777777778,
             "#fb9f3a"
            ],
            [
             0.8888888888888888,
             "#fdca26"
            ],
            [
             1,
             "#f0f921"
            ]
           ]
          },
          "colorway": [
           "#636efa",
           "#EF553B",
           "#00cc96",
           "#ab63fa",
           "#FFA15A",
           "#19d3f3",
           "#FF6692",
           "#B6E880",
           "#FF97FF",
           "#FECB52"
          ],
          "font": {
           "color": "#2a3f5f"
          },
          "geo": {
           "bgcolor": "white",
           "lakecolor": "white",
           "landcolor": "white",
           "showlakes": true,
           "showland": true,
           "subunitcolor": "#C8D4E3"
          },
          "hoverlabel": {
           "align": "left"
          },
          "hovermode": "closest",
          "mapbox": {
           "style": "light"
          },
          "paper_bgcolor": "white",
          "plot_bgcolor": "white",
          "polar": {
           "angularaxis": {
            "gridcolor": "#EBF0F8",
            "linecolor": "#EBF0F8",
            "ticks": ""
           },
           "bgcolor": "white",
           "radialaxis": {
            "gridcolor": "#EBF0F8",
            "linecolor": "#EBF0F8",
            "ticks": ""
           }
          },
          "scene": {
           "xaxis": {
            "backgroundcolor": "white",
            "gridcolor": "#DFE8F3",
            "gridwidth": 2,
            "linecolor": "#EBF0F8",
            "showbackground": true,
            "ticks": "",
            "zerolinecolor": "#EBF0F8"
           },
           "yaxis": {
            "backgroundcolor": "white",
            "gridcolor": "#DFE8F3",
            "gridwidth": 2,
            "linecolor": "#EBF0F8",
            "showbackground": true,
            "ticks": "",
            "zerolinecolor": "#EBF0F8"
           },
           "zaxis": {
            "backgroundcolor": "white",
            "gridcolor": "#DFE8F3",
            "gridwidth": 2,
            "linecolor": "#EBF0F8",
            "showbackground": true,
            "ticks": "",
            "zerolinecolor": "#EBF0F8"
           }
          },
          "shapedefaults": {
           "line": {
            "color": "#2a3f5f"
           }
          },
          "ternary": {
           "aaxis": {
            "gridcolor": "#DFE8F3",
            "linecolor": "#A2B1C6",
            "ticks": ""
           },
           "baxis": {
            "gridcolor": "#DFE8F3",
            "linecolor": "#A2B1C6",
            "ticks": ""
           },
           "bgcolor": "white",
           "caxis": {
            "gridcolor": "#DFE8F3",
            "linecolor": "#A2B1C6",
            "ticks": ""
           }
          },
          "title": {
           "x": 0.05
          },
          "xaxis": {
           "automargin": true,
           "gridcolor": "#EBF0F8",
           "linecolor": "#EBF0F8",
           "ticks": "",
           "title": {
            "standoff": 15
           },
           "zerolinecolor": "#EBF0F8",
           "zerolinewidth": 2
          },
          "yaxis": {
           "automargin": true,
           "gridcolor": "#EBF0F8",
           "linecolor": "#EBF0F8",
           "ticks": "",
           "title": {
            "standoff": 15
           },
           "zerolinecolor": "#EBF0F8",
           "zerolinewidth": 2
          }
         }
        },
        "xaxis": {
         "anchor": "y",
         "domain": [
          0,
          1
         ],
         "title": {
          "text": "Date"
         },
         "type": "category",
         "categoryorder": "category ascending"
        },
        "yaxis": {
         "anchor": "x",
         "domain": [
          0,
          1
         ],
         "title": {
          "text": "Nomre de mention COP27 par jour"
         }
        },
        "legend": {
         "title": {
          "text": "Chaîne"
         },
         "tracegroupgap": 0
        },
        "title": {
         "text": "Evoluation des mentions au cours de la semaine pre COP 27 top 25 TV"
        },
        "height": 400
       },
       "config": {
        "plotlyServerURL": "https://plot.ly"
       }
      }
     },
     "metadata": {}
    }
   ],
   "metadata": {}
  },
  {
   "cell_type": "code",
   "execution_count": 19,
   "source": [
    "data_top_8_tv = data[data.channel_name.isin(TOP_CHANNELS_TV_8)]\n",
    "data_gb = data_top_8_tv.groupby(['channel_name', data_top_8_tv['date'].dt.date]).count()['text'].reset_index()\n",
    "data_gb.columns = ['Chaîne', 'Date', 'Nombre de mention']\n",
    "fig = px.area(\n",
    "    data_gb,\n",
    "    x = \"Date\", y = 'Nombre de mention',color = \"Chaîne\",\n",
    "    category_orders={\"TIME\":data_gb[\"Date\"].unique()},\n",
    "    title = \"Evoluation des mentions au cours de la semaine avant COP 27 top 8 TV\", height = 400,\n",
    ")\n",
    "fig.update_layout( xaxis=dict(type=\"category\", categoryorder='category ascending'),\n",
    "                     yaxis_title='Nomre de mention COP27 par jour')\n",
    "fig.show()"
   ],
   "outputs": [
    {
     "output_type": "display_data",
     "data": {
      "application/vnd.plotly.v1+json": {
       "data": [
        {
         "fillpattern": {
          "shape": ""
         },
         "hovertemplate": "Chaîne=BFMTV<br>Date=%{x}<br>Nombre de mention=%{y}<extra></extra>",
         "legendgroup": "BFMTV",
         "line": {
          "color": "rgb(95, 70, 144)"
         },
         "marker": {
          "symbol": "circle"
         },
         "mode": "lines",
         "name": "BFMTV",
         "orientation": "v",
         "showlegend": true,
         "stackgroup": "1",
         "x": [
          "2022-10-30",
          "2022-10-31",
          "2022-11-01",
          "2022-11-03",
          "2022-11-04",
          "2022-11-05"
         ],
         "xaxis": "x",
         "y": [
          5,
          2,
          2,
          2,
          3,
          19
         ],
         "yaxis": "y",
         "type": "scatter"
        },
        {
         "fillpattern": {
          "shape": ""
         },
         "hovertemplate": "Chaîne=CNEWS<br>Date=%{x}<br>Nombre de mention=%{y}<extra></extra>",
         "legendgroup": "CNEWS",
         "line": {
          "color": "rgb(29, 105, 150)"
         },
         "marker": {
          "symbol": "circle"
         },
         "mode": "lines",
         "name": "CNEWS",
         "orientation": "v",
         "showlegend": true,
         "stackgroup": "1",
         "x": [
          "2022-10-29",
          "2022-10-30",
          "2022-10-31",
          "2022-11-01",
          "2022-11-02",
          "2022-11-03",
          "2022-11-04",
          "2022-11-05"
         ],
         "xaxis": "x",
         "y": [
          2,
          1,
          4,
          7,
          7,
          2,
          6,
          2
         ],
         "yaxis": "y",
         "type": "scatter"
        },
        {
         "fillpattern": {
          "shape": ""
         },
         "hovertemplate": "Chaîne=Canal+<br>Date=%{x}<br>Nombre de mention=%{y}<extra></extra>",
         "legendgroup": "Canal+",
         "line": {
          "color": "rgb(56, 166, 165)"
         },
         "marker": {
          "symbol": "circle"
         },
         "mode": "lines",
         "name": "Canal+",
         "orientation": "v",
         "showlegend": true,
         "stackgroup": "1",
         "x": [
          "2022-10-31",
          "2022-11-01",
          "2022-11-04"
         ],
         "xaxis": "x",
         "y": [
          3,
          3,
          3
         ],
         "yaxis": "y",
         "type": "scatter"
        },
        {
         "fillpattern": {
          "shape": ""
         },
         "hovertemplate": "Chaîne=France 2<br>Date=%{x}<br>Nombre de mention=%{y}<extra></extra>",
         "legendgroup": "France 2",
         "line": {
          "color": "rgb(15, 133, 84)"
         },
         "marker": {
          "symbol": "circle"
         },
         "mode": "lines",
         "name": "France 2",
         "orientation": "v",
         "showlegend": true,
         "stackgroup": "1",
         "x": [
          "2022-10-31",
          "2022-11-01",
          "2022-11-02",
          "2022-11-03",
          "2022-11-04",
          "2022-11-05"
         ],
         "xaxis": "x",
         "y": [
          1,
          4,
          3,
          7,
          13,
          5
         ],
         "yaxis": "y",
         "type": "scatter"
        },
        {
         "fillpattern": {
          "shape": ""
         },
         "hovertemplate": "Chaîne=France 5<br>Date=%{x}<br>Nombre de mention=%{y}<extra></extra>",
         "legendgroup": "France 5",
         "line": {
          "color": "rgb(115, 175, 72)"
         },
         "marker": {
          "symbol": "circle"
         },
         "mode": "lines",
         "name": "France 5",
         "orientation": "v",
         "showlegend": true,
         "stackgroup": "1",
         "x": [
          "2022-10-29",
          "2022-10-30",
          "2022-10-31",
          "2022-11-01",
          "2022-11-02",
          "2022-11-04"
         ],
         "xaxis": "x",
         "y": [
          1,
          2,
          2,
          2,
          20,
          8
         ],
         "yaxis": "y",
         "type": "scatter"
        },
        {
         "fillpattern": {
          "shape": ""
         },
         "hovertemplate": "Chaîne=M6<br>Date=%{x}<br>Nombre de mention=%{y}<extra></extra>",
         "legendgroup": "M6",
         "line": {
          "color": "rgb(237, 173, 8)"
         },
         "marker": {
          "symbol": "circle"
         },
         "mode": "lines",
         "name": "M6",
         "orientation": "v",
         "showlegend": true,
         "stackgroup": "1",
         "x": [
          "2022-10-31",
          "2022-11-01",
          "2022-11-04"
         ],
         "xaxis": "x",
         "y": [
          1,
          2,
          1
         ],
         "yaxis": "y",
         "type": "scatter"
        },
        {
         "fillpattern": {
          "shape": ""
         },
         "hovertemplate": "Chaîne=TF1<br>Date=%{x}<br>Nombre de mention=%{y}<extra></extra>",
         "legendgroup": "TF1",
         "line": {
          "color": "rgb(225, 124, 5)"
         },
         "marker": {
          "symbol": "circle"
         },
         "mode": "lines",
         "name": "TF1",
         "orientation": "v",
         "showlegend": true,
         "stackgroup": "1",
         "x": [
          "2022-10-30",
          "2022-10-31",
          "2022-11-01",
          "2022-11-02",
          "2022-11-03",
          "2022-11-04"
         ],
         "xaxis": "x",
         "y": [
          1,
          2,
          2,
          1,
          1,
          4
         ],
         "yaxis": "y",
         "type": "scatter"
        }
       ],
       "layout": {
        "template": {
         "data": {
          "barpolar": [
           {
            "marker": {
             "line": {
              "color": "white",
              "width": 0.5
             },
             "pattern": {
              "fillmode": "overlay",
              "size": 10,
              "solidity": 0.2
             }
            },
            "type": "barpolar"
           }
          ],
          "bar": [
           {
            "error_x": {
             "color": "#2a3f5f"
            },
            "error_y": {
             "color": "#2a3f5f"
            },
            "marker": {
             "line": {
              "color": "white",
              "width": 0.5
             },
             "pattern": {
              "fillmode": "overlay",
              "size": 10,
              "solidity": 0.2
             }
            },
            "type": "bar"
           }
          ],
          "carpet": [
           {
            "aaxis": {
             "endlinecolor": "#2a3f5f",
             "gridcolor": "#C8D4E3",
             "linecolor": "#C8D4E3",
             "minorgridcolor": "#C8D4E3",
             "startlinecolor": "#2a3f5f"
            },
            "baxis": {
             "endlinecolor": "#2a3f5f",
             "gridcolor": "#C8D4E3",
             "linecolor": "#C8D4E3",
             "minorgridcolor": "#C8D4E3",
             "startlinecolor": "#2a3f5f"
            },
            "type": "carpet"
           }
          ],
          "choropleth": [
           {
            "colorbar": {
             "outlinewidth": 0,
             "ticks": ""
            },
            "type": "choropleth"
           }
          ],
          "contourcarpet": [
           {
            "colorbar": {
             "outlinewidth": 0,
             "ticks": ""
            },
            "type": "contourcarpet"
           }
          ],
          "contour": [
           {
            "colorbar": {
             "outlinewidth": 0,
             "ticks": ""
            },
            "colorscale": [
             [
              0,
              "#0d0887"
             ],
             [
              0.1111111111111111,
              "#46039f"
             ],
             [
              0.2222222222222222,
              "#7201a8"
             ],
             [
              0.3333333333333333,
              "#9c179e"
             ],
             [
              0.4444444444444444,
              "#bd3786"
             ],
             [
              0.5555555555555556,
              "#d8576b"
             ],
             [
              0.6666666666666666,
              "#ed7953"
             ],
             [
              0.7777777777777778,
              "#fb9f3a"
             ],
             [
              0.8888888888888888,
              "#fdca26"
             ],
             [
              1,
              "#f0f921"
             ]
            ],
            "type": "contour"
           }
          ],
          "heatmapgl": [
           {
            "colorbar": {
             "outlinewidth": 0,
             "ticks": ""
            },
            "colorscale": [
             [
              0,
              "#0d0887"
             ],
             [
              0.1111111111111111,
              "#46039f"
             ],
             [
              0.2222222222222222,
              "#7201a8"
             ],
             [
              0.3333333333333333,
              "#9c179e"
             ],
             [
              0.4444444444444444,
              "#bd3786"
             ],
             [
              0.5555555555555556,
              "#d8576b"
             ],
             [
              0.6666666666666666,
              "#ed7953"
             ],
             [
              0.7777777777777778,
              "#fb9f3a"
             ],
             [
              0.8888888888888888,
              "#fdca26"
             ],
             [
              1,
              "#f0f921"
             ]
            ],
            "type": "heatmapgl"
           }
          ],
          "heatmap": [
           {
            "colorbar": {
             "outlinewidth": 0,
             "ticks": ""
            },
            "colorscale": [
             [
              0,
              "#0d0887"
             ],
             [
              0.1111111111111111,
              "#46039f"
             ],
             [
              0.2222222222222222,
              "#7201a8"
             ],
             [
              0.3333333333333333,
              "#9c179e"
             ],
             [
              0.4444444444444444,
              "#bd3786"
             ],
             [
              0.5555555555555556,
              "#d8576b"
             ],
             [
              0.6666666666666666,
              "#ed7953"
             ],
             [
              0.7777777777777778,
              "#fb9f3a"
             ],
             [
              0.8888888888888888,
              "#fdca26"
             ],
             [
              1,
              "#f0f921"
             ]
            ],
            "type": "heatmap"
           }
          ],
          "histogram2dcontour": [
           {
            "colorbar": {
             "outlinewidth": 0,
             "ticks": ""
            },
            "colorscale": [
             [
              0,
              "#0d0887"
             ],
             [
              0.1111111111111111,
              "#46039f"
             ],
             [
              0.2222222222222222,
              "#7201a8"
             ],
             [
              0.3333333333333333,
              "#9c179e"
             ],
             [
              0.4444444444444444,
              "#bd3786"
             ],
             [
              0.5555555555555556,
              "#d8576b"
             ],
             [
              0.6666666666666666,
              "#ed7953"
             ],
             [
              0.7777777777777778,
              "#fb9f3a"
             ],
             [
              0.8888888888888888,
              "#fdca26"
             ],
             [
              1,
              "#f0f921"
             ]
            ],
            "type": "histogram2dcontour"
           }
          ],
          "histogram2d": [
           {
            "colorbar": {
             "outlinewidth": 0,
             "ticks": ""
            },
            "colorscale": [
             [
              0,
              "#0d0887"
             ],
             [
              0.1111111111111111,
              "#46039f"
             ],
             [
              0.2222222222222222,
              "#7201a8"
             ],
             [
              0.3333333333333333,
              "#9c179e"
             ],
             [
              0.4444444444444444,
              "#bd3786"
             ],
             [
              0.5555555555555556,
              "#d8576b"
             ],
             [
              0.6666666666666666,
              "#ed7953"
             ],
             [
              0.7777777777777778,
              "#fb9f3a"
             ],
             [
              0.8888888888888888,
              "#fdca26"
             ],
             [
              1,
              "#f0f921"
             ]
            ],
            "type": "histogram2d"
           }
          ],
          "histogram": [
           {
            "marker": {
             "pattern": {
              "fillmode": "overlay",
              "size": 10,
              "solidity": 0.2
             }
            },
            "type": "histogram"
           }
          ],
          "mesh3d": [
           {
            "colorbar": {
             "outlinewidth": 0,
             "ticks": ""
            },
            "type": "mesh3d"
           }
          ],
          "parcoords": [
           {
            "line": {
             "colorbar": {
              "outlinewidth": 0,
              "ticks": ""
             }
            },
            "type": "parcoords"
           }
          ],
          "pie": [
           {
            "automargin": true,
            "type": "pie"
           }
          ],
          "scatter3d": [
           {
            "line": {
             "colorbar": {
              "outlinewidth": 0,
              "ticks": ""
             }
            },
            "marker": {
             "colorbar": {
              "outlinewidth": 0,
              "ticks": ""
             }
            },
            "type": "scatter3d"
           }
          ],
          "scattercarpet": [
           {
            "marker": {
             "colorbar": {
              "outlinewidth": 0,
              "ticks": ""
             }
            },
            "type": "scattercarpet"
           }
          ],
          "scattergeo": [
           {
            "marker": {
             "colorbar": {
              "outlinewidth": 0,
              "ticks": ""
             }
            },
            "type": "scattergeo"
           }
          ],
          "scattergl": [
           {
            "marker": {
             "colorbar": {
              "outlinewidth": 0,
              "ticks": ""
             }
            },
            "type": "scattergl"
           }
          ],
          "scattermapbox": [
           {
            "marker": {
             "colorbar": {
              "outlinewidth": 0,
              "ticks": ""
             }
            },
            "type": "scattermapbox"
           }
          ],
          "scatterpolargl": [
           {
            "marker": {
             "colorbar": {
              "outlinewidth": 0,
              "ticks": ""
             }
            },
            "type": "scatterpolargl"
           }
          ],
          "scatterpolar": [
           {
            "marker": {
             "colorbar": {
              "outlinewidth": 0,
              "ticks": ""
             }
            },
            "type": "scatterpolar"
           }
          ],
          "scatter": [
           {
            "fillpattern": {
             "fillmode": "overlay",
             "size": 10,
             "solidity": 0.2
            },
            "type": "scatter"
           }
          ],
          "scatterternary": [
           {
            "marker": {
             "colorbar": {
              "outlinewidth": 0,
              "ticks": ""
             }
            },
            "type": "scatterternary"
           }
          ],
          "surface": [
           {
            "colorbar": {
             "outlinewidth": 0,
             "ticks": ""
            },
            "colorscale": [
             [
              0,
              "#0d0887"
             ],
             [
              0.1111111111111111,
              "#46039f"
             ],
             [
              0.2222222222222222,
              "#7201a8"
             ],
             [
              0.3333333333333333,
              "#9c179e"
             ],
             [
              0.4444444444444444,
              "#bd3786"
             ],
             [
              0.5555555555555556,
              "#d8576b"
             ],
             [
              0.6666666666666666,
              "#ed7953"
             ],
             [
              0.7777777777777778,
              "#fb9f3a"
             ],
             [
              0.8888888888888888,
              "#fdca26"
             ],
             [
              1,
              "#f0f921"
             ]
            ],
            "type": "surface"
           }
          ],
          "table": [
           {
            "cells": {
             "fill": {
              "color": "#EBF0F8"
             },
             "line": {
              "color": "white"
             }
            },
            "header": {
             "fill": {
              "color": "#C8D4E3"
             },
             "line": {
              "color": "white"
             }
            },
            "type": "table"
           }
          ]
         },
         "layout": {
          "annotationdefaults": {
           "arrowcolor": "#2a3f5f",
           "arrowhead": 0,
           "arrowwidth": 1
          },
          "autotypenumbers": "strict",
          "coloraxis": {
           "colorbar": {
            "outlinewidth": 0,
            "ticks": ""
           }
          },
          "colorscale": {
           "diverging": [
            [
             0,
             "#8e0152"
            ],
            [
             0.1,
             "#c51b7d"
            ],
            [
             0.2,
             "#de77ae"
            ],
            [
             0.3,
             "#f1b6da"
            ],
            [
             0.4,
             "#fde0ef"
            ],
            [
             0.5,
             "#f7f7f7"
            ],
            [
             0.6,
             "#e6f5d0"
            ],
            [
             0.7,
             "#b8e186"
            ],
            [
             0.8,
             "#7fbc41"
            ],
            [
             0.9,
             "#4d9221"
            ],
            [
             1,
             "#276419"
            ]
           ],
           "sequential": [
            [
             0,
             "#0d0887"
            ],
            [
             0.1111111111111111,
             "#46039f"
            ],
            [
             0.2222222222222222,
             "#7201a8"
            ],
            [
             0.3333333333333333,
             "#9c179e"
            ],
            [
             0.4444444444444444,
             "#bd3786"
            ],
            [
             0.5555555555555556,
             "#d8576b"
            ],
            [
             0.6666666666666666,
             "#ed7953"
            ],
            [
             0.7777777777777778,
             "#fb9f3a"
            ],
            [
             0.8888888888888888,
             "#fdca26"
            ],
            [
             1,
             "#f0f921"
            ]
           ],
           "sequentialminus": [
            [
             0,
             "#0d0887"
            ],
            [
             0.1111111111111111,
             "#46039f"
            ],
            [
             0.2222222222222222,
             "#7201a8"
            ],
            [
             0.3333333333333333,
             "#9c179e"
            ],
            [
             0.4444444444444444,
             "#bd3786"
            ],
            [
             0.5555555555555556,
             "#d8576b"
            ],
            [
             0.6666666666666666,
             "#ed7953"
            ],
            [
             0.7777777777777778,
             "#fb9f3a"
            ],
            [
             0.8888888888888888,
             "#fdca26"
            ],
            [
             1,
             "#f0f921"
            ]
           ]
          },
          "colorway": [
           "#636efa",
           "#EF553B",
           "#00cc96",
           "#ab63fa",
           "#FFA15A",
           "#19d3f3",
           "#FF6692",
           "#B6E880",
           "#FF97FF",
           "#FECB52"
          ],
          "font": {
           "color": "#2a3f5f"
          },
          "geo": {
           "bgcolor": "white",
           "lakecolor": "white",
           "landcolor": "white",
           "showlakes": true,
           "showland": true,
           "subunitcolor": "#C8D4E3"
          },
          "hoverlabel": {
           "align": "left"
          },
          "hovermode": "closest",
          "mapbox": {
           "style": "light"
          },
          "paper_bgcolor": "white",
          "plot_bgcolor": "white",
          "polar": {
           "angularaxis": {
            "gridcolor": "#EBF0F8",
            "linecolor": "#EBF0F8",
            "ticks": ""
           },
           "bgcolor": "white",
           "radialaxis": {
            "gridcolor": "#EBF0F8",
            "linecolor": "#EBF0F8",
            "ticks": ""
           }
          },
          "scene": {
           "xaxis": {
            "backgroundcolor": "white",
            "gridcolor": "#DFE8F3",
            "gridwidth": 2,
            "linecolor": "#EBF0F8",
            "showbackground": true,
            "ticks": "",
            "zerolinecolor": "#EBF0F8"
           },
           "yaxis": {
            "backgroundcolor": "white",
            "gridcolor": "#DFE8F3",
            "gridwidth": 2,
            "linecolor": "#EBF0F8",
            "showbackground": true,
            "ticks": "",
            "zerolinecolor": "#EBF0F8"
           },
           "zaxis": {
            "backgroundcolor": "white",
            "gridcolor": "#DFE8F3",
            "gridwidth": 2,
            "linecolor": "#EBF0F8",
            "showbackground": true,
            "ticks": "",
            "zerolinecolor": "#EBF0F8"
           }
          },
          "shapedefaults": {
           "line": {
            "color": "#2a3f5f"
           }
          },
          "ternary": {
           "aaxis": {
            "gridcolor": "#DFE8F3",
            "linecolor": "#A2B1C6",
            "ticks": ""
           },
           "baxis": {
            "gridcolor": "#DFE8F3",
            "linecolor": "#A2B1C6",
            "ticks": ""
           },
           "bgcolor": "white",
           "caxis": {
            "gridcolor": "#DFE8F3",
            "linecolor": "#A2B1C6",
            "ticks": ""
           }
          },
          "title": {
           "x": 0.05
          },
          "xaxis": {
           "automargin": true,
           "gridcolor": "#EBF0F8",
           "linecolor": "#EBF0F8",
           "ticks": "",
           "title": {
            "standoff": 15
           },
           "zerolinecolor": "#EBF0F8",
           "zerolinewidth": 2
          },
          "yaxis": {
           "automargin": true,
           "gridcolor": "#EBF0F8",
           "linecolor": "#EBF0F8",
           "ticks": "",
           "title": {
            "standoff": 15
           },
           "zerolinecolor": "#EBF0F8",
           "zerolinewidth": 2
          }
         }
        },
        "xaxis": {
         "anchor": "y",
         "domain": [
          0,
          1
         ],
         "title": {
          "text": "Date"
         },
         "type": "category",
         "categoryorder": "category ascending"
        },
        "yaxis": {
         "anchor": "x",
         "domain": [
          0,
          1
         ],
         "title": {
          "text": "Nomre de mention COP27 par jour"
         }
        },
        "legend": {
         "title": {
          "text": "Chaîne"
         },
         "tracegroupgap": 0
        },
        "title": {
         "text": "Evoluation des mentions au cours de la semaine avant COP 27 top 8 TV"
        },
        "height": 400
       },
       "config": {
        "plotlyServerURL": "https://plot.ly"
       }
      }
     },
     "metadata": {}
    }
   ],
   "metadata": {}
  },
  {
   "cell_type": "markdown",
   "source": [
    "## All"
   ],
   "metadata": {}
  },
  {
   "cell_type": "code",
   "execution_count": 20,
   "source": [
    "data_radio = data[data.radio]\n",
    "data_gb = data_radio.groupby(['channel_name', data_radio['date'].dt.date]).count()['text'].reset_index()\n",
    "data_gb.columns = ['Chaîne', 'Date', 'Nombre de mention']\n",
    "fig = px.area(\n",
    "    data_gb,\n",
    "    x = \"Date\", y = 'Nombre de mention',color = \"Chaîne\",\n",
    "    category_orders={\"TIME\":data_gb[\"Date\"].unique()},\n",
    "    title = \"Evoluation des mentions au cours de la semaine avant COP 27 toutes radio confondues\", height = 400,\n",
    ")\n",
    "fig.update_layout( xaxis=dict(type=\"category\", categoryorder='category ascending'),\n",
    "                     yaxis_title='Nomre de mention COP27 par jour')\n",
    "fig.show()"
   ],
   "outputs": [
    {
     "output_type": "display_data",
     "data": {
      "application/vnd.plotly.v1+json": {
       "data": [
        {
         "fillpattern": {
          "shape": ""
         },
         "hovertemplate": "Chaîne=100% Catalogne<br>Date=%{x}<br>Nombre de mention=%{y}<extra></extra>",
         "legendgroup": "100% Catalogne",
         "line": {
          "color": "rgb(95, 70, 144)"
         },
         "marker": {
          "symbol": "circle"
         },
         "mode": "lines",
         "name": "100% Catalogne",
         "orientation": "v",
         "showlegend": true,
         "stackgroup": "1",
         "x": [
          "2022-11-03",
          "2022-11-05"
         ],
         "xaxis": "x",
         "y": [
          1,
          2
         ],
         "yaxis": "y",
         "type": "scatter"
        },
        {
         "fillpattern": {
          "shape": ""
         },
         "hovertemplate": "Chaîne=Activ'Radio<br>Date=%{x}<br>Nombre de mention=%{y}<extra></extra>",
         "legendgroup": "Activ'Radio",
         "line": {
          "color": "rgb(29, 105, 150)"
         },
         "marker": {
          "symbol": "circle"
         },
         "mode": "lines",
         "name": "Activ'Radio",
         "orientation": "v",
         "showlegend": true,
         "stackgroup": "1",
         "x": [
          "2022-11-02"
         ],
         "xaxis": "x",
         "y": [
          1
         ],
         "yaxis": "y",
         "type": "scatter"
        },
        {
         "fillpattern": {
          "shape": ""
         },
         "hovertemplate": "Chaîne=Africa Radio<br>Date=%{x}<br>Nombre de mention=%{y}<extra></extra>",
         "legendgroup": "Africa Radio",
         "line": {
          "color": "rgb(56, 166, 165)"
         },
         "marker": {
          "symbol": "circle"
         },
         "mode": "lines",
         "name": "Africa Radio",
         "orientation": "v",
         "showlegend": true,
         "stackgroup": "1",
         "x": [
          "2022-11-02"
         ],
         "xaxis": "x",
         "y": [
          1
         ],
         "yaxis": "y",
         "type": "scatter"
        },
        {
         "fillpattern": {
          "shape": ""
         },
         "hovertemplate": "Chaîne=Alpes 1 - Alpes du Sud<br>Date=%{x}<br>Nombre de mention=%{y}<extra></extra>",
         "legendgroup": "Alpes 1 - Alpes du Sud",
         "line": {
          "color": "rgb(15, 133, 84)"
         },
         "marker": {
          "symbol": "circle"
         },
         "mode": "lines",
         "name": "Alpes 1 - Alpes du Sud",
         "orientation": "v",
         "showlegend": true,
         "stackgroup": "1",
         "x": [
          "2022-11-02",
          "2022-11-03",
          "2022-11-04"
         ],
         "xaxis": "x",
         "y": [
          1,
          2,
          4
         ],
         "yaxis": "y",
         "type": "scatter"
        },
        {
         "fillpattern": {
          "shape": ""
         },
         "hovertemplate": "Chaîne=Alpes 1 Grenoble<br>Date=%{x}<br>Nombre de mention=%{y}<extra></extra>",
         "legendgroup": "Alpes 1 Grenoble",
         "line": {
          "color": "rgb(115, 175, 72)"
         },
         "marker": {
          "symbol": "circle"
         },
         "mode": "lines",
         "name": "Alpes 1 Grenoble",
         "orientation": "v",
         "showlegend": true,
         "stackgroup": "1",
         "x": [
          "2022-11-04",
          "2022-11-05"
         ],
         "xaxis": "x",
         "y": [
          1,
          1
         ],
         "yaxis": "y",
         "type": "scatter"
        },
        {
         "fillpattern": {
          "shape": ""
         },
         "hovertemplate": "Chaîne=Alta Frequenza<br>Date=%{x}<br>Nombre de mention=%{y}<extra></extra>",
         "legendgroup": "Alta Frequenza",
         "line": {
          "color": "rgb(237, 173, 8)"
         },
         "marker": {
          "symbol": "circle"
         },
         "mode": "lines",
         "name": "Alta Frequenza",
         "orientation": "v",
         "showlegend": true,
         "stackgroup": "1",
         "x": [
          "2022-11-03",
          "2022-11-04",
          "2022-11-05"
         ],
         "xaxis": "x",
         "y": [
          1,
          1,
          1
         ],
         "yaxis": "y",
         "type": "scatter"
        },
        {
         "fillpattern": {
          "shape": ""
         },
         "hovertemplate": "Chaîne=Attitude FM<br>Date=%{x}<br>Nombre de mention=%{y}<extra></extra>",
         "legendgroup": "Attitude FM",
         "line": {
          "color": "rgb(225, 124, 5)"
         },
         "marker": {
          "symbol": "circle"
         },
         "mode": "lines",
         "name": "Attitude FM",
         "orientation": "v",
         "showlegend": true,
         "stackgroup": "1",
         "x": [
          "2022-10-29",
          "2022-11-05"
         ],
         "xaxis": "x",
         "y": [
          2,
          6
         ],
         "yaxis": "y",
         "type": "scatter"
        },
        {
         "fillpattern": {
          "shape": ""
         },
         "hovertemplate": "Chaîne=BFM Business Radio<br>Date=%{x}<br>Nombre de mention=%{y}<extra></extra>",
         "legendgroup": "BFM Business Radio",
         "line": {
          "color": "rgb(204, 80, 62)"
         },
         "marker": {
          "symbol": "circle"
         },
         "mode": "lines",
         "name": "BFM Business Radio",
         "orientation": "v",
         "showlegend": true,
         "stackgroup": "1",
         "x": [
          "2022-10-29",
          "2022-10-30",
          "2022-10-31",
          "2022-11-01",
          "2022-11-02",
          "2022-11-03",
          "2022-11-04",
          "2022-11-05"
         ],
         "xaxis": "x",
         "y": [
          2,
          3,
          18,
          5,
          18,
          12,
          37,
          10
         ],
         "yaxis": "y",
         "type": "scatter"
        },
        {
         "fillpattern": {
          "shape": ""
         },
         "hovertemplate": "Chaîne=Beaub'FM<br>Date=%{x}<br>Nombre de mention=%{y}<extra></extra>",
         "legendgroup": "Beaub'FM",
         "line": {
          "color": "rgb(148, 52, 110)"
         },
         "marker": {
          "symbol": "circle"
         },
         "mode": "lines",
         "name": "Beaub'FM",
         "orientation": "v",
         "showlegend": true,
         "stackgroup": "1",
         "x": [
          "2022-11-04"
         ],
         "xaxis": "x",
         "y": [
          2
         ],
         "yaxis": "y",
         "type": "scatter"
        },
        {
         "fillpattern": {
          "shape": ""
         },
         "hovertemplate": "Chaîne=Bergerac 95<br>Date=%{x}<br>Nombre de mention=%{y}<extra></extra>",
         "legendgroup": "Bergerac 95",
         "line": {
          "color": "rgb(111, 64, 112)"
         },
         "marker": {
          "symbol": "circle"
         },
         "mode": "lines",
         "name": "Bergerac 95",
         "orientation": "v",
         "showlegend": true,
         "stackgroup": "1",
         "x": [
          "2022-11-03",
          "2022-11-04",
          "2022-11-05"
         ],
         "xaxis": "x",
         "y": [
          1,
          1,
          2
         ],
         "yaxis": "y",
         "type": "scatter"
        },
        {
         "fillpattern": {
          "shape": ""
         },
         "hovertemplate": "Chaîne=Bulle FM<br>Date=%{x}<br>Nombre de mention=%{y}<extra></extra>",
         "legendgroup": "Bulle FM",
         "line": {
          "color": "rgb(102, 102, 102)"
         },
         "marker": {
          "symbol": "circle"
         },
         "mode": "lines",
         "name": "Bulle FM",
         "orientation": "v",
         "showlegend": true,
         "stackgroup": "1",
         "x": [
          "2022-10-31",
          "2022-11-02",
          "2022-11-03"
         ],
         "xaxis": "x",
         "y": [
          1,
          1,
          2
         ],
         "yaxis": "y",
         "type": "scatter"
        },
        {
         "fillpattern": {
          "shape": ""
         },
         "hovertemplate": "Chaîne=CFM<br>Date=%{x}<br>Nombre de mention=%{y}<extra></extra>",
         "legendgroup": "CFM",
         "line": {
          "color": "rgb(95, 70, 144)"
         },
         "marker": {
          "symbol": "circle"
         },
         "mode": "lines",
         "name": "CFM",
         "orientation": "v",
         "showlegend": true,
         "stackgroup": "1",
         "x": [
          "2022-11-02",
          "2022-11-03",
          "2022-11-04",
          "2022-11-05"
         ],
         "xaxis": "x",
         "y": [
          4,
          2,
          2,
          1
         ],
         "yaxis": "y",
         "type": "scatter"
        },
        {
         "fillpattern": {
          "shape": ""
         },
         "hovertemplate": "Chaîne=Cannes Radio<br>Date=%{x}<br>Nombre de mention=%{y}<extra></extra>",
         "legendgroup": "Cannes Radio",
         "line": {
          "color": "rgb(29, 105, 150)"
         },
         "marker": {
          "symbol": "circle"
         },
         "mode": "lines",
         "name": "Cannes Radio",
         "orientation": "v",
         "showlegend": true,
         "stackgroup": "1",
         "x": [
          "2022-11-05"
         ],
         "xaxis": "x",
         "y": [
          1
         ],
         "yaxis": "y",
         "type": "scatter"
        },
        {
         "fillpattern": {
          "shape": ""
         },
         "hovertemplate": "Chaîne=Cause Commune<br>Date=%{x}<br>Nombre de mention=%{y}<extra></extra>",
         "legendgroup": "Cause Commune",
         "line": {
          "color": "rgb(56, 166, 165)"
         },
         "marker": {
          "symbol": "circle"
         },
         "mode": "lines",
         "name": "Cause Commune",
         "orientation": "v",
         "showlegend": true,
         "stackgroup": "1",
         "x": [
          "2022-11-01"
         ],
         "xaxis": "x",
         "y": [
          1
         ],
         "yaxis": "y",
         "type": "scatter"
        },
        {
         "fillpattern": {
          "shape": ""
         },
         "hovertemplate": "Chaîne=Champagne FM<br>Date=%{x}<br>Nombre de mention=%{y}<extra></extra>",
         "legendgroup": "Champagne FM",
         "line": {
          "color": "rgb(15, 133, 84)"
         },
         "marker": {
          "symbol": "circle"
         },
         "mode": "lines",
         "name": "Champagne FM",
         "orientation": "v",
         "showlegend": true,
         "stackgroup": "1",
         "x": [
          "2022-10-31",
          "2022-11-02",
          "2022-11-04"
         ],
         "xaxis": "x",
         "y": [
          1,
          1,
          2
         ],
         "yaxis": "y",
         "type": "scatter"
        },
        {
         "fillpattern": {
          "shape": ""
         },
         "hovertemplate": "Chaîne=Cherie FM Hauts de France<br>Date=%{x}<br>Nombre de mention=%{y}<extra></extra>",
         "legendgroup": "Cherie FM Hauts de France",
         "line": {
          "color": "rgb(115, 175, 72)"
         },
         "marker": {
          "symbol": "circle"
         },
         "mode": "lines",
         "name": "Cherie FM Hauts de France",
         "orientation": "v",
         "showlegend": true,
         "stackgroup": "1",
         "x": [
          "2022-11-02"
         ],
         "xaxis": "x",
         "y": [
          1
         ],
         "yaxis": "y",
         "type": "scatter"
        },
        {
         "fillpattern": {
          "shape": ""
         },
         "hovertemplate": "Chaîne=Chérie Drôme Ardèche<br>Date=%{x}<br>Nombre de mention=%{y}<extra></extra>",
         "legendgroup": "Chérie Drôme Ardèche",
         "line": {
          "color": "rgb(237, 173, 8)"
         },
         "marker": {
          "symbol": "circle"
         },
         "mode": "lines",
         "name": "Chérie Drôme Ardèche",
         "orientation": "v",
         "showlegend": true,
         "stackgroup": "1",
         "x": [
          "2022-10-31"
         ],
         "xaxis": "x",
         "y": [
          1
         ],
         "yaxis": "y",
         "type": "scatter"
        },
        {
         "fillpattern": {
          "shape": ""
         },
         "hovertemplate": "Chaîne=Chérie FM<br>Date=%{x}<br>Nombre de mention=%{y}<extra></extra>",
         "legendgroup": "Chérie FM",
         "line": {
          "color": "rgb(225, 124, 5)"
         },
         "marker": {
          "symbol": "circle"
         },
         "mode": "lines",
         "name": "Chérie FM",
         "orientation": "v",
         "showlegend": true,
         "stackgroup": "1",
         "x": [
          "2022-11-02",
          "2022-11-04",
          "2022-11-05"
         ],
         "xaxis": "x",
         "y": [
          2,
          1,
          2
         ],
         "yaxis": "y",
         "type": "scatter"
        },
        {
         "fillpattern": {
          "shape": ""
         },
         "hovertemplate": "Chaîne=Chérie FM Amiens<br>Date=%{x}<br>Nombre de mention=%{y}<extra></extra>",
         "legendgroup": "Chérie FM Amiens",
         "line": {
          "color": "rgb(204, 80, 62)"
         },
         "marker": {
          "symbol": "circle"
         },
         "mode": "lines",
         "name": "Chérie FM Amiens",
         "orientation": "v",
         "showlegend": true,
         "stackgroup": "1",
         "x": [
          "2022-11-02"
         ],
         "xaxis": "x",
         "y": [
          1
         ],
         "yaxis": "y",
         "type": "scatter"
        },
        {
         "fillpattern": {
          "shape": ""
         },
         "hovertemplate": "Chaîne=Chérie FM Besançon<br>Date=%{x}<br>Nombre de mention=%{y}<extra></extra>",
         "legendgroup": "Chérie FM Besançon",
         "line": {
          "color": "rgb(148, 52, 110)"
         },
         "marker": {
          "symbol": "circle"
         },
         "mode": "lines",
         "name": "Chérie FM Besançon",
         "orientation": "v",
         "showlegend": true,
         "stackgroup": "1",
         "x": [
          "2022-11-04"
         ],
         "xaxis": "x",
         "y": [
          2
         ],
         "yaxis": "y",
         "type": "scatter"
        },
        {
         "fillpattern": {
          "shape": ""
         },
         "hovertemplate": "Chaîne=Chérie FM Brest<br>Date=%{x}<br>Nombre de mention=%{y}<extra></extra>",
         "legendgroup": "Chérie FM Brest",
         "line": {
          "color": "rgb(111, 64, 112)"
         },
         "marker": {
          "symbol": "circle"
         },
         "mode": "lines",
         "name": "Chérie FM Brest",
         "orientation": "v",
         "showlegend": true,
         "stackgroup": "1",
         "x": [
          "2022-11-02"
         ],
         "xaxis": "x",
         "y": [
          2
         ],
         "yaxis": "y",
         "type": "scatter"
        },
        {
         "fillpattern": {
          "shape": ""
         },
         "hovertemplate": "Chaîne=Chérie FM Béziers<br>Date=%{x}<br>Nombre de mention=%{y}<extra></extra>",
         "legendgroup": "Chérie FM Béziers",
         "line": {
          "color": "rgb(102, 102, 102)"
         },
         "marker": {
          "symbol": "circle"
         },
         "mode": "lines",
         "name": "Chérie FM Béziers",
         "orientation": "v",
         "showlegend": true,
         "stackgroup": "1",
         "x": [
          "2022-11-04"
         ],
         "xaxis": "x",
         "y": [
          1
         ],
         "yaxis": "y",
         "type": "scatter"
        },
        {
         "fillpattern": {
          "shape": ""
         },
         "hovertemplate": "Chaîne=Chérie FM Chartres<br>Date=%{x}<br>Nombre de mention=%{y}<extra></extra>",
         "legendgroup": "Chérie FM Chartres",
         "line": {
          "color": "rgb(95, 70, 144)"
         },
         "marker": {
          "symbol": "circle"
         },
         "mode": "lines",
         "name": "Chérie FM Chartres",
         "orientation": "v",
         "showlegend": true,
         "stackgroup": "1",
         "x": [
          "2022-11-02"
         ],
         "xaxis": "x",
         "y": [
          1
         ],
         "yaxis": "y",
         "type": "scatter"
        },
        {
         "fillpattern": {
          "shape": ""
         },
         "hovertemplate": "Chaîne=Chérie FM Clermont-Ferrand<br>Date=%{x}<br>Nombre de mention=%{y}<extra></extra>",
         "legendgroup": "Chérie FM Clermont-Ferrand",
         "line": {
          "color": "rgb(29, 105, 150)"
         },
         "marker": {
          "symbol": "circle"
         },
         "mode": "lines",
         "name": "Chérie FM Clermont-Ferrand",
         "orientation": "v",
         "showlegend": true,
         "stackgroup": "1",
         "x": [
          "2022-11-04"
         ],
         "xaxis": "x",
         "y": [
          1
         ],
         "yaxis": "y",
         "type": "scatter"
        },
        {
         "fillpattern": {
          "shape": ""
         },
         "hovertemplate": "Chaîne=Chérie FM Grenoble<br>Date=%{x}<br>Nombre de mention=%{y}<extra></extra>",
         "legendgroup": "Chérie FM Grenoble",
         "line": {
          "color": "rgb(56, 166, 165)"
         },
         "marker": {
          "symbol": "circle"
         },
         "mode": "lines",
         "name": "Chérie FM Grenoble",
         "orientation": "v",
         "showlegend": true,
         "stackgroup": "1",
         "x": [
          "2022-11-02"
         ],
         "xaxis": "x",
         "y": [
          1
         ],
         "yaxis": "y",
         "type": "scatter"
        },
        {
         "fillpattern": {
          "shape": ""
         },
         "hovertemplate": "Chaîne=Chérie FM Lyon<br>Date=%{x}<br>Nombre de mention=%{y}<extra></extra>",
         "legendgroup": "Chérie FM Lyon",
         "line": {
          "color": "rgb(15, 133, 84)"
         },
         "marker": {
          "symbol": "circle"
         },
         "mode": "lines",
         "name": "Chérie FM Lyon",
         "orientation": "v",
         "showlegend": true,
         "stackgroup": "1",
         "x": [
          "2022-11-04"
         ],
         "xaxis": "x",
         "y": [
          1
         ],
         "yaxis": "y",
         "type": "scatter"
        },
        {
         "fillpattern": {
          "shape": ""
         },
         "hovertemplate": "Chaîne=Chérie FM Metz<br>Date=%{x}<br>Nombre de mention=%{y}<extra></extra>",
         "legendgroup": "Chérie FM Metz",
         "line": {
          "color": "rgb(115, 175, 72)"
         },
         "marker": {
          "symbol": "circle"
         },
         "mode": "lines",
         "name": "Chérie FM Metz",
         "orientation": "v",
         "showlegend": true,
         "stackgroup": "1",
         "x": [
          "2022-11-02"
         ],
         "xaxis": "x",
         "y": [
          1
         ],
         "yaxis": "y",
         "type": "scatter"
        },
        {
         "fillpattern": {
          "shape": ""
         },
         "hovertemplate": "Chaîne=Chérie FM Montpellier<br>Date=%{x}<br>Nombre de mention=%{y}<extra></extra>",
         "legendgroup": "Chérie FM Montpellier",
         "line": {
          "color": "rgb(237, 173, 8)"
         },
         "marker": {
          "symbol": "circle"
         },
         "mode": "lines",
         "name": "Chérie FM Montpellier",
         "orientation": "v",
         "showlegend": true,
         "stackgroup": "1",
         "x": [
          "2022-11-02"
         ],
         "xaxis": "x",
         "y": [
          1
         ],
         "yaxis": "y",
         "type": "scatter"
        },
        {
         "fillpattern": {
          "shape": ""
         },
         "hovertemplate": "Chaîne=Chérie FM Nantes<br>Date=%{x}<br>Nombre de mention=%{y}<extra></extra>",
         "legendgroup": "Chérie FM Nantes",
         "line": {
          "color": "rgb(225, 124, 5)"
         },
         "marker": {
          "symbol": "circle"
         },
         "mode": "lines",
         "name": "Chérie FM Nantes",
         "orientation": "v",
         "showlegend": true,
         "stackgroup": "1",
         "x": [
          "2022-11-02"
         ],
         "xaxis": "x",
         "y": [
          1
         ],
         "yaxis": "y",
         "type": "scatter"
        },
        {
         "fillpattern": {
          "shape": ""
         },
         "hovertemplate": "Chaîne=Chérie FM Nice<br>Date=%{x}<br>Nombre de mention=%{y}<extra></extra>",
         "legendgroup": "Chérie FM Nice",
         "line": {
          "color": "rgb(204, 80, 62)"
         },
         "marker": {
          "symbol": "circle"
         },
         "mode": "lines",
         "name": "Chérie FM Nice",
         "orientation": "v",
         "showlegend": true,
         "stackgroup": "1",
         "x": [
          "2022-11-02"
         ],
         "xaxis": "x",
         "y": [
          1
         ],
         "yaxis": "y",
         "type": "scatter"
        },
        {
         "fillpattern": {
          "shape": ""
         },
         "hovertemplate": "Chaîne=Chérie FM Paris<br>Date=%{x}<br>Nombre de mention=%{y}<extra></extra>",
         "legendgroup": "Chérie FM Paris",
         "line": {
          "color": "rgb(148, 52, 110)"
         },
         "marker": {
          "symbol": "circle"
         },
         "mode": "lines",
         "name": "Chérie FM Paris",
         "orientation": "v",
         "showlegend": true,
         "stackgroup": "1",
         "x": [
          "2022-11-02"
         ],
         "xaxis": "x",
         "y": [
          1
         ],
         "yaxis": "y",
         "type": "scatter"
        },
        {
         "fillpattern": {
          "shape": ""
         },
         "hovertemplate": "Chaîne=Chérie FM Perpignan<br>Date=%{x}<br>Nombre de mention=%{y}<extra></extra>",
         "legendgroup": "Chérie FM Perpignan",
         "line": {
          "color": "rgb(111, 64, 112)"
         },
         "marker": {
          "symbol": "circle"
         },
         "mode": "lines",
         "name": "Chérie FM Perpignan",
         "orientation": "v",
         "showlegend": true,
         "stackgroup": "1",
         "x": [
          "2022-11-02"
         ],
         "xaxis": "x",
         "y": [
          1
         ],
         "yaxis": "y",
         "type": "scatter"
        },
        {
         "fillpattern": {
          "shape": ""
         },
         "hovertemplate": "Chaîne=Chérie FM Saint Etienne<br>Date=%{x}<br>Nombre de mention=%{y}<extra></extra>",
         "legendgroup": "Chérie FM Saint Etienne",
         "line": {
          "color": "rgb(102, 102, 102)"
         },
         "marker": {
          "symbol": "circle"
         },
         "mode": "lines",
         "name": "Chérie FM Saint Etienne",
         "orientation": "v",
         "showlegend": true,
         "stackgroup": "1",
         "x": [
          "2022-11-02"
         ],
         "xaxis": "x",
         "y": [
          1
         ],
         "yaxis": "y",
         "type": "scatter"
        },
        {
         "fillpattern": {
          "shape": ""
         },
         "hovertemplate": "Chaîne=Cocktail FM<br>Date=%{x}<br>Nombre de mention=%{y}<extra></extra>",
         "legendgroup": "Cocktail FM",
         "line": {
          "color": "rgb(95, 70, 144)"
         },
         "marker": {
          "symbol": "circle"
         },
         "mode": "lines",
         "name": "Cocktail FM",
         "orientation": "v",
         "showlegend": true,
         "stackgroup": "1",
         "x": [
          "2022-11-02",
          "2022-11-03",
          "2022-11-04",
          "2022-11-05"
         ],
         "xaxis": "x",
         "y": [
          1,
          1,
          3,
          2
         ],
         "yaxis": "y",
         "type": "scatter"
        },
        {
         "fillpattern": {
          "shape": ""
         },
         "hovertemplate": "Chaîne=Contact FM<br>Date=%{x}<br>Nombre de mention=%{y}<extra></extra>",
         "legendgroup": "Contact FM",
         "line": {
          "color": "rgb(29, 105, 150)"
         },
         "marker": {
          "symbol": "circle"
         },
         "mode": "lines",
         "name": "Contact FM",
         "orientation": "v",
         "showlegend": true,
         "stackgroup": "1",
         "x": [
          "2022-11-02",
          "2022-11-04"
         ],
         "xaxis": "x",
         "y": [
          1,
          2
         ],
         "yaxis": "y",
         "type": "scatter"
        },
        {
         "fillpattern": {
          "shape": ""
         },
         "hovertemplate": "Chaîne=Delta FM<br>Date=%{x}<br>Nombre de mention=%{y}<extra></extra>",
         "legendgroup": "Delta FM",
         "line": {
          "color": "rgb(56, 166, 165)"
         },
         "marker": {
          "symbol": "circle"
         },
         "mode": "lines",
         "name": "Delta FM",
         "orientation": "v",
         "showlegend": true,
         "stackgroup": "1",
         "x": [
          "2022-11-02",
          "2022-11-04",
          "2022-11-05"
         ],
         "xaxis": "x",
         "y": [
          1,
          1,
          3
         ],
         "yaxis": "y",
         "type": "scatter"
        },
        {
         "fillpattern": {
          "shape": ""
         },
         "hovertemplate": "Chaîne=Demoiselle FM<br>Date=%{x}<br>Nombre de mention=%{y}<extra></extra>",
         "legendgroup": "Demoiselle FM",
         "line": {
          "color": "rgb(15, 133, 84)"
         },
         "marker": {
          "symbol": "circle"
         },
         "mode": "lines",
         "name": "Demoiselle FM",
         "orientation": "v",
         "showlegend": true,
         "stackgroup": "1",
         "x": [
          "2022-10-30",
          "2022-10-31",
          "2022-11-02",
          "2022-11-03",
          "2022-11-05"
         ],
         "xaxis": "x",
         "y": [
          1,
          2,
          1,
          2,
          3
         ],
         "yaxis": "y",
         "type": "scatter"
        },
        {
         "fillpattern": {
          "shape": ""
         },
         "hovertemplate": "Chaîne=Dialogue<br>Date=%{x}<br>Nombre de mention=%{y}<extra></extra>",
         "legendgroup": "Dialogue",
         "line": {
          "color": "rgb(115, 175, 72)"
         },
         "marker": {
          "symbol": "circle"
         },
         "mode": "lines",
         "name": "Dialogue",
         "orientation": "v",
         "showlegend": true,
         "stackgroup": "1",
         "x": [
          "2022-11-02"
         ],
         "xaxis": "x",
         "y": [
          3
         ],
         "yaxis": "y",
         "type": "scatter"
        },
        {
         "fillpattern": {
          "shape": ""
         },
         "hovertemplate": "Chaîne=Espace FM<br>Date=%{x}<br>Nombre de mention=%{y}<extra></extra>",
         "legendgroup": "Espace FM",
         "line": {
          "color": "rgb(237, 173, 8)"
         },
         "marker": {
          "symbol": "circle"
         },
         "mode": "lines",
         "name": "Espace FM",
         "orientation": "v",
         "showlegend": true,
         "stackgroup": "1",
         "x": [
          "2022-11-02",
          "2022-11-04",
          "2022-11-05"
         ],
         "xaxis": "x",
         "y": [
          2,
          2,
          5
         ],
         "yaxis": "y",
         "type": "scatter"
        },
        {
         "fillpattern": {
          "shape": ""
         },
         "hovertemplate": "Chaîne=Euradio Nantes<br>Date=%{x}<br>Nombre de mention=%{y}<extra></extra>",
         "legendgroup": "Euradio Nantes",
         "line": {
          "color": "rgb(225, 124, 5)"
         },
         "marker": {
          "symbol": "circle"
         },
         "mode": "lines",
         "name": "Euradio Nantes",
         "orientation": "v",
         "showlegend": true,
         "stackgroup": "1",
         "x": [
          "2022-11-01"
         ],
         "xaxis": "x",
         "y": [
          3
         ],
         "yaxis": "y",
         "type": "scatter"
        },
        {
         "fillpattern": {
          "shape": ""
         },
         "hovertemplate": "Chaîne=Europe 1<br>Date=%{x}<br>Nombre de mention=%{y}<extra></extra>",
         "legendgroup": "Europe 1",
         "line": {
          "color": "rgb(204, 80, 62)"
         },
         "marker": {
          "symbol": "circle"
         },
         "mode": "lines",
         "name": "Europe 1",
         "orientation": "v",
         "showlegend": true,
         "stackgroup": "1",
         "x": [
          "2022-10-31",
          "2022-11-01",
          "2022-11-02",
          "2022-11-03",
          "2022-11-04",
          "2022-11-05"
         ],
         "xaxis": "x",
         "y": [
          14,
          9,
          6,
          3,
          14,
          10
         ],
         "yaxis": "y",
         "type": "scatter"
        },
        {
         "fillpattern": {
          "shape": ""
         },
         "hovertemplate": "Chaîne=Evasion FM<br>Date=%{x}<br>Nombre de mention=%{y}<extra></extra>",
         "legendgroup": "Evasion FM",
         "line": {
          "color": "rgb(148, 52, 110)"
         },
         "marker": {
          "symbol": "circle"
         },
         "mode": "lines",
         "name": "Evasion FM",
         "orientation": "v",
         "showlegend": true,
         "stackgroup": "1",
         "x": [
          "2022-11-03",
          "2022-11-05"
         ],
         "xaxis": "x",
         "y": [
          5,
          2
         ],
         "yaxis": "y",
         "type": "scatter"
        },
        {
         "fillpattern": {
          "shape": ""
         },
         "hovertemplate": "Chaîne=FGL, Fréquence Grands Lacs<br>Date=%{x}<br>Nombre de mention=%{y}<extra></extra>",
         "legendgroup": "FGL, Fréquence Grands Lacs",
         "line": {
          "color": "rgb(111, 64, 112)"
         },
         "marker": {
          "symbol": "circle"
         },
         "mode": "lines",
         "name": "FGL, Fréquence Grands Lacs",
         "orientation": "v",
         "showlegend": true,
         "stackgroup": "1",
         "x": [
          "2022-11-02",
          "2022-11-03",
          "2022-11-04",
          "2022-11-05"
         ],
         "xaxis": "x",
         "y": [
          1,
          2,
          3,
          1
         ],
         "yaxis": "y",
         "type": "scatter"
        },
        {
         "fillpattern": {
          "shape": ""
         },
         "hovertemplate": "Chaîne=Flash FM<br>Date=%{x}<br>Nombre de mention=%{y}<extra></extra>",
         "legendgroup": "Flash FM",
         "line": {
          "color": "rgb(102, 102, 102)"
         },
         "marker": {
          "symbol": "circle"
         },
         "mode": "lines",
         "name": "Flash FM",
         "orientation": "v",
         "showlegend": true,
         "stackgroup": "1",
         "x": [
          "2022-11-02",
          "2022-11-04",
          "2022-11-05"
         ],
         "xaxis": "x",
         "y": [
          2,
          3,
          5
         ],
         "yaxis": "y",
         "type": "scatter"
        },
        {
         "fillpattern": {
          "shape": ""
         },
         "hovertemplate": "Chaîne=France Bleu 107 1<br>Date=%{x}<br>Nombre de mention=%{y}<extra></extra>",
         "legendgroup": "France Bleu 107 1",
         "line": {
          "color": "rgb(95, 70, 144)"
         },
         "marker": {
          "symbol": "circle"
         },
         "mode": "lines",
         "name": "France Bleu 107 1",
         "orientation": "v",
         "showlegend": true,
         "stackgroup": "1",
         "x": [
          "2022-11-02",
          "2022-11-03",
          "2022-11-04"
         ],
         "xaxis": "x",
         "y": [
          1,
          2,
          1
         ],
         "yaxis": "y",
         "type": "scatter"
        },
        {
         "fillpattern": {
          "shape": ""
         },
         "hovertemplate": "Chaîne=France Bleu Alsace<br>Date=%{x}<br>Nombre de mention=%{y}<extra></extra>",
         "legendgroup": "France Bleu Alsace",
         "line": {
          "color": "rgb(29, 105, 150)"
         },
         "marker": {
          "symbol": "circle"
         },
         "mode": "lines",
         "name": "France Bleu Alsace",
         "orientation": "v",
         "showlegend": true,
         "stackgroup": "1",
         "x": [
          "2022-11-04"
         ],
         "xaxis": "x",
         "y": [
          1
         ],
         "yaxis": "y",
         "type": "scatter"
        },
        {
         "fillpattern": {
          "shape": ""
         },
         "hovertemplate": "Chaîne=France Bleu Ardeche<br>Date=%{x}<br>Nombre de mention=%{y}<extra></extra>",
         "legendgroup": "France Bleu Ardeche",
         "line": {
          "color": "rgb(56, 166, 165)"
         },
         "marker": {
          "symbol": "circle"
         },
         "mode": "lines",
         "name": "France Bleu Ardeche",
         "orientation": "v",
         "showlegend": true,
         "stackgroup": "1",
         "x": [
          "2022-10-30",
          "2022-11-03"
         ],
         "xaxis": "x",
         "y": [
          1,
          1
         ],
         "yaxis": "y",
         "type": "scatter"
        },
        {
         "fillpattern": {
          "shape": ""
         },
         "hovertemplate": "Chaîne=France Bleu Armorique<br>Date=%{x}<br>Nombre de mention=%{y}<extra></extra>",
         "legendgroup": "France Bleu Armorique",
         "line": {
          "color": "rgb(15, 133, 84)"
         },
         "marker": {
          "symbol": "circle"
         },
         "mode": "lines",
         "name": "France Bleu Armorique",
         "orientation": "v",
         "showlegend": true,
         "stackgroup": "1",
         "x": [
          "2022-11-03",
          "2022-11-05"
         ],
         "xaxis": "x",
         "y": [
          2,
          3
         ],
         "yaxis": "y",
         "type": "scatter"
        },
        {
         "fillpattern": {
          "shape": ""
         },
         "hovertemplate": "Chaîne=France Bleu Auvergne<br>Date=%{x}<br>Nombre de mention=%{y}<extra></extra>",
         "legendgroup": "France Bleu Auvergne",
         "line": {
          "color": "rgb(115, 175, 72)"
         },
         "marker": {
          "symbol": "circle"
         },
         "mode": "lines",
         "name": "France Bleu Auvergne",
         "orientation": "v",
         "showlegend": true,
         "stackgroup": "1",
         "x": [
          "2022-11-04",
          "2022-11-05"
         ],
         "xaxis": "x",
         "y": [
          2,
          1
         ],
         "yaxis": "y",
         "type": "scatter"
        },
        {
         "fillpattern": {
          "shape": ""
         },
         "hovertemplate": "Chaîne=France Bleu Auxerre<br>Date=%{x}<br>Nombre de mention=%{y}<extra></extra>",
         "legendgroup": "France Bleu Auxerre",
         "line": {
          "color": "rgb(237, 173, 8)"
         },
         "marker": {
          "symbol": "circle"
         },
         "mode": "lines",
         "name": "France Bleu Auxerre",
         "orientation": "v",
         "showlegend": true,
         "stackgroup": "1",
         "x": [
          "2022-11-03",
          "2022-11-05"
         ],
         "xaxis": "x",
         "y": [
          3,
          3
         ],
         "yaxis": "y",
         "type": "scatter"
        },
        {
         "fillpattern": {
          "shape": ""
         },
         "hovertemplate": "Chaîne=France Bleu Basse Normandie<br>Date=%{x}<br>Nombre de mention=%{y}<extra></extra>",
         "legendgroup": "France Bleu Basse Normandie",
         "line": {
          "color": "rgb(225, 124, 5)"
         },
         "marker": {
          "symbol": "circle"
         },
         "mode": "lines",
         "name": "France Bleu Basse Normandie",
         "orientation": "v",
         "showlegend": true,
         "stackgroup": "1",
         "x": [
          "2022-10-30",
          "2022-10-31",
          "2022-11-03",
          "2022-11-04",
          "2022-11-05"
         ],
         "xaxis": "x",
         "y": [
          1,
          1,
          1,
          2,
          1
         ],
         "yaxis": "y",
         "type": "scatter"
        },
        {
         "fillpattern": {
          "shape": ""
         },
         "hovertemplate": "Chaîne=France Bleu Bearn<br>Date=%{x}<br>Nombre de mention=%{y}<extra></extra>",
         "legendgroup": "France Bleu Bearn",
         "line": {
          "color": "rgb(204, 80, 62)"
         },
         "marker": {
          "symbol": "circle"
         },
         "mode": "lines",
         "name": "France Bleu Bearn",
         "orientation": "v",
         "showlegend": true,
         "stackgroup": "1",
         "x": [
          "2022-11-03",
          "2022-11-04"
         ],
         "xaxis": "x",
         "y": [
          2,
          1
         ],
         "yaxis": "y",
         "type": "scatter"
        },
        {
         "fillpattern": {
          "shape": ""
         },
         "hovertemplate": "Chaîne=France Bleu Berry<br>Date=%{x}<br>Nombre de mention=%{y}<extra></extra>",
         "legendgroup": "France Bleu Berry",
         "line": {
          "color": "rgb(148, 52, 110)"
         },
         "marker": {
          "symbol": "circle"
         },
         "mode": "lines",
         "name": "France Bleu Berry",
         "orientation": "v",
         "showlegend": true,
         "stackgroup": "1",
         "x": [
          "2022-11-03",
          "2022-11-05"
         ],
         "xaxis": "x",
         "y": [
          1,
          1
         ],
         "yaxis": "y",
         "type": "scatter"
        },
        {
         "fillpattern": {
          "shape": ""
         },
         "hovertemplate": "Chaîne=France Bleu Besancon<br>Date=%{x}<br>Nombre de mention=%{y}<extra></extra>",
         "legendgroup": "France Bleu Besancon",
         "line": {
          "color": "rgb(111, 64, 112)"
         },
         "marker": {
          "symbol": "circle"
         },
         "mode": "lines",
         "name": "France Bleu Besancon",
         "orientation": "v",
         "showlegend": true,
         "stackgroup": "1",
         "x": [
          "2022-11-03"
         ],
         "xaxis": "x",
         "y": [
          1
         ],
         "yaxis": "y",
         "type": "scatter"
        },
        {
         "fillpattern": {
          "shape": ""
         },
         "hovertemplate": "Chaîne=France Bleu Bourgogne<br>Date=%{x}<br>Nombre de mention=%{y}<extra></extra>",
         "legendgroup": "France Bleu Bourgogne",
         "line": {
          "color": "rgb(102, 102, 102)"
         },
         "marker": {
          "symbol": "circle"
         },
         "mode": "lines",
         "name": "France Bleu Bourgogne",
         "orientation": "v",
         "showlegend": true,
         "stackgroup": "1",
         "x": [
          "2022-11-03",
          "2022-11-05"
         ],
         "xaxis": "x",
         "y": [
          1,
          1
         ],
         "yaxis": "y",
         "type": "scatter"
        },
        {
         "fillpattern": {
          "shape": ""
         },
         "hovertemplate": "Chaîne=France Bleu Breizh Izel<br>Date=%{x}<br>Nombre de mention=%{y}<extra></extra>",
         "legendgroup": "France Bleu Breizh Izel",
         "line": {
          "color": "rgb(95, 70, 144)"
         },
         "marker": {
          "symbol": "circle"
         },
         "mode": "lines",
         "name": "France Bleu Breizh Izel",
         "orientation": "v",
         "showlegend": true,
         "stackgroup": "1",
         "x": [
          "2022-11-03"
         ],
         "xaxis": "x",
         "y": [
          2
         ],
         "yaxis": "y",
         "type": "scatter"
        },
        {
         "fillpattern": {
          "shape": ""
         },
         "hovertemplate": "Chaîne=France Bleu Champagne<br>Date=%{x}<br>Nombre de mention=%{y}<extra></extra>",
         "legendgroup": "France Bleu Champagne",
         "line": {
          "color": "rgb(29, 105, 150)"
         },
         "marker": {
          "symbol": "circle"
         },
         "mode": "lines",
         "name": "France Bleu Champagne",
         "orientation": "v",
         "showlegend": true,
         "stackgroup": "1",
         "x": [
          "2022-11-03"
         ],
         "xaxis": "x",
         "y": [
          1
         ],
         "yaxis": "y",
         "type": "scatter"
        },
        {
         "fillpattern": {
          "shape": ""
         },
         "hovertemplate": "Chaîne=France Bleu Cotentin<br>Date=%{x}<br>Nombre de mention=%{y}<extra></extra>",
         "legendgroup": "France Bleu Cotentin",
         "line": {
          "color": "rgb(56, 166, 165)"
         },
         "marker": {
          "symbol": "circle"
         },
         "mode": "lines",
         "name": "France Bleu Cotentin",
         "orientation": "v",
         "showlegend": true,
         "stackgroup": "1",
         "x": [
          "2022-11-03"
         ],
         "xaxis": "x",
         "y": [
          2
         ],
         "yaxis": "y",
         "type": "scatter"
        },
        {
         "fillpattern": {
          "shape": ""
         },
         "hovertemplate": "Chaîne=France Bleu Creuse<br>Date=%{x}<br>Nombre de mention=%{y}<extra></extra>",
         "legendgroup": "France Bleu Creuse",
         "line": {
          "color": "rgb(15, 133, 84)"
         },
         "marker": {
          "symbol": "circle"
         },
         "mode": "lines",
         "name": "France Bleu Creuse",
         "orientation": "v",
         "showlegend": true,
         "stackgroup": "1",
         "x": [
          "2022-11-03",
          "2022-11-05"
         ],
         "xaxis": "x",
         "y": [
          1,
          1
         ],
         "yaxis": "y",
         "type": "scatter"
        },
        {
         "fillpattern": {
          "shape": ""
         },
         "hovertemplate": "Chaîne=France Bleu Gard Lozerre<br>Date=%{x}<br>Nombre de mention=%{y}<extra></extra>",
         "legendgroup": "France Bleu Gard Lozerre",
         "line": {
          "color": "rgb(115, 175, 72)"
         },
         "marker": {
          "symbol": "circle"
         },
         "mode": "lines",
         "name": "France Bleu Gard Lozerre",
         "orientation": "v",
         "showlegend": true,
         "stackgroup": "1",
         "x": [
          "2022-11-02",
          "2022-11-03"
         ],
         "xaxis": "x",
         "y": [
          1,
          1
         ],
         "yaxis": "y",
         "type": "scatter"
        },
        {
         "fillpattern": {
          "shape": ""
         },
         "hovertemplate": "Chaîne=France Bleu Gascogne<br>Date=%{x}<br>Nombre de mention=%{y}<extra></extra>",
         "legendgroup": "France Bleu Gascogne",
         "line": {
          "color": "rgb(237, 173, 8)"
         },
         "marker": {
          "symbol": "circle"
         },
         "mode": "lines",
         "name": "France Bleu Gascogne",
         "orientation": "v",
         "showlegend": true,
         "stackgroup": "1",
         "x": [
          "2022-11-01",
          "2022-11-03"
         ],
         "xaxis": "x",
         "y": [
          2,
          3
         ],
         "yaxis": "y",
         "type": "scatter"
        },
        {
         "fillpattern": {
          "shape": ""
         },
         "hovertemplate": "Chaîne=France Bleu Gironde<br>Date=%{x}<br>Nombre de mention=%{y}<extra></extra>",
         "legendgroup": "France Bleu Gironde",
         "line": {
          "color": "rgb(225, 124, 5)"
         },
         "marker": {
          "symbol": "circle"
         },
         "mode": "lines",
         "name": "France Bleu Gironde",
         "orientation": "v",
         "showlegend": true,
         "stackgroup": "1",
         "x": [
          "2022-11-03",
          "2022-11-04",
          "2022-11-05"
         ],
         "xaxis": "x",
         "y": [
          1,
          1,
          2
         ],
         "yaxis": "y",
         "type": "scatter"
        },
        {
         "fillpattern": {
          "shape": ""
         },
         "hovertemplate": "Chaîne=France Bleu Hérault<br>Date=%{x}<br>Nombre de mention=%{y}<extra></extra>",
         "legendgroup": "France Bleu Hérault",
         "line": {
          "color": "rgb(204, 80, 62)"
         },
         "marker": {
          "symbol": "circle"
         },
         "mode": "lines",
         "name": "France Bleu Hérault",
         "orientation": "v",
         "showlegend": true,
         "stackgroup": "1",
         "x": [
          "2022-11-02",
          "2022-11-03",
          "2022-11-04"
         ],
         "xaxis": "x",
         "y": [
          1,
          1,
          1
         ],
         "yaxis": "y",
         "type": "scatter"
        },
        {
         "fillpattern": {
          "shape": ""
         },
         "hovertemplate": "Chaîne=France Bleu Isère<br>Date=%{x}<br>Nombre de mention=%{y}<extra></extra>",
         "legendgroup": "France Bleu Isère",
         "line": {
          "color": "rgb(148, 52, 110)"
         },
         "marker": {
          "symbol": "circle"
         },
         "mode": "lines",
         "name": "France Bleu Isère",
         "orientation": "v",
         "showlegend": true,
         "stackgroup": "1",
         "x": [
          "2022-11-03"
         ],
         "xaxis": "x",
         "y": [
          3
         ],
         "yaxis": "y",
         "type": "scatter"
        },
        {
         "fillpattern": {
          "shape": ""
         },
         "hovertemplate": "Chaîne=France Bleu La Rochelle<br>Date=%{x}<br>Nombre de mention=%{y}<extra></extra>",
         "legendgroup": "France Bleu La Rochelle",
         "line": {
          "color": "rgb(111, 64, 112)"
         },
         "marker": {
          "symbol": "circle"
         },
         "mode": "lines",
         "name": "France Bleu La Rochelle",
         "orientation": "v",
         "showlegend": true,
         "stackgroup": "1",
         "x": [
          "2022-11-03"
         ],
         "xaxis": "x",
         "y": [
          1
         ],
         "yaxis": "y",
         "type": "scatter"
        },
        {
         "fillpattern": {
          "shape": ""
         },
         "hovertemplate": "Chaîne=France Bleu Limousin<br>Date=%{x}<br>Nombre de mention=%{y}<extra></extra>",
         "legendgroup": "France Bleu Limousin",
         "line": {
          "color": "rgb(102, 102, 102)"
         },
         "marker": {
          "symbol": "circle"
         },
         "mode": "lines",
         "name": "France Bleu Limousin",
         "orientation": "v",
         "showlegend": true,
         "stackgroup": "1",
         "x": [
          "2022-11-05"
         ],
         "xaxis": "x",
         "y": [
          2
         ],
         "yaxis": "y",
         "type": "scatter"
        },
        {
         "fillpattern": {
          "shape": ""
         },
         "hovertemplate": "Chaîne=France Bleu Lorraine<br>Date=%{x}<br>Nombre de mention=%{y}<extra></extra>",
         "legendgroup": "France Bleu Lorraine",
         "line": {
          "color": "rgb(95, 70, 144)"
         },
         "marker": {
          "symbol": "circle"
         },
         "mode": "lines",
         "name": "France Bleu Lorraine",
         "orientation": "v",
         "showlegend": true,
         "stackgroup": "1",
         "x": [
          "2022-11-01",
          "2022-11-03",
          "2022-11-05"
         ],
         "xaxis": "x",
         "y": [
          1,
          1,
          1
         ],
         "yaxis": "y",
         "type": "scatter"
        },
        {
         "fillpattern": {
          "shape": ""
         },
         "hovertemplate": "Chaîne=France Bleu Maine<br>Date=%{x}<br>Nombre de mention=%{y}<extra></extra>",
         "legendgroup": "France Bleu Maine",
         "line": {
          "color": "rgb(29, 105, 150)"
         },
         "marker": {
          "symbol": "circle"
         },
         "mode": "lines",
         "name": "France Bleu Maine",
         "orientation": "v",
         "showlegend": true,
         "stackgroup": "1",
         "x": [
          "2022-11-03",
          "2022-11-05"
         ],
         "xaxis": "x",
         "y": [
          3,
          1
         ],
         "yaxis": "y",
         "type": "scatter"
        },
        {
         "fillpattern": {
          "shape": ""
         },
         "hovertemplate": "Chaîne=France Bleu Mayenne<br>Date=%{x}<br>Nombre de mention=%{y}<extra></extra>",
         "legendgroup": "France Bleu Mayenne",
         "line": {
          "color": "rgb(56, 166, 165)"
         },
         "marker": {
          "symbol": "circle"
         },
         "mode": "lines",
         "name": "France Bleu Mayenne",
         "orientation": "v",
         "showlegend": true,
         "stackgroup": "1",
         "x": [
          "2022-11-03"
         ],
         "xaxis": "x",
         "y": [
          1
         ],
         "yaxis": "y",
         "type": "scatter"
        },
        {
         "fillpattern": {
          "shape": ""
         },
         "hovertemplate": "Chaîne=France Bleu Montbeliard<br>Date=%{x}<br>Nombre de mention=%{y}<extra></extra>",
         "legendgroup": "France Bleu Montbeliard",
         "line": {
          "color": "rgb(15, 133, 84)"
         },
         "marker": {
          "symbol": "circle"
         },
         "mode": "lines",
         "name": "France Bleu Montbeliard",
         "orientation": "v",
         "showlegend": true,
         "stackgroup": "1",
         "x": [
          "2022-11-03"
         ],
         "xaxis": "x",
         "y": [
          1
         ],
         "yaxis": "y",
         "type": "scatter"
        },
        {
         "fillpattern": {
          "shape": ""
         },
         "hovertemplate": "Chaîne=France Bleu Nord<br>Date=%{x}<br>Nombre de mention=%{y}<extra></extra>",
         "legendgroup": "France Bleu Nord",
         "line": {
          "color": "rgb(115, 175, 72)"
         },
         "marker": {
          "symbol": "circle"
         },
         "mode": "lines",
         "name": "France Bleu Nord",
         "orientation": "v",
         "showlegend": true,
         "stackgroup": "1",
         "x": [
          "2022-10-31",
          "2022-11-04",
          "2022-11-05"
         ],
         "xaxis": "x",
         "y": [
          1,
          5,
          2
         ],
         "yaxis": "y",
         "type": "scatter"
        },
        {
         "fillpattern": {
          "shape": ""
         },
         "hovertemplate": "Chaîne=France Bleu Orleans<br>Date=%{x}<br>Nombre de mention=%{y}<extra></extra>",
         "legendgroup": "France Bleu Orleans",
         "line": {
          "color": "rgb(237, 173, 8)"
         },
         "marker": {
          "symbol": "circle"
         },
         "mode": "lines",
         "name": "France Bleu Orleans",
         "orientation": "v",
         "showlegend": true,
         "stackgroup": "1",
         "x": [
          "2022-11-02",
          "2022-11-03",
          "2022-11-04"
         ],
         "xaxis": "x",
         "y": [
          1,
          1,
          1
         ],
         "yaxis": "y",
         "type": "scatter"
        },
        {
         "fillpattern": {
          "shape": ""
         },
         "hovertemplate": "Chaîne=France Bleu Pays Basque<br>Date=%{x}<br>Nombre de mention=%{y}<extra></extra>",
         "legendgroup": "France Bleu Pays Basque",
         "line": {
          "color": "rgb(225, 124, 5)"
         },
         "marker": {
          "symbol": "circle"
         },
         "mode": "lines",
         "name": "France Bleu Pays Basque",
         "orientation": "v",
         "showlegend": true,
         "stackgroup": "1",
         "x": [
          "2022-11-01"
         ],
         "xaxis": "x",
         "y": [
          1
         ],
         "yaxis": "y",
         "type": "scatter"
        },
        {
         "fillpattern": {
          "shape": ""
         },
         "hovertemplate": "Chaîne=France Bleu Perigord<br>Date=%{x}<br>Nombre de mention=%{y}<extra></extra>",
         "legendgroup": "France Bleu Perigord",
         "line": {
          "color": "rgb(204, 80, 62)"
         },
         "marker": {
          "symbol": "circle"
         },
         "mode": "lines",
         "name": "France Bleu Perigord",
         "orientation": "v",
         "showlegend": true,
         "stackgroup": "1",
         "x": [
          "2022-11-03"
         ],
         "xaxis": "x",
         "y": [
          1
         ],
         "yaxis": "y",
         "type": "scatter"
        },
        {
         "fillpattern": {
          "shape": ""
         },
         "hovertemplate": "Chaîne=France Bleu Picardie<br>Date=%{x}<br>Nombre de mention=%{y}<extra></extra>",
         "legendgroup": "France Bleu Picardie",
         "line": {
          "color": "rgb(148, 52, 110)"
         },
         "marker": {
          "symbol": "circle"
         },
         "mode": "lines",
         "name": "France Bleu Picardie",
         "orientation": "v",
         "showlegend": true,
         "stackgroup": "1",
         "x": [
          "2022-11-03",
          "2022-11-04"
         ],
         "xaxis": "x",
         "y": [
          1,
          1
         ],
         "yaxis": "y",
         "type": "scatter"
        },
        {
         "fillpattern": {
          "shape": ""
         },
         "hovertemplate": "Chaîne=France Bleu Poitou Charentes<br>Date=%{x}<br>Nombre de mention=%{y}<extra></extra>",
         "legendgroup": "France Bleu Poitou Charentes",
         "line": {
          "color": "rgb(111, 64, 112)"
         },
         "marker": {
          "symbol": "circle"
         },
         "mode": "lines",
         "name": "France Bleu Poitou Charentes",
         "orientation": "v",
         "showlegend": true,
         "stackgroup": "1",
         "x": [
          "2022-11-03",
          "2022-11-04",
          "2022-11-05"
         ],
         "xaxis": "x",
         "y": [
          4,
          1,
          1
         ],
         "yaxis": "y",
         "type": "scatter"
        },
        {
         "fillpattern": {
          "shape": ""
         },
         "hovertemplate": "Chaîne=France Bleu Provence<br>Date=%{x}<br>Nombre de mention=%{y}<extra></extra>",
         "legendgroup": "France Bleu Provence",
         "line": {
          "color": "rgb(102, 102, 102)"
         },
         "marker": {
          "symbol": "circle"
         },
         "mode": "lines",
         "name": "France Bleu Provence",
         "orientation": "v",
         "showlegend": true,
         "stackgroup": "1",
         "x": [
          "2022-11-02",
          "2022-11-03",
          "2022-11-05"
         ],
         "xaxis": "x",
         "y": [
          1,
          1,
          1
         ],
         "yaxis": "y",
         "type": "scatter"
        },
        {
         "fillpattern": {
          "shape": ""
         },
         "hovertemplate": "Chaîne=France Bleu RCFM<br>Date=%{x}<br>Nombre de mention=%{y}<extra></extra>",
         "legendgroup": "France Bleu RCFM",
         "line": {
          "color": "rgb(95, 70, 144)"
         },
         "marker": {
          "symbol": "circle"
         },
         "mode": "lines",
         "name": "France Bleu RCFM",
         "orientation": "v",
         "showlegend": true,
         "stackgroup": "1",
         "x": [
          "2022-10-30",
          "2022-11-05"
         ],
         "xaxis": "x",
         "y": [
          1,
          1
         ],
         "yaxis": "y",
         "type": "scatter"
        },
        {
         "fillpattern": {
          "shape": ""
         },
         "hovertemplate": "Chaîne=France Bleu Roussillon<br>Date=%{x}<br>Nombre de mention=%{y}<extra></extra>",
         "legendgroup": "France Bleu Roussillon",
         "line": {
          "color": "rgb(29, 105, 150)"
         },
         "marker": {
          "symbol": "circle"
         },
         "mode": "lines",
         "name": "France Bleu Roussillon",
         "orientation": "v",
         "showlegend": true,
         "stackgroup": "1",
         "x": [
          "2022-11-03",
          "2022-11-04"
         ],
         "xaxis": "x",
         "y": [
          2,
          1
         ],
         "yaxis": "y",
         "type": "scatter"
        },
        {
         "fillpattern": {
          "shape": ""
         },
         "hovertemplate": "Chaîne=France Bleu Saint-Étienne Loire<br>Date=%{x}<br>Nombre de mention=%{y}<extra></extra>",
         "legendgroup": "France Bleu Saint-Étienne Loire",
         "line": {
          "color": "rgb(56, 166, 165)"
         },
         "marker": {
          "symbol": "circle"
         },
         "mode": "lines",
         "name": "France Bleu Saint-Étienne Loire",
         "orientation": "v",
         "showlegend": true,
         "stackgroup": "1",
         "x": [
          "2022-11-03",
          "2022-11-04",
          "2022-11-05"
         ],
         "xaxis": "x",
         "y": [
          2,
          1,
          2
         ],
         "yaxis": "y",
         "type": "scatter"
        },
        {
         "fillpattern": {
          "shape": ""
         },
         "hovertemplate": "Chaîne=France Bleu Savoie<br>Date=%{x}<br>Nombre de mention=%{y}<extra></extra>",
         "legendgroup": "France Bleu Savoie",
         "line": {
          "color": "rgb(15, 133, 84)"
         },
         "marker": {
          "symbol": "circle"
         },
         "mode": "lines",
         "name": "France Bleu Savoie",
         "orientation": "v",
         "showlegend": true,
         "stackgroup": "1",
         "x": [
          "2022-11-02",
          "2022-11-05"
         ],
         "xaxis": "x",
         "y": [
          2,
          3
         ],
         "yaxis": "y",
         "type": "scatter"
        },
        {
         "fillpattern": {
          "shape": ""
         },
         "hovertemplate": "Chaîne=France Bleu Sud Lorraine<br>Date=%{x}<br>Nombre de mention=%{y}<extra></extra>",
         "legendgroup": "France Bleu Sud Lorraine",
         "line": {
          "color": "rgb(115, 175, 72)"
         },
         "marker": {
          "symbol": "circle"
         },
         "mode": "lines",
         "name": "France Bleu Sud Lorraine",
         "orientation": "v",
         "showlegend": true,
         "stackgroup": "1",
         "x": [
          "2022-11-03"
         ],
         "xaxis": "x",
         "y": [
          1
         ],
         "yaxis": "y",
         "type": "scatter"
        },
        {
         "fillpattern": {
          "shape": ""
         },
         "hovertemplate": "Chaîne=France Bleu Toulouse<br>Date=%{x}<br>Nombre de mention=%{y}<extra></extra>",
         "legendgroup": "France Bleu Toulouse",
         "line": {
          "color": "rgb(237, 173, 8)"
         },
         "marker": {
          "symbol": "circle"
         },
         "mode": "lines",
         "name": "France Bleu Toulouse",
         "orientation": "v",
         "showlegend": true,
         "stackgroup": "1",
         "x": [
          "2022-10-31"
         ],
         "xaxis": "x",
         "y": [
          2
         ],
         "yaxis": "y",
         "type": "scatter"
        },
        {
         "fillpattern": {
          "shape": ""
         },
         "hovertemplate": "Chaîne=France Bleu Touraine<br>Date=%{x}<br>Nombre de mention=%{y}<extra></extra>",
         "legendgroup": "France Bleu Touraine",
         "line": {
          "color": "rgb(225, 124, 5)"
         },
         "marker": {
          "symbol": "circle"
         },
         "mode": "lines",
         "name": "France Bleu Touraine",
         "orientation": "v",
         "showlegend": true,
         "stackgroup": "1",
         "x": [
          "2022-10-30",
          "2022-11-02",
          "2022-11-03",
          "2022-11-04",
          "2022-11-05"
         ],
         "xaxis": "x",
         "y": [
          1,
          1,
          3,
          2,
          4
         ],
         "yaxis": "y",
         "type": "scatter"
        },
        {
         "fillpattern": {
          "shape": ""
         },
         "hovertemplate": "Chaîne=France Culture<br>Date=%{x}<br>Nombre de mention=%{y}<extra></extra>",
         "legendgroup": "France Culture",
         "line": {
          "color": "rgb(204, 80, 62)"
         },
         "marker": {
          "symbol": "circle"
         },
         "mode": "lines",
         "name": "France Culture",
         "orientation": "v",
         "showlegend": true,
         "stackgroup": "1",
         "x": [
          "2022-10-30",
          "2022-10-31",
          "2022-11-01",
          "2022-11-02",
          "2022-11-03",
          "2022-11-04",
          "2022-11-05"
         ],
         "xaxis": "x",
         "y": [
          4,
          1,
          2,
          2,
          4,
          13,
          6
         ],
         "yaxis": "y",
         "type": "scatter"
        },
        {
         "fillpattern": {
          "shape": ""
         },
         "hovertemplate": "Chaîne=France Info<br>Date=%{x}<br>Nombre de mention=%{y}<extra></extra>",
         "legendgroup": "France Info",
         "line": {
          "color": "rgb(148, 52, 110)"
         },
         "marker": {
          "symbol": "circle"
         },
         "mode": "lines",
         "name": "France Info",
         "orientation": "v",
         "showlegend": true,
         "stackgroup": "1",
         "x": [
          "2022-10-29",
          "2022-10-30",
          "2022-10-31",
          "2022-11-01",
          "2022-11-02",
          "2022-11-03",
          "2022-11-04",
          "2022-11-05"
         ],
         "xaxis": "x",
         "y": [
          2,
          5,
          10,
          18,
          17,
          18,
          56,
          22
         ],
         "yaxis": "y",
         "type": "scatter"
        },
        {
         "fillpattern": {
          "shape": ""
         },
         "hovertemplate": "Chaîne=France Inter<br>Date=%{x}<br>Nombre de mention=%{y}<extra></extra>",
         "legendgroup": "France Inter",
         "line": {
          "color": "rgb(111, 64, 112)"
         },
         "marker": {
          "symbol": "circle"
         },
         "mode": "lines",
         "name": "France Inter",
         "orientation": "v",
         "showlegend": true,
         "stackgroup": "1",
         "x": [
          "2022-10-29",
          "2022-10-31",
          "2022-11-01",
          "2022-11-02",
          "2022-11-03",
          "2022-11-04",
          "2022-11-05"
         ],
         "xaxis": "x",
         "y": [
          1,
          13,
          33,
          13,
          14,
          29,
          12
         ],
         "yaxis": "y",
         "type": "scatter"
        },
        {
         "fillpattern": {
          "shape": ""
         },
         "hovertemplate": "Chaîne=France Musique<br>Date=%{x}<br>Nombre de mention=%{y}<extra></extra>",
         "legendgroup": "France Musique",
         "line": {
          "color": "rgb(102, 102, 102)"
         },
         "marker": {
          "symbol": "circle"
         },
         "mode": "lines",
         "name": "France Musique",
         "orientation": "v",
         "showlegend": true,
         "stackgroup": "1",
         "x": [
          "2022-11-04"
         ],
         "xaxis": "x",
         "y": [
          1
         ],
         "yaxis": "y",
         "type": "scatter"
        },
        {
         "fillpattern": {
          "shape": ""
         },
         "hovertemplate": "Chaîne=Fréquence Plus FM<br>Date=%{x}<br>Nombre de mention=%{y}<extra></extra>",
         "legendgroup": "Fréquence Plus FM",
         "line": {
          "color": "rgb(95, 70, 144)"
         },
         "marker": {
          "symbol": "circle"
         },
         "mode": "lines",
         "name": "Fréquence Plus FM",
         "orientation": "v",
         "showlegend": true,
         "stackgroup": "1",
         "x": [
          "2022-11-03",
          "2022-11-05"
         ],
         "xaxis": "x",
         "y": [
          2,
          1
         ],
         "yaxis": "y",
         "type": "scatter"
        },
        {
         "fillpattern": {
          "shape": ""
         },
         "hovertemplate": "Chaîne=Fugi FM<br>Date=%{x}<br>Nombre de mention=%{y}<extra></extra>",
         "legendgroup": "Fugi FM",
         "line": {
          "color": "rgb(29, 105, 150)"
         },
         "marker": {
          "symbol": "circle"
         },
         "mode": "lines",
         "name": "Fugi FM",
         "orientation": "v",
         "showlegend": true,
         "stackgroup": "1",
         "x": [
          "2022-11-04"
         ],
         "xaxis": "x",
         "y": [
          1
         ],
         "yaxis": "y",
         "type": "scatter"
        },
        {
         "fillpattern": {
          "shape": ""
         },
         "hovertemplate": "Chaîne=Fun Radio<br>Date=%{x}<br>Nombre de mention=%{y}<extra></extra>",
         "legendgroup": "Fun Radio",
         "line": {
          "color": "rgb(56, 166, 165)"
         },
         "marker": {
          "symbol": "circle"
         },
         "mode": "lines",
         "name": "Fun Radio",
         "orientation": "v",
         "showlegend": true,
         "stackgroup": "1",
         "x": [
          "2022-10-31",
          "2022-11-01",
          "2022-11-02",
          "2022-11-03",
          "2022-11-04"
         ],
         "xaxis": "x",
         "y": [
          4,
          12,
          4,
          3,
          7
         ],
         "yaxis": "y",
         "type": "scatter"
        },
        {
         "fillpattern": {
          "shape": ""
         },
         "hovertemplate": "Chaîne=Fun Radio Dijon<br>Date=%{x}<br>Nombre de mention=%{y}<extra></extra>",
         "legendgroup": "Fun Radio Dijon",
         "line": {
          "color": "rgb(15, 133, 84)"
         },
         "marker": {
          "symbol": "circle"
         },
         "mode": "lines",
         "name": "Fun Radio Dijon",
         "orientation": "v",
         "showlegend": true,
         "stackgroup": "1",
         "x": [
          "2022-11-04"
         ],
         "xaxis": "x",
         "y": [
          4
         ],
         "yaxis": "y",
         "type": "scatter"
        },
        {
         "fillpattern": {
          "shape": ""
         },
         "hovertemplate": "Chaîne=Fun Radio Nantes<br>Date=%{x}<br>Nombre de mention=%{y}<extra></extra>",
         "legendgroup": "Fun Radio Nantes",
         "line": {
          "color": "rgb(115, 175, 72)"
         },
         "marker": {
          "symbol": "circle"
         },
         "mode": "lines",
         "name": "Fun Radio Nantes",
         "orientation": "v",
         "showlegend": true,
         "stackgroup": "1",
         "x": [
          "2022-11-04"
         ],
         "xaxis": "x",
         "y": [
          3
         ],
         "yaxis": "y",
         "type": "scatter"
        },
        {
         "fillpattern": {
          "shape": ""
         },
         "hovertemplate": "Chaîne=Generations<br>Date=%{x}<br>Nombre de mention=%{y}<extra></extra>",
         "legendgroup": "Generations",
         "line": {
          "color": "rgb(237, 173, 8)"
         },
         "marker": {
          "symbol": "circle"
         },
         "mode": "lines",
         "name": "Generations",
         "orientation": "v",
         "showlegend": true,
         "stackgroup": "1",
         "x": [
          "2022-11-03"
         ],
         "xaxis": "x",
         "y": [
          1
         ],
         "yaxis": "y",
         "type": "scatter"
        },
        {
         "fillpattern": {
          "shape": ""
         },
         "hovertemplate": "Chaîne=Gold FM<br>Date=%{x}<br>Nombre de mention=%{y}<extra></extra>",
         "legendgroup": "Gold FM",
         "line": {
          "color": "rgb(225, 124, 5)"
         },
         "marker": {
          "symbol": "circle"
         },
         "mode": "lines",
         "name": "Gold FM",
         "orientation": "v",
         "showlegend": true,
         "stackgroup": "1",
         "x": [
          "2022-11-05"
         ],
         "xaxis": "x",
         "y": [
          2
         ],
         "yaxis": "y",
         "type": "scatter"
        },
        {
         "fillpattern": {
          "shape": ""
         },
         "hovertemplate": "Chaîne=Grand Sud FM<br>Date=%{x}<br>Nombre de mention=%{y}<extra></extra>",
         "legendgroup": "Grand Sud FM",
         "line": {
          "color": "rgb(204, 80, 62)"
         },
         "marker": {
          "symbol": "circle"
         },
         "mode": "lines",
         "name": "Grand Sud FM",
         "orientation": "v",
         "showlegend": true,
         "stackgroup": "1",
         "x": [
          "2022-11-04"
         ],
         "xaxis": "x",
         "y": [
          1
         ],
         "yaxis": "y",
         "type": "scatter"
        },
        {
         "fillpattern": {
          "shape": ""
         },
         "hovertemplate": "Chaîne=Guadeloupe 1ère<br>Date=%{x}<br>Nombre de mention=%{y}<extra></extra>",
         "legendgroup": "Guadeloupe 1ère",
         "line": {
          "color": "rgb(148, 52, 110)"
         },
         "marker": {
          "symbol": "circle"
         },
         "mode": "lines",
         "name": "Guadeloupe 1ère",
         "orientation": "v",
         "showlegend": true,
         "stackgroup": "1",
         "x": [
          "2022-11-01",
          "2022-11-02"
         ],
         "xaxis": "x",
         "y": [
          1,
          1
         ],
         "yaxis": "y",
         "type": "scatter"
        },
        {
         "fillpattern": {
          "shape": ""
         },
         "hovertemplate": "Chaîne=Guyane 1ère<br>Date=%{x}<br>Nombre de mention=%{y}<extra></extra>",
         "legendgroup": "Guyane 1ère",
         "line": {
          "color": "rgb(111, 64, 112)"
         },
         "marker": {
          "symbol": "circle"
         },
         "mode": "lines",
         "name": "Guyane 1ère",
         "orientation": "v",
         "showlegend": true,
         "stackgroup": "1",
         "x": [
          "2022-11-01",
          "2022-11-05"
         ],
         "xaxis": "x",
         "y": [
          1,
          2
         ],
         "yaxis": "y",
         "type": "scatter"
        },
        {
         "fillpattern": {
          "shape": ""
         },
         "hovertemplate": "Chaîne=Hit West<br>Date=%{x}<br>Nombre de mention=%{y}<extra></extra>",
         "legendgroup": "Hit West",
         "line": {
          "color": "rgb(102, 102, 102)"
         },
         "marker": {
          "symbol": "circle"
         },
         "mode": "lines",
         "name": "Hit West",
         "orientation": "v",
         "showlegend": true,
         "stackgroup": "1",
         "x": [
          "2022-11-03"
         ],
         "xaxis": "x",
         "y": [
          1
         ],
         "yaxis": "y",
         "type": "scatter"
        },
        {
         "fillpattern": {
          "shape": ""
         },
         "hovertemplate": "Chaîne=Horizon - Lens/Bethune/Arras<br>Date=%{x}<br>Nombre de mention=%{y}<extra></extra>",
         "legendgroup": "Horizon - Lens/Bethune/Arras",
         "line": {
          "color": "rgb(95, 70, 144)"
         },
         "marker": {
          "symbol": "circle"
         },
         "mode": "lines",
         "name": "Horizon - Lens/Bethune/Arras",
         "orientation": "v",
         "showlegend": true,
         "stackgroup": "1",
         "x": [
          "2022-11-02",
          "2022-11-04"
         ],
         "xaxis": "x",
         "y": [
          1,
          2
         ],
         "yaxis": "y",
         "type": "scatter"
        },
        {
         "fillpattern": {
          "shape": ""
         },
         "hovertemplate": "Chaîne=Horizon-Normandie<br>Date=%{x}<br>Nombre de mention=%{y}<extra></extra>",
         "legendgroup": "Horizon-Normandie",
         "line": {
          "color": "rgb(29, 105, 150)"
         },
         "marker": {
          "symbol": "circle"
         },
         "mode": "lines",
         "name": "Horizon-Normandie",
         "orientation": "v",
         "showlegend": true,
         "stackgroup": "1",
         "x": [
          "2022-11-02",
          "2022-11-03",
          "2022-11-04",
          "2022-11-05"
         ],
         "xaxis": "x",
         "y": [
          2,
          2,
          2,
          2
         ],
         "yaxis": "y",
         "type": "scatter"
        },
        {
         "fillpattern": {
          "shape": ""
         },
         "hovertemplate": "Chaîne=Hélène FM<br>Date=%{x}<br>Nombre de mention=%{y}<extra></extra>",
         "legendgroup": "Hélène FM",
         "line": {
          "color": "rgb(56, 166, 165)"
         },
         "marker": {
          "symbol": "circle"
         },
         "mode": "lines",
         "name": "Hélène FM",
         "orientation": "v",
         "showlegend": true,
         "stackgroup": "1",
         "x": [
          "2022-11-02",
          "2022-11-04",
          "2022-11-05"
         ],
         "xaxis": "x",
         "y": [
          2,
          1,
          5
         ],
         "yaxis": "y",
         "type": "scatter"
        },
        {
         "fillpattern": {
          "shape": ""
         },
         "hovertemplate": "Chaîne=Judaica Strasbourg<br>Date=%{x}<br>Nombre de mention=%{y}<extra></extra>",
         "legendgroup": "Judaica Strasbourg",
         "line": {
          "color": "rgb(15, 133, 84)"
         },
         "marker": {
          "symbol": "circle"
         },
         "mode": "lines",
         "name": "Judaica Strasbourg",
         "orientation": "v",
         "showlegend": true,
         "stackgroup": "1",
         "x": [
          "2022-10-31",
          "2022-11-02",
          "2022-11-03"
         ],
         "xaxis": "x",
         "y": [
          6,
          3,
          2
         ],
         "yaxis": "y",
         "type": "scatter"
        },
        {
         "fillpattern": {
          "shape": ""
         },
         "hovertemplate": "Chaîne=K6 FM<br>Date=%{x}<br>Nombre de mention=%{y}<extra></extra>",
         "legendgroup": "K6 FM",
         "line": {
          "color": "rgb(115, 175, 72)"
         },
         "marker": {
          "symbol": "circle"
         },
         "mode": "lines",
         "name": "K6 FM",
         "orientation": "v",
         "showlegend": true,
         "stackgroup": "1",
         "x": [
          "2022-11-05"
         ],
         "xaxis": "x",
         "y": [
          1
         ],
         "yaxis": "y",
         "type": "scatter"
        },
        {
         "fillpattern": {
          "shape": ""
         },
         "hovertemplate": "Chaîne=Kiss FM<br>Date=%{x}<br>Nombre de mention=%{y}<extra></extra>",
         "legendgroup": "Kiss FM",
         "line": {
          "color": "rgb(237, 173, 8)"
         },
         "marker": {
          "symbol": "circle"
         },
         "mode": "lines",
         "name": "Kiss FM",
         "orientation": "v",
         "showlegend": true,
         "stackgroup": "1",
         "x": [
          "2022-11-04"
         ],
         "xaxis": "x",
         "y": [
          1
         ],
         "yaxis": "y",
         "type": "scatter"
        },
        {
         "fillpattern": {
          "shape": ""
         },
         "hovertemplate": "Chaîne=La tribu<br>Date=%{x}<br>Nombre de mention=%{y}<extra></extra>",
         "legendgroup": "La tribu",
         "line": {
          "color": "rgb(225, 124, 5)"
         },
         "marker": {
          "symbol": "circle"
         },
         "mode": "lines",
         "name": "La tribu",
         "orientation": "v",
         "showlegend": true,
         "stackgroup": "1",
         "x": [
          "2022-11-03",
          "2022-11-04",
          "2022-11-05"
         ],
         "xaxis": "x",
         "y": [
          1,
          2,
          1
         ],
         "yaxis": "y",
         "type": "scatter"
        },
        {
         "fillpattern": {
          "shape": ""
         },
         "hovertemplate": "Chaîne=Le Mouv<br>Date=%{x}<br>Nombre de mention=%{y}<extra></extra>",
         "legendgroup": "Le Mouv",
         "line": {
          "color": "rgb(204, 80, 62)"
         },
         "marker": {
          "symbol": "circle"
         },
         "mode": "lines",
         "name": "Le Mouv",
         "orientation": "v",
         "showlegend": true,
         "stackgroup": "1",
         "x": [
          "2022-11-01",
          "2022-11-02",
          "2022-11-03",
          "2022-11-04"
         ],
         "xaxis": "x",
         "y": [
          10,
          5,
          2,
          8
         ],
         "yaxis": "y",
         "type": "scatter"
        },
        {
         "fillpattern": {
          "shape": ""
         },
         "hovertemplate": "Chaîne=Lyon 1ere<br>Date=%{x}<br>Nombre de mention=%{y}<extra></extra>",
         "legendgroup": "Lyon 1ere",
         "line": {
          "color": "rgb(148, 52, 110)"
         },
         "marker": {
          "symbol": "circle"
         },
         "mode": "lines",
         "name": "Lyon 1ere",
         "orientation": "v",
         "showlegend": true,
         "stackgroup": "1",
         "x": [
          "2022-11-02",
          "2022-11-03",
          "2022-11-04",
          "2022-11-05"
         ],
         "xaxis": "x",
         "y": [
          2,
          4,
          3,
          1
         ],
         "yaxis": "y",
         "type": "scatter"
        },
        {
         "fillpattern": {
          "shape": ""
         },
         "hovertemplate": "Chaîne=MFM<br>Date=%{x}<br>Nombre de mention=%{y}<extra></extra>",
         "legendgroup": "MFM",
         "line": {
          "color": "rgb(111, 64, 112)"
         },
         "marker": {
          "symbol": "circle"
         },
         "mode": "lines",
         "name": "MFM",
         "orientation": "v",
         "showlegend": true,
         "stackgroup": "1",
         "x": [
          "2022-11-02",
          "2022-11-03",
          "2022-11-04",
          "2022-11-05"
         ],
         "xaxis": "x",
         "y": [
          1,
          3,
          1,
          1
         ],
         "yaxis": "y",
         "type": "scatter"
        },
        {
         "fillpattern": {
          "shape": ""
         },
         "hovertemplate": "Chaîne=Magnum la radio<br>Date=%{x}<br>Nombre de mention=%{y}<extra></extra>",
         "legendgroup": "Magnum la radio",
         "line": {
          "color": "rgb(102, 102, 102)"
         },
         "marker": {
          "symbol": "circle"
         },
         "mode": "lines",
         "name": "Magnum la radio",
         "orientation": "v",
         "showlegend": true,
         "stackgroup": "1",
         "x": [
          "2022-11-05"
         ],
         "xaxis": "x",
         "y": [
          1
         ],
         "yaxis": "y",
         "type": "scatter"
        },
        {
         "fillpattern": {
          "shape": ""
         },
         "hovertemplate": "Chaîne=Martinique 1ère<br>Date=%{x}<br>Nombre de mention=%{y}<extra></extra>",
         "legendgroup": "Martinique 1ère",
         "line": {
          "color": "rgb(95, 70, 144)"
         },
         "marker": {
          "symbol": "circle"
         },
         "mode": "lines",
         "name": "Martinique 1ère",
         "orientation": "v",
         "showlegend": true,
         "stackgroup": "1",
         "x": [
          "2022-11-01",
          "2022-11-02",
          "2022-11-03",
          "2022-11-04"
         ],
         "xaxis": "x",
         "y": [
          4,
          3,
          1,
          2
         ],
         "yaxis": "y",
         "type": "scatter"
        },
        {
         "fillpattern": {
          "shape": ""
         },
         "hovertemplate": "Chaîne=Mistral FM<br>Date=%{x}<br>Nombre de mention=%{y}<extra></extra>",
         "legendgroup": "Mistral FM",
         "line": {
          "color": "rgb(29, 105, 150)"
         },
         "marker": {
          "symbol": "circle"
         },
         "mode": "lines",
         "name": "Mistral FM",
         "orientation": "v",
         "showlegend": true,
         "stackgroup": "1",
         "x": [
          "2022-11-02"
         ],
         "xaxis": "x",
         "y": [
          1
         ],
         "yaxis": "y",
         "type": "scatter"
        },
        {
         "fillpattern": {
          "shape": ""
         },
         "hovertemplate": "Chaîne=Mona FM<br>Date=%{x}<br>Nombre de mention=%{y}<extra></extra>",
         "legendgroup": "Mona FM",
         "line": {
          "color": "rgb(56, 166, 165)"
         },
         "marker": {
          "symbol": "circle"
         },
         "mode": "lines",
         "name": "Mona FM",
         "orientation": "v",
         "showlegend": true,
         "stackgroup": "1",
         "x": [
          "2022-11-02",
          "2022-11-04",
          "2022-11-05"
         ],
         "xaxis": "x",
         "y": [
          1,
          2,
          1
         ],
         "yaxis": "y",
         "type": "scatter"
        },
        {
         "fillpattern": {
          "shape": ""
         },
         "hovertemplate": "Chaîne=NRJ<br>Date=%{x}<br>Nombre de mention=%{y}<extra></extra>",
         "legendgroup": "NRJ",
         "line": {
          "color": "rgb(15, 133, 84)"
         },
         "marker": {
          "symbol": "circle"
         },
         "mode": "lines",
         "name": "NRJ",
         "orientation": "v",
         "showlegend": true,
         "stackgroup": "1",
         "x": [
          "2022-11-02",
          "2022-11-04",
          "2022-11-05"
         ],
         "xaxis": "x",
         "y": [
          3,
          2,
          2
         ],
         "yaxis": "y",
         "type": "scatter"
        },
        {
         "fillpattern": {
          "shape": ""
         },
         "hovertemplate": "Chaîne=NRJ Abbeville<br>Date=%{x}<br>Nombre de mention=%{y}<extra></extra>",
         "legendgroup": "NRJ Abbeville",
         "line": {
          "color": "rgb(115, 175, 72)"
         },
         "marker": {
          "symbol": "circle"
         },
         "mode": "lines",
         "name": "NRJ Abbeville",
         "orientation": "v",
         "showlegend": true,
         "stackgroup": "1",
         "x": [
          "2022-11-02",
          "2022-11-04"
         ],
         "xaxis": "x",
         "y": [
          1,
          1
         ],
         "yaxis": "y",
         "type": "scatter"
        },
        {
         "fillpattern": {
          "shape": ""
         },
         "hovertemplate": "Chaîne=NRJ Amiens<br>Date=%{x}<br>Nombre de mention=%{y}<extra></extra>",
         "legendgroup": "NRJ Amiens",
         "line": {
          "color": "rgb(237, 173, 8)"
         },
         "marker": {
          "symbol": "circle"
         },
         "mode": "lines",
         "name": "NRJ Amiens",
         "orientation": "v",
         "showlegend": true,
         "stackgroup": "1",
         "x": [
          "2022-11-04"
         ],
         "xaxis": "x",
         "y": [
          1
         ],
         "yaxis": "y",
         "type": "scatter"
        },
        {
         "fillpattern": {
          "shape": ""
         },
         "hovertemplate": "Chaîne=NRJ Avignon<br>Date=%{x}<br>Nombre de mention=%{y}<extra></extra>",
         "legendgroup": "NRJ Avignon",
         "line": {
          "color": "rgb(225, 124, 5)"
         },
         "marker": {
          "symbol": "circle"
         },
         "mode": "lines",
         "name": "NRJ Avignon",
         "orientation": "v",
         "showlegend": true,
         "stackgroup": "1",
         "x": [
          "2022-11-04"
         ],
         "xaxis": "x",
         "y": [
          1
         ],
         "yaxis": "y",
         "type": "scatter"
        },
        {
         "fillpattern": {
          "shape": ""
         },
         "hovertemplate": "Chaîne=NRJ Biarritz<br>Date=%{x}<br>Nombre de mention=%{y}<extra></extra>",
         "legendgroup": "NRJ Biarritz",
         "line": {
          "color": "rgb(204, 80, 62)"
         },
         "marker": {
          "symbol": "circle"
         },
         "mode": "lines",
         "name": "NRJ Biarritz",
         "orientation": "v",
         "showlegend": true,
         "stackgroup": "1",
         "x": [
          "2022-11-02",
          "2022-11-04"
         ],
         "xaxis": "x",
         "y": [
          1,
          1
         ],
         "yaxis": "y",
         "type": "scatter"
        },
        {
         "fillpattern": {
          "shape": ""
         },
         "hovertemplate": "Chaîne=NRJ Bordeaux<br>Date=%{x}<br>Nombre de mention=%{y}<extra></extra>",
         "legendgroup": "NRJ Bordeaux",
         "line": {
          "color": "rgb(148, 52, 110)"
         },
         "marker": {
          "symbol": "circle"
         },
         "mode": "lines",
         "name": "NRJ Bordeaux",
         "orientation": "v",
         "showlegend": true,
         "stackgroup": "1",
         "x": [
          "2022-11-04"
         ],
         "xaxis": "x",
         "y": [
          1
         ],
         "yaxis": "y",
         "type": "scatter"
        },
        {
         "fillpattern": {
          "shape": ""
         },
         "hovertemplate": "Chaîne=NRJ Bourg-en-Bresse<br>Date=%{x}<br>Nombre de mention=%{y}<extra></extra>",
         "legendgroup": "NRJ Bourg-en-Bresse",
         "line": {
          "color": "rgb(111, 64, 112)"
         },
         "marker": {
          "symbol": "circle"
         },
         "mode": "lines",
         "name": "NRJ Bourg-en-Bresse",
         "orientation": "v",
         "showlegend": true,
         "stackgroup": "1",
         "x": [
          "2022-11-02"
         ],
         "xaxis": "x",
         "y": [
          1
         ],
         "yaxis": "y",
         "type": "scatter"
        },
        {
         "fillpattern": {
          "shape": ""
         },
         "hovertemplate": "Chaîne=NRJ Caen<br>Date=%{x}<br>Nombre de mention=%{y}<extra></extra>",
         "legendgroup": "NRJ Caen",
         "line": {
          "color": "rgb(102, 102, 102)"
         },
         "marker": {
          "symbol": "circle"
         },
         "mode": "lines",
         "name": "NRJ Caen",
         "orientation": "v",
         "showlegend": true,
         "stackgroup": "1",
         "x": [
          "2022-11-02",
          "2022-11-04"
         ],
         "xaxis": "x",
         "y": [
          1,
          1
         ],
         "yaxis": "y",
         "type": "scatter"
        },
        {
         "fillpattern": {
          "shape": ""
         },
         "hovertemplate": "Chaîne=NRJ Chalon-sur-Saône<br>Date=%{x}<br>Nombre de mention=%{y}<extra></extra>",
         "legendgroup": "NRJ Chalon-sur-Saône",
         "line": {
          "color": "rgb(95, 70, 144)"
         },
         "marker": {
          "symbol": "circle"
         },
         "mode": "lines",
         "name": "NRJ Chalon-sur-Saône",
         "orientation": "v",
         "showlegend": true,
         "stackgroup": "1",
         "x": [
          "2022-11-02",
          "2022-11-04"
         ],
         "xaxis": "x",
         "y": [
          1,
          1
         ],
         "yaxis": "y",
         "type": "scatter"
        },
        {
         "fillpattern": {
          "shape": ""
         },
         "hovertemplate": "Chaîne=NRJ Clermont-Ferrand<br>Date=%{x}<br>Nombre de mention=%{y}<extra></extra>",
         "legendgroup": "NRJ Clermont-Ferrand",
         "line": {
          "color": "rgb(29, 105, 150)"
         },
         "marker": {
          "symbol": "circle"
         },
         "mode": "lines",
         "name": "NRJ Clermont-Ferrand",
         "orientation": "v",
         "showlegend": true,
         "stackgroup": "1",
         "x": [
          "2022-11-04"
         ],
         "xaxis": "x",
         "y": [
          1
         ],
         "yaxis": "y",
         "type": "scatter"
        },
        {
         "fillpattern": {
          "shape": ""
         },
         "hovertemplate": "Chaîne=NRJ Dieppe<br>Date=%{x}<br>Nombre de mention=%{y}<extra></extra>",
         "legendgroup": "NRJ Dieppe",
         "line": {
          "color": "rgb(56, 166, 165)"
         },
         "marker": {
          "symbol": "circle"
         },
         "mode": "lines",
         "name": "NRJ Dieppe",
         "orientation": "v",
         "showlegend": true,
         "stackgroup": "1",
         "x": [
          "2022-11-02",
          "2022-11-04"
         ],
         "xaxis": "x",
         "y": [
          1,
          1
         ],
         "yaxis": "y",
         "type": "scatter"
        },
        {
         "fillpattern": {
          "shape": ""
         },
         "hovertemplate": "Chaîne=NRJ Grenoble<br>Date=%{x}<br>Nombre de mention=%{y}<extra></extra>",
         "legendgroup": "NRJ Grenoble",
         "line": {
          "color": "rgb(15, 133, 84)"
         },
         "marker": {
          "symbol": "circle"
         },
         "mode": "lines",
         "name": "NRJ Grenoble",
         "orientation": "v",
         "showlegend": true,
         "stackgroup": "1",
         "x": [
          "2022-11-02",
          "2022-11-04"
         ],
         "xaxis": "x",
         "y": [
          1,
          1
         ],
         "yaxis": "y",
         "type": "scatter"
        },
        {
         "fillpattern": {
          "shape": ""
         },
         "hovertemplate": "Chaîne=NRJ LE HAVRE<br>Date=%{x}<br>Nombre de mention=%{y}<extra></extra>",
         "legendgroup": "NRJ LE HAVRE",
         "line": {
          "color": "rgb(115, 175, 72)"
         },
         "marker": {
          "symbol": "circle"
         },
         "mode": "lines",
         "name": "NRJ LE HAVRE",
         "orientation": "v",
         "showlegend": true,
         "stackgroup": "1",
         "x": [
          "2022-11-02",
          "2022-11-04"
         ],
         "xaxis": "x",
         "y": [
          1,
          1
         ],
         "yaxis": "y",
         "type": "scatter"
        },
        {
         "fillpattern": {
          "shape": ""
         },
         "hovertemplate": "Chaîne=NRJ La Rochelle<br>Date=%{x}<br>Nombre de mention=%{y}<extra></extra>",
         "legendgroup": "NRJ La Rochelle",
         "line": {
          "color": "rgb(237, 173, 8)"
         },
         "marker": {
          "symbol": "circle"
         },
         "mode": "lines",
         "name": "NRJ La Rochelle",
         "orientation": "v",
         "showlegend": true,
         "stackgroup": "1",
         "x": [
          "2022-11-02",
          "2022-11-04"
         ],
         "xaxis": "x",
         "y": [
          2,
          2
         ],
         "yaxis": "y",
         "type": "scatter"
        },
        {
         "fillpattern": {
          "shape": ""
         },
         "hovertemplate": "Chaîne=NRJ Lille<br>Date=%{x}<br>Nombre de mention=%{y}<extra></extra>",
         "legendgroup": "NRJ Lille",
         "line": {
          "color": "rgb(225, 124, 5)"
         },
         "marker": {
          "symbol": "circle"
         },
         "mode": "lines",
         "name": "NRJ Lille",
         "orientation": "v",
         "showlegend": true,
         "stackgroup": "1",
         "x": [
          "2022-11-02",
          "2022-11-04"
         ],
         "xaxis": "x",
         "y": [
          2,
          2
         ],
         "yaxis": "y",
         "type": "scatter"
        },
        {
         "fillpattern": {
          "shape": ""
         },
         "hovertemplate": "Chaîne=NRJ Marseille<br>Date=%{x}<br>Nombre de mention=%{y}<extra></extra>",
         "legendgroup": "NRJ Marseille",
         "line": {
          "color": "rgb(204, 80, 62)"
         },
         "marker": {
          "symbol": "circle"
         },
         "mode": "lines",
         "name": "NRJ Marseille",
         "orientation": "v",
         "showlegend": true,
         "stackgroup": "1",
         "x": [
          "2022-11-04"
         ],
         "xaxis": "x",
         "y": [
          1
         ],
         "yaxis": "y",
         "type": "scatter"
        },
        {
         "fillpattern": {
          "shape": ""
         },
         "hovertemplate": "Chaîne=NRJ Metz<br>Date=%{x}<br>Nombre de mention=%{y}<extra></extra>",
         "legendgroup": "NRJ Metz",
         "line": {
          "color": "rgb(148, 52, 110)"
         },
         "marker": {
          "symbol": "circle"
         },
         "mode": "lines",
         "name": "NRJ Metz",
         "orientation": "v",
         "showlegend": true,
         "stackgroup": "1",
         "x": [
          "2022-11-02",
          "2022-11-04"
         ],
         "xaxis": "x",
         "y": [
          1,
          1
         ],
         "yaxis": "y",
         "type": "scatter"
        },
        {
         "fillpattern": {
          "shape": ""
         },
         "hovertemplate": "Chaîne=NRJ Montpellier<br>Date=%{x}<br>Nombre de mention=%{y}<extra></extra>",
         "legendgroup": "NRJ Montpellier",
         "line": {
          "color": "rgb(111, 64, 112)"
         },
         "marker": {
          "symbol": "circle"
         },
         "mode": "lines",
         "name": "NRJ Montpellier",
         "orientation": "v",
         "showlegend": true,
         "stackgroup": "1",
         "x": [
          "2022-11-04"
         ],
         "xaxis": "x",
         "y": [
          2
         ],
         "yaxis": "y",
         "type": "scatter"
        },
        {
         "fillpattern": {
          "shape": ""
         },
         "hovertemplate": "Chaîne=NRJ Nancy<br>Date=%{x}<br>Nombre de mention=%{y}<extra></extra>",
         "legendgroup": "NRJ Nancy",
         "line": {
          "color": "rgb(102, 102, 102)"
         },
         "marker": {
          "symbol": "circle"
         },
         "mode": "lines",
         "name": "NRJ Nancy",
         "orientation": "v",
         "showlegend": true,
         "stackgroup": "1",
         "x": [
          "2022-11-04"
         ],
         "xaxis": "x",
         "y": [
          1
         ],
         "yaxis": "y",
         "type": "scatter"
        },
        {
         "fillpattern": {
          "shape": ""
         },
         "hovertemplate": "Chaîne=NRJ Nantes<br>Date=%{x}<br>Nombre de mention=%{y}<extra></extra>",
         "legendgroup": "NRJ Nantes",
         "line": {
          "color": "rgb(95, 70, 144)"
         },
         "marker": {
          "symbol": "circle"
         },
         "mode": "lines",
         "name": "NRJ Nantes",
         "orientation": "v",
         "showlegend": true,
         "stackgroup": "1",
         "x": [
          "2022-11-02"
         ],
         "xaxis": "x",
         "y": [
          1
         ],
         "yaxis": "y",
         "type": "scatter"
        },
        {
         "fillpattern": {
          "shape": ""
         },
         "hovertemplate": "Chaîne=NRJ Nice<br>Date=%{x}<br>Nombre de mention=%{y}<extra></extra>",
         "legendgroup": "NRJ Nice",
         "line": {
          "color": "rgb(29, 105, 150)"
         },
         "marker": {
          "symbol": "circle"
         },
         "mode": "lines",
         "name": "NRJ Nice",
         "orientation": "v",
         "showlegend": true,
         "stackgroup": "1",
         "x": [
          "2022-11-04"
         ],
         "xaxis": "x",
         "y": [
          2
         ],
         "yaxis": "y",
         "type": "scatter"
        },
        {
         "fillpattern": {
          "shape": ""
         },
         "hovertemplate": "Chaîne=NRJ Nîmes<br>Date=%{x}<br>Nombre de mention=%{y}<extra></extra>",
         "legendgroup": "NRJ Nîmes",
         "line": {
          "color": "rgb(56, 166, 165)"
         },
         "marker": {
          "symbol": "circle"
         },
         "mode": "lines",
         "name": "NRJ Nîmes",
         "orientation": "v",
         "showlegend": true,
         "stackgroup": "1",
         "x": [
          "2022-11-02",
          "2022-11-04"
         ],
         "xaxis": "x",
         "y": [
          1,
          1
         ],
         "yaxis": "y",
         "type": "scatter"
        },
        {
         "fillpattern": {
          "shape": ""
         },
         "hovertemplate": "Chaîne=NRJ Orléans<br>Date=%{x}<br>Nombre de mention=%{y}<extra></extra>",
         "legendgroup": "NRJ Orléans",
         "line": {
          "color": "rgb(15, 133, 84)"
         },
         "marker": {
          "symbol": "circle"
         },
         "mode": "lines",
         "name": "NRJ Orléans",
         "orientation": "v",
         "showlegend": true,
         "stackgroup": "1",
         "x": [
          "2022-11-02",
          "2022-11-04"
         ],
         "xaxis": "x",
         "y": [
          1,
          1
         ],
         "yaxis": "y",
         "type": "scatter"
        },
        {
         "fillpattern": {
          "shape": ""
         },
         "hovertemplate": "Chaîne=NRJ Paris<br>Date=%{x}<br>Nombre de mention=%{y}<extra></extra>",
         "legendgroup": "NRJ Paris",
         "line": {
          "color": "rgb(115, 175, 72)"
         },
         "marker": {
          "symbol": "circle"
         },
         "mode": "lines",
         "name": "NRJ Paris",
         "orientation": "v",
         "showlegend": true,
         "stackgroup": "1",
         "x": [
          "2022-11-02",
          "2022-11-04"
         ],
         "xaxis": "x",
         "y": [
          1,
          1
         ],
         "yaxis": "y",
         "type": "scatter"
        },
        {
         "fillpattern": {
          "shape": ""
         },
         "hovertemplate": "Chaîne=NRJ Reims<br>Date=%{x}<br>Nombre de mention=%{y}<extra></extra>",
         "legendgroup": "NRJ Reims",
         "line": {
          "color": "rgb(237, 173, 8)"
         },
         "marker": {
          "symbol": "circle"
         },
         "mode": "lines",
         "name": "NRJ Reims",
         "orientation": "v",
         "showlegend": true,
         "stackgroup": "1",
         "x": [
          "2022-11-02",
          "2022-11-04"
         ],
         "xaxis": "x",
         "y": [
          1,
          1
         ],
         "yaxis": "y",
         "type": "scatter"
        },
        {
         "fillpattern": {
          "shape": ""
         },
         "hovertemplate": "Chaîne=NRJ Rennes<br>Date=%{x}<br>Nombre de mention=%{y}<extra></extra>",
         "legendgroup": "NRJ Rennes",
         "line": {
          "color": "rgb(225, 124, 5)"
         },
         "marker": {
          "symbol": "circle"
         },
         "mode": "lines",
         "name": "NRJ Rennes",
         "orientation": "v",
         "showlegend": true,
         "stackgroup": "1",
         "x": [
          "2022-11-02",
          "2022-11-04"
         ],
         "xaxis": "x",
         "y": [
          1,
          1
         ],
         "yaxis": "y",
         "type": "scatter"
        },
        {
         "fillpattern": {
          "shape": ""
         },
         "hovertemplate": "Chaîne=NRJ Strasbourg<br>Date=%{x}<br>Nombre de mention=%{y}<extra></extra>",
         "legendgroup": "NRJ Strasbourg",
         "line": {
          "color": "rgb(204, 80, 62)"
         },
         "marker": {
          "symbol": "circle"
         },
         "mode": "lines",
         "name": "NRJ Strasbourg",
         "orientation": "v",
         "showlegend": true,
         "stackgroup": "1",
         "x": [
          "2022-11-04"
         ],
         "xaxis": "x",
         "y": [
          1
         ],
         "yaxis": "y",
         "type": "scatter"
        },
        {
         "fillpattern": {
          "shape": ""
         },
         "hovertemplate": "Chaîne=NRJ Toulouse<br>Date=%{x}<br>Nombre de mention=%{y}<extra></extra>",
         "legendgroup": "NRJ Toulouse",
         "line": {
          "color": "rgb(148, 52, 110)"
         },
         "marker": {
          "symbol": "circle"
         },
         "mode": "lines",
         "name": "NRJ Toulouse",
         "orientation": "v",
         "showlegend": true,
         "stackgroup": "1",
         "x": [
          "2022-11-02"
         ],
         "xaxis": "x",
         "y": [
          1
         ],
         "yaxis": "y",
         "type": "scatter"
        },
        {
         "fillpattern": {
          "shape": ""
         },
         "hovertemplate": "Chaîne=NRJ Tours<br>Date=%{x}<br>Nombre de mention=%{y}<extra></extra>",
         "legendgroup": "NRJ Tours",
         "line": {
          "color": "rgb(111, 64, 112)"
         },
         "marker": {
          "symbol": "circle"
         },
         "mode": "lines",
         "name": "NRJ Tours",
         "orientation": "v",
         "showlegend": true,
         "stackgroup": "1",
         "x": [
          "2022-11-04"
         ],
         "xaxis": "x",
         "y": [
          1
         ],
         "yaxis": "y",
         "type": "scatter"
        },
        {
         "fillpattern": {
          "shape": ""
         },
         "hovertemplate": "Chaîne=Nostalgie<br>Date=%{x}<br>Nombre de mention=%{y}<extra></extra>",
         "legendgroup": "Nostalgie",
         "line": {
          "color": "rgb(102, 102, 102)"
         },
         "marker": {
          "symbol": "circle"
         },
         "mode": "lines",
         "name": "Nostalgie",
         "orientation": "v",
         "showlegend": true,
         "stackgroup": "1",
         "x": [
          "2022-11-03"
         ],
         "xaxis": "x",
         "y": [
          1
         ],
         "yaxis": "y",
         "type": "scatter"
        },
        {
         "fillpattern": {
          "shape": ""
         },
         "hovertemplate": "Chaîne=Nostalgie Bordeaux<br>Date=%{x}<br>Nombre de mention=%{y}<extra></extra>",
         "legendgroup": "Nostalgie Bordeaux",
         "line": {
          "color": "rgb(95, 70, 144)"
         },
         "marker": {
          "symbol": "circle"
         },
         "mode": "lines",
         "name": "Nostalgie Bordeaux",
         "orientation": "v",
         "showlegend": true,
         "stackgroup": "1",
         "x": [
          "2022-11-03"
         ],
         "xaxis": "x",
         "y": [
          1
         ],
         "yaxis": "y",
         "type": "scatter"
        },
        {
         "fillpattern": {
          "shape": ""
         },
         "hovertemplate": "Chaîne=Nostalgie Grenoble<br>Date=%{x}<br>Nombre de mention=%{y}<extra></extra>",
         "legendgroup": "Nostalgie Grenoble",
         "line": {
          "color": "rgb(29, 105, 150)"
         },
         "marker": {
          "symbol": "circle"
         },
         "mode": "lines",
         "name": "Nostalgie Grenoble",
         "orientation": "v",
         "showlegend": true,
         "stackgroup": "1",
         "x": [
          "2022-11-03"
         ],
         "xaxis": "x",
         "y": [
          1
         ],
         "yaxis": "y",
         "type": "scatter"
        },
        {
         "fillpattern": {
          "shape": ""
         },
         "hovertemplate": "Chaîne=Nostalgie Lens<br>Date=%{x}<br>Nombre de mention=%{y}<extra></extra>",
         "legendgroup": "Nostalgie Lens",
         "line": {
          "color": "rgb(56, 166, 165)"
         },
         "marker": {
          "symbol": "circle"
         },
         "mode": "lines",
         "name": "Nostalgie Lens",
         "orientation": "v",
         "showlegend": true,
         "stackgroup": "1",
         "x": [
          "2022-11-04"
         ],
         "xaxis": "x",
         "y": [
          1
         ],
         "yaxis": "y",
         "type": "scatter"
        },
        {
         "fillpattern": {
          "shape": ""
         },
         "hovertemplate": "Chaîne=Nostalgie Lyon<br>Date=%{x}<br>Nombre de mention=%{y}<extra></extra>",
         "legendgroup": "Nostalgie Lyon",
         "line": {
          "color": "rgb(15, 133, 84)"
         },
         "marker": {
          "symbol": "circle"
         },
         "mode": "lines",
         "name": "Nostalgie Lyon",
         "orientation": "v",
         "showlegend": true,
         "stackgroup": "1",
         "x": [
          "2022-11-03"
         ],
         "xaxis": "x",
         "y": [
          1
         ],
         "yaxis": "y",
         "type": "scatter"
        },
        {
         "fillpattern": {
          "shape": ""
         },
         "hovertemplate": "Chaîne=Nostalgie Nantes<br>Date=%{x}<br>Nombre de mention=%{y}<extra></extra>",
         "legendgroup": "Nostalgie Nantes",
         "line": {
          "color": "rgb(115, 175, 72)"
         },
         "marker": {
          "symbol": "circle"
         },
         "mode": "lines",
         "name": "Nostalgie Nantes",
         "orientation": "v",
         "showlegend": true,
         "stackgroup": "1",
         "x": [
          "2022-10-31",
          "2022-11-03"
         ],
         "xaxis": "x",
         "y": [
          1,
          1
         ],
         "yaxis": "y",
         "type": "scatter"
        },
        {
         "fillpattern": {
          "shape": ""
         },
         "hovertemplate": "Chaîne=Nostalgie Orléans<br>Date=%{x}<br>Nombre de mention=%{y}<extra></extra>",
         "legendgroup": "Nostalgie Orléans",
         "line": {
          "color": "rgb(237, 173, 8)"
         },
         "marker": {
          "symbol": "circle"
         },
         "mode": "lines",
         "name": "Nostalgie Orléans",
         "orientation": "v",
         "showlegend": true,
         "stackgroup": "1",
         "x": [
          "2022-11-03"
         ],
         "xaxis": "x",
         "y": [
          1
         ],
         "yaxis": "y",
         "type": "scatter"
        },
        {
         "fillpattern": {
          "shape": ""
         },
         "hovertemplate": "Chaîne=Nostalgie Rouen<br>Date=%{x}<br>Nombre de mention=%{y}<extra></extra>",
         "legendgroup": "Nostalgie Rouen",
         "line": {
          "color": "rgb(225, 124, 5)"
         },
         "marker": {
          "symbol": "circle"
         },
         "mode": "lines",
         "name": "Nostalgie Rouen",
         "orientation": "v",
         "showlegend": true,
         "stackgroup": "1",
         "x": [
          "2022-11-03"
         ],
         "xaxis": "x",
         "y": [
          1
         ],
         "yaxis": "y",
         "type": "scatter"
        },
        {
         "fillpattern": {
          "shape": ""
         },
         "hovertemplate": "Chaîne=Nova<br>Date=%{x}<br>Nombre de mention=%{y}<extra></extra>",
         "legendgroup": "Nova",
         "line": {
          "color": "rgb(204, 80, 62)"
         },
         "marker": {
          "symbol": "circle"
         },
         "mode": "lines",
         "name": "Nova",
         "orientation": "v",
         "showlegend": true,
         "stackgroup": "1",
         "x": [
          "2022-10-31",
          "2022-11-02",
          "2022-11-03",
          "2022-11-04"
         ],
         "xaxis": "x",
         "y": [
          3,
          7,
          1,
          2
         ],
         "yaxis": "y",
         "type": "scatter"
        },
        {
         "fillpattern": {
          "shape": ""
         },
         "hovertemplate": "Chaîne=Nova Lyon<br>Date=%{x}<br>Nombre de mention=%{y}<extra></extra>",
         "legendgroup": "Nova Lyon",
         "line": {
          "color": "rgb(148, 52, 110)"
         },
         "marker": {
          "symbol": "circle"
         },
         "mode": "lines",
         "name": "Nova Lyon",
         "orientation": "v",
         "showlegend": true,
         "stackgroup": "1",
         "x": [
          "2022-10-31",
          "2022-11-02",
          "2022-11-03",
          "2022-11-04"
         ],
         "xaxis": "x",
         "y": [
          3,
          7,
          2,
          2
         ],
         "yaxis": "y",
         "type": "scatter"
        },
        {
         "fillpattern": {
          "shape": ""
         },
         "hovertemplate": "Chaîne=ODS Radio<br>Date=%{x}<br>Nombre de mention=%{y}<extra></extra>",
         "legendgroup": "ODS Radio",
         "line": {
          "color": "rgb(111, 64, 112)"
         },
         "marker": {
          "symbol": "circle"
         },
         "mode": "lines",
         "name": "ODS Radio",
         "orientation": "v",
         "showlegend": true,
         "stackgroup": "1",
         "x": [
          "2022-11-01",
          "2022-11-05"
         ],
         "xaxis": "x",
         "y": [
          1,
          1
         ],
         "yaxis": "y",
         "type": "scatter"
        },
        {
         "fillpattern": {
          "shape": ""
         },
         "hovertemplate": "Chaîne=Outre-mer La 1ère<br>Date=%{x}<br>Nombre de mention=%{y}<extra></extra>",
         "legendgroup": "Outre-mer La 1ère",
         "line": {
          "color": "rgb(102, 102, 102)"
         },
         "marker": {
          "symbol": "circle"
         },
         "mode": "lines",
         "name": "Outre-mer La 1ère",
         "orientation": "v",
         "showlegend": true,
         "stackgroup": "1",
         "x": [
          "2022-11-03"
         ],
         "xaxis": "x",
         "y": [
          1
         ],
         "yaxis": "y",
         "type": "scatter"
        },
        {
         "fillpattern": {
          "shape": ""
         },
         "hovertemplate": "Chaîne=Plein Air<br>Date=%{x}<br>Nombre de mention=%{y}<extra></extra>",
         "legendgroup": "Plein Air",
         "line": {
          "color": "rgb(95, 70, 144)"
         },
         "marker": {
          "symbol": "circle"
         },
         "mode": "lines",
         "name": "Plein Air",
         "orientation": "v",
         "showlegend": true,
         "stackgroup": "1",
         "x": [
          "2022-11-03",
          "2022-11-04",
          "2022-11-05"
         ],
         "xaxis": "x",
         "y": [
          1,
          1,
          1
         ],
         "yaxis": "y",
         "type": "scatter"
        },
        {
         "fillpattern": {
          "shape": ""
         },
         "hovertemplate": "Chaîne=Pyrénées FM<br>Date=%{x}<br>Nombre de mention=%{y}<extra></extra>",
         "legendgroup": "Pyrénées FM",
         "line": {
          "color": "rgb(29, 105, 150)"
         },
         "marker": {
          "symbol": "circle"
         },
         "mode": "lines",
         "name": "Pyrénées FM",
         "orientation": "v",
         "showlegend": true,
         "stackgroup": "1",
         "x": [
          "2022-11-04"
         ],
         "xaxis": "x",
         "y": [
          1
         ],
         "yaxis": "y",
         "type": "scatter"
        },
        {
         "fillpattern": {
          "shape": ""
         },
         "hovertemplate": "Chaîne=RCF<br>Date=%{x}<br>Nombre de mention=%{y}<extra></extra>",
         "legendgroup": "RCF",
         "line": {
          "color": "rgb(56, 166, 165)"
         },
         "marker": {
          "symbol": "circle"
         },
         "mode": "lines",
         "name": "RCF",
         "orientation": "v",
         "showlegend": true,
         "stackgroup": "1",
         "x": [
          "2022-10-31",
          "2022-11-03",
          "2022-11-04",
          "2022-11-05"
         ],
         "xaxis": "x",
         "y": [
          5,
          2,
          2,
          9
         ],
         "yaxis": "y",
         "type": "scatter"
        },
        {
         "fillpattern": {
          "shape": ""
         },
         "hovertemplate": "Chaîne=RCF Allier<br>Date=%{x}<br>Nombre de mention=%{y}<extra></extra>",
         "legendgroup": "RCF Allier",
         "line": {
          "color": "rgb(15, 133, 84)"
         },
         "marker": {
          "symbol": "circle"
         },
         "mode": "lines",
         "name": "RCF Allier",
         "orientation": "v",
         "showlegend": true,
         "stackgroup": "1",
         "x": [
          "2022-11-04"
         ],
         "xaxis": "x",
         "y": [
          1
         ],
         "yaxis": "y",
         "type": "scatter"
        },
        {
         "fillpattern": {
          "shape": ""
         },
         "hovertemplate": "Chaîne=RCF Isère<br>Date=%{x}<br>Nombre de mention=%{y}<extra></extra>",
         "legendgroup": "RCF Isère",
         "line": {
          "color": "rgb(115, 175, 72)"
         },
         "marker": {
          "symbol": "circle"
         },
         "mode": "lines",
         "name": "RCF Isère",
         "orientation": "v",
         "showlegend": true,
         "stackgroup": "1",
         "x": [
          "2022-11-03"
         ],
         "xaxis": "x",
         "y": [
          4
         ],
         "yaxis": "y",
         "type": "scatter"
        },
        {
         "fillpattern": {
          "shape": ""
         },
         "hovertemplate": "Chaîne=RCF Jéricho Moselle<br>Date=%{x}<br>Nombre de mention=%{y}<extra></extra>",
         "legendgroup": "RCF Jéricho Moselle",
         "line": {
          "color": "rgb(237, 173, 8)"
         },
         "marker": {
          "symbol": "circle"
         },
         "mode": "lines",
         "name": "RCF Jéricho Moselle",
         "orientation": "v",
         "showlegend": true,
         "stackgroup": "1",
         "x": [
          "2022-11-03"
         ],
         "xaxis": "x",
         "y": [
          1
         ],
         "yaxis": "y",
         "type": "scatter"
        },
        {
         "fillpattern": {
          "shape": ""
         },
         "hovertemplate": "Chaîne=RCF Lorraine Meuse<br>Date=%{x}<br>Nombre de mention=%{y}<extra></extra>",
         "legendgroup": "RCF Lorraine Meuse",
         "line": {
          "color": "rgb(225, 124, 5)"
         },
         "marker": {
          "symbol": "circle"
         },
         "mode": "lines",
         "name": "RCF Lorraine Meuse",
         "orientation": "v",
         "showlegend": true,
         "stackgroup": "1",
         "x": [
          "2022-11-03"
         ],
         "xaxis": "x",
         "y": [
          1
         ],
         "yaxis": "y",
         "type": "scatter"
        },
        {
         "fillpattern": {
          "shape": ""
         },
         "hovertemplate": "Chaîne=RCF Lorraine Nancy<br>Date=%{x}<br>Nombre de mention=%{y}<extra></extra>",
         "legendgroup": "RCF Lorraine Nancy",
         "line": {
          "color": "rgb(204, 80, 62)"
         },
         "marker": {
          "symbol": "circle"
         },
         "mode": "lines",
         "name": "RCF Lorraine Nancy",
         "orientation": "v",
         "showlegend": true,
         "stackgroup": "1",
         "x": [
          "2022-11-03"
         ],
         "xaxis": "x",
         "y": [
          1
         ],
         "yaxis": "y",
         "type": "scatter"
        },
        {
         "fillpattern": {
          "shape": ""
         },
         "hovertemplate": "Chaîne=RCF Lozère<br>Date=%{x}<br>Nombre de mention=%{y}<extra></extra>",
         "legendgroup": "RCF Lozère",
         "line": {
          "color": "rgb(148, 52, 110)"
         },
         "marker": {
          "symbol": "circle"
         },
         "mode": "lines",
         "name": "RCF Lozère",
         "orientation": "v",
         "showlegend": true,
         "stackgroup": "1",
         "x": [
          "2022-11-04"
         ],
         "xaxis": "x",
         "y": [
          1
         ],
         "yaxis": "y",
         "type": "scatter"
        },
        {
         "fillpattern": {
          "shape": ""
         },
         "hovertemplate": "Chaîne=RCF Maguelone Hérault<br>Date=%{x}<br>Nombre de mention=%{y}<extra></extra>",
         "legendgroup": "RCF Maguelone Hérault",
         "line": {
          "color": "rgb(111, 64, 112)"
         },
         "marker": {
          "symbol": "circle"
         },
         "mode": "lines",
         "name": "RCF Maguelone Hérault",
         "orientation": "v",
         "showlegend": true,
         "stackgroup": "1",
         "x": [
          "2022-11-04"
         ],
         "xaxis": "x",
         "y": [
          1
         ],
         "yaxis": "y",
         "type": "scatter"
        },
        {
         "fillpattern": {
          "shape": ""
         },
         "hovertemplate": "Chaîne=RCF Nice Côte d’Azur<br>Date=%{x}<br>Nombre de mention=%{y}<extra></extra>",
         "legendgroup": "RCF Nice Côte d’Azur",
         "line": {
          "color": "rgb(102, 102, 102)"
         },
         "marker": {
          "symbol": "circle"
         },
         "mode": "lines",
         "name": "RCF Nice Côte d’Azur",
         "orientation": "v",
         "showlegend": true,
         "stackgroup": "1",
         "x": [
          "2022-10-31"
         ],
         "xaxis": "x",
         "y": [
          2
         ],
         "yaxis": "y",
         "type": "scatter"
        },
        {
         "fillpattern": {
          "shape": ""
         },
         "hovertemplate": "Chaîne=RCF Nord de France<br>Date=%{x}<br>Nombre de mention=%{y}<extra></extra>",
         "legendgroup": "RCF Nord de France",
         "line": {
          "color": "rgb(95, 70, 144)"
         },
         "marker": {
          "symbol": "circle"
         },
         "mode": "lines",
         "name": "RCF Nord de France",
         "orientation": "v",
         "showlegend": true,
         "stackgroup": "1",
         "x": [
          "2022-11-03",
          "2022-11-04"
         ],
         "xaxis": "x",
         "y": [
          3,
          1
         ],
         "yaxis": "y",
         "type": "scatter"
        },
        {
         "fillpattern": {
          "shape": ""
         },
         "hovertemplate": "Chaîne=RCF Parabole<br>Date=%{x}<br>Nombre de mention=%{y}<extra></extra>",
         "legendgroup": "RCF Parabole",
         "line": {
          "color": "rgb(29, 105, 150)"
         },
         "marker": {
          "symbol": "circle"
         },
         "mode": "lines",
         "name": "RCF Parabole",
         "orientation": "v",
         "showlegend": true,
         "stackgroup": "1",
         "x": [
          "2022-11-04"
         ],
         "xaxis": "x",
         "y": [
          1
         ],
         "yaxis": "y",
         "type": "scatter"
        },
        {
         "fillpattern": {
          "shape": ""
         },
         "hovertemplate": "Chaîne=RCF Pays d'Aude<br>Date=%{x}<br>Nombre de mention=%{y}<extra></extra>",
         "legendgroup": "RCF Pays d'Aude",
         "line": {
          "color": "rgb(56, 166, 165)"
         },
         "marker": {
          "symbol": "circle"
         },
         "mode": "lines",
         "name": "RCF Pays d'Aude",
         "orientation": "v",
         "showlegend": true,
         "stackgroup": "1",
         "x": [
          "2022-11-04"
         ],
         "xaxis": "x",
         "y": [
          1
         ],
         "yaxis": "y",
         "type": "scatter"
        },
        {
         "fillpattern": {
          "shape": ""
         },
         "hovertemplate": "Chaîne=RCF Pays de Tarn<br>Date=%{x}<br>Nombre de mention=%{y}<extra></extra>",
         "legendgroup": "RCF Pays de Tarn",
         "line": {
          "color": "rgb(15, 133, 84)"
         },
         "marker": {
          "symbol": "circle"
         },
         "mode": "lines",
         "name": "RCF Pays de Tarn",
         "orientation": "v",
         "showlegend": true,
         "stackgroup": "1",
         "x": [
          "2022-11-04"
         ],
         "xaxis": "x",
         "y": [
          1
         ],
         "yaxis": "y",
         "type": "scatter"
        },
        {
         "fillpattern": {
          "shape": ""
         },
         "hovertemplate": "Chaîne=RCF Pays de l'Ain<br>Date=%{x}<br>Nombre de mention=%{y}<extra></extra>",
         "legendgroup": "RCF Pays de l'Ain",
         "line": {
          "color": "rgb(115, 175, 72)"
         },
         "marker": {
          "symbol": "circle"
         },
         "mode": "lines",
         "name": "RCF Pays de l'Ain",
         "orientation": "v",
         "showlegend": true,
         "stackgroup": "1",
         "x": [
          "2022-11-04"
         ],
         "xaxis": "x",
         "y": [
          1
         ],
         "yaxis": "y",
         "type": "scatter"
        },
        {
         "fillpattern": {
          "shape": ""
         },
         "hovertemplate": "Chaîne=RCF Poitou<br>Date=%{x}<br>Nombre de mention=%{y}<extra></extra>",
         "legendgroup": "RCF Poitou",
         "line": {
          "color": "rgb(237, 173, 8)"
         },
         "marker": {
          "symbol": "circle"
         },
         "mode": "lines",
         "name": "RCF Poitou",
         "orientation": "v",
         "showlegend": true,
         "stackgroup": "1",
         "x": [
          "2022-10-31",
          "2022-11-04"
         ],
         "xaxis": "x",
         "y": [
          2,
          2
         ],
         "yaxis": "y",
         "type": "scatter"
        },
        {
         "fillpattern": {
          "shape": ""
         },
         "hovertemplate": "Chaîne=RCF Reims Ardennes<br>Date=%{x}<br>Nombre de mention=%{y}<extra></extra>",
         "legendgroup": "RCF Reims Ardennes",
         "line": {
          "color": "rgb(225, 124, 5)"
         },
         "marker": {
          "symbol": "circle"
         },
         "mode": "lines",
         "name": "RCF Reims Ardennes",
         "orientation": "v",
         "showlegend": true,
         "stackgroup": "1",
         "x": [
          "2022-11-04",
          "2022-11-05"
         ],
         "xaxis": "x",
         "y": [
          2,
          4
         ],
         "yaxis": "y",
         "type": "scatter"
        },
        {
         "fillpattern": {
          "shape": ""
         },
         "hovertemplate": "Chaîne=RCF Rivages<br>Date=%{x}<br>Nombre de mention=%{y}<extra></extra>",
         "legendgroup": "RCF Rivages",
         "line": {
          "color": "rgb(204, 80, 62)"
         },
         "marker": {
          "symbol": "circle"
         },
         "mode": "lines",
         "name": "RCF Rivages",
         "orientation": "v",
         "showlegend": true,
         "stackgroup": "1",
         "x": [
          "2022-11-03"
         ],
         "xaxis": "x",
         "y": [
          4
         ],
         "yaxis": "y",
         "type": "scatter"
        },
        {
         "fillpattern": {
          "shape": ""
         },
         "hovertemplate": "Chaîne=RCF St Martin<br>Date=%{x}<br>Nombre de mention=%{y}<extra></extra>",
         "legendgroup": "RCF St Martin",
         "line": {
          "color": "rgb(148, 52, 110)"
         },
         "marker": {
          "symbol": "circle"
         },
         "mode": "lines",
         "name": "RCF St Martin",
         "orientation": "v",
         "showlegend": true,
         "stackgroup": "1",
         "x": [
          "2022-11-04"
         ],
         "xaxis": "x",
         "y": [
          1
         ],
         "yaxis": "y",
         "type": "scatter"
        },
        {
         "fillpattern": {
          "shape": ""
         },
         "hovertemplate": "Chaîne=RCF Vaucluse<br>Date=%{x}<br>Nombre de mention=%{y}<extra></extra>",
         "legendgroup": "RCF Vaucluse",
         "line": {
          "color": "rgb(111, 64, 112)"
         },
         "marker": {
          "symbol": "circle"
         },
         "mode": "lines",
         "name": "RCF Vaucluse",
         "orientation": "v",
         "showlegend": true,
         "stackgroup": "1",
         "x": [
          "2022-11-02"
         ],
         "xaxis": "x",
         "y": [
          1
         ],
         "yaxis": "y",
         "type": "scatter"
        },
        {
         "fillpattern": {
          "shape": ""
         },
         "hovertemplate": "Chaîne=RCF Vendée<br>Date=%{x}<br>Nombre de mention=%{y}<extra></extra>",
         "legendgroup": "RCF Vendée",
         "line": {
          "color": "rgb(102, 102, 102)"
         },
         "marker": {
          "symbol": "circle"
         },
         "mode": "lines",
         "name": "RCF Vendée",
         "orientation": "v",
         "showlegend": true,
         "stackgroup": "1",
         "x": [
          "2022-11-04"
         ],
         "xaxis": "x",
         "y": [
          1
         ],
         "yaxis": "y",
         "type": "scatter"
        },
        {
         "fillpattern": {
          "shape": ""
         },
         "hovertemplate": "Chaîne=RCI Guadeloupe<br>Date=%{x}<br>Nombre de mention=%{y}<extra></extra>",
         "legendgroup": "RCI Guadeloupe",
         "line": {
          "color": "rgb(95, 70, 144)"
         },
         "marker": {
          "symbol": "circle"
         },
         "mode": "lines",
         "name": "RCI Guadeloupe",
         "orientation": "v",
         "showlegend": true,
         "stackgroup": "1",
         "x": [
          "2022-11-04",
          "2022-11-05"
         ],
         "xaxis": "x",
         "y": [
          2,
          1
         ],
         "yaxis": "y",
         "type": "scatter"
        },
        {
         "fillpattern": {
          "shape": ""
         },
         "hovertemplate": "Chaîne=RCI Martinique<br>Date=%{x}<br>Nombre de mention=%{y}<extra></extra>",
         "legendgroup": "RCI Martinique",
         "line": {
          "color": "rgb(29, 105, 150)"
         },
         "marker": {
          "symbol": "circle"
         },
         "mode": "lines",
         "name": "RCI Martinique",
         "orientation": "v",
         "showlegend": true,
         "stackgroup": "1",
         "x": [
          "2022-11-04",
          "2022-11-05"
         ],
         "xaxis": "x",
         "y": [
          2,
          3
         ],
         "yaxis": "y",
         "type": "scatter"
        },
        {
         "fillpattern": {
          "shape": ""
         },
         "hovertemplate": "Chaîne=RCJ<br>Date=%{x}<br>Nombre de mention=%{y}<extra></extra>",
         "legendgroup": "RCJ",
         "line": {
          "color": "rgb(56, 166, 165)"
         },
         "marker": {
          "symbol": "circle"
         },
         "mode": "lines",
         "name": "RCJ",
         "orientation": "v",
         "showlegend": true,
         "stackgroup": "1",
         "x": [
          "2022-10-31",
          "2022-11-02",
          "2022-11-03"
         ],
         "xaxis": "x",
         "y": [
          5,
          2,
          2
         ],
         "yaxis": "y",
         "type": "scatter"
        },
        {
         "fillpattern": {
          "shape": ""
         },
         "hovertemplate": "Chaîne=RDM<br>Date=%{x}<br>Nombre de mention=%{y}<extra></extra>",
         "legendgroup": "RDM",
         "line": {
          "color": "rgb(15, 133, 84)"
         },
         "marker": {
          "symbol": "circle"
         },
         "mode": "lines",
         "name": "RDM",
         "orientation": "v",
         "showlegend": true,
         "stackgroup": "1",
         "x": [
          "2022-11-04"
         ],
         "xaxis": "x",
         "y": [
          5
         ],
         "yaxis": "y",
         "type": "scatter"
        },
        {
         "fillpattern": {
          "shape": ""
         },
         "hovertemplate": "Chaîne=RFI<br>Date=%{x}<br>Nombre de mention=%{y}<extra></extra>",
         "legendgroup": "RFI",
         "line": {
          "color": "rgb(115, 175, 72)"
         },
         "marker": {
          "symbol": "circle"
         },
         "mode": "lines",
         "name": "RFI",
         "orientation": "v",
         "showlegend": true,
         "stackgroup": "1",
         "x": [
          "2022-10-29",
          "2022-10-30",
          "2022-10-31",
          "2022-11-01",
          "2022-11-02",
          "2022-11-03",
          "2022-11-04",
          "2022-11-05"
         ],
         "xaxis": "x",
         "y": [
          7,
          5,
          8,
          6,
          12,
          23,
          50,
          38
         ],
         "yaxis": "y",
         "type": "scatter"
        },
        {
         "fillpattern": {
          "shape": ""
         },
         "hovertemplate": "Chaîne=RFM<br>Date=%{x}<br>Nombre de mention=%{y}<extra></extra>",
         "legendgroup": "RFM",
         "line": {
          "color": "rgb(237, 173, 8)"
         },
         "marker": {
          "symbol": "circle"
         },
         "mode": "lines",
         "name": "RFM",
         "orientation": "v",
         "showlegend": true,
         "stackgroup": "1",
         "x": [
          "2022-11-02",
          "2022-11-04",
          "2022-11-05"
         ],
         "xaxis": "x",
         "y": [
          4,
          3,
          2
         ],
         "yaxis": "y",
         "type": "scatter"
        },
        {
         "fillpattern": {
          "shape": ""
         },
         "hovertemplate": "Chaîne=RJFM<br>Date=%{x}<br>Nombre de mention=%{y}<extra></extra>",
         "legendgroup": "RJFM",
         "line": {
          "color": "rgb(225, 124, 5)"
         },
         "marker": {
          "symbol": "circle"
         },
         "mode": "lines",
         "name": "RJFM",
         "orientation": "v",
         "showlegend": true,
         "stackgroup": "1",
         "x": [
          "2022-11-02",
          "2022-11-03",
          "2022-11-04",
          "2022-11-05"
         ],
         "xaxis": "x",
         "y": [
          1,
          1,
          1,
          2
         ],
         "yaxis": "y",
         "type": "scatter"
        },
        {
         "fillpattern": {
          "shape": ""
         },
         "hovertemplate": "Chaîne=RMC<br>Date=%{x}<br>Nombre de mention=%{y}<extra></extra>",
         "legendgroup": "RMC",
         "line": {
          "color": "rgb(204, 80, 62)"
         },
         "marker": {
          "symbol": "circle"
         },
         "mode": "lines",
         "name": "RMC",
         "orientation": "v",
         "showlegend": true,
         "stackgroup": "1",
         "x": [
          "2022-10-30",
          "2022-10-31",
          "2022-11-02",
          "2022-11-03",
          "2022-11-04",
          "2022-11-05"
         ],
         "xaxis": "x",
         "y": [
          3,
          3,
          14,
          2,
          4,
          1
         ],
         "yaxis": "y",
         "type": "scatter"
        },
        {
         "fillpattern": {
          "shape": ""
         },
         "hovertemplate": "Chaîne=RTBF La Première<br>Date=%{x}<br>Nombre de mention=%{y}<extra></extra>",
         "legendgroup": "RTBF La Première",
         "line": {
          "color": "rgb(148, 52, 110)"
         },
         "marker": {
          "symbol": "circle"
         },
         "mode": "lines",
         "name": "RTBF La Première",
         "orientation": "v",
         "showlegend": true,
         "stackgroup": "1",
         "x": [
          "2022-10-30",
          "2022-10-31",
          "2022-11-02",
          "2022-11-03",
          "2022-11-04",
          "2022-11-05"
         ],
         "xaxis": "x",
         "y": [
          3,
          5,
          15,
          9,
          4,
          2
         ],
         "yaxis": "y",
         "type": "scatter"
        },
        {
         "fillpattern": {
          "shape": ""
         },
         "hovertemplate": "Chaîne=RTL<br>Date=%{x}<br>Nombre de mention=%{y}<extra></extra>",
         "legendgroup": "RTL",
         "line": {
          "color": "rgb(111, 64, 112)"
         },
         "marker": {
          "symbol": "circle"
         },
         "mode": "lines",
         "name": "RTL",
         "orientation": "v",
         "showlegend": true,
         "stackgroup": "1",
         "x": [
          "2022-10-30",
          "2022-10-31",
          "2022-11-01",
          "2022-11-02",
          "2022-11-03",
          "2022-11-04",
          "2022-11-05"
         ],
         "xaxis": "x",
         "y": [
          1,
          3,
          4,
          4,
          6,
          15,
          13
         ],
         "yaxis": "y",
         "type": "scatter"
        },
        {
         "fillpattern": {
          "shape": ""
         },
         "hovertemplate": "Chaîne=RTL2<br>Date=%{x}<br>Nombre de mention=%{y}<extra></extra>",
         "legendgroup": "RTL2",
         "line": {
          "color": "rgb(102, 102, 102)"
         },
         "marker": {
          "symbol": "circle"
         },
         "mode": "lines",
         "name": "RTL2",
         "orientation": "v",
         "showlegend": true,
         "stackgroup": "1",
         "x": [
          "2022-11-04"
         ],
         "xaxis": "x",
         "y": [
          4
         ],
         "yaxis": "y",
         "type": "scatter"
        },
        {
         "fillpattern": {
          "shape": ""
         },
         "hovertemplate": "Chaîne=RTL2 Bordeaux<br>Date=%{x}<br>Nombre de mention=%{y}<extra></extra>",
         "legendgroup": "RTL2 Bordeaux",
         "line": {
          "color": "rgb(95, 70, 144)"
         },
         "marker": {
          "symbol": "circle"
         },
         "mode": "lines",
         "name": "RTL2 Bordeaux",
         "orientation": "v",
         "showlegend": true,
         "stackgroup": "1",
         "x": [
          "2022-11-04"
         ],
         "xaxis": "x",
         "y": [
          3
         ],
         "yaxis": "y",
         "type": "scatter"
        },
        {
         "fillpattern": {
          "shape": ""
         },
         "hovertemplate": "Chaîne=RTS FM<br>Date=%{x}<br>Nombre de mention=%{y}<extra></extra>",
         "legendgroup": "RTS FM",
         "line": {
          "color": "rgb(29, 105, 150)"
         },
         "marker": {
          "symbol": "circle"
         },
         "mode": "lines",
         "name": "RTS FM",
         "orientation": "v",
         "showlegend": true,
         "stackgroup": "1",
         "x": [
          "2022-11-02",
          "2022-11-05"
         ],
         "xaxis": "x",
         "y": [
          1,
          3
         ],
         "yaxis": "y",
         "type": "scatter"
        },
        {
         "fillpattern": {
          "shape": ""
         },
         "hovertemplate": "Chaîne=RTS La 1ère<br>Date=%{x}<br>Nombre de mention=%{y}<extra></extra>",
         "legendgroup": "RTS La 1ère",
         "line": {
          "color": "rgb(56, 166, 165)"
         },
         "marker": {
          "symbol": "circle"
         },
         "mode": "lines",
         "name": "RTS La 1ère",
         "orientation": "v",
         "showlegend": true,
         "stackgroup": "1",
         "x": [
          "2022-10-29",
          "2022-10-31",
          "2022-11-01",
          "2022-11-02",
          "2022-11-03",
          "2022-11-04",
          "2022-11-05"
         ],
         "xaxis": "x",
         "y": [
          2,
          4,
          3,
          7,
          5,
          8,
          2
         ],
         "yaxis": "y",
         "type": "scatter"
        },
        {
         "fillpattern": {
          "shape": ""
         },
         "hovertemplate": "Chaîne=RVA<br>Date=%{x}<br>Nombre de mention=%{y}<extra></extra>",
         "legendgroup": "RVA",
         "line": {
          "color": "rgb(15, 133, 84)"
         },
         "marker": {
          "symbol": "circle"
         },
         "mode": "lines",
         "name": "RVA",
         "orientation": "v",
         "showlegend": true,
         "stackgroup": "1",
         "x": [
          "2022-11-05"
         ],
         "xaxis": "x",
         "y": [
          1
         ],
         "yaxis": "y",
         "type": "scatter"
        },
        {
         "fillpattern": {
          "shape": ""
         },
         "hovertemplate": "Chaîne=RVM<br>Date=%{x}<br>Nombre de mention=%{y}<extra></extra>",
         "legendgroup": "RVM",
         "line": {
          "color": "rgb(115, 175, 72)"
         },
         "marker": {
          "symbol": "circle"
         },
         "mode": "lines",
         "name": "RVM",
         "orientation": "v",
         "showlegend": true,
         "stackgroup": "1",
         "x": [
          "2022-11-02",
          "2022-11-05"
         ],
         "xaxis": "x",
         "y": [
          1,
          3
         ],
         "yaxis": "y",
         "type": "scatter"
        },
        {
         "fillpattern": {
          "shape": ""
         },
         "hovertemplate": "Chaîne=Radio 6<br>Date=%{x}<br>Nombre de mention=%{y}<extra></extra>",
         "legendgroup": "Radio 6",
         "line": {
          "color": "rgb(237, 173, 8)"
         },
         "marker": {
          "symbol": "circle"
         },
         "mode": "lines",
         "name": "Radio 6",
         "orientation": "v",
         "showlegend": true,
         "stackgroup": "1",
         "x": [
          "2022-11-02",
          "2022-11-04"
         ],
         "xaxis": "x",
         "y": [
          1,
          2
         ],
         "yaxis": "y",
         "type": "scatter"
        },
        {
         "fillpattern": {
          "shape": ""
         },
         "hovertemplate": "Chaîne=Radio Aviva<br>Date=%{x}<br>Nombre de mention=%{y}<extra></extra>",
         "legendgroup": "Radio Aviva",
         "line": {
          "color": "rgb(225, 124, 5)"
         },
         "marker": {
          "symbol": "circle"
         },
         "mode": "lines",
         "name": "Radio Aviva",
         "orientation": "v",
         "showlegend": true,
         "stackgroup": "1",
         "x": [
          "2022-11-04"
         ],
         "xaxis": "x",
         "y": [
          1
         ],
         "yaxis": "y",
         "type": "scatter"
        },
        {
         "fillpattern": {
          "shape": ""
         },
         "hovertemplate": "Chaîne=Radio Camargue<br>Date=%{x}<br>Nombre de mention=%{y}<extra></extra>",
         "legendgroup": "Radio Camargue",
         "line": {
          "color": "rgb(204, 80, 62)"
         },
         "marker": {
          "symbol": "circle"
         },
         "mode": "lines",
         "name": "Radio Camargue",
         "orientation": "v",
         "showlegend": true,
         "stackgroup": "1",
         "x": [
          "2022-11-03",
          "2022-11-04"
         ],
         "xaxis": "x",
         "y": [
          1,
          4
         ],
         "yaxis": "y",
         "type": "scatter"
        },
        {
         "fillpattern": {
          "shape": ""
         },
         "hovertemplate": "Chaîne=Radio Campus Rouen<br>Date=%{x}<br>Nombre de mention=%{y}<extra></extra>",
         "legendgroup": "Radio Campus Rouen",
         "line": {
          "color": "rgb(148, 52, 110)"
         },
         "marker": {
          "symbol": "circle"
         },
         "mode": "lines",
         "name": "Radio Campus Rouen",
         "orientation": "v",
         "showlegend": true,
         "stackgroup": "1",
         "x": [
          "2022-11-02"
         ],
         "xaxis": "x",
         "y": [
          2
         ],
         "yaxis": "y",
         "type": "scatter"
        },
        {
         "fillpattern": {
          "shape": ""
         },
         "hovertemplate": "Chaîne=Radio Clapas<br>Date=%{x}<br>Nombre de mention=%{y}<extra></extra>",
         "legendgroup": "Radio Clapas",
         "line": {
          "color": "rgb(111, 64, 112)"
         },
         "marker": {
          "symbol": "circle"
         },
         "mode": "lines",
         "name": "Radio Clapas",
         "orientation": "v",
         "showlegend": true,
         "stackgroup": "1",
         "x": [
          "2022-11-01",
          "2022-11-04"
         ],
         "xaxis": "x",
         "y": [
          1,
          1
         ],
         "yaxis": "y",
         "type": "scatter"
        },
        {
         "fillpattern": {
          "shape": ""
         },
         "hovertemplate": "Chaîne=Radio Classique<br>Date=%{x}<br>Nombre de mention=%{y}<extra></extra>",
         "legendgroup": "Radio Classique",
         "line": {
          "color": "rgb(102, 102, 102)"
         },
         "marker": {
          "symbol": "circle"
         },
         "mode": "lines",
         "name": "Radio Classique",
         "orientation": "v",
         "showlegend": true,
         "stackgroup": "1",
         "x": [
          "2022-11-01",
          "2022-11-02",
          "2022-11-03",
          "2022-11-04"
         ],
         "xaxis": "x",
         "y": [
          3,
          5,
          2,
          8
         ],
         "yaxis": "y",
         "type": "scatter"
        },
        {
         "fillpattern": {
          "shape": ""
         },
         "hovertemplate": "Chaîne=Radio Couserans<br>Date=%{x}<br>Nombre de mention=%{y}<extra></extra>",
         "legendgroup": "Radio Couserans",
         "line": {
          "color": "rgb(95, 70, 144)"
         },
         "marker": {
          "symbol": "circle"
         },
         "mode": "lines",
         "name": "Radio Couserans",
         "orientation": "v",
         "showlegend": true,
         "stackgroup": "1",
         "x": [
          "2022-11-04"
         ],
         "xaxis": "x",
         "y": [
          1
         ],
         "yaxis": "y",
         "type": "scatter"
        },
        {
         "fillpattern": {
          "shape": ""
         },
         "hovertemplate": "Chaîne=Radio Dreyeckland<br>Date=%{x}<br>Nombre de mention=%{y}<extra></extra>",
         "legendgroup": "Radio Dreyeckland",
         "line": {
          "color": "rgb(29, 105, 150)"
         },
         "marker": {
          "symbol": "circle"
         },
         "mode": "lines",
         "name": "Radio Dreyeckland",
         "orientation": "v",
         "showlegend": true,
         "stackgroup": "1",
         "x": [
          "2022-11-04",
          "2022-11-05"
         ],
         "xaxis": "x",
         "y": [
          1,
          1
         ],
         "yaxis": "y",
         "type": "scatter"
        },
        {
         "fillpattern": {
          "shape": ""
         },
         "hovertemplate": "Chaîne=Radio FG<br>Date=%{x}<br>Nombre de mention=%{y}<extra></extra>",
         "legendgroup": "Radio FG",
         "line": {
          "color": "rgb(56, 166, 165)"
         },
         "marker": {
          "symbol": "circle"
         },
         "mode": "lines",
         "name": "Radio FG",
         "orientation": "v",
         "showlegend": true,
         "stackgroup": "1",
         "x": [
          "2022-11-02",
          "2022-11-04"
         ],
         "xaxis": "x",
         "y": [
          1,
          4
         ],
         "yaxis": "y",
         "type": "scatter"
        },
        {
         "fillpattern": {
          "shape": ""
         },
         "hovertemplate": "Chaîne=Radio Gatine<br>Date=%{x}<br>Nombre de mention=%{y}<extra></extra>",
         "legendgroup": "Radio Gatine",
         "line": {
          "color": "rgb(15, 133, 84)"
         },
         "marker": {
          "symbol": "circle"
         },
         "mode": "lines",
         "name": "Radio Gatine",
         "orientation": "v",
         "showlegend": true,
         "stackgroup": "1",
         "x": [
          "2022-11-03",
          "2022-11-04",
          "2022-11-05"
         ],
         "xaxis": "x",
         "y": [
          1,
          1,
          1
         ],
         "yaxis": "y",
         "type": "scatter"
        },
        {
         "fillpattern": {
          "shape": ""
         },
         "hovertemplate": "Chaîne=Radio Immo<br>Date=%{x}<br>Nombre de mention=%{y}<extra></extra>",
         "legendgroup": "Radio Immo",
         "line": {
          "color": "rgb(115, 175, 72)"
         },
         "marker": {
          "symbol": "circle"
         },
         "mode": "lines",
         "name": "Radio Immo",
         "orientation": "v",
         "showlegend": true,
         "stackgroup": "1",
         "x": [
          "2022-10-30",
          "2022-11-01",
          "2022-11-02",
          "2022-11-04",
          "2022-11-05"
         ],
         "xaxis": "x",
         "y": [
          2,
          1,
          3,
          4,
          8
         ],
         "yaxis": "y",
         "type": "scatter"
        },
        {
         "fillpattern": {
          "shape": ""
         },
         "hovertemplate": "Chaîne=Radio Intensité<br>Date=%{x}<br>Nombre de mention=%{y}<extra></extra>",
         "legendgroup": "Radio Intensité",
         "line": {
          "color": "rgb(237, 173, 8)"
         },
         "marker": {
          "symbol": "circle"
         },
         "mode": "lines",
         "name": "Radio Intensité",
         "orientation": "v",
         "showlegend": true,
         "stackgroup": "1",
         "x": [
          "2022-11-02",
          "2022-11-03",
          "2022-11-04",
          "2022-11-05"
         ],
         "xaxis": "x",
         "y": [
          1,
          2,
          3,
          2
         ],
         "yaxis": "y",
         "type": "scatter"
        },
        {
         "fillpattern": {
          "shape": ""
         },
         "hovertemplate": "Chaîne=Radio J<br>Date=%{x}<br>Nombre de mention=%{y}<extra></extra>",
         "legendgroup": "Radio J",
         "line": {
          "color": "rgb(225, 124, 5)"
         },
         "marker": {
          "symbol": "circle"
         },
         "mode": "lines",
         "name": "Radio J",
         "orientation": "v",
         "showlegend": true,
         "stackgroup": "1",
         "x": [
          "2022-10-31",
          "2022-11-01",
          "2022-11-02",
          "2022-11-03",
          "2022-11-04"
         ],
         "xaxis": "x",
         "y": [
          18,
          2,
          2,
          3,
          3
         ],
         "yaxis": "y",
         "type": "scatter"
        },
        {
         "fillpattern": {
          "shape": ""
         },
         "hovertemplate": "Chaîne=Radio Menergy<br>Date=%{x}<br>Nombre de mention=%{y}<extra></extra>",
         "legendgroup": "Radio Menergy",
         "line": {
          "color": "rgb(204, 80, 62)"
         },
         "marker": {
          "symbol": "circle"
         },
         "mode": "lines",
         "name": "Radio Menergy",
         "orientation": "v",
         "showlegend": true,
         "stackgroup": "1",
         "x": [
          "2022-11-05"
         ],
         "xaxis": "x",
         "y": [
          6
         ],
         "yaxis": "y",
         "type": "scatter"
        },
        {
         "fillpattern": {
          "shape": ""
         },
         "hovertemplate": "Chaîne=Radio Monaco<br>Date=%{x}<br>Nombre de mention=%{y}<extra></extra>",
         "legendgroup": "Radio Monaco",
         "line": {
          "color": "rgb(148, 52, 110)"
         },
         "marker": {
          "symbol": "circle"
         },
         "mode": "lines",
         "name": "Radio Monaco",
         "orientation": "v",
         "showlegend": true,
         "stackgroup": "1",
         "x": [
          "2022-10-31",
          "2022-11-03"
         ],
         "xaxis": "x",
         "y": [
          2,
          4
         ],
         "yaxis": "y",
         "type": "scatter"
        },
        {
         "fillpattern": {
          "shape": ""
         },
         "hovertemplate": "Chaîne=Radio Morvan<br>Date=%{x}<br>Nombre de mention=%{y}<extra></extra>",
         "legendgroup": "Radio Morvan",
         "line": {
          "color": "rgb(111, 64, 112)"
         },
         "marker": {
          "symbol": "circle"
         },
         "mode": "lines",
         "name": "Radio Morvan",
         "orientation": "v",
         "showlegend": true,
         "stackgroup": "1",
         "x": [
          "2022-11-03",
          "2022-11-05"
         ],
         "xaxis": "x",
         "y": [
          2,
          2
         ],
         "yaxis": "y",
         "type": "scatter"
        },
        {
         "fillpattern": {
          "shape": ""
         },
         "hovertemplate": "Chaîne=Radio Notre Dame<br>Date=%{x}<br>Nombre de mention=%{y}<extra></extra>",
         "legendgroup": "Radio Notre Dame",
         "line": {
          "color": "rgb(102, 102, 102)"
         },
         "marker": {
          "symbol": "circle"
         },
         "mode": "lines",
         "name": "Radio Notre Dame",
         "orientation": "v",
         "showlegend": true,
         "stackgroup": "1",
         "x": [
          "2022-10-31"
         ],
         "xaxis": "x",
         "y": [
          1
         ],
         "yaxis": "y",
         "type": "scatter"
        },
        {
         "fillpattern": {
          "shape": ""
         },
         "hovertemplate": "Chaîne=Radio Patrimoine<br>Date=%{x}<br>Nombre de mention=%{y}<extra></extra>",
         "legendgroup": "Radio Patrimoine",
         "line": {
          "color": "rgb(95, 70, 144)"
         },
         "marker": {
          "symbol": "circle"
         },
         "mode": "lines",
         "name": "Radio Patrimoine",
         "orientation": "v",
         "showlegend": true,
         "stackgroup": "1",
         "x": [
          "2022-11-02",
          "2022-11-04",
          "2022-11-05"
         ],
         "xaxis": "x",
         "y": [
          3,
          5,
          8
         ],
         "yaxis": "y",
         "type": "scatter"
        },
        {
         "fillpattern": {
          "shape": ""
         },
         "hovertemplate": "Chaîne=Radio Pluriel<br>Date=%{x}<br>Nombre de mention=%{y}<extra></extra>",
         "legendgroup": "Radio Pluriel",
         "line": {
          "color": "rgb(29, 105, 150)"
         },
         "marker": {
          "symbol": "circle"
         },
         "mode": "lines",
         "name": "Radio Pluriel",
         "orientation": "v",
         "showlegend": true,
         "stackgroup": "1",
         "x": [
          "2022-10-31",
          "2022-11-04"
         ],
         "xaxis": "x",
         "y": [
          1,
          1
         ],
         "yaxis": "y",
         "type": "scatter"
        },
        {
         "fillpattern": {
          "shape": ""
         },
         "hovertemplate": "Chaîne=Radio Totem<br>Date=%{x}<br>Nombre de mention=%{y}<extra></extra>",
         "legendgroup": "Radio Totem",
         "line": {
          "color": "rgb(56, 166, 165)"
         },
         "marker": {
          "symbol": "circle"
         },
         "mode": "lines",
         "name": "Radio Totem",
         "orientation": "v",
         "showlegend": true,
         "stackgroup": "1",
         "x": [
          "2022-11-04",
          "2022-11-05"
         ],
         "xaxis": "x",
         "y": [
          1,
          1
         ],
         "yaxis": "y",
         "type": "scatter"
        },
        {
         "fillpattern": {
          "shape": ""
         },
         "hovertemplate": "Chaîne=Radio Transparence<br>Date=%{x}<br>Nombre de mention=%{y}<extra></extra>",
         "legendgroup": "Radio Transparence",
         "line": {
          "color": "rgb(15, 133, 84)"
         },
         "marker": {
          "symbol": "circle"
         },
         "mode": "lines",
         "name": "Radio Transparence",
         "orientation": "v",
         "showlegend": true,
         "stackgroup": "1",
         "x": [
          "2022-11-03"
         ],
         "xaxis": "x",
         "y": [
          1
         ],
         "yaxis": "y",
         "type": "scatter"
        },
        {
         "fillpattern": {
          "shape": ""
         },
         "hovertemplate": "Chaîne=Radio VFM<br>Date=%{x}<br>Nombre de mention=%{y}<extra></extra>",
         "legendgroup": "Radio VFM",
         "line": {
          "color": "rgb(115, 175, 72)"
         },
         "marker": {
          "symbol": "circle"
         },
         "mode": "lines",
         "name": "Radio VFM",
         "orientation": "v",
         "showlegend": true,
         "stackgroup": "1",
         "x": [
          "2022-11-02",
          "2022-11-04"
         ],
         "xaxis": "x",
         "y": [
          1,
          2
         ],
         "yaxis": "y",
         "type": "scatter"
        },
        {
         "fillpattern": {
          "shape": ""
         },
         "hovertemplate": "Chaîne=Rire et Chansons<br>Date=%{x}<br>Nombre de mention=%{y}<extra></extra>",
         "legendgroup": "Rire et Chansons",
         "line": {
          "color": "rgb(237, 173, 8)"
         },
         "marker": {
          "symbol": "circle"
         },
         "mode": "lines",
         "name": "Rire et Chansons",
         "orientation": "v",
         "showlegend": true,
         "stackgroup": "1",
         "x": [
          "2022-11-04"
         ],
         "xaxis": "x",
         "y": [
          1
         ],
         "yaxis": "y",
         "type": "scatter"
        },
        {
         "fillpattern": {
          "shape": ""
         },
         "hovertemplate": "Chaîne=Résonance<br>Date=%{x}<br>Nombre de mention=%{y}<extra></extra>",
         "legendgroup": "Résonance",
         "line": {
          "color": "rgb(225, 124, 5)"
         },
         "marker": {
          "symbol": "circle"
         },
         "mode": "lines",
         "name": "Résonance",
         "orientation": "v",
         "showlegend": true,
         "stackgroup": "1",
         "x": [
          "2022-11-04"
         ],
         "xaxis": "x",
         "y": [
          3
         ],
         "yaxis": "y",
         "type": "scatter"
        },
        {
         "fillpattern": {
          "shape": ""
         },
         "hovertemplate": "Chaîne=Réunion 1ère<br>Date=%{x}<br>Nombre de mention=%{y}<extra></extra>",
         "legendgroup": "Réunion 1ère",
         "line": {
          "color": "rgb(204, 80, 62)"
         },
         "marker": {
          "symbol": "circle"
         },
         "mode": "lines",
         "name": "Réunion 1ère",
         "orientation": "v",
         "showlegend": true,
         "stackgroup": "1",
         "x": [
          "2022-11-02",
          "2022-11-03"
         ],
         "xaxis": "x",
         "y": [
          1,
          1
         ],
         "yaxis": "y",
         "type": "scatter"
        },
        {
         "fillpattern": {
          "shape": ""
         },
         "hovertemplate": "Chaîne=Sea FM<br>Date=%{x}<br>Nombre de mention=%{y}<extra></extra>",
         "legendgroup": "Sea FM",
         "line": {
          "color": "rgb(148, 52, 110)"
         },
         "marker": {
          "symbol": "circle"
         },
         "mode": "lines",
         "name": "Sea FM",
         "orientation": "v",
         "showlegend": true,
         "stackgroup": "1",
         "x": [
          "2022-11-02",
          "2022-11-03",
          "2022-11-04",
          "2022-11-05"
         ],
         "xaxis": "x",
         "y": [
          1,
          2,
          3,
          3
         ],
         "yaxis": "y",
         "type": "scatter"
        },
        {
         "fillpattern": {
          "shape": ""
         },
         "hovertemplate": "Chaîne=Skyrock<br>Date=%{x}<br>Nombre de mention=%{y}<extra></extra>",
         "legendgroup": "Skyrock",
         "line": {
          "color": "rgb(111, 64, 112)"
         },
         "marker": {
          "symbol": "circle"
         },
         "mode": "lines",
         "name": "Skyrock",
         "orientation": "v",
         "showlegend": true,
         "stackgroup": "1",
         "x": [
          "2022-11-01",
          "2022-11-03"
         ],
         "xaxis": "x",
         "y": [
          3,
          2
         ],
         "yaxis": "y",
         "type": "scatter"
        },
        {
         "fillpattern": {
          "shape": ""
         },
         "hovertemplate": "Chaîne=Skyrock Lille<br>Date=%{x}<br>Nombre de mention=%{y}<extra></extra>",
         "legendgroup": "Skyrock Lille",
         "line": {
          "color": "rgb(102, 102, 102)"
         },
         "marker": {
          "symbol": "circle"
         },
         "mode": "lines",
         "name": "Skyrock Lille",
         "orientation": "v",
         "showlegend": true,
         "stackgroup": "1",
         "x": [
          "2022-11-01"
         ],
         "xaxis": "x",
         "y": [
          3
         ],
         "yaxis": "y",
         "type": "scatter"
        },
        {
         "fillpattern": {
          "shape": ""
         },
         "hovertemplate": "Chaîne=Skyrock Marseille<br>Date=%{x}<br>Nombre de mention=%{y}<extra></extra>",
         "legendgroup": "Skyrock Marseille",
         "line": {
          "color": "rgb(95, 70, 144)"
         },
         "marker": {
          "symbol": "circle"
         },
         "mode": "lines",
         "name": "Skyrock Marseille",
         "orientation": "v",
         "showlegend": true,
         "stackgroup": "1",
         "x": [
          "2022-11-01"
         ],
         "xaxis": "x",
         "y": [
          3
         ],
         "yaxis": "y",
         "type": "scatter"
        },
        {
         "fillpattern": {
          "shape": ""
         },
         "hovertemplate": "Chaîne=Studio 20<br>Date=%{x}<br>Nombre de mention=%{y}<extra></extra>",
         "legendgroup": "Studio 20",
         "line": {
          "color": "rgb(29, 105, 150)"
         },
         "marker": {
          "symbol": "circle"
         },
         "mode": "lines",
         "name": "Studio 20",
         "orientation": "v",
         "showlegend": true,
         "stackgroup": "1",
         "x": [
          "2022-10-29",
          "2022-10-31"
         ],
         "xaxis": "x",
         "y": [
          1,
          1
         ],
         "yaxis": "y",
         "type": "scatter"
        },
        {
         "fillpattern": {
          "shape": ""
         },
         "hovertemplate": "Chaîne=Sud Nivernais Radio<br>Date=%{x}<br>Nombre de mention=%{y}<extra></extra>",
         "legendgroup": "Sud Nivernais Radio",
         "line": {
          "color": "rgb(56, 166, 165)"
         },
         "marker": {
          "symbol": "circle"
         },
         "mode": "lines",
         "name": "Sud Nivernais Radio",
         "orientation": "v",
         "showlegend": true,
         "stackgroup": "1",
         "x": [
          "2022-11-02",
          "2022-11-03",
          "2022-11-04",
          "2022-11-05"
         ],
         "xaxis": "x",
         "y": [
          1,
          2,
          2,
          1
         ],
         "yaxis": "y",
         "type": "scatter"
        },
        {
         "fillpattern": {
          "shape": ""
         },
         "hovertemplate": "Chaîne=Sud Radio Paris<br>Date=%{x}<br>Nombre de mention=%{y}<extra></extra>",
         "legendgroup": "Sud Radio Paris",
         "line": {
          "color": "rgb(15, 133, 84)"
         },
         "marker": {
          "symbol": "circle"
         },
         "mode": "lines",
         "name": "Sud Radio Paris",
         "orientation": "v",
         "showlegend": true,
         "stackgroup": "1",
         "x": [
          "2022-10-30",
          "2022-10-31",
          "2022-11-01",
          "2022-11-02",
          "2022-11-03",
          "2022-11-04",
          "2022-11-05"
         ],
         "xaxis": "x",
         "y": [
          4,
          1,
          2,
          13,
          3,
          10,
          6
         ],
         "yaxis": "y",
         "type": "scatter"
        },
        {
         "fillpattern": {
          "shape": ""
         },
         "hovertemplate": "Chaîne=TSF Jazz<br>Date=%{x}<br>Nombre de mention=%{y}<extra></extra>",
         "legendgroup": "TSF Jazz",
         "line": {
          "color": "rgb(115, 175, 72)"
         },
         "marker": {
          "symbol": "circle"
         },
         "mode": "lines",
         "name": "TSF Jazz",
         "orientation": "v",
         "showlegend": true,
         "stackgroup": "1",
         "x": [
          "2022-11-02",
          "2022-11-03",
          "2022-11-04"
         ],
         "xaxis": "x",
         "y": [
          1,
          2,
          3
         ],
         "yaxis": "y",
         "type": "scatter"
        },
        {
         "fillpattern": {
          "shape": ""
         },
         "hovertemplate": "Chaîne=Top FM<br>Date=%{x}<br>Nombre de mention=%{y}<extra></extra>",
         "legendgroup": "Top FM",
         "line": {
          "color": "rgb(237, 173, 8)"
         },
         "marker": {
          "symbol": "circle"
         },
         "mode": "lines",
         "name": "Top FM",
         "orientation": "v",
         "showlegend": true,
         "stackgroup": "1",
         "x": [
          "2022-11-02",
          "2022-11-03",
          "2022-11-04",
          "2022-11-05"
         ],
         "xaxis": "x",
         "y": [
          1,
          2,
          1,
          2
         ],
         "yaxis": "y",
         "type": "scatter"
        },
        {
         "fillpattern": {
          "shape": ""
         },
         "hovertemplate": "Chaîne=Top Music<br>Date=%{x}<br>Nombre de mention=%{y}<extra></extra>",
         "legendgroup": "Top Music",
         "line": {
          "color": "rgb(225, 124, 5)"
         },
         "marker": {
          "symbol": "circle"
         },
         "mode": "lines",
         "name": "Top Music",
         "orientation": "v",
         "showlegend": true,
         "stackgroup": "1",
         "x": [
          "2022-11-05"
         ],
         "xaxis": "x",
         "y": [
          4
         ],
         "yaxis": "y",
         "type": "scatter"
        },
        {
         "fillpattern": {
          "shape": ""
         },
         "hovertemplate": "Chaîne=Toulouse FM<br>Date=%{x}<br>Nombre de mention=%{y}<extra></extra>",
         "legendgroup": "Toulouse FM",
         "line": {
          "color": "rgb(204, 80, 62)"
         },
         "marker": {
          "symbol": "circle"
         },
         "mode": "lines",
         "name": "Toulouse FM",
         "orientation": "v",
         "showlegend": true,
         "stackgroup": "1",
         "x": [
          "2022-11-05"
         ],
         "xaxis": "x",
         "y": [
          1
         ],
         "yaxis": "y",
         "type": "scatter"
        },
        {
         "fillpattern": {
          "shape": ""
         },
         "hovertemplate": "Chaîne=Variation FM<br>Date=%{x}<br>Nombre de mention=%{y}<extra></extra>",
         "legendgroup": "Variation FM",
         "line": {
          "color": "rgb(148, 52, 110)"
         },
         "marker": {
          "symbol": "circle"
         },
         "mode": "lines",
         "name": "Variation FM",
         "orientation": "v",
         "showlegend": true,
         "stackgroup": "1",
         "x": [
          "2022-11-01",
          "2022-11-02"
         ],
         "xaxis": "x",
         "y": [
          2,
          4
         ],
         "yaxis": "y",
         "type": "scatter"
        },
        {
         "fillpattern": {
          "shape": ""
         },
         "hovertemplate": "Chaîne=Vibration<br>Date=%{x}<br>Nombre de mention=%{y}<extra></extra>",
         "legendgroup": "Vibration",
         "line": {
          "color": "rgb(111, 64, 112)"
         },
         "marker": {
          "symbol": "circle"
         },
         "mode": "lines",
         "name": "Vibration",
         "orientation": "v",
         "showlegend": true,
         "stackgroup": "1",
         "x": [
          "2022-11-02",
          "2022-11-04"
         ],
         "xaxis": "x",
         "y": [
          4,
          2
         ],
         "yaxis": "y",
         "type": "scatter"
        },
        {
         "fillpattern": {
          "shape": ""
         },
         "hovertemplate": "Chaîne=Vinci Autoroute - Zone Ouest Centre<br>Date=%{x}<br>Nombre de mention=%{y}<extra></extra>",
         "legendgroup": "Vinci Autoroute - Zone Ouest Centre",
         "line": {
          "color": "rgb(102, 102, 102)"
         },
         "marker": {
          "symbol": "circle"
         },
         "mode": "lines",
         "name": "Vinci Autoroute - Zone Ouest Centre",
         "orientation": "v",
         "showlegend": true,
         "stackgroup": "1",
         "x": [
          "2022-10-31",
          "2022-11-04",
          "2022-11-05"
         ],
         "xaxis": "x",
         "y": [
          1,
          5,
          2
         ],
         "yaxis": "y",
         "type": "scatter"
        },
        {
         "fillpattern": {
          "shape": ""
         },
         "hovertemplate": "Chaîne=Virgin Radio<br>Date=%{x}<br>Nombre de mention=%{y}<extra></extra>",
         "legendgroup": "Virgin Radio",
         "line": {
          "color": "rgb(95, 70, 144)"
         },
         "marker": {
          "symbol": "circle"
         },
         "mode": "lines",
         "name": "Virgin Radio",
         "orientation": "v",
         "showlegend": true,
         "stackgroup": "1",
         "x": [
          "2022-11-02",
          "2022-11-03",
          "2022-11-04"
         ],
         "xaxis": "x",
         "y": [
          2,
          1,
          6
         ],
         "yaxis": "y",
         "type": "scatter"
        },
        {
         "fillpattern": {
          "shape": ""
         },
         "hovertemplate": "Chaîne=Virgin Radio Paris<br>Date=%{x}<br>Nombre de mention=%{y}<extra></extra>",
         "legendgroup": "Virgin Radio Paris",
         "line": {
          "color": "rgb(29, 105, 150)"
         },
         "marker": {
          "symbol": "circle"
         },
         "mode": "lines",
         "name": "Virgin Radio Paris",
         "orientation": "v",
         "showlegend": true,
         "stackgroup": "1",
         "x": [
          "2022-11-04"
         ],
         "xaxis": "x",
         "y": [
          1
         ],
         "yaxis": "y",
         "type": "scatter"
        },
        {
         "fillpattern": {
          "shape": ""
         },
         "hovertemplate": "Chaîne=Vivre FM<br>Date=%{x}<br>Nombre de mention=%{y}<extra></extra>",
         "legendgroup": "Vivre FM",
         "line": {
          "color": "rgb(56, 166, 165)"
         },
         "marker": {
          "symbol": "circle"
         },
         "mode": "lines",
         "name": "Vivre FM",
         "orientation": "v",
         "showlegend": true,
         "stackgroup": "1",
         "x": [
          "2022-11-02",
          "2022-11-03",
          "2022-11-04",
          "2022-11-05"
         ],
         "xaxis": "x",
         "y": [
          3,
          3,
          3,
          1
         ],
         "yaxis": "y",
         "type": "scatter"
        },
        {
         "fillpattern": {
          "shape": ""
         },
         "hovertemplate": "Chaîne=Voltage<br>Date=%{x}<br>Nombre de mention=%{y}<extra></extra>",
         "legendgroup": "Voltage",
         "line": {
          "color": "rgb(15, 133, 84)"
         },
         "marker": {
          "symbol": "circle"
         },
         "mode": "lines",
         "name": "Voltage",
         "orientation": "v",
         "showlegend": true,
         "stackgroup": "1",
         "x": [
          "2022-10-31",
          "2022-11-02",
          "2022-11-03"
         ],
         "xaxis": "x",
         "y": [
          1,
          6,
          2
         ],
         "yaxis": "y",
         "type": "scatter"
        },
        {
         "fillpattern": {
          "shape": ""
         },
         "hovertemplate": "Chaîne=Wit FM<br>Date=%{x}<br>Nombre de mention=%{y}<extra></extra>",
         "legendgroup": "Wit FM",
         "line": {
          "color": "rgb(115, 175, 72)"
         },
         "marker": {
          "symbol": "circle"
         },
         "mode": "lines",
         "name": "Wit FM",
         "orientation": "v",
         "showlegend": true,
         "stackgroup": "1",
         "x": [
          "2022-11-04"
         ],
         "xaxis": "x",
         "y": [
          2
         ],
         "yaxis": "y",
         "type": "scatter"
        },
        {
         "fillpattern": {
          "shape": ""
         },
         "hovertemplate": "Chaîne=Émergence FM<br>Date=%{x}<br>Nombre de mention=%{y}<extra></extra>",
         "legendgroup": "Émergence FM",
         "line": {
          "color": "rgb(237, 173, 8)"
         },
         "marker": {
          "symbol": "circle"
         },
         "mode": "lines",
         "name": "Émergence FM",
         "orientation": "v",
         "showlegend": true,
         "stackgroup": "1",
         "x": [
          "2022-11-02",
          "2022-11-03",
          "2022-11-04",
          "2022-11-05"
         ],
         "xaxis": "x",
         "y": [
          1,
          2,
          3,
          2
         ],
         "yaxis": "y",
         "type": "scatter"
        },
        {
         "fillpattern": {
          "shape": ""
         },
         "hovertemplate": "Chaîne=Émotion<br>Date=%{x}<br>Nombre de mention=%{y}<extra></extra>",
         "legendgroup": "Émotion",
         "line": {
          "color": "rgb(225, 124, 5)"
         },
         "marker": {
          "symbol": "circle"
         },
         "mode": "lines",
         "name": "Émotion",
         "orientation": "v",
         "showlegend": true,
         "stackgroup": "1",
         "x": [
          "2022-11-05"
         ],
         "xaxis": "x",
         "y": [
          3
         ],
         "yaxis": "y",
         "type": "scatter"
        }
       ],
       "layout": {
        "template": {
         "data": {
          "barpolar": [
           {
            "marker": {
             "line": {
              "color": "white",
              "width": 0.5
             },
             "pattern": {
              "fillmode": "overlay",
              "size": 10,
              "solidity": 0.2
             }
            },
            "type": "barpolar"
           }
          ],
          "bar": [
           {
            "error_x": {
             "color": "#2a3f5f"
            },
            "error_y": {
             "color": "#2a3f5f"
            },
            "marker": {
             "line": {
              "color": "white",
              "width": 0.5
             },
             "pattern": {
              "fillmode": "overlay",
              "size": 10,
              "solidity": 0.2
             }
            },
            "type": "bar"
           }
          ],
          "carpet": [
           {
            "aaxis": {
             "endlinecolor": "#2a3f5f",
             "gridcolor": "#C8D4E3",
             "linecolor": "#C8D4E3",
             "minorgridcolor": "#C8D4E3",
             "startlinecolor": "#2a3f5f"
            },
            "baxis": {
             "endlinecolor": "#2a3f5f",
             "gridcolor": "#C8D4E3",
             "linecolor": "#C8D4E3",
             "minorgridcolor": "#C8D4E3",
             "startlinecolor": "#2a3f5f"
            },
            "type": "carpet"
           }
          ],
          "choropleth": [
           {
            "colorbar": {
             "outlinewidth": 0,
             "ticks": ""
            },
            "type": "choropleth"
           }
          ],
          "contourcarpet": [
           {
            "colorbar": {
             "outlinewidth": 0,
             "ticks": ""
            },
            "type": "contourcarpet"
           }
          ],
          "contour": [
           {
            "colorbar": {
             "outlinewidth": 0,
             "ticks": ""
            },
            "colorscale": [
             [
              0,
              "#0d0887"
             ],
             [
              0.1111111111111111,
              "#46039f"
             ],
             [
              0.2222222222222222,
              "#7201a8"
             ],
             [
              0.3333333333333333,
              "#9c179e"
             ],
             [
              0.4444444444444444,
              "#bd3786"
             ],
             [
              0.5555555555555556,
              "#d8576b"
             ],
             [
              0.6666666666666666,
              "#ed7953"
             ],
             [
              0.7777777777777778,
              "#fb9f3a"
             ],
             [
              0.8888888888888888,
              "#fdca26"
             ],
             [
              1,
              "#f0f921"
             ]
            ],
            "type": "contour"
           }
          ],
          "heatmapgl": [
           {
            "colorbar": {
             "outlinewidth": 0,
             "ticks": ""
            },
            "colorscale": [
             [
              0,
              "#0d0887"
             ],
             [
              0.1111111111111111,
              "#46039f"
             ],
             [
              0.2222222222222222,
              "#7201a8"
             ],
             [
              0.3333333333333333,
              "#9c179e"
             ],
             [
              0.4444444444444444,
              "#bd3786"
             ],
             [
              0.5555555555555556,
              "#d8576b"
             ],
             [
              0.6666666666666666,
              "#ed7953"
             ],
             [
              0.7777777777777778,
              "#fb9f3a"
             ],
             [
              0.8888888888888888,
              "#fdca26"
             ],
             [
              1,
              "#f0f921"
             ]
            ],
            "type": "heatmapgl"
           }
          ],
          "heatmap": [
           {
            "colorbar": {
             "outlinewidth": 0,
             "ticks": ""
            },
            "colorscale": [
             [
              0,
              "#0d0887"
             ],
             [
              0.1111111111111111,
              "#46039f"
             ],
             [
              0.2222222222222222,
              "#7201a8"
             ],
             [
              0.3333333333333333,
              "#9c179e"
             ],
             [
              0.4444444444444444,
              "#bd3786"
             ],
             [
              0.5555555555555556,
              "#d8576b"
             ],
             [
              0.6666666666666666,
              "#ed7953"
             ],
             [
              0.7777777777777778,
              "#fb9f3a"
             ],
             [
              0.8888888888888888,
              "#fdca26"
             ],
             [
              1,
              "#f0f921"
             ]
            ],
            "type": "heatmap"
           }
          ],
          "histogram2dcontour": [
           {
            "colorbar": {
             "outlinewidth": 0,
             "ticks": ""
            },
            "colorscale": [
             [
              0,
              "#0d0887"
             ],
             [
              0.1111111111111111,
              "#46039f"
             ],
             [
              0.2222222222222222,
              "#7201a8"
             ],
             [
              0.3333333333333333,
              "#9c179e"
             ],
             [
              0.4444444444444444,
              "#bd3786"
             ],
             [
              0.5555555555555556,
              "#d8576b"
             ],
             [
              0.6666666666666666,
              "#ed7953"
             ],
             [
              0.7777777777777778,
              "#fb9f3a"
             ],
             [
              0.8888888888888888,
              "#fdca26"
             ],
             [
              1,
              "#f0f921"
             ]
            ],
            "type": "histogram2dcontour"
           }
          ],
          "histogram2d": [
           {
            "colorbar": {
             "outlinewidth": 0,
             "ticks": ""
            },
            "colorscale": [
             [
              0,
              "#0d0887"
             ],
             [
              0.1111111111111111,
              "#46039f"
             ],
             [
              0.2222222222222222,
              "#7201a8"
             ],
             [
              0.3333333333333333,
              "#9c179e"
             ],
             [
              0.4444444444444444,
              "#bd3786"
             ],
             [
              0.5555555555555556,
              "#d8576b"
             ],
             [
              0.6666666666666666,
              "#ed7953"
             ],
             [
              0.7777777777777778,
              "#fb9f3a"
             ],
             [
              0.8888888888888888,
              "#fdca26"
             ],
             [
              1,
              "#f0f921"
             ]
            ],
            "type": "histogram2d"
           }
          ],
          "histogram": [
           {
            "marker": {
             "pattern": {
              "fillmode": "overlay",
              "size": 10,
              "solidity": 0.2
             }
            },
            "type": "histogram"
           }
          ],
          "mesh3d": [
           {
            "colorbar": {
             "outlinewidth": 0,
             "ticks": ""
            },
            "type": "mesh3d"
           }
          ],
          "parcoords": [
           {
            "line": {
             "colorbar": {
              "outlinewidth": 0,
              "ticks": ""
             }
            },
            "type": "parcoords"
           }
          ],
          "pie": [
           {
            "automargin": true,
            "type": "pie"
           }
          ],
          "scatter3d": [
           {
            "line": {
             "colorbar": {
              "outlinewidth": 0,
              "ticks": ""
             }
            },
            "marker": {
             "colorbar": {
              "outlinewidth": 0,
              "ticks": ""
             }
            },
            "type": "scatter3d"
           }
          ],
          "scattercarpet": [
           {
            "marker": {
             "colorbar": {
              "outlinewidth": 0,
              "ticks": ""
             }
            },
            "type": "scattercarpet"
           }
          ],
          "scattergeo": [
           {
            "marker": {
             "colorbar": {
              "outlinewidth": 0,
              "ticks": ""
             }
            },
            "type": "scattergeo"
           }
          ],
          "scattergl": [
           {
            "marker": {
             "colorbar": {
              "outlinewidth": 0,
              "ticks": ""
             }
            },
            "type": "scattergl"
           }
          ],
          "scattermapbox": [
           {
            "marker": {
             "colorbar": {
              "outlinewidth": 0,
              "ticks": ""
             }
            },
            "type": "scattermapbox"
           }
          ],
          "scatterpolargl": [
           {
            "marker": {
             "colorbar": {
              "outlinewidth": 0,
              "ticks": ""
             }
            },
            "type": "scatterpolargl"
           }
          ],
          "scatterpolar": [
           {
            "marker": {
             "colorbar": {
              "outlinewidth": 0,
              "ticks": ""
             }
            },
            "type": "scatterpolar"
           }
          ],
          "scatter": [
           {
            "fillpattern": {
             "fillmode": "overlay",
             "size": 10,
             "solidity": 0.2
            },
            "type": "scatter"
           }
          ],
          "scatterternary": [
           {
            "marker": {
             "colorbar": {
              "outlinewidth": 0,
              "ticks": ""
             }
            },
            "type": "scatterternary"
           }
          ],
          "surface": [
           {
            "colorbar": {
             "outlinewidth": 0,
             "ticks": ""
            },
            "colorscale": [
             [
              0,
              "#0d0887"
             ],
             [
              0.1111111111111111,
              "#46039f"
             ],
             [
              0.2222222222222222,
              "#7201a8"
             ],
             [
              0.3333333333333333,
              "#9c179e"
             ],
             [
              0.4444444444444444,
              "#bd3786"
             ],
             [
              0.5555555555555556,
              "#d8576b"
             ],
             [
              0.6666666666666666,
              "#ed7953"
             ],
             [
              0.7777777777777778,
              "#fb9f3a"
             ],
             [
              0.8888888888888888,
              "#fdca26"
             ],
             [
              1,
              "#f0f921"
             ]
            ],
            "type": "surface"
           }
          ],
          "table": [
           {
            "cells": {
             "fill": {
              "color": "#EBF0F8"
             },
             "line": {
              "color": "white"
             }
            },
            "header": {
             "fill": {
              "color": "#C8D4E3"
             },
             "line": {
              "color": "white"
             }
            },
            "type": "table"
           }
          ]
         },
         "layout": {
          "annotationdefaults": {
           "arrowcolor": "#2a3f5f",
           "arrowhead": 0,
           "arrowwidth": 1
          },
          "autotypenumbers": "strict",
          "coloraxis": {
           "colorbar": {
            "outlinewidth": 0,
            "ticks": ""
           }
          },
          "colorscale": {
           "diverging": [
            [
             0,
             "#8e0152"
            ],
            [
             0.1,
             "#c51b7d"
            ],
            [
             0.2,
             "#de77ae"
            ],
            [
             0.3,
             "#f1b6da"
            ],
            [
             0.4,
             "#fde0ef"
            ],
            [
             0.5,
             "#f7f7f7"
            ],
            [
             0.6,
             "#e6f5d0"
            ],
            [
             0.7,
             "#b8e186"
            ],
            [
             0.8,
             "#7fbc41"
            ],
            [
             0.9,
             "#4d9221"
            ],
            [
             1,
             "#276419"
            ]
           ],
           "sequential": [
            [
             0,
             "#0d0887"
            ],
            [
             0.1111111111111111,
             "#46039f"
            ],
            [
             0.2222222222222222,
             "#7201a8"
            ],
            [
             0.3333333333333333,
             "#9c179e"
            ],
            [
             0.4444444444444444,
             "#bd3786"
            ],
            [
             0.5555555555555556,
             "#d8576b"
            ],
            [
             0.6666666666666666,
             "#ed7953"
            ],
            [
             0.7777777777777778,
             "#fb9f3a"
            ],
            [
             0.8888888888888888,
             "#fdca26"
            ],
            [
             1,
             "#f0f921"
            ]
           ],
           "sequentialminus": [
            [
             0,
             "#0d0887"
            ],
            [
             0.1111111111111111,
             "#46039f"
            ],
            [
             0.2222222222222222,
             "#7201a8"
            ],
            [
             0.3333333333333333,
             "#9c179e"
            ],
            [
             0.4444444444444444,
             "#bd3786"
            ],
            [
             0.5555555555555556,
             "#d8576b"
            ],
            [
             0.6666666666666666,
             "#ed7953"
            ],
            [
             0.7777777777777778,
             "#fb9f3a"
            ],
            [
             0.8888888888888888,
             "#fdca26"
            ],
            [
             1,
             "#f0f921"
            ]
           ]
          },
          "colorway": [
           "#636efa",
           "#EF553B",
           "#00cc96",
           "#ab63fa",
           "#FFA15A",
           "#19d3f3",
           "#FF6692",
           "#B6E880",
           "#FF97FF",
           "#FECB52"
          ],
          "font": {
           "color": "#2a3f5f"
          },
          "geo": {
           "bgcolor": "white",
           "lakecolor": "white",
           "landcolor": "white",
           "showlakes": true,
           "showland": true,
           "subunitcolor": "#C8D4E3"
          },
          "hoverlabel": {
           "align": "left"
          },
          "hovermode": "closest",
          "mapbox": {
           "style": "light"
          },
          "paper_bgcolor": "white",
          "plot_bgcolor": "white",
          "polar": {
           "angularaxis": {
            "gridcolor": "#EBF0F8",
            "linecolor": "#EBF0F8",
            "ticks": ""
           },
           "bgcolor": "white",
           "radialaxis": {
            "gridcolor": "#EBF0F8",
            "linecolor": "#EBF0F8",
            "ticks": ""
           }
          },
          "scene": {
           "xaxis": {
            "backgroundcolor": "white",
            "gridcolor": "#DFE8F3",
            "gridwidth": 2,
            "linecolor": "#EBF0F8",
            "showbackground": true,
            "ticks": "",
            "zerolinecolor": "#EBF0F8"
           },
           "yaxis": {
            "backgroundcolor": "white",
            "gridcolor": "#DFE8F3",
            "gridwidth": 2,
            "linecolor": "#EBF0F8",
            "showbackground": true,
            "ticks": "",
            "zerolinecolor": "#EBF0F8"
           },
           "zaxis": {
            "backgroundcolor": "white",
            "gridcolor": "#DFE8F3",
            "gridwidth": 2,
            "linecolor": "#EBF0F8",
            "showbackground": true,
            "ticks": "",
            "zerolinecolor": "#EBF0F8"
           }
          },
          "shapedefaults": {
           "line": {
            "color": "#2a3f5f"
           }
          },
          "ternary": {
           "aaxis": {
            "gridcolor": "#DFE8F3",
            "linecolor": "#A2B1C6",
            "ticks": ""
           },
           "baxis": {
            "gridcolor": "#DFE8F3",
            "linecolor": "#A2B1C6",
            "ticks": ""
           },
           "bgcolor": "white",
           "caxis": {
            "gridcolor": "#DFE8F3",
            "linecolor": "#A2B1C6",
            "ticks": ""
           }
          },
          "title": {
           "x": 0.05
          },
          "xaxis": {
           "automargin": true,
           "gridcolor": "#EBF0F8",
           "linecolor": "#EBF0F8",
           "ticks": "",
           "title": {
            "standoff": 15
           },
           "zerolinecolor": "#EBF0F8",
           "zerolinewidth": 2
          },
          "yaxis": {
           "automargin": true,
           "gridcolor": "#EBF0F8",
           "linecolor": "#EBF0F8",
           "ticks": "",
           "title": {
            "standoff": 15
           },
           "zerolinecolor": "#EBF0F8",
           "zerolinewidth": 2
          }
         }
        },
        "xaxis": {
         "anchor": "y",
         "domain": [
          0,
          1
         ],
         "title": {
          "text": "Date"
         },
         "type": "category",
         "categoryorder": "category ascending"
        },
        "yaxis": {
         "anchor": "x",
         "domain": [
          0,
          1
         ],
         "title": {
          "text": "Nomre de mention COP27 par jour"
         }
        },
        "legend": {
         "title": {
          "text": "Chaîne"
         },
         "tracegroupgap": 0
        },
        "title": {
         "text": "Evoluation des mentions au cours de la semaine avant COP 27 toutes radio confondues"
        },
        "height": 400
       },
       "config": {
        "plotlyServerURL": "https://plot.ly"
       }
      }
     },
     "metadata": {}
    }
   ],
   "metadata": {}
  },
  {
   "cell_type": "code",
   "execution_count": 25,
   "source": [
    "show_mentions_by_time_of_the_day(\n",
    "    data,split = \"channel_name\",\n",
    "    list_of_channels = TOP_CHANNELS_TV,kind = \"bar\",height = 700,method = \"minutes\"\n",
    ")"
   ],
   "outputs": [
    {
     "output_type": "display_data",
     "data": {
      "application/vnd.plotly.v1+json": {
       "data": [
        {
         "alignmentgroup": "True",
         "hovertemplate": "channel_name=BFMTV<br>time_of_the_day=%{x}<br>count=%{y}<extra></extra>",
         "legendgroup": "BFMTV",
         "marker": {
          "color": "rgb(95, 70, 144)",
          "pattern": {
           "shape": ""
          }
         },
         "name": "BFMTV",
         "offsetgroup": "BFMTV",
         "orientation": "v",
         "showlegend": true,
         "textposition": "auto",
         "x": [
          "00:00",
          "09:00",
          "11:00",
          "17:00",
          "19:00",
          "20:00"
         ],
         "xaxis": "x",
         "y": [
          2,
          2,
          4,
          2,
          2,
          2
         ],
         "yaxis": "y",
         "type": "bar"
        },
        {
         "alignmentgroup": "True",
         "hovertemplate": "channel_name=France 24<br>time_of_the_day=%{x}<br>count=%{y}<extra></extra>",
         "legendgroup": "France 24",
         "marker": {
          "color": "rgb(29, 105, 150)",
          "pattern": {
           "shape": ""
          }
         },
         "name": "France 24",
         "offsetgroup": "France 24",
         "orientation": "v",
         "showlegend": true,
         "textposition": "auto",
         "x": [
          "00:00",
          "07:00",
          "08:00",
          "09:00",
          "10:00",
          "11:00",
          "13:00",
          "14:00",
          "15:00",
          "16:00",
          "18:00",
          "19:00",
          "22:00",
          "23:00"
         ],
         "xaxis": "x",
         "y": [
          4,
          6,
          2,
          2,
          2,
          2,
          2,
          8,
          8,
          2,
          6,
          2,
          2,
          6
         ],
         "yaxis": "y",
         "type": "bar"
        },
        {
         "alignmentgroup": "True",
         "hovertemplate": "channel_name=Euronews<br>time_of_the_day=%{x}<br>count=%{y}<extra></extra>",
         "legendgroup": "Euronews",
         "marker": {
          "color": "rgb(56, 166, 165)",
          "pattern": {
           "shape": ""
          }
         },
         "name": "Euronews",
         "offsetgroup": "Euronews",
         "orientation": "v",
         "showlegend": true,
         "textposition": "auto",
         "x": [
          "06:00",
          "07:00",
          "08:00",
          "09:00",
          "10:00",
          "11:00",
          "12:00",
          "13:00",
          "14:00",
          "15:00",
          "16:00",
          "17:00",
          "18:00",
          "19:00",
          "20:00",
          "21:00",
          "22:00",
          "23:00"
         ],
         "xaxis": "x",
         "y": [
          6,
          12,
          8,
          2,
          4,
          6,
          8,
          6,
          6,
          6,
          8,
          8,
          2,
          4,
          4,
          4,
          8,
          12
         ],
         "yaxis": "y",
         "type": "bar"
        },
        {
         "alignmentgroup": "True",
         "hovertemplate": "channel_name=France 2<br>time_of_the_day=%{x}<br>count=%{y}<extra></extra>",
         "legendgroup": "France 2",
         "marker": {
          "color": "rgb(15, 133, 84)",
          "pattern": {
           "shape": ""
          }
         },
         "name": "France 2",
         "offsetgroup": "France 2",
         "orientation": "v",
         "showlegend": true,
         "textposition": "auto",
         "x": [
          "08:00",
          "13:00"
         ],
         "xaxis": "x",
         "y": [
          2,
          2
         ],
         "yaxis": "y",
         "type": "bar"
        },
        {
         "alignmentgroup": "True",
         "hovertemplate": "channel_name=LCI<br>time_of_the_day=%{x}<br>count=%{y}<extra></extra>",
         "legendgroup": "LCI",
         "marker": {
          "color": "rgb(115, 175, 72)",
          "pattern": {
           "shape": ""
          }
         },
         "name": "LCI",
         "offsetgroup": "LCI",
         "orientation": "v",
         "showlegend": true,
         "textposition": "auto",
         "x": [
          "13:00"
         ],
         "xaxis": "x",
         "y": [
          2
         ],
         "yaxis": "y",
         "type": "bar"
        },
        {
         "alignmentgroup": "True",
         "hovertemplate": "channel_name=France 5<br>time_of_the_day=%{x}<br>count=%{y}<extra></extra>",
         "legendgroup": "France 5",
         "marker": {
          "color": "rgb(237, 173, 8)",
          "pattern": {
           "shape": ""
          }
         },
         "name": "France 5",
         "offsetgroup": "France 5",
         "orientation": "v",
         "showlegend": true,
         "textposition": "auto",
         "x": [
          "18:00",
          "20:00"
         ],
         "xaxis": "x",
         "y": [
          2,
          2
         ],
         "yaxis": "y",
         "type": "bar"
        },
        {
         "alignmentgroup": "True",
         "hovertemplate": "channel_name=TF1<br>time_of_the_day=%{x}<br>count=%{y}<extra></extra>",
         "legendgroup": "TF1",
         "marker": {
          "color": "rgb(225, 124, 5)",
          "pattern": {
           "shape": ""
          }
         },
         "name": "TF1",
         "offsetgroup": "TF1",
         "orientation": "v",
         "showlegend": true,
         "textposition": "auto",
         "x": [
          "19:00",
          "20:00"
         ],
         "xaxis": "x",
         "y": [
          2,
          2
         ],
         "yaxis": "y",
         "type": "bar"
        },
        {
         "alignmentgroup": "True",
         "hovertemplate": "channel_name=Arte<br>time_of_the_day=%{x}<br>count=%{y}<extra></extra>",
         "legendgroup": "Arte",
         "marker": {
          "color": "rgb(204, 80, 62)",
          "pattern": {
           "shape": ""
          }
         },
         "name": "Arte",
         "offsetgroup": "Arte",
         "orientation": "v",
         "showlegend": true,
         "textposition": "auto",
         "x": [
          "19:00",
          "20:00"
         ],
         "xaxis": "x",
         "y": [
          2,
          4
         ],
         "yaxis": "y",
         "type": "bar"
        }
       ],
       "layout": {
        "template": {
         "data": {
          "barpolar": [
           {
            "marker": {
             "line": {
              "color": "white",
              "width": 0.5
             },
             "pattern": {
              "fillmode": "overlay",
              "size": 10,
              "solidity": 0.2
             }
            },
            "type": "barpolar"
           }
          ],
          "bar": [
           {
            "error_x": {
             "color": "#2a3f5f"
            },
            "error_y": {
             "color": "#2a3f5f"
            },
            "marker": {
             "line": {
              "color": "white",
              "width": 0.5
             },
             "pattern": {
              "fillmode": "overlay",
              "size": 10,
              "solidity": 0.2
             }
            },
            "type": "bar"
           }
          ],
          "carpet": [
           {
            "aaxis": {
             "endlinecolor": "#2a3f5f",
             "gridcolor": "#C8D4E3",
             "linecolor": "#C8D4E3",
             "minorgridcolor": "#C8D4E3",
             "startlinecolor": "#2a3f5f"
            },
            "baxis": {
             "endlinecolor": "#2a3f5f",
             "gridcolor": "#C8D4E3",
             "linecolor": "#C8D4E3",
             "minorgridcolor": "#C8D4E3",
             "startlinecolor": "#2a3f5f"
            },
            "type": "carpet"
           }
          ],
          "choropleth": [
           {
            "colorbar": {
             "outlinewidth": 0,
             "ticks": ""
            },
            "type": "choropleth"
           }
          ],
          "contourcarpet": [
           {
            "colorbar": {
             "outlinewidth": 0,
             "ticks": ""
            },
            "type": "contourcarpet"
           }
          ],
          "contour": [
           {
            "colorbar": {
             "outlinewidth": 0,
             "ticks": ""
            },
            "colorscale": [
             [
              0,
              "#0d0887"
             ],
             [
              0.1111111111111111,
              "#46039f"
             ],
             [
              0.2222222222222222,
              "#7201a8"
             ],
             [
              0.3333333333333333,
              "#9c179e"
             ],
             [
              0.4444444444444444,
              "#bd3786"
             ],
             [
              0.5555555555555556,
              "#d8576b"
             ],
             [
              0.6666666666666666,
              "#ed7953"
             ],
             [
              0.7777777777777778,
              "#fb9f3a"
             ],
             [
              0.8888888888888888,
              "#fdca26"
             ],
             [
              1,
              "#f0f921"
             ]
            ],
            "type": "contour"
           }
          ],
          "heatmapgl": [
           {
            "colorbar": {
             "outlinewidth": 0,
             "ticks": ""
            },
            "colorscale": [
             [
              0,
              "#0d0887"
             ],
             [
              0.1111111111111111,
              "#46039f"
             ],
             [
              0.2222222222222222,
              "#7201a8"
             ],
             [
              0.3333333333333333,
              "#9c179e"
             ],
             [
              0.4444444444444444,
              "#bd3786"
             ],
             [
              0.5555555555555556,
              "#d8576b"
             ],
             [
              0.6666666666666666,
              "#ed7953"
             ],
             [
              0.7777777777777778,
              "#fb9f3a"
             ],
             [
              0.8888888888888888,
              "#fdca26"
             ],
             [
              1,
              "#f0f921"
             ]
            ],
            "type": "heatmapgl"
           }
          ],
          "heatmap": [
           {
            "colorbar": {
             "outlinewidth": 0,
             "ticks": ""
            },
            "colorscale": [
             [
              0,
              "#0d0887"
             ],
             [
              0.1111111111111111,
              "#46039f"
             ],
             [
              0.2222222222222222,
              "#7201a8"
             ],
             [
              0.3333333333333333,
              "#9c179e"
             ],
             [
              0.4444444444444444,
              "#bd3786"
             ],
             [
              0.5555555555555556,
              "#d8576b"
             ],
             [
              0.6666666666666666,
              "#ed7953"
             ],
             [
              0.7777777777777778,
              "#fb9f3a"
             ],
             [
              0.8888888888888888,
              "#fdca26"
             ],
             [
              1,
              "#f0f921"
             ]
            ],
            "type": "heatmap"
           }
          ],
          "histogram2dcontour": [
           {
            "colorbar": {
             "outlinewidth": 0,
             "ticks": ""
            },
            "colorscale": [
             [
              0,
              "#0d0887"
             ],
             [
              0.1111111111111111,
              "#46039f"
             ],
             [
              0.2222222222222222,
              "#7201a8"
             ],
             [
              0.3333333333333333,
              "#9c179e"
             ],
             [
              0.4444444444444444,
              "#bd3786"
             ],
             [
              0.5555555555555556,
              "#d8576b"
             ],
             [
              0.6666666666666666,
              "#ed7953"
             ],
             [
              0.7777777777777778,
              "#fb9f3a"
             ],
             [
              0.8888888888888888,
              "#fdca26"
             ],
             [
              1,
              "#f0f921"
             ]
            ],
            "type": "histogram2dcontour"
           }
          ],
          "histogram2d": [
           {
            "colorbar": {
             "outlinewidth": 0,
             "ticks": ""
            },
            "colorscale": [
             [
              0,
              "#0d0887"
             ],
             [
              0.1111111111111111,
              "#46039f"
             ],
             [
              0.2222222222222222,
              "#7201a8"
             ],
             [
              0.3333333333333333,
              "#9c179e"
             ],
             [
              0.4444444444444444,
              "#bd3786"
             ],
             [
              0.5555555555555556,
              "#d8576b"
             ],
             [
              0.6666666666666666,
              "#ed7953"
             ],
             [
              0.7777777777777778,
              "#fb9f3a"
             ],
             [
              0.8888888888888888,
              "#fdca26"
             ],
             [
              1,
              "#f0f921"
             ]
            ],
            "type": "histogram2d"
           }
          ],
          "histogram": [
           {
            "marker": {
             "pattern": {
              "fillmode": "overlay",
              "size": 10,
              "solidity": 0.2
             }
            },
            "type": "histogram"
           }
          ],
          "mesh3d": [
           {
            "colorbar": {
             "outlinewidth": 0,
             "ticks": ""
            },
            "type": "mesh3d"
           }
          ],
          "parcoords": [
           {
            "line": {
             "colorbar": {
              "outlinewidth": 0,
              "ticks": ""
             }
            },
            "type": "parcoords"
           }
          ],
          "pie": [
           {
            "automargin": true,
            "type": "pie"
           }
          ],
          "scatter3d": [
           {
            "line": {
             "colorbar": {
              "outlinewidth": 0,
              "ticks": ""
             }
            },
            "marker": {
             "colorbar": {
              "outlinewidth": 0,
              "ticks": ""
             }
            },
            "type": "scatter3d"
           }
          ],
          "scattercarpet": [
           {
            "marker": {
             "colorbar": {
              "outlinewidth": 0,
              "ticks": ""
             }
            },
            "type": "scattercarpet"
           }
          ],
          "scattergeo": [
           {
            "marker": {
             "colorbar": {
              "outlinewidth": 0,
              "ticks": ""
             }
            },
            "type": "scattergeo"
           }
          ],
          "scattergl": [
           {
            "marker": {
             "colorbar": {
              "outlinewidth": 0,
              "ticks": ""
             }
            },
            "type": "scattergl"
           }
          ],
          "scattermapbox": [
           {
            "marker": {
             "colorbar": {
              "outlinewidth": 0,
              "ticks": ""
             }
            },
            "type": "scattermapbox"
           }
          ],
          "scatterpolargl": [
           {
            "marker": {
             "colorbar": {
              "outlinewidth": 0,
              "ticks": ""
             }
            },
            "type": "scatterpolargl"
           }
          ],
          "scatterpolar": [
           {
            "marker": {
             "colorbar": {
              "outlinewidth": 0,
              "ticks": ""
             }
            },
            "type": "scatterpolar"
           }
          ],
          "scatter": [
           {
            "fillpattern": {
             "fillmode": "overlay",
             "size": 10,
             "solidity": 0.2
            },
            "type": "scatter"
           }
          ],
          "scatterternary": [
           {
            "marker": {
             "colorbar": {
              "outlinewidth": 0,
              "ticks": ""
             }
            },
            "type": "scatterternary"
           }
          ],
          "surface": [
           {
            "colorbar": {
             "outlinewidth": 0,
             "ticks": ""
            },
            "colorscale": [
             [
              0,
              "#0d0887"
             ],
             [
              0.1111111111111111,
              "#46039f"
             ],
             [
              0.2222222222222222,
              "#7201a8"
             ],
             [
              0.3333333333333333,
              "#9c179e"
             ],
             [
              0.4444444444444444,
              "#bd3786"
             ],
             [
              0.5555555555555556,
              "#d8576b"
             ],
             [
              0.6666666666666666,
              "#ed7953"
             ],
             [
              0.7777777777777778,
              "#fb9f3a"
             ],
             [
              0.8888888888888888,
              "#fdca26"
             ],
             [
              1,
              "#f0f921"
             ]
            ],
            "type": "surface"
           }
          ],
          "table": [
           {
            "cells": {
             "fill": {
              "color": "#EBF0F8"
             },
             "line": {
              "color": "white"
             }
            },
            "header": {
             "fill": {
              "color": "#C8D4E3"
             },
             "line": {
              "color": "white"
             }
            },
            "type": "table"
           }
          ]
         },
         "layout": {
          "annotationdefaults": {
           "arrowcolor": "#2a3f5f",
           "arrowhead": 0,
           "arrowwidth": 1
          },
          "autotypenumbers": "strict",
          "coloraxis": {
           "colorbar": {
            "outlinewidth": 0,
            "ticks": ""
           }
          },
          "colorscale": {
           "diverging": [
            [
             0,
             "#8e0152"
            ],
            [
             0.1,
             "#c51b7d"
            ],
            [
             0.2,
             "#de77ae"
            ],
            [
             0.3,
             "#f1b6da"
            ],
            [
             0.4,
             "#fde0ef"
            ],
            [
             0.5,
             "#f7f7f7"
            ],
            [
             0.6,
             "#e6f5d0"
            ],
            [
             0.7,
             "#b8e186"
            ],
            [
             0.8,
             "#7fbc41"
            ],
            [
             0.9,
             "#4d9221"
            ],
            [
             1,
             "#276419"
            ]
           ],
           "sequential": [
            [
             0,
             "#0d0887"
            ],
            [
             0.1111111111111111,
             "#46039f"
            ],
            [
             0.2222222222222222,
             "#7201a8"
            ],
            [
             0.3333333333333333,
             "#9c179e"
            ],
            [
             0.4444444444444444,
             "#bd3786"
            ],
            [
             0.5555555555555556,
             "#d8576b"
            ],
            [
             0.6666666666666666,
             "#ed7953"
            ],
            [
             0.7777777777777778,
             "#fb9f3a"
            ],
            [
             0.8888888888888888,
             "#fdca26"
            ],
            [
             1,
             "#f0f921"
            ]
           ],
           "sequentialminus": [
            [
             0,
             "#0d0887"
            ],
            [
             0.1111111111111111,
             "#46039f"
            ],
            [
             0.2222222222222222,
             "#7201a8"
            ],
            [
             0.3333333333333333,
             "#9c179e"
            ],
            [
             0.4444444444444444,
             "#bd3786"
            ],
            [
             0.5555555555555556,
             "#d8576b"
            ],
            [
             0.6666666666666666,
             "#ed7953"
            ],
            [
             0.7777777777777778,
             "#fb9f3a"
            ],
            [
             0.8888888888888888,
             "#fdca26"
            ],
            [
             1,
             "#f0f921"
            ]
           ]
          },
          "colorway": [
           "#636efa",
           "#EF553B",
           "#00cc96",
           "#ab63fa",
           "#FFA15A",
           "#19d3f3",
           "#FF6692",
           "#B6E880",
           "#FF97FF",
           "#FECB52"
          ],
          "font": {
           "color": "#2a3f5f"
          },
          "geo": {
           "bgcolor": "white",
           "lakecolor": "white",
           "landcolor": "white",
           "showlakes": true,
           "showland": true,
           "subunitcolor": "#C8D4E3"
          },
          "hoverlabel": {
           "align": "left"
          },
          "hovermode": "closest",
          "mapbox": {
           "style": "light"
          },
          "paper_bgcolor": "white",
          "plot_bgcolor": "white",
          "polar": {
           "angularaxis": {
            "gridcolor": "#EBF0F8",
            "linecolor": "#EBF0F8",
            "ticks": ""
           },
           "bgcolor": "white",
           "radialaxis": {
            "gridcolor": "#EBF0F8",
            "linecolor": "#EBF0F8",
            "ticks": ""
           }
          },
          "scene": {
           "xaxis": {
            "backgroundcolor": "white",
            "gridcolor": "#DFE8F3",
            "gridwidth": 2,
            "linecolor": "#EBF0F8",
            "showbackground": true,
            "ticks": "",
            "zerolinecolor": "#EBF0F8"
           },
           "yaxis": {
            "backgroundcolor": "white",
            "gridcolor": "#DFE8F3",
            "gridwidth": 2,
            "linecolor": "#EBF0F8",
            "showbackground": true,
            "ticks": "",
            "zerolinecolor": "#EBF0F8"
           },
           "zaxis": {
            "backgroundcolor": "white",
            "gridcolor": "#DFE8F3",
            "gridwidth": 2,
            "linecolor": "#EBF0F8",
            "showbackground": true,
            "ticks": "",
            "zerolinecolor": "#EBF0F8"
           }
          },
          "shapedefaults": {
           "line": {
            "color": "#2a3f5f"
           }
          },
          "ternary": {
           "aaxis": {
            "gridcolor": "#DFE8F3",
            "linecolor": "#A2B1C6",
            "ticks": ""
           },
           "baxis": {
            "gridcolor": "#DFE8F3",
            "linecolor": "#A2B1C6",
            "ticks": ""
           },
           "bgcolor": "white",
           "caxis": {
            "gridcolor": "#DFE8F3",
            "linecolor": "#A2B1C6",
            "ticks": ""
           }
          },
          "title": {
           "x": 0.05
          },
          "xaxis": {
           "automargin": true,
           "gridcolor": "#EBF0F8",
           "linecolor": "#EBF0F8",
           "ticks": "",
           "title": {
            "standoff": 15
           },
           "zerolinecolor": "#EBF0F8",
           "zerolinewidth": 2
          },
          "yaxis": {
           "automargin": true,
           "gridcolor": "#EBF0F8",
           "linecolor": "#EBF0F8",
           "ticks": "",
           "title": {
            "standoff": 15
           },
           "zerolinecolor": "#EBF0F8",
           "zerolinewidth": 2
          }
         }
        },
        "xaxis": {
         "anchor": "y",
         "domain": [
          0,
          1
         ],
         "title": {
          "text": "time_of_the_day"
         },
         "categoryorder": "array",
         "categoryarray": [
          "00:00",
          "06:00",
          "07:00",
          "08:00",
          "09:00",
          "10:00",
          "11:00",
          "12:00",
          "13:00",
          "14:00",
          "15:00",
          "16:00",
          "17:00",
          "18:00",
          "19:00",
          "20:00",
          "21:00",
          "22:00",
          "23:00"
         ]
        },
        "yaxis": {
         "anchor": "x",
         "domain": [
          0,
          1
         ],
         "title": {
          "text": "count"
         }
        },
        "legend": {
         "title": {
          "text": "channel_name"
         },
         "tracegroupgap": 0
        },
        "title": {
         "text": "Répartition des mentions par heure de la journée"
        },
        "barmode": "relative",
        "height": 400
       },
       "config": {
        "plotlyServerURL": "https://plot.ly"
       }
      }
     },
     "metadata": {}
    }
   ],
   "metadata": {}
  },
  {
   "cell_type": "markdown",
   "source": [
    "# Couverture mediatique en pourcentage"
   ],
   "metadata": {}
  },
  {
   "cell_type": "code",
   "execution_count": 37,
   "source": [
    "# TV 18h a day\n",
    "hours_covered = 18\n",
    "data_tv_1920 = data[(~data.radio)]\n",
    "print((data_tv_1920.shape[0] * 2 )/ (data_tv_1920.channel_name.nunique() * 60*hours_covered))\n",
    "print(\"Top audimat\")\n",
    "\n",
    "data_tv_1920_top25 = data[(data.channel_name.isin(TOP_25_CHANNELS))]\n",
    "print((data_tv_1920_top25.shape[0] * 2 )/ (25 *60*hours_covered))"
   ],
   "outputs": [
    {
     "output_type": "stream",
     "name": "stdout",
     "text": [
      "0.019200779727095517\n",
      "Top audimat\n",
      "0.018962962962962963\n"
     ]
    }
   ],
   "metadata": {}
  },
  {
   "cell_type": "code",
   "execution_count": 33,
   "source": [
    "# TV haute audience\n",
    "data_tv_1920 = data[(~data.radio)&(data.date.dt.hour >= 19)&(data.date.dt.hour < 21)]\n",
    "print((data_tv_1920.shape[0] * 2 )/ (data_tv_1920.channel_name.nunique() * 120))\n",
    "print(\"Top audimat\")\n",
    "\n",
    "data_tv_1920_top25 = data[(data.channel_name.isin(TOP_25_CHANNELS))&(data.date.dt.hour >= 19)&(data.date.dt.hour < 21)]\n",
    "print((data_tv_1920_top25.shape[0] * 2 )/ (25 * 120))\n"
   ],
   "outputs": [
    {
     "output_type": "stream",
     "name": "stdout",
     "text": [
      "0.03787878787878788\n",
      "Top audimat\n",
      "0.023333333333333334\n"
     ]
    }
   ],
   "metadata": {}
  },
  {
   "cell_type": "code",
   "execution_count": 38,
   "source": [
    "# radio 18h a day \n",
    "hours_covered = 18\n",
    "data_radio = data[(data.radio)]\n",
    "print((data_radio.shape[0] * 2 )/ (data_radio.channel_name.nunique() * 60*hours_covered))\n",
    "print(\"Top audimat\")\n",
    "\n"
   ],
   "outputs": [
    {
     "output_type": "stream",
     "name": "stdout",
     "text": [
      "0.005680680680680681\n",
      "Top audimat\n"
     ]
    }
   ],
   "metadata": {}
  },
  {
   "cell_type": "code",
   "execution_count": 39,
   "source": [
    "# radio haute audiance\n",
    "hours_covered = 18\n",
    "data_radio_1920 = data[(data.radio)&(data.date.dt.hour >= 6)&(data.date.dt.hour < 10)]\n",
    "print((data_radio_1920.shape[0] * 2 )/ (data_radio_1920.channel_name.nunique() * 60*4))\n",
    "print(\"Top audimat\")"
   ],
   "outputs": [
    {
     "output_type": "stream",
     "name": "stdout",
     "text": [
      "0.014732142857142857\n",
      "Top audimat\n"
     ]
    }
   ],
   "metadata": {}
  },
  {
   "cell_type": "code",
   "execution_count": 21,
   "source": [
    "# Keywords oppposite"
   ],
   "outputs": [],
   "metadata": {}
  },
  {
   "cell_type": "code",
   "execution_count": 28,
   "source": [
    "data_radio = data[data.radio]\n",
    "data_gb = data_radio.groupby(['keyword', data_radio['date'].dt.date]).count()['text'].reset_index()\n",
    "data_gb.columns = ['Keyword', 'Date', 'Nombre de mention']\n",
    "fig = px.area(\n",
    "    data_gb,\n",
    "    x = \"Date\", y = 'Nombre de mention',color = \"Keyword\",\n",
    "    category_orders={\"TIME\":data_gb[\"Date\"].unique()},\n",
    "    title = \"Evoluation du nombre de mention par jour au cours de la 1er semaine de Novembe: Elon Musk VS COP 27 toutes radio confondues\", height = 400,\n",
    ")\n",
    "fig.update_layout( xaxis=dict(type=\"category\", categoryorder='category ascending'),\n",
    "                     yaxis_title='Nomre de mention par jour')\n",
    "fig.show()"
   ],
   "outputs": [
    {
     "output_type": "display_data",
     "data": {
      "application/vnd.plotly.v1+json": {
       "data": [
        {
         "fillpattern": {
          "shape": ""
         },
         "hovertemplate": "Keyword=cop27<br>Date=%{x}<br>Nombre de mention=%{y}<extra></extra>",
         "legendgroup": "cop27",
         "line": {
          "color": "rgb(95, 70, 144)"
         },
         "marker": {
          "symbol": "circle"
         },
         "mode": "lines",
         "name": "cop27",
         "orientation": "v",
         "showlegend": true,
         "stackgroup": "1",
         "x": [
          "2022-10-29",
          "2022-10-30",
          "2022-10-31",
          "2022-11-01",
          "2022-11-02",
          "2022-11-03",
          "2022-11-04",
          "2022-11-05"
         ],
         "xaxis": "x",
         "y": [
          6,
          16,
          52,
          29,
          52,
          180,
          139,
          117
         ],
         "yaxis": "y",
         "type": "scatter"
        },
        {
         "fillpattern": {
          "shape": ""
         },
         "hovertemplate": "Keyword=elonmusk<br>Date=%{x}<br>Nombre de mention=%{y}<extra></extra>",
         "legendgroup": "elonmusk",
         "line": {
          "color": "rgb(29, 105, 150)"
         },
         "marker": {
          "symbol": "circle"
         },
         "mode": "lines",
         "name": "elonmusk",
         "orientation": "v",
         "showlegend": true,
         "stackgroup": "1",
         "x": [
          "2022-10-29",
          "2022-10-30",
          "2022-10-31",
          "2022-11-01",
          "2022-11-02",
          "2022-11-03",
          "2022-11-04",
          "2022-11-05"
         ],
         "xaxis": "x",
         "y": [
          11,
          19,
          93,
          108,
          230,
          78,
          347,
          171
         ],
         "yaxis": "y",
         "type": "scatter"
        }
       ],
       "layout": {
        "template": {
         "data": {
          "barpolar": [
           {
            "marker": {
             "line": {
              "color": "white",
              "width": 0.5
             },
             "pattern": {
              "fillmode": "overlay",
              "size": 10,
              "solidity": 0.2
             }
            },
            "type": "barpolar"
           }
          ],
          "bar": [
           {
            "error_x": {
             "color": "#2a3f5f"
            },
            "error_y": {
             "color": "#2a3f5f"
            },
            "marker": {
             "line": {
              "color": "white",
              "width": 0.5
             },
             "pattern": {
              "fillmode": "overlay",
              "size": 10,
              "solidity": 0.2
             }
            },
            "type": "bar"
           }
          ],
          "carpet": [
           {
            "aaxis": {
             "endlinecolor": "#2a3f5f",
             "gridcolor": "#C8D4E3",
             "linecolor": "#C8D4E3",
             "minorgridcolor": "#C8D4E3",
             "startlinecolor": "#2a3f5f"
            },
            "baxis": {
             "endlinecolor": "#2a3f5f",
             "gridcolor": "#C8D4E3",
             "linecolor": "#C8D4E3",
             "minorgridcolor": "#C8D4E3",
             "startlinecolor": "#2a3f5f"
            },
            "type": "carpet"
           }
          ],
          "choropleth": [
           {
            "colorbar": {
             "outlinewidth": 0,
             "ticks": ""
            },
            "type": "choropleth"
           }
          ],
          "contourcarpet": [
           {
            "colorbar": {
             "outlinewidth": 0,
             "ticks": ""
            },
            "type": "contourcarpet"
           }
          ],
          "contour": [
           {
            "colorbar": {
             "outlinewidth": 0,
             "ticks": ""
            },
            "colorscale": [
             [
              0,
              "#0d0887"
             ],
             [
              0.1111111111111111,
              "#46039f"
             ],
             [
              0.2222222222222222,
              "#7201a8"
             ],
             [
              0.3333333333333333,
              "#9c179e"
             ],
             [
              0.4444444444444444,
              "#bd3786"
             ],
             [
              0.5555555555555556,
              "#d8576b"
             ],
             [
              0.6666666666666666,
              "#ed7953"
             ],
             [
              0.7777777777777778,
              "#fb9f3a"
             ],
             [
              0.8888888888888888,
              "#fdca26"
             ],
             [
              1,
              "#f0f921"
             ]
            ],
            "type": "contour"
           }
          ],
          "heatmapgl": [
           {
            "colorbar": {
             "outlinewidth": 0,
             "ticks": ""
            },
            "colorscale": [
             [
              0,
              "#0d0887"
             ],
             [
              0.1111111111111111,
              "#46039f"
             ],
             [
              0.2222222222222222,
              "#7201a8"
             ],
             [
              0.3333333333333333,
              "#9c179e"
             ],
             [
              0.4444444444444444,
              "#bd3786"
             ],
             [
              0.5555555555555556,
              "#d8576b"
             ],
             [
              0.6666666666666666,
              "#ed7953"
             ],
             [
              0.7777777777777778,
              "#fb9f3a"
             ],
             [
              0.8888888888888888,
              "#fdca26"
             ],
             [
              1,
              "#f0f921"
             ]
            ],
            "type": "heatmapgl"
           }
          ],
          "heatmap": [
           {
            "colorbar": {
             "outlinewidth": 0,
             "ticks": ""
            },
            "colorscale": [
             [
              0,
              "#0d0887"
             ],
             [
              0.1111111111111111,
              "#46039f"
             ],
             [
              0.2222222222222222,
              "#7201a8"
             ],
             [
              0.3333333333333333,
              "#9c179e"
             ],
             [
              0.4444444444444444,
              "#bd3786"
             ],
             [
              0.5555555555555556,
              "#d8576b"
             ],
             [
              0.6666666666666666,
              "#ed7953"
             ],
             [
              0.7777777777777778,
              "#fb9f3a"
             ],
             [
              0.8888888888888888,
              "#fdca26"
             ],
             [
              1,
              "#f0f921"
             ]
            ],
            "type": "heatmap"
           }
          ],
          "histogram2dcontour": [
           {
            "colorbar": {
             "outlinewidth": 0,
             "ticks": ""
            },
            "colorscale": [
             [
              0,
              "#0d0887"
             ],
             [
              0.1111111111111111,
              "#46039f"
             ],
             [
              0.2222222222222222,
              "#7201a8"
             ],
             [
              0.3333333333333333,
              "#9c179e"
             ],
             [
              0.4444444444444444,
              "#bd3786"
             ],
             [
              0.5555555555555556,
              "#d8576b"
             ],
             [
              0.6666666666666666,
              "#ed7953"
             ],
             [
              0.7777777777777778,
              "#fb9f3a"
             ],
             [
              0.8888888888888888,
              "#fdca26"
             ],
             [
              1,
              "#f0f921"
             ]
            ],
            "type": "histogram2dcontour"
           }
          ],
          "histogram2d": [
           {
            "colorbar": {
             "outlinewidth": 0,
             "ticks": ""
            },
            "colorscale": [
             [
              0,
              "#0d0887"
             ],
             [
              0.1111111111111111,
              "#46039f"
             ],
             [
              0.2222222222222222,
              "#7201a8"
             ],
             [
              0.3333333333333333,
              "#9c179e"
             ],
             [
              0.4444444444444444,
              "#bd3786"
             ],
             [
              0.5555555555555556,
              "#d8576b"
             ],
             [
              0.6666666666666666,
              "#ed7953"
             ],
             [
              0.7777777777777778,
              "#fb9f3a"
             ],
             [
              0.8888888888888888,
              "#fdca26"
             ],
             [
              1,
              "#f0f921"
             ]
            ],
            "type": "histogram2d"
           }
          ],
          "histogram": [
           {
            "marker": {
             "pattern": {
              "fillmode": "overlay",
              "size": 10,
              "solidity": 0.2
             }
            },
            "type": "histogram"
           }
          ],
          "mesh3d": [
           {
            "colorbar": {
             "outlinewidth": 0,
             "ticks": ""
            },
            "type": "mesh3d"
           }
          ],
          "parcoords": [
           {
            "line": {
             "colorbar": {
              "outlinewidth": 0,
              "ticks": ""
             }
            },
            "type": "parcoords"
           }
          ],
          "pie": [
           {
            "automargin": true,
            "type": "pie"
           }
          ],
          "scatter3d": [
           {
            "line": {
             "colorbar": {
              "outlinewidth": 0,
              "ticks": ""
             }
            },
            "marker": {
             "colorbar": {
              "outlinewidth": 0,
              "ticks": ""
             }
            },
            "type": "scatter3d"
           }
          ],
          "scattercarpet": [
           {
            "marker": {
             "colorbar": {
              "outlinewidth": 0,
              "ticks": ""
             }
            },
            "type": "scattercarpet"
           }
          ],
          "scattergeo": [
           {
            "marker": {
             "colorbar": {
              "outlinewidth": 0,
              "ticks": ""
             }
            },
            "type": "scattergeo"
           }
          ],
          "scattergl": [
           {
            "marker": {
             "colorbar": {
              "outlinewidth": 0,
              "ticks": ""
             }
            },
            "type": "scattergl"
           }
          ],
          "scattermapbox": [
           {
            "marker": {
             "colorbar": {
              "outlinewidth": 0,
              "ticks": ""
             }
            },
            "type": "scattermapbox"
           }
          ],
          "scatterpolargl": [
           {
            "marker": {
             "colorbar": {
              "outlinewidth": 0,
              "ticks": ""
             }
            },
            "type": "scatterpolargl"
           }
          ],
          "scatterpolar": [
           {
            "marker": {
             "colorbar": {
              "outlinewidth": 0,
              "ticks": ""
             }
            },
            "type": "scatterpolar"
           }
          ],
          "scatter": [
           {
            "fillpattern": {
             "fillmode": "overlay",
             "size": 10,
             "solidity": 0.2
            },
            "type": "scatter"
           }
          ],
          "scatterternary": [
           {
            "marker": {
             "colorbar": {
              "outlinewidth": 0,
              "ticks": ""
             }
            },
            "type": "scatterternary"
           }
          ],
          "surface": [
           {
            "colorbar": {
             "outlinewidth": 0,
             "ticks": ""
            },
            "colorscale": [
             [
              0,
              "#0d0887"
             ],
             [
              0.1111111111111111,
              "#46039f"
             ],
             [
              0.2222222222222222,
              "#7201a8"
             ],
             [
              0.3333333333333333,
              "#9c179e"
             ],
             [
              0.4444444444444444,
              "#bd3786"
             ],
             [
              0.5555555555555556,
              "#d8576b"
             ],
             [
              0.6666666666666666,
              "#ed7953"
             ],
             [
              0.7777777777777778,
              "#fb9f3a"
             ],
             [
              0.8888888888888888,
              "#fdca26"
             ],
             [
              1,
              "#f0f921"
             ]
            ],
            "type": "surface"
           }
          ],
          "table": [
           {
            "cells": {
             "fill": {
              "color": "#EBF0F8"
             },
             "line": {
              "color": "white"
             }
            },
            "header": {
             "fill": {
              "color": "#C8D4E3"
             },
             "line": {
              "color": "white"
             }
            },
            "type": "table"
           }
          ]
         },
         "layout": {
          "annotationdefaults": {
           "arrowcolor": "#2a3f5f",
           "arrowhead": 0,
           "arrowwidth": 1
          },
          "autotypenumbers": "strict",
          "coloraxis": {
           "colorbar": {
            "outlinewidth": 0,
            "ticks": ""
           }
          },
          "colorscale": {
           "diverging": [
            [
             0,
             "#8e0152"
            ],
            [
             0.1,
             "#c51b7d"
            ],
            [
             0.2,
             "#de77ae"
            ],
            [
             0.3,
             "#f1b6da"
            ],
            [
             0.4,
             "#fde0ef"
            ],
            [
             0.5,
             "#f7f7f7"
            ],
            [
             0.6,
             "#e6f5d0"
            ],
            [
             0.7,
             "#b8e186"
            ],
            [
             0.8,
             "#7fbc41"
            ],
            [
             0.9,
             "#4d9221"
            ],
            [
             1,
             "#276419"
            ]
           ],
           "sequential": [
            [
             0,
             "#0d0887"
            ],
            [
             0.1111111111111111,
             "#46039f"
            ],
            [
             0.2222222222222222,
             "#7201a8"
            ],
            [
             0.3333333333333333,
             "#9c179e"
            ],
            [
             0.4444444444444444,
             "#bd3786"
            ],
            [
             0.5555555555555556,
             "#d8576b"
            ],
            [
             0.6666666666666666,
             "#ed7953"
            ],
            [
             0.7777777777777778,
             "#fb9f3a"
            ],
            [
             0.8888888888888888,
             "#fdca26"
            ],
            [
             1,
             "#f0f921"
            ]
           ],
           "sequentialminus": [
            [
             0,
             "#0d0887"
            ],
            [
             0.1111111111111111,
             "#46039f"
            ],
            [
             0.2222222222222222,
             "#7201a8"
            ],
            [
             0.3333333333333333,
             "#9c179e"
            ],
            [
             0.4444444444444444,
             "#bd3786"
            ],
            [
             0.5555555555555556,
             "#d8576b"
            ],
            [
             0.6666666666666666,
             "#ed7953"
            ],
            [
             0.7777777777777778,
             "#fb9f3a"
            ],
            [
             0.8888888888888888,
             "#fdca26"
            ],
            [
             1,
             "#f0f921"
            ]
           ]
          },
          "colorway": [
           "#636efa",
           "#EF553B",
           "#00cc96",
           "#ab63fa",
           "#FFA15A",
           "#19d3f3",
           "#FF6692",
           "#B6E880",
           "#FF97FF",
           "#FECB52"
          ],
          "font": {
           "color": "#2a3f5f"
          },
          "geo": {
           "bgcolor": "white",
           "lakecolor": "white",
           "landcolor": "white",
           "showlakes": true,
           "showland": true,
           "subunitcolor": "#C8D4E3"
          },
          "hoverlabel": {
           "align": "left"
          },
          "hovermode": "closest",
          "mapbox": {
           "style": "light"
          },
          "paper_bgcolor": "white",
          "plot_bgcolor": "white",
          "polar": {
           "angularaxis": {
            "gridcolor": "#EBF0F8",
            "linecolor": "#EBF0F8",
            "ticks": ""
           },
           "bgcolor": "white",
           "radialaxis": {
            "gridcolor": "#EBF0F8",
            "linecolor": "#EBF0F8",
            "ticks": ""
           }
          },
          "scene": {
           "xaxis": {
            "backgroundcolor": "white",
            "gridcolor": "#DFE8F3",
            "gridwidth": 2,
            "linecolor": "#EBF0F8",
            "showbackground": true,
            "ticks": "",
            "zerolinecolor": "#EBF0F8"
           },
           "yaxis": {
            "backgroundcolor": "white",
            "gridcolor": "#DFE8F3",
            "gridwidth": 2,
            "linecolor": "#EBF0F8",
            "showbackground": true,
            "ticks": "",
            "zerolinecolor": "#EBF0F8"
           },
           "zaxis": {
            "backgroundcolor": "white",
            "gridcolor": "#DFE8F3",
            "gridwidth": 2,
            "linecolor": "#EBF0F8",
            "showbackground": true,
            "ticks": "",
            "zerolinecolor": "#EBF0F8"
           }
          },
          "shapedefaults": {
           "line": {
            "color": "#2a3f5f"
           }
          },
          "ternary": {
           "aaxis": {
            "gridcolor": "#DFE8F3",
            "linecolor": "#A2B1C6",
            "ticks": ""
           },
           "baxis": {
            "gridcolor": "#DFE8F3",
            "linecolor": "#A2B1C6",
            "ticks": ""
           },
           "bgcolor": "white",
           "caxis": {
            "gridcolor": "#DFE8F3",
            "linecolor": "#A2B1C6",
            "ticks": ""
           }
          },
          "title": {
           "x": 0.05
          },
          "xaxis": {
           "automargin": true,
           "gridcolor": "#EBF0F8",
           "linecolor": "#EBF0F8",
           "ticks": "",
           "title": {
            "standoff": 15
           },
           "zerolinecolor": "#EBF0F8",
           "zerolinewidth": 2
          },
          "yaxis": {
           "automargin": true,
           "gridcolor": "#EBF0F8",
           "linecolor": "#EBF0F8",
           "ticks": "",
           "title": {
            "standoff": 15
           },
           "zerolinecolor": "#EBF0F8",
           "zerolinewidth": 2
          }
         }
        },
        "xaxis": {
         "anchor": "y",
         "domain": [
          0,
          1
         ],
         "title": {
          "text": "Date"
         },
         "type": "category",
         "categoryorder": "category ascending"
        },
        "yaxis": {
         "anchor": "x",
         "domain": [
          0,
          1
         ],
         "title": {
          "text": "Nomre de mention par jour"
         }
        },
        "legend": {
         "title": {
          "text": "Keyword"
         },
         "tracegroupgap": 0
        },
        "title": {
         "text": "Evoluation du nombre de mention par jour au cours de la 1er semaine de Novembe: Elon Musk VS COP 27 toutes radio confondues"
        },
        "height": 400
       },
       "config": {
        "plotlyServerURL": "https://plot.ly"
       }
      }
     },
     "metadata": {}
    }
   ],
   "metadata": {}
  },
  {
   "cell_type": "code",
   "execution_count": 47,
   "source": [
    "data_top_8_tv = data[data.channel_name.isin(TOP_CHANNELS_TV_8)]\n",
    "data_top_8_tv = filter_data_between_hours(data_top_8_tv,\"19:00\",\"21:00\")\n",
    "data_gb = data_top_8_tv.groupby(['keyword', data_top_8_tv['date'].dt.date]).count()['text'].reset_index()\n",
    "data_gb.columns = ['Keyword', 'Date', 'Nombre de mention']\n",
    "data_gb['Couverture entre 19 et 21h (%)'] = round(data_gb['Nombre de mention']/60 * 100, 1)\n",
    "fig = px.area(\n",
    "    data_gb,\n",
    "    x = \"Date\", y = 'Couverture entre 19 et 21h (%)',color = \"Keyword\",\n",
    "    category_orders={\"TIME\":data_gb[\"Date\"].unique()},\n",
    "    title = \"Evoluation de la couverture mediatique de 4 mots clef, semaine pre COP27, top 8 TV\", height = 400,\n",
    ")\n",
    "fig.update_layout( xaxis=dict(type=\"category\", categoryorder='category ascending'),\n",
    "                     )\n",
    "\n",
    "fig.show()\n"
   ],
   "outputs": [
    {
     "output_type": "display_data",
     "data": {
      "application/vnd.plotly.v1+json": {
       "data": [
        {
         "fillpattern": {
          "shape": ""
         },
         "hovertemplate": "Keyword=cop27<br>Date=%{x}<br>Couverture entre 19 et 21h (%)=%{y}<extra></extra>",
         "legendgroup": "cop27",
         "line": {
          "color": "rgb(95, 70, 144)"
         },
         "marker": {
          "symbol": "circle"
         },
         "mode": "lines",
         "name": "cop27",
         "orientation": "v",
         "showlegend": true,
         "stackgroup": "1",
         "x": [
          "2022-10-31",
          "2022-11-01",
          "2022-11-02",
          "2022-11-03",
          "2022-11-04"
         ],
         "xaxis": "x",
         "y": [
          5,
          5,
          5,
          5,
          6.7
         ],
         "yaxis": "y",
         "type": "scatter"
        },
        {
         "fillpattern": {
          "shape": ""
         },
         "hovertemplate": "Keyword=elonmusk<br>Date=%{x}<br>Couverture entre 19 et 21h (%)=%{y}<extra></extra>",
         "legendgroup": "elonmusk",
         "line": {
          "color": "rgb(29, 105, 150)"
         },
         "marker": {
          "symbol": "circle"
         },
         "mode": "lines",
         "name": "elonmusk",
         "orientation": "v",
         "showlegend": true,
         "stackgroup": "1",
         "x": [
          "2022-10-29",
          "2022-10-31",
          "2022-11-01",
          "2022-11-02",
          "2022-11-04"
         ],
         "xaxis": "x",
         "y": [
          1.7,
          15,
          5,
          5,
          20
         ],
         "yaxis": "y",
         "type": "scatter"
        },
        {
         "fillpattern": {
          "shape": ""
         },
         "hovertemplate": "Keyword=gregoirefournas<br>Date=%{x}<br>Couverture entre 19 et 21h (%)=%{y}<extra></extra>",
         "legendgroup": "gregoirefournas",
         "line": {
          "color": "rgb(56, 166, 165)"
         },
         "marker": {
          "symbol": "circle"
         },
         "mode": "lines",
         "name": "gregoirefournas",
         "orientation": "v",
         "showlegend": true,
         "stackgroup": "1",
         "x": [
          "2022-11-03",
          "2022-11-04"
         ],
         "xaxis": "x",
         "y": [
          16.7,
          41.7
         ],
         "yaxis": "y",
         "type": "scatter"
        },
        {
         "fillpattern": {
          "shape": ""
         },
         "hovertemplate": "Keyword=routeduRhum<br>Date=%{x}<br>Couverture entre 19 et 21h (%)=%{y}<extra></extra>",
         "legendgroup": "routeduRhum",
         "line": {
          "color": "rgb(15, 133, 84)"
         },
         "marker": {
          "symbol": "circle"
         },
         "mode": "lines",
         "name": "routeduRhum",
         "orientation": "v",
         "showlegend": true,
         "stackgroup": "1",
         "x": [
          "2022-11-02",
          "2022-11-03",
          "2022-11-04"
         ],
         "xaxis": "x",
         "y": [
          23.3,
          10,
          10
         ],
         "yaxis": "y",
         "type": "scatter"
        }
       ],
       "layout": {
        "template": {
         "data": {
          "barpolar": [
           {
            "marker": {
             "line": {
              "color": "white",
              "width": 0.5
             },
             "pattern": {
              "fillmode": "overlay",
              "size": 10,
              "solidity": 0.2
             }
            },
            "type": "barpolar"
           }
          ],
          "bar": [
           {
            "error_x": {
             "color": "#2a3f5f"
            },
            "error_y": {
             "color": "#2a3f5f"
            },
            "marker": {
             "line": {
              "color": "white",
              "width": 0.5
             },
             "pattern": {
              "fillmode": "overlay",
              "size": 10,
              "solidity": 0.2
             }
            },
            "type": "bar"
           }
          ],
          "carpet": [
           {
            "aaxis": {
             "endlinecolor": "#2a3f5f",
             "gridcolor": "#C8D4E3",
             "linecolor": "#C8D4E3",
             "minorgridcolor": "#C8D4E3",
             "startlinecolor": "#2a3f5f"
            },
            "baxis": {
             "endlinecolor": "#2a3f5f",
             "gridcolor": "#C8D4E3",
             "linecolor": "#C8D4E3",
             "minorgridcolor": "#C8D4E3",
             "startlinecolor": "#2a3f5f"
            },
            "type": "carpet"
           }
          ],
          "choropleth": [
           {
            "colorbar": {
             "outlinewidth": 0,
             "ticks": ""
            },
            "type": "choropleth"
           }
          ],
          "contourcarpet": [
           {
            "colorbar": {
             "outlinewidth": 0,
             "ticks": ""
            },
            "type": "contourcarpet"
           }
          ],
          "contour": [
           {
            "colorbar": {
             "outlinewidth": 0,
             "ticks": ""
            },
            "colorscale": [
             [
              0,
              "#0d0887"
             ],
             [
              0.1111111111111111,
              "#46039f"
             ],
             [
              0.2222222222222222,
              "#7201a8"
             ],
             [
              0.3333333333333333,
              "#9c179e"
             ],
             [
              0.4444444444444444,
              "#bd3786"
             ],
             [
              0.5555555555555556,
              "#d8576b"
             ],
             [
              0.6666666666666666,
              "#ed7953"
             ],
             [
              0.7777777777777778,
              "#fb9f3a"
             ],
             [
              0.8888888888888888,
              "#fdca26"
             ],
             [
              1,
              "#f0f921"
             ]
            ],
            "type": "contour"
           }
          ],
          "heatmapgl": [
           {
            "colorbar": {
             "outlinewidth": 0,
             "ticks": ""
            },
            "colorscale": [
             [
              0,
              "#0d0887"
             ],
             [
              0.1111111111111111,
              "#46039f"
             ],
             [
              0.2222222222222222,
              "#7201a8"
             ],
             [
              0.3333333333333333,
              "#9c179e"
             ],
             [
              0.4444444444444444,
              "#bd3786"
             ],
             [
              0.5555555555555556,
              "#d8576b"
             ],
             [
              0.6666666666666666,
              "#ed7953"
             ],
             [
              0.7777777777777778,
              "#fb9f3a"
             ],
             [
              0.8888888888888888,
              "#fdca26"
             ],
             [
              1,
              "#f0f921"
             ]
            ],
            "type": "heatmapgl"
           }
          ],
          "heatmap": [
           {
            "colorbar": {
             "outlinewidth": 0,
             "ticks": ""
            },
            "colorscale": [
             [
              0,
              "#0d0887"
             ],
             [
              0.1111111111111111,
              "#46039f"
             ],
             [
              0.2222222222222222,
              "#7201a8"
             ],
             [
              0.3333333333333333,
              "#9c179e"
             ],
             [
              0.4444444444444444,
              "#bd3786"
             ],
             [
              0.5555555555555556,
              "#d8576b"
             ],
             [
              0.6666666666666666,
              "#ed7953"
             ],
             [
              0.7777777777777778,
              "#fb9f3a"
             ],
             [
              0.8888888888888888,
              "#fdca26"
             ],
             [
              1,
              "#f0f921"
             ]
            ],
            "type": "heatmap"
           }
          ],
          "histogram2dcontour": [
           {
            "colorbar": {
             "outlinewidth": 0,
             "ticks": ""
            },
            "colorscale": [
             [
              0,
              "#0d0887"
             ],
             [
              0.1111111111111111,
              "#46039f"
             ],
             [
              0.2222222222222222,
              "#7201a8"
             ],
             [
              0.3333333333333333,
              "#9c179e"
             ],
             [
              0.4444444444444444,
              "#bd3786"
             ],
             [
              0.5555555555555556,
              "#d8576b"
             ],
             [
              0.6666666666666666,
              "#ed7953"
             ],
             [
              0.7777777777777778,
              "#fb9f3a"
             ],
             [
              0.8888888888888888,
              "#fdca26"
             ],
             [
              1,
              "#f0f921"
             ]
            ],
            "type": "histogram2dcontour"
           }
          ],
          "histogram2d": [
           {
            "colorbar": {
             "outlinewidth": 0,
             "ticks": ""
            },
            "colorscale": [
             [
              0,
              "#0d0887"
             ],
             [
              0.1111111111111111,
              "#46039f"
             ],
             [
              0.2222222222222222,
              "#7201a8"
             ],
             [
              0.3333333333333333,
              "#9c179e"
             ],
             [
              0.4444444444444444,
              "#bd3786"
             ],
             [
              0.5555555555555556,
              "#d8576b"
             ],
             [
              0.6666666666666666,
              "#ed7953"
             ],
             [
              0.7777777777777778,
              "#fb9f3a"
             ],
             [
              0.8888888888888888,
              "#fdca26"
             ],
             [
              1,
              "#f0f921"
             ]
            ],
            "type": "histogram2d"
           }
          ],
          "histogram": [
           {
            "marker": {
             "pattern": {
              "fillmode": "overlay",
              "size": 10,
              "solidity": 0.2
             }
            },
            "type": "histogram"
           }
          ],
          "mesh3d": [
           {
            "colorbar": {
             "outlinewidth": 0,
             "ticks": ""
            },
            "type": "mesh3d"
           }
          ],
          "parcoords": [
           {
            "line": {
             "colorbar": {
              "outlinewidth": 0,
              "ticks": ""
             }
            },
            "type": "parcoords"
           }
          ],
          "pie": [
           {
            "automargin": true,
            "type": "pie"
           }
          ],
          "scatter3d": [
           {
            "line": {
             "colorbar": {
              "outlinewidth": 0,
              "ticks": ""
             }
            },
            "marker": {
             "colorbar": {
              "outlinewidth": 0,
              "ticks": ""
             }
            },
            "type": "scatter3d"
           }
          ],
          "scattercarpet": [
           {
            "marker": {
             "colorbar": {
              "outlinewidth": 0,
              "ticks": ""
             }
            },
            "type": "scattercarpet"
           }
          ],
          "scattergeo": [
           {
            "marker": {
             "colorbar": {
              "outlinewidth": 0,
              "ticks": ""
             }
            },
            "type": "scattergeo"
           }
          ],
          "scattergl": [
           {
            "marker": {
             "colorbar": {
              "outlinewidth": 0,
              "ticks": ""
             }
            },
            "type": "scattergl"
           }
          ],
          "scattermapbox": [
           {
            "marker": {
             "colorbar": {
              "outlinewidth": 0,
              "ticks": ""
             }
            },
            "type": "scattermapbox"
           }
          ],
          "scatterpolargl": [
           {
            "marker": {
             "colorbar": {
              "outlinewidth": 0,
              "ticks": ""
             }
            },
            "type": "scatterpolargl"
           }
          ],
          "scatterpolar": [
           {
            "marker": {
             "colorbar": {
              "outlinewidth": 0,
              "ticks": ""
             }
            },
            "type": "scatterpolar"
           }
          ],
          "scatter": [
           {
            "fillpattern": {
             "fillmode": "overlay",
             "size": 10,
             "solidity": 0.2
            },
            "type": "scatter"
           }
          ],
          "scatterternary": [
           {
            "marker": {
             "colorbar": {
              "outlinewidth": 0,
              "ticks": ""
             }
            },
            "type": "scatterternary"
           }
          ],
          "surface": [
           {
            "colorbar": {
             "outlinewidth": 0,
             "ticks": ""
            },
            "colorscale": [
             [
              0,
              "#0d0887"
             ],
             [
              0.1111111111111111,
              "#46039f"
             ],
             [
              0.2222222222222222,
              "#7201a8"
             ],
             [
              0.3333333333333333,
              "#9c179e"
             ],
             [
              0.4444444444444444,
              "#bd3786"
             ],
             [
              0.5555555555555556,
              "#d8576b"
             ],
             [
              0.6666666666666666,
              "#ed7953"
             ],
             [
              0.7777777777777778,
              "#fb9f3a"
             ],
             [
              0.8888888888888888,
              "#fdca26"
             ],
             [
              1,
              "#f0f921"
             ]
            ],
            "type": "surface"
           }
          ],
          "table": [
           {
            "cells": {
             "fill": {
              "color": "#EBF0F8"
             },
             "line": {
              "color": "white"
             }
            },
            "header": {
             "fill": {
              "color": "#C8D4E3"
             },
             "line": {
              "color": "white"
             }
            },
            "type": "table"
           }
          ]
         },
         "layout": {
          "annotationdefaults": {
           "arrowcolor": "#2a3f5f",
           "arrowhead": 0,
           "arrowwidth": 1
          },
          "autotypenumbers": "strict",
          "coloraxis": {
           "colorbar": {
            "outlinewidth": 0,
            "ticks": ""
           }
          },
          "colorscale": {
           "diverging": [
            [
             0,
             "#8e0152"
            ],
            [
             0.1,
             "#c51b7d"
            ],
            [
             0.2,
             "#de77ae"
            ],
            [
             0.3,
             "#f1b6da"
            ],
            [
             0.4,
             "#fde0ef"
            ],
            [
             0.5,
             "#f7f7f7"
            ],
            [
             0.6,
             "#e6f5d0"
            ],
            [
             0.7,
             "#b8e186"
            ],
            [
             0.8,
             "#7fbc41"
            ],
            [
             0.9,
             "#4d9221"
            ],
            [
             1,
             "#276419"
            ]
           ],
           "sequential": [
            [
             0,
             "#0d0887"
            ],
            [
             0.1111111111111111,
             "#46039f"
            ],
            [
             0.2222222222222222,
             "#7201a8"
            ],
            [
             0.3333333333333333,
             "#9c179e"
            ],
            [
             0.4444444444444444,
             "#bd3786"
            ],
            [
             0.5555555555555556,
             "#d8576b"
            ],
            [
             0.6666666666666666,
             "#ed7953"
            ],
            [
             0.7777777777777778,
             "#fb9f3a"
            ],
            [
             0.8888888888888888,
             "#fdca26"
            ],
            [
             1,
             "#f0f921"
            ]
           ],
           "sequentialminus": [
            [
             0,
             "#0d0887"
            ],
            [
             0.1111111111111111,
             "#46039f"
            ],
            [
             0.2222222222222222,
             "#7201a8"
            ],
            [
             0.3333333333333333,
             "#9c179e"
            ],
            [
             0.4444444444444444,
             "#bd3786"
            ],
            [
             0.5555555555555556,
             "#d8576b"
            ],
            [
             0.6666666666666666,
             "#ed7953"
            ],
            [
             0.7777777777777778,
             "#fb9f3a"
            ],
            [
             0.8888888888888888,
             "#fdca26"
            ],
            [
             1,
             "#f0f921"
            ]
           ]
          },
          "colorway": [
           "#636efa",
           "#EF553B",
           "#00cc96",
           "#ab63fa",
           "#FFA15A",
           "#19d3f3",
           "#FF6692",
           "#B6E880",
           "#FF97FF",
           "#FECB52"
          ],
          "font": {
           "color": "#2a3f5f"
          },
          "geo": {
           "bgcolor": "white",
           "lakecolor": "white",
           "landcolor": "white",
           "showlakes": true,
           "showland": true,
           "subunitcolor": "#C8D4E3"
          },
          "hoverlabel": {
           "align": "left"
          },
          "hovermode": "closest",
          "mapbox": {
           "style": "light"
          },
          "paper_bgcolor": "white",
          "plot_bgcolor": "white",
          "polar": {
           "angularaxis": {
            "gridcolor": "#EBF0F8",
            "linecolor": "#EBF0F8",
            "ticks": ""
           },
           "bgcolor": "white",
           "radialaxis": {
            "gridcolor": "#EBF0F8",
            "linecolor": "#EBF0F8",
            "ticks": ""
           }
          },
          "scene": {
           "xaxis": {
            "backgroundcolor": "white",
            "gridcolor": "#DFE8F3",
            "gridwidth": 2,
            "linecolor": "#EBF0F8",
            "showbackground": true,
            "ticks": "",
            "zerolinecolor": "#EBF0F8"
           },
           "yaxis": {
            "backgroundcolor": "white",
            "gridcolor": "#DFE8F3",
            "gridwidth": 2,
            "linecolor": "#EBF0F8",
            "showbackground": true,
            "ticks": "",
            "zerolinecolor": "#EBF0F8"
           },
           "zaxis": {
            "backgroundcolor": "white",
            "gridcolor": "#DFE8F3",
            "gridwidth": 2,
            "linecolor": "#EBF0F8",
            "showbackground": true,
            "ticks": "",
            "zerolinecolor": "#EBF0F8"
           }
          },
          "shapedefaults": {
           "line": {
            "color": "#2a3f5f"
           }
          },
          "ternary": {
           "aaxis": {
            "gridcolor": "#DFE8F3",
            "linecolor": "#A2B1C6",
            "ticks": ""
           },
           "baxis": {
            "gridcolor": "#DFE8F3",
            "linecolor": "#A2B1C6",
            "ticks": ""
           },
           "bgcolor": "white",
           "caxis": {
            "gridcolor": "#DFE8F3",
            "linecolor": "#A2B1C6",
            "ticks": ""
           }
          },
          "title": {
           "x": 0.05
          },
          "xaxis": {
           "automargin": true,
           "gridcolor": "#EBF0F8",
           "linecolor": "#EBF0F8",
           "ticks": "",
           "title": {
            "standoff": 15
           },
           "zerolinecolor": "#EBF0F8",
           "zerolinewidth": 2
          },
          "yaxis": {
           "automargin": true,
           "gridcolor": "#EBF0F8",
           "linecolor": "#EBF0F8",
           "ticks": "",
           "title": {
            "standoff": 15
           },
           "zerolinecolor": "#EBF0F8",
           "zerolinewidth": 2
          }
         }
        },
        "xaxis": {
         "anchor": "y",
         "domain": [
          0,
          1
         ],
         "title": {
          "text": "Date"
         },
         "type": "category",
         "categoryorder": "category ascending"
        },
        "yaxis": {
         "anchor": "x",
         "domain": [
          0,
          1
         ],
         "title": {
          "text": "Couverture entre 19 et 21h (%)"
         }
        },
        "legend": {
         "title": {
          "text": "Keyword"
         },
         "tracegroupgap": 0
        },
        "title": {
         "text": "Evoluation de la couverture mediatique de 4 mots clef, semaine pre COP27, top 8 TV"
        },
        "height": 400
       },
       "config": {
        "plotlyServerURL": "https://plot.ly"
       }
      }
     },
     "metadata": {}
    }
   ],
   "metadata": {}
  },
  {
   "cell_type": "markdown",
   "source": [
    "# Theo's work:"
   ],
   "metadata": {}
  },
  {
   "cell_type": "markdown",
   "source": [
    "# Préparation du Baromètre"
   ],
   "metadata": {}
  },
  {
   "cell_type": "markdown",
   "source": [
    "## Travail préliminaire sur les données"
   ],
   "metadata": {}
  },
  {
   "cell_type": "markdown",
   "source": [
    "**Méthodologie** : \n",
    "- Sélectionner les heures d'écoute les plus importantes sur TV et Radio\n",
    "- TV : 19h-22h\n",
    "- Radio : 6h30-9h30"
   ],
   "metadata": {}
  },
  {
   "cell_type": "code",
   "execution_count": 69,
   "source": [
    "from quotaclimat.data_analytics.exploration import filter_data_between_hours"
   ],
   "outputs": [],
   "metadata": {}
  },
  {
   "cell_type": "code",
   "execution_count": 104,
   "source": [
    "data_tv = filter_data_between_hours(data,\"19:00\",\"22:00\").query(\"media=='TV'\")\n",
    "data_radio = filter_data_between_hours(data,\"06:30\",\"09:30\").query(\"media=='Radio'\")\n",
    "data_france_info = data_radio.query(\"channel_name=='France Info'\")"
   ],
   "outputs": [],
   "metadata": {}
  },
  {
   "cell_type": "markdown",
   "source": [
    "## Niveau 1"
   ],
   "metadata": {}
  },
  {
   "cell_type": "markdown",
   "source": [
    "### Calcul du % du temps médiatique"
   ],
   "metadata": {}
  },
  {
   "cell_type": "code",
   "execution_count": 105,
   "source": [
    "n_days = 16"
   ],
   "outputs": [],
   "metadata": {}
  },
  {
   "cell_type": "code",
   "execution_count": 40,
   "source": [
    "# Multiplier is 2min / (n_channel * 60min * n_days)\n",
    "show_mentions_by_time_of_the_day(\n",
    "    data_tv,freq = \"1H\",\n",
    "    method = 2 / (data_tv[\"channel_name\"].nunique() * 60 * n_days)\n",
    ")"
   ],
   "outputs": [
    {
     "output_type": "error",
     "ename": "NameError",
     "evalue": "name 'data_tv' is not defined",
     "traceback": [
      "\u001b[0;31m---------------------------------------------------------------------------\u001b[0m",
      "\u001b[0;31mNameError\u001b[0m                                 Traceback (most recent call last)",
      "Cell \u001b[0;32mIn [40], line 3\u001b[0m\n\u001b[1;32m      1\u001b[0m \u001b[38;5;66;03m# Multiplier is 2min / (n_channel * 60min * n_days)\u001b[39;00m\n\u001b[1;32m      2\u001b[0m show_mentions_by_time_of_the_day(\n\u001b[0;32m----> 3\u001b[0m     \u001b[43mdata_tv\u001b[49m,freq \u001b[38;5;241m=\u001b[39m \u001b[38;5;124m\"\u001b[39m\u001b[38;5;124m1H\u001b[39m\u001b[38;5;124m\"\u001b[39m,\n\u001b[1;32m      4\u001b[0m     method \u001b[38;5;241m=\u001b[39m \u001b[38;5;241m2\u001b[39m \u001b[38;5;241m/\u001b[39m (data_tv[\u001b[38;5;124m\"\u001b[39m\u001b[38;5;124mchannel_name\u001b[39m\u001b[38;5;124m\"\u001b[39m]\u001b[38;5;241m.\u001b[39mnunique() \u001b[38;5;241m*\u001b[39m \u001b[38;5;241m60\u001b[39m \u001b[38;5;241m*\u001b[39m n_days)\n\u001b[1;32m      5\u001b[0m )\n",
      "\u001b[0;31mNameError\u001b[0m: name 'data_tv' is not defined"
     ]
    }
   ],
   "metadata": {}
  },
  {
   "cell_type": "code",
   "execution_count": 41,
   "source": [
    "# Multiplier is 2min / (n_channel * 60min)\n",
    "show_mentions_by_time_of_the_day(\n",
    "    data_radio,freq = \"1H\",\n",
    "    method = 2 / (data_radio[\"channel_name\"].nunique() * 60 * n_days)\n",
    ")"
   ],
   "outputs": [
    {
     "output_type": "error",
     "ename": "NameError",
     "evalue": "name 'n_days' is not defined",
     "traceback": [
      "\u001b[0;31m---------------------------------------------------------------------------\u001b[0m",
      "\u001b[0;31mNameError\u001b[0m                                 Traceback (most recent call last)",
      "Cell \u001b[0;32mIn [41], line 4\u001b[0m\n\u001b[1;32m      1\u001b[0m \u001b[38;5;66;03m# Multiplier is 2min / (n_channel * 60min)\u001b[39;00m\n\u001b[1;32m      2\u001b[0m show_mentions_by_time_of_the_day(\n\u001b[1;32m      3\u001b[0m     data_radio,freq \u001b[38;5;241m=\u001b[39m \u001b[38;5;124m\"\u001b[39m\u001b[38;5;124m1H\u001b[39m\u001b[38;5;124m\"\u001b[39m,\n\u001b[0;32m----> 4\u001b[0m     method \u001b[38;5;241m=\u001b[39m \u001b[38;5;241m2\u001b[39m \u001b[38;5;241m/\u001b[39m (data_radio[\u001b[38;5;124m\"\u001b[39m\u001b[38;5;124mchannel_name\u001b[39m\u001b[38;5;124m\"\u001b[39m]\u001b[38;5;241m.\u001b[39mnunique() \u001b[38;5;241m*\u001b[39m \u001b[38;5;241m60\u001b[39m \u001b[38;5;241m*\u001b[39m \u001b[43mn_days\u001b[49m)\n\u001b[1;32m      5\u001b[0m )\n",
      "\u001b[0;31mNameError\u001b[0m: name 'n_days' is not defined"
     ]
    }
   ],
   "metadata": {}
  },
  {
   "cell_type": "code",
   "execution_count": 42,
   "source": [
    "# Multiplier is 2min / (n_channel * 60min)\n",
    "show_mentions_by_time_of_the_day(\n",
    "    data_france_info,freq = \"1H\",\n",
    "    method = 2 / (data_france_info[\"channel_name\"].nunique() * 60 * n_days)\n",
    ")"
   ],
   "outputs": [
    {
     "output_type": "error",
     "ename": "NameError",
     "evalue": "name 'data_france_info' is not defined",
     "traceback": [
      "\u001b[0;31m---------------------------------------------------------------------------\u001b[0m",
      "\u001b[0;31mNameError\u001b[0m                                 Traceback (most recent call last)",
      "Cell \u001b[0;32mIn [42], line 3\u001b[0m\n\u001b[1;32m      1\u001b[0m \u001b[38;5;66;03m# Multiplier is 2min / (n_channel * 60min)\u001b[39;00m\n\u001b[1;32m      2\u001b[0m show_mentions_by_time_of_the_day(\n\u001b[0;32m----> 3\u001b[0m     \u001b[43mdata_france_info\u001b[49m,freq \u001b[38;5;241m=\u001b[39m \u001b[38;5;124m\"\u001b[39m\u001b[38;5;124m1H\u001b[39m\u001b[38;5;124m\"\u001b[39m,\n\u001b[1;32m      4\u001b[0m     method \u001b[38;5;241m=\u001b[39m \u001b[38;5;241m2\u001b[39m \u001b[38;5;241m/\u001b[39m (data_france_info[\u001b[38;5;124m\"\u001b[39m\u001b[38;5;124mchannel_name\u001b[39m\u001b[38;5;124m\"\u001b[39m]\u001b[38;5;241m.\u001b[39mnunique() \u001b[38;5;241m*\u001b[39m \u001b[38;5;241m60\u001b[39m \u001b[38;5;241m*\u001b[39m n_days)\n\u001b[1;32m      5\u001b[0m )\n",
      "\u001b[0;31mNameError\u001b[0m: name 'data_france_info' is not defined"
     ]
    }
   ],
   "metadata": {}
  },
  {
   "cell_type": "markdown",
   "source": [
    "### Podiums TOP5 et FLOP5"
   ],
   "metadata": {}
  },
  {
   "cell_type": "markdown",
   "source": [
    "#### TOP 5 et TOP 25 TV (toute audience confondues)"
   ],
   "metadata": {}
  },
  {
   "cell_type": "code",
   "execution_count": 122,
   "source": [
    "# Multiplier is 2min / (3h * 60min * n_days)\n",
    "show_mentions_by_channel(\n",
    "    data_tv,\n",
    "    method = 2 / (3 * 60 * n_days),\n",
    "    n = 5,\n",
    "    text_auto = \".2%\"\n",
    ").update_layout(yaxis_tickformat='0%').show()\n",
    "\n",
    "# Multiplier is 2min / (3h * 60min * n_days)\n",
    "show_mentions_by_channel(\n",
    "    data_tv,\n",
    "    method = 2 / (3 * 60 * n_days),\n",
    "    n = 30,\n",
    "    text_auto = \".2%\"\n",
    ").update_layout(yaxis_tickformat='0%').show()"
   ],
   "outputs": [
    {
     "output_type": "display_data",
     "data": {
      "application/vnd.plotly.v1+json": {
       "config": {
        "plotlyServerURL": "https://plot.ly"
       },
       "data": [
        {
         "alignmentgroup": "True",
         "hovertemplate": "media=TV<br>channel_name=%{x}<br>count=%{y}<extra></extra>",
         "legendgroup": "TV",
         "marker": {
          "color": "rgb(95, 70, 144)",
          "pattern": {
           "shape": ""
          }
         },
         "name": "TV",
         "offsetgroup": "TV",
         "orientation": "v",
         "showlegend": true,
         "textposition": "auto",
         "texttemplate": "%{y:.2%}",
         "type": "bar",
         "x": [
          "Euronews",
          "France 24",
          "France Info:",
          "BFM Business",
          "TMC"
         ],
         "xaxis": "x",
         "y": [
          0.17708333333333334,
          0.14930555555555555,
          0.12361111111111112,
          0.04791666666666667,
          0.0375
         ],
         "yaxis": "y"
        }
       ],
       "layout": {
        "barmode": "relative",
        "height": 500,
        "legend": {
         "title": {
          "text": "media"
         },
         "tracegroupgap": 0
        },
        "margin": {
         "b": 100,
         "t": 60
        },
        "template": {
         "data": {
          "bar": [
           {
            "error_x": {
             "color": "#2a3f5f"
            },
            "error_y": {
             "color": "#2a3f5f"
            },
            "marker": {
             "line": {
              "color": "white",
              "width": 0.5
             },
             "pattern": {
              "fillmode": "overlay",
              "size": 10,
              "solidity": 0.2
             }
            },
            "type": "bar"
           }
          ],
          "barpolar": [
           {
            "marker": {
             "line": {
              "color": "white",
              "width": 0.5
             },
             "pattern": {
              "fillmode": "overlay",
              "size": 10,
              "solidity": 0.2
             }
            },
            "type": "barpolar"
           }
          ],
          "carpet": [
           {
            "aaxis": {
             "endlinecolor": "#2a3f5f",
             "gridcolor": "#C8D4E3",
             "linecolor": "#C8D4E3",
             "minorgridcolor": "#C8D4E3",
             "startlinecolor": "#2a3f5f"
            },
            "baxis": {
             "endlinecolor": "#2a3f5f",
             "gridcolor": "#C8D4E3",
             "linecolor": "#C8D4E3",
             "minorgridcolor": "#C8D4E3",
             "startlinecolor": "#2a3f5f"
            },
            "type": "carpet"
           }
          ],
          "choropleth": [
           {
            "colorbar": {
             "outlinewidth": 0,
             "ticks": ""
            },
            "type": "choropleth"
           }
          ],
          "contour": [
           {
            "colorbar": {
             "outlinewidth": 0,
             "ticks": ""
            },
            "colorscale": [
             [
              0,
              "#0d0887"
             ],
             [
              0.1111111111111111,
              "#46039f"
             ],
             [
              0.2222222222222222,
              "#7201a8"
             ],
             [
              0.3333333333333333,
              "#9c179e"
             ],
             [
              0.4444444444444444,
              "#bd3786"
             ],
             [
              0.5555555555555556,
              "#d8576b"
             ],
             [
              0.6666666666666666,
              "#ed7953"
             ],
             [
              0.7777777777777778,
              "#fb9f3a"
             ],
             [
              0.8888888888888888,
              "#fdca26"
             ],
             [
              1,
              "#f0f921"
             ]
            ],
            "type": "contour"
           }
          ],
          "contourcarpet": [
           {
            "colorbar": {
             "outlinewidth": 0,
             "ticks": ""
            },
            "type": "contourcarpet"
           }
          ],
          "heatmap": [
           {
            "colorbar": {
             "outlinewidth": 0,
             "ticks": ""
            },
            "colorscale": [
             [
              0,
              "#0d0887"
             ],
             [
              0.1111111111111111,
              "#46039f"
             ],
             [
              0.2222222222222222,
              "#7201a8"
             ],
             [
              0.3333333333333333,
              "#9c179e"
             ],
             [
              0.4444444444444444,
              "#bd3786"
             ],
             [
              0.5555555555555556,
              "#d8576b"
             ],
             [
              0.6666666666666666,
              "#ed7953"
             ],
             [
              0.7777777777777778,
              "#fb9f3a"
             ],
             [
              0.8888888888888888,
              "#fdca26"
             ],
             [
              1,
              "#f0f921"
             ]
            ],
            "type": "heatmap"
           }
          ],
          "heatmapgl": [
           {
            "colorbar": {
             "outlinewidth": 0,
             "ticks": ""
            },
            "colorscale": [
             [
              0,
              "#0d0887"
             ],
             [
              0.1111111111111111,
              "#46039f"
             ],
             [
              0.2222222222222222,
              "#7201a8"
             ],
             [
              0.3333333333333333,
              "#9c179e"
             ],
             [
              0.4444444444444444,
              "#bd3786"
             ],
             [
              0.5555555555555556,
              "#d8576b"
             ],
             [
              0.6666666666666666,
              "#ed7953"
             ],
             [
              0.7777777777777778,
              "#fb9f3a"
             ],
             [
              0.8888888888888888,
              "#fdca26"
             ],
             [
              1,
              "#f0f921"
             ]
            ],
            "type": "heatmapgl"
           }
          ],
          "histogram": [
           {
            "marker": {
             "pattern": {
              "fillmode": "overlay",
              "size": 10,
              "solidity": 0.2
             }
            },
            "type": "histogram"
           }
          ],
          "histogram2d": [
           {
            "colorbar": {
             "outlinewidth": 0,
             "ticks": ""
            },
            "colorscale": [
             [
              0,
              "#0d0887"
             ],
             [
              0.1111111111111111,
              "#46039f"
             ],
             [
              0.2222222222222222,
              "#7201a8"
             ],
             [
              0.3333333333333333,
              "#9c179e"
             ],
             [
              0.4444444444444444,
              "#bd3786"
             ],
             [
              0.5555555555555556,
              "#d8576b"
             ],
             [
              0.6666666666666666,
              "#ed7953"
             ],
             [
              0.7777777777777778,
              "#fb9f3a"
             ],
             [
              0.8888888888888888,
              "#fdca26"
             ],
             [
              1,
              "#f0f921"
             ]
            ],
            "type": "histogram2d"
           }
          ],
          "histogram2dcontour": [
           {
            "colorbar": {
             "outlinewidth": 0,
             "ticks": ""
            },
            "colorscale": [
             [
              0,
              "#0d0887"
             ],
             [
              0.1111111111111111,
              "#46039f"
             ],
             [
              0.2222222222222222,
              "#7201a8"
             ],
             [
              0.3333333333333333,
              "#9c179e"
             ],
             [
              0.4444444444444444,
              "#bd3786"
             ],
             [
              0.5555555555555556,
              "#d8576b"
             ],
             [
              0.6666666666666666,
              "#ed7953"
             ],
             [
              0.7777777777777778,
              "#fb9f3a"
             ],
             [
              0.8888888888888888,
              "#fdca26"
             ],
             [
              1,
              "#f0f921"
             ]
            ],
            "type": "histogram2dcontour"
           }
          ],
          "mesh3d": [
           {
            "colorbar": {
             "outlinewidth": 0,
             "ticks": ""
            },
            "type": "mesh3d"
           }
          ],
          "parcoords": [
           {
            "line": {
             "colorbar": {
              "outlinewidth": 0,
              "ticks": ""
             }
            },
            "type": "parcoords"
           }
          ],
          "pie": [
           {
            "automargin": true,
            "type": "pie"
           }
          ],
          "scatter": [
           {
            "fillpattern": {
             "fillmode": "overlay",
             "size": 10,
             "solidity": 0.2
            },
            "type": "scatter"
           }
          ],
          "scatter3d": [
           {
            "line": {
             "colorbar": {
              "outlinewidth": 0,
              "ticks": ""
             }
            },
            "marker": {
             "colorbar": {
              "outlinewidth": 0,
              "ticks": ""
             }
            },
            "type": "scatter3d"
           }
          ],
          "scattercarpet": [
           {
            "marker": {
             "colorbar": {
              "outlinewidth": 0,
              "ticks": ""
             }
            },
            "type": "scattercarpet"
           }
          ],
          "scattergeo": [
           {
            "marker": {
             "colorbar": {
              "outlinewidth": 0,
              "ticks": ""
             }
            },
            "type": "scattergeo"
           }
          ],
          "scattergl": [
           {
            "marker": {
             "colorbar": {
              "outlinewidth": 0,
              "ticks": ""
             }
            },
            "type": "scattergl"
           }
          ],
          "scattermapbox": [
           {
            "marker": {
             "colorbar": {
              "outlinewidth": 0,
              "ticks": ""
             }
            },
            "type": "scattermapbox"
           }
          ],
          "scatterpolar": [
           {
            "marker": {
             "colorbar": {
              "outlinewidth": 0,
              "ticks": ""
             }
            },
            "type": "scatterpolar"
           }
          ],
          "scatterpolargl": [
           {
            "marker": {
             "colorbar": {
              "outlinewidth": 0,
              "ticks": ""
             }
            },
            "type": "scatterpolargl"
           }
          ],
          "scatterternary": [
           {
            "marker": {
             "colorbar": {
              "outlinewidth": 0,
              "ticks": ""
             }
            },
            "type": "scatterternary"
           }
          ],
          "surface": [
           {
            "colorbar": {
             "outlinewidth": 0,
             "ticks": ""
            },
            "colorscale": [
             [
              0,
              "#0d0887"
             ],
             [
              0.1111111111111111,
              "#46039f"
             ],
             [
              0.2222222222222222,
              "#7201a8"
             ],
             [
              0.3333333333333333,
              "#9c179e"
             ],
             [
              0.4444444444444444,
              "#bd3786"
             ],
             [
              0.5555555555555556,
              "#d8576b"
             ],
             [
              0.6666666666666666,
              "#ed7953"
             ],
             [
              0.7777777777777778,
              "#fb9f3a"
             ],
             [
              0.8888888888888888,
              "#fdca26"
             ],
             [
              1,
              "#f0f921"
             ]
            ],
            "type": "surface"
           }
          ],
          "table": [
           {
            "cells": {
             "fill": {
              "color": "#EBF0F8"
             },
             "line": {
              "color": "white"
             }
            },
            "header": {
             "fill": {
              "color": "#C8D4E3"
             },
             "line": {
              "color": "white"
             }
            },
            "type": "table"
           }
          ]
         },
         "layout": {
          "annotationdefaults": {
           "arrowcolor": "#2a3f5f",
           "arrowhead": 0,
           "arrowwidth": 1
          },
          "autotypenumbers": "strict",
          "coloraxis": {
           "colorbar": {
            "outlinewidth": 0,
            "ticks": ""
           }
          },
          "colorscale": {
           "diverging": [
            [
             0,
             "#8e0152"
            ],
            [
             0.1,
             "#c51b7d"
            ],
            [
             0.2,
             "#de77ae"
            ],
            [
             0.3,
             "#f1b6da"
            ],
            [
             0.4,
             "#fde0ef"
            ],
            [
             0.5,
             "#f7f7f7"
            ],
            [
             0.6,
             "#e6f5d0"
            ],
            [
             0.7,
             "#b8e186"
            ],
            [
             0.8,
             "#7fbc41"
            ],
            [
             0.9,
             "#4d9221"
            ],
            [
             1,
             "#276419"
            ]
           ],
           "sequential": [
            [
             0,
             "#0d0887"
            ],
            [
             0.1111111111111111,
             "#46039f"
            ],
            [
             0.2222222222222222,
             "#7201a8"
            ],
            [
             0.3333333333333333,
             "#9c179e"
            ],
            [
             0.4444444444444444,
             "#bd3786"
            ],
            [
             0.5555555555555556,
             "#d8576b"
            ],
            [
             0.6666666666666666,
             "#ed7953"
            ],
            [
             0.7777777777777778,
             "#fb9f3a"
            ],
            [
             0.8888888888888888,
             "#fdca26"
            ],
            [
             1,
             "#f0f921"
            ]
           ],
           "sequentialminus": [
            [
             0,
             "#0d0887"
            ],
            [
             0.1111111111111111,
             "#46039f"
            ],
            [
             0.2222222222222222,
             "#7201a8"
            ],
            [
             0.3333333333333333,
             "#9c179e"
            ],
            [
             0.4444444444444444,
             "#bd3786"
            ],
            [
             0.5555555555555556,
             "#d8576b"
            ],
            [
             0.6666666666666666,
             "#ed7953"
            ],
            [
             0.7777777777777778,
             "#fb9f3a"
            ],
            [
             0.8888888888888888,
             "#fdca26"
            ],
            [
             1,
             "#f0f921"
            ]
           ]
          },
          "colorway": [
           "#636efa",
           "#EF553B",
           "#00cc96",
           "#ab63fa",
           "#FFA15A",
           "#19d3f3",
           "#FF6692",
           "#B6E880",
           "#FF97FF",
           "#FECB52"
          ],
          "font": {
           "color": "#2a3f5f"
          },
          "geo": {
           "bgcolor": "white",
           "lakecolor": "white",
           "landcolor": "white",
           "showlakes": true,
           "showland": true,
           "subunitcolor": "#C8D4E3"
          },
          "hoverlabel": {
           "align": "left"
          },
          "hovermode": "closest",
          "mapbox": {
           "style": "light"
          },
          "paper_bgcolor": "white",
          "plot_bgcolor": "white",
          "polar": {
           "angularaxis": {
            "gridcolor": "#EBF0F8",
            "linecolor": "#EBF0F8",
            "ticks": ""
           },
           "bgcolor": "white",
           "radialaxis": {
            "gridcolor": "#EBF0F8",
            "linecolor": "#EBF0F8",
            "ticks": ""
           }
          },
          "scene": {
           "xaxis": {
            "backgroundcolor": "white",
            "gridcolor": "#DFE8F3",
            "gridwidth": 2,
            "linecolor": "#EBF0F8",
            "showbackground": true,
            "ticks": "",
            "zerolinecolor": "#EBF0F8"
           },
           "yaxis": {
            "backgroundcolor": "white",
            "gridcolor": "#DFE8F3",
            "gridwidth": 2,
            "linecolor": "#EBF0F8",
            "showbackground": true,
            "ticks": "",
            "zerolinecolor": "#EBF0F8"
           },
           "zaxis": {
            "backgroundcolor": "white",
            "gridcolor": "#DFE8F3",
            "gridwidth": 2,
            "linecolor": "#EBF0F8",
            "showbackground": true,
            "ticks": "",
            "zerolinecolor": "#EBF0F8"
           }
          },
          "shapedefaults": {
           "line": {
            "color": "#2a3f5f"
           }
          },
          "ternary": {
           "aaxis": {
            "gridcolor": "#DFE8F3",
            "linecolor": "#A2B1C6",
            "ticks": ""
           },
           "baxis": {
            "gridcolor": "#DFE8F3",
            "linecolor": "#A2B1C6",
            "ticks": ""
           },
           "bgcolor": "white",
           "caxis": {
            "gridcolor": "#DFE8F3",
            "linecolor": "#A2B1C6",
            "ticks": ""
           }
          },
          "title": {
           "x": 0.05
          },
          "xaxis": {
           "automargin": true,
           "gridcolor": "#EBF0F8",
           "linecolor": "#EBF0F8",
           "ticks": "",
           "title": {
            "standoff": 15
           },
           "zerolinecolor": "#EBF0F8",
           "zerolinewidth": 2
          },
          "yaxis": {
           "automargin": true,
           "gridcolor": "#EBF0F8",
           "linecolor": "#EBF0F8",
           "ticks": "",
           "title": {
            "standoff": 15
           },
           "zerolinecolor": "#EBF0F8",
           "zerolinewidth": 2
          }
         }
        },
        "xaxis": {
         "anchor": "y",
         "categoryarray": [
          "Euronews",
          "France 24",
          "France Info:",
          "BFM Business",
          "TMC"
         ],
         "categoryorder": "array",
         "domain": [
          0,
          1
         ],
         "tickangle": -45,
         "title": {}
        },
        "yaxis": {
         "anchor": "x",
         "domain": [
          0,
          1
         ],
         "tickformat": "0%",
         "title": {}
        }
       }
      },
      "text/html": [
       "<div>                            <div id=\"627a795b-5699-4b87-bd38-bc6c603fbd1b\" class=\"plotly-graph-div\" style=\"height:500px; width:100%;\"></div>            <script type=\"text/javascript\">                require([\"plotly\"], function(Plotly) {                    window.PLOTLYENV=window.PLOTLYENV || {};                                    if (document.getElementById(\"627a795b-5699-4b87-bd38-bc6c603fbd1b\")) {                    Plotly.newPlot(                        \"627a795b-5699-4b87-bd38-bc6c603fbd1b\",                        [{\"alignmentgroup\":\"True\",\"hovertemplate\":\"media=TV<br>channel_name=%{x}<br>count=%{y}<extra></extra>\",\"legendgroup\":\"TV\",\"marker\":{\"color\":\"rgb(95, 70, 144)\",\"pattern\":{\"shape\":\"\"}},\"name\":\"TV\",\"offsetgroup\":\"TV\",\"orientation\":\"v\",\"showlegend\":true,\"textposition\":\"auto\",\"texttemplate\":\"%{y:.2%}\",\"x\":[\"Euronews\",\"France 24\",\"France Info:\",\"BFM Business\",\"TMC\"],\"xaxis\":\"x\",\"y\":[0.17708333333333334,0.14930555555555555,0.12361111111111112,0.04791666666666667,0.0375],\"yaxis\":\"y\",\"type\":\"bar\"}],                        {\"template\":{\"data\":{\"barpolar\":[{\"marker\":{\"line\":{\"color\":\"white\",\"width\":0.5},\"pattern\":{\"fillmode\":\"overlay\",\"size\":10,\"solidity\":0.2}},\"type\":\"barpolar\"}],\"bar\":[{\"error_x\":{\"color\":\"#2a3f5f\"},\"error_y\":{\"color\":\"#2a3f5f\"},\"marker\":{\"line\":{\"color\":\"white\",\"width\":0.5},\"pattern\":{\"fillmode\":\"overlay\",\"size\":10,\"solidity\":0.2}},\"type\":\"bar\"}],\"carpet\":[{\"aaxis\":{\"endlinecolor\":\"#2a3f5f\",\"gridcolor\":\"#C8D4E3\",\"linecolor\":\"#C8D4E3\",\"minorgridcolor\":\"#C8D4E3\",\"startlinecolor\":\"#2a3f5f\"},\"baxis\":{\"endlinecolor\":\"#2a3f5f\",\"gridcolor\":\"#C8D4E3\",\"linecolor\":\"#C8D4E3\",\"minorgridcolor\":\"#C8D4E3\",\"startlinecolor\":\"#2a3f5f\"},\"type\":\"carpet\"}],\"choropleth\":[{\"colorbar\":{\"outlinewidth\":0,\"ticks\":\"\"},\"type\":\"choropleth\"}],\"contourcarpet\":[{\"colorbar\":{\"outlinewidth\":0,\"ticks\":\"\"},\"type\":\"contourcarpet\"}],\"contour\":[{\"colorbar\":{\"outlinewidth\":0,\"ticks\":\"\"},\"colorscale\":[[0.0,\"#0d0887\"],[0.1111111111111111,\"#46039f\"],[0.2222222222222222,\"#7201a8\"],[0.3333333333333333,\"#9c179e\"],[0.4444444444444444,\"#bd3786\"],[0.5555555555555556,\"#d8576b\"],[0.6666666666666666,\"#ed7953\"],[0.7777777777777778,\"#fb9f3a\"],[0.8888888888888888,\"#fdca26\"],[1.0,\"#f0f921\"]],\"type\":\"contour\"}],\"heatmapgl\":[{\"colorbar\":{\"outlinewidth\":0,\"ticks\":\"\"},\"colorscale\":[[0.0,\"#0d0887\"],[0.1111111111111111,\"#46039f\"],[0.2222222222222222,\"#7201a8\"],[0.3333333333333333,\"#9c179e\"],[0.4444444444444444,\"#bd3786\"],[0.5555555555555556,\"#d8576b\"],[0.6666666666666666,\"#ed7953\"],[0.7777777777777778,\"#fb9f3a\"],[0.8888888888888888,\"#fdca26\"],[1.0,\"#f0f921\"]],\"type\":\"heatmapgl\"}],\"heatmap\":[{\"colorbar\":{\"outlinewidth\":0,\"ticks\":\"\"},\"colorscale\":[[0.0,\"#0d0887\"],[0.1111111111111111,\"#46039f\"],[0.2222222222222222,\"#7201a8\"],[0.3333333333333333,\"#9c179e\"],[0.4444444444444444,\"#bd3786\"],[0.5555555555555556,\"#d8576b\"],[0.6666666666666666,\"#ed7953\"],[0.7777777777777778,\"#fb9f3a\"],[0.8888888888888888,\"#fdca26\"],[1.0,\"#f0f921\"]],\"type\":\"heatmap\"}],\"histogram2dcontour\":[{\"colorbar\":{\"outlinewidth\":0,\"ticks\":\"\"},\"colorscale\":[[0.0,\"#0d0887\"],[0.1111111111111111,\"#46039f\"],[0.2222222222222222,\"#7201a8\"],[0.3333333333333333,\"#9c179e\"],[0.4444444444444444,\"#bd3786\"],[0.5555555555555556,\"#d8576b\"],[0.6666666666666666,\"#ed7953\"],[0.7777777777777778,\"#fb9f3a\"],[0.8888888888888888,\"#fdca26\"],[1.0,\"#f0f921\"]],\"type\":\"histogram2dcontour\"}],\"histogram2d\":[{\"colorbar\":{\"outlinewidth\":0,\"ticks\":\"\"},\"colorscale\":[[0.0,\"#0d0887\"],[0.1111111111111111,\"#46039f\"],[0.2222222222222222,\"#7201a8\"],[0.3333333333333333,\"#9c179e\"],[0.4444444444444444,\"#bd3786\"],[0.5555555555555556,\"#d8576b\"],[0.6666666666666666,\"#ed7953\"],[0.7777777777777778,\"#fb9f3a\"],[0.8888888888888888,\"#fdca26\"],[1.0,\"#f0f921\"]],\"type\":\"histogram2d\"}],\"histogram\":[{\"marker\":{\"pattern\":{\"fillmode\":\"overlay\",\"size\":10,\"solidity\":0.2}},\"type\":\"histogram\"}],\"mesh3d\":[{\"colorbar\":{\"outlinewidth\":0,\"ticks\":\"\"},\"type\":\"mesh3d\"}],\"parcoords\":[{\"line\":{\"colorbar\":{\"outlinewidth\":0,\"ticks\":\"\"}},\"type\":\"parcoords\"}],\"pie\":[{\"automargin\":true,\"type\":\"pie\"}],\"scatter3d\":[{\"line\":{\"colorbar\":{\"outlinewidth\":0,\"ticks\":\"\"}},\"marker\":{\"colorbar\":{\"outlinewidth\":0,\"ticks\":\"\"}},\"type\":\"scatter3d\"}],\"scattercarpet\":[{\"marker\":{\"colorbar\":{\"outlinewidth\":0,\"ticks\":\"\"}},\"type\":\"scattercarpet\"}],\"scattergeo\":[{\"marker\":{\"colorbar\":{\"outlinewidth\":0,\"ticks\":\"\"}},\"type\":\"scattergeo\"}],\"scattergl\":[{\"marker\":{\"colorbar\":{\"outlinewidth\":0,\"ticks\":\"\"}},\"type\":\"scattergl\"}],\"scattermapbox\":[{\"marker\":{\"colorbar\":{\"outlinewidth\":0,\"ticks\":\"\"}},\"type\":\"scattermapbox\"}],\"scatterpolargl\":[{\"marker\":{\"colorbar\":{\"outlinewidth\":0,\"ticks\":\"\"}},\"type\":\"scatterpolargl\"}],\"scatterpolar\":[{\"marker\":{\"colorbar\":{\"outlinewidth\":0,\"ticks\":\"\"}},\"type\":\"scatterpolar\"}],\"scatter\":[{\"fillpattern\":{\"fillmode\":\"overlay\",\"size\":10,\"solidity\":0.2},\"type\":\"scatter\"}],\"scatterternary\":[{\"marker\":{\"colorbar\":{\"outlinewidth\":0,\"ticks\":\"\"}},\"type\":\"scatterternary\"}],\"surface\":[{\"colorbar\":{\"outlinewidth\":0,\"ticks\":\"\"},\"colorscale\":[[0.0,\"#0d0887\"],[0.1111111111111111,\"#46039f\"],[0.2222222222222222,\"#7201a8\"],[0.3333333333333333,\"#9c179e\"],[0.4444444444444444,\"#bd3786\"],[0.5555555555555556,\"#d8576b\"],[0.6666666666666666,\"#ed7953\"],[0.7777777777777778,\"#fb9f3a\"],[0.8888888888888888,\"#fdca26\"],[1.0,\"#f0f921\"]],\"type\":\"surface\"}],\"table\":[{\"cells\":{\"fill\":{\"color\":\"#EBF0F8\"},\"line\":{\"color\":\"white\"}},\"header\":{\"fill\":{\"color\":\"#C8D4E3\"},\"line\":{\"color\":\"white\"}},\"type\":\"table\"}]},\"layout\":{\"annotationdefaults\":{\"arrowcolor\":\"#2a3f5f\",\"arrowhead\":0,\"arrowwidth\":1},\"autotypenumbers\":\"strict\",\"coloraxis\":{\"colorbar\":{\"outlinewidth\":0,\"ticks\":\"\"}},\"colorscale\":{\"diverging\":[[0,\"#8e0152\"],[0.1,\"#c51b7d\"],[0.2,\"#de77ae\"],[0.3,\"#f1b6da\"],[0.4,\"#fde0ef\"],[0.5,\"#f7f7f7\"],[0.6,\"#e6f5d0\"],[0.7,\"#b8e186\"],[0.8,\"#7fbc41\"],[0.9,\"#4d9221\"],[1,\"#276419\"]],\"sequential\":[[0.0,\"#0d0887\"],[0.1111111111111111,\"#46039f\"],[0.2222222222222222,\"#7201a8\"],[0.3333333333333333,\"#9c179e\"],[0.4444444444444444,\"#bd3786\"],[0.5555555555555556,\"#d8576b\"],[0.6666666666666666,\"#ed7953\"],[0.7777777777777778,\"#fb9f3a\"],[0.8888888888888888,\"#fdca26\"],[1.0,\"#f0f921\"]],\"sequentialminus\":[[0.0,\"#0d0887\"],[0.1111111111111111,\"#46039f\"],[0.2222222222222222,\"#7201a8\"],[0.3333333333333333,\"#9c179e\"],[0.4444444444444444,\"#bd3786\"],[0.5555555555555556,\"#d8576b\"],[0.6666666666666666,\"#ed7953\"],[0.7777777777777778,\"#fb9f3a\"],[0.8888888888888888,\"#fdca26\"],[1.0,\"#f0f921\"]]},\"colorway\":[\"#636efa\",\"#EF553B\",\"#00cc96\",\"#ab63fa\",\"#FFA15A\",\"#19d3f3\",\"#FF6692\",\"#B6E880\",\"#FF97FF\",\"#FECB52\"],\"font\":{\"color\":\"#2a3f5f\"},\"geo\":{\"bgcolor\":\"white\",\"lakecolor\":\"white\",\"landcolor\":\"white\",\"showlakes\":true,\"showland\":true,\"subunitcolor\":\"#C8D4E3\"},\"hoverlabel\":{\"align\":\"left\"},\"hovermode\":\"closest\",\"mapbox\":{\"style\":\"light\"},\"paper_bgcolor\":\"white\",\"plot_bgcolor\":\"white\",\"polar\":{\"angularaxis\":{\"gridcolor\":\"#EBF0F8\",\"linecolor\":\"#EBF0F8\",\"ticks\":\"\"},\"bgcolor\":\"white\",\"radialaxis\":{\"gridcolor\":\"#EBF0F8\",\"linecolor\":\"#EBF0F8\",\"ticks\":\"\"}},\"scene\":{\"xaxis\":{\"backgroundcolor\":\"white\",\"gridcolor\":\"#DFE8F3\",\"gridwidth\":2,\"linecolor\":\"#EBF0F8\",\"showbackground\":true,\"ticks\":\"\",\"zerolinecolor\":\"#EBF0F8\"},\"yaxis\":{\"backgroundcolor\":\"white\",\"gridcolor\":\"#DFE8F3\",\"gridwidth\":2,\"linecolor\":\"#EBF0F8\",\"showbackground\":true,\"ticks\":\"\",\"zerolinecolor\":\"#EBF0F8\"},\"zaxis\":{\"backgroundcolor\":\"white\",\"gridcolor\":\"#DFE8F3\",\"gridwidth\":2,\"linecolor\":\"#EBF0F8\",\"showbackground\":true,\"ticks\":\"\",\"zerolinecolor\":\"#EBF0F8\"}},\"shapedefaults\":{\"line\":{\"color\":\"#2a3f5f\"}},\"ternary\":{\"aaxis\":{\"gridcolor\":\"#DFE8F3\",\"linecolor\":\"#A2B1C6\",\"ticks\":\"\"},\"baxis\":{\"gridcolor\":\"#DFE8F3\",\"linecolor\":\"#A2B1C6\",\"ticks\":\"\"},\"bgcolor\":\"white\",\"caxis\":{\"gridcolor\":\"#DFE8F3\",\"linecolor\":\"#A2B1C6\",\"ticks\":\"\"}},\"title\":{\"x\":0.05},\"xaxis\":{\"automargin\":true,\"gridcolor\":\"#EBF0F8\",\"linecolor\":\"#EBF0F8\",\"ticks\":\"\",\"title\":{\"standoff\":15},\"zerolinecolor\":\"#EBF0F8\",\"zerolinewidth\":2},\"yaxis\":{\"automargin\":true,\"gridcolor\":\"#EBF0F8\",\"linecolor\":\"#EBF0F8\",\"ticks\":\"\",\"title\":{\"standoff\":15},\"zerolinecolor\":\"#EBF0F8\",\"zerolinewidth\":2}}},\"xaxis\":{\"anchor\":\"y\",\"domain\":[0.0,1.0],\"title\":{},\"categoryorder\":\"array\",\"categoryarray\":[\"Euronews\",\"France 24\",\"France Info:\",\"BFM Business\",\"TMC\"],\"tickangle\":-45},\"yaxis\":{\"anchor\":\"x\",\"domain\":[0.0,1.0],\"title\":{},\"tickformat\":\"0%\"},\"legend\":{\"title\":{\"text\":\"media\"},\"tracegroupgap\":0},\"margin\":{\"t\":60,\"b\":100},\"barmode\":\"relative\",\"height\":500},                        {\"responsive\": true}                    ).then(function(){\n",
       "                            \n",
       "var gd = document.getElementById('627a795b-5699-4b87-bd38-bc6c603fbd1b');\n",
       "var x = new MutationObserver(function (mutations, observer) {{\n",
       "        var display = window.getComputedStyle(gd).display;\n",
       "        if (!display || display === 'none') {{\n",
       "            console.log([gd, 'removed!']);\n",
       "            Plotly.purge(gd);\n",
       "            observer.disconnect();\n",
       "        }}\n",
       "}});\n",
       "\n",
       "// Listen for the removal of the full notebook cells\n",
       "var notebookContainer = gd.closest('#notebook-container');\n",
       "if (notebookContainer) {{\n",
       "    x.observe(notebookContainer, {childList: true});\n",
       "}}\n",
       "\n",
       "// Listen for the clearing of the current output cell\n",
       "var outputEl = gd.closest('.output');\n",
       "if (outputEl) {{\n",
       "    x.observe(outputEl, {childList: true});\n",
       "}}\n",
       "\n",
       "                        })                };                });            </script>        </div>"
      ]
     },
     "metadata": {}
    },
    {
     "output_type": "display_data",
     "data": {
      "application/vnd.plotly.v1+json": {
       "config": {
        "plotlyServerURL": "https://plot.ly"
       },
       "data": [
        {
         "alignmentgroup": "True",
         "hovertemplate": "media=TV<br>channel_name=%{x}<br>count=%{y}<extra></extra>",
         "legendgroup": "TV",
         "marker": {
          "color": "rgb(95, 70, 144)",
          "pattern": {
           "shape": ""
          }
         },
         "name": "TV",
         "offsetgroup": "TV",
         "orientation": "v",
         "showlegend": true,
         "textposition": "auto",
         "texttemplate": "%{y:.2%}",
         "type": "bar",
         "x": [
          "Euronews",
          "France 24",
          "France Info:",
          "BFM Business",
          "TMC",
          "Arte",
          "France 5",
          "BFM Grand Littoral",
          "Grand Lille TV",
          "France 2",
          "BFM Lyon",
          "TF1",
          "France 3 Idf",
          "BFMTV",
          "France 3 Nord-Pas-de-Calais",
          "B Smart TV",
          "Provence Azur",
          "LCI",
          "France 3 Bretagne",
          "Tébésud",
          "M6",
          "Tébéo",
          "France 3 Picardie",
          "CNEWS",
          "France 3 Poitou Charentes",
          "TV5Monde",
          "viàOccitanie",
          "Moselle TV",
          "LCP",
          "France 3 Basse Normandie"
         ],
         "xaxis": "x",
         "y": [
          0.17708333333333334,
          0.14930555555555555,
          0.12361111111111112,
          0.04791666666666667,
          0.0375,
          0.035416666666666666,
          0.027083333333333334,
          0.02638888888888889,
          0.025,
          0.022222222222222223,
          0.022222222222222223,
          0.019444444444444445,
          0.019444444444444445,
          0.018055555555555557,
          0.015277777777777779,
          0.015277777777777779,
          0.01388888888888889,
          0.01388888888888889,
          0.01388888888888889,
          0.013194444444444444,
          0.0125,
          0.011805555555555555,
          0.011805555555555555,
          0.011111111111111112,
          0.011111111111111112,
          0.009722222222222222,
          0.0076388888888888895,
          0.006944444444444445,
          0.006944444444444445,
          0.00625
         ],
         "yaxis": "y"
        }
       ],
       "layout": {
        "barmode": "relative",
        "height": 500,
        "legend": {
         "title": {
          "text": "media"
         },
         "tracegroupgap": 0
        },
        "margin": {
         "b": 100,
         "t": 60
        },
        "template": {
         "data": {
          "bar": [
           {
            "error_x": {
             "color": "#2a3f5f"
            },
            "error_y": {
             "color": "#2a3f5f"
            },
            "marker": {
             "line": {
              "color": "white",
              "width": 0.5
             },
             "pattern": {
              "fillmode": "overlay",
              "size": 10,
              "solidity": 0.2
             }
            },
            "type": "bar"
           }
          ],
          "barpolar": [
           {
            "marker": {
             "line": {
              "color": "white",
              "width": 0.5
             },
             "pattern": {
              "fillmode": "overlay",
              "size": 10,
              "solidity": 0.2
             }
            },
            "type": "barpolar"
           }
          ],
          "carpet": [
           {
            "aaxis": {
             "endlinecolor": "#2a3f5f",
             "gridcolor": "#C8D4E3",
             "linecolor": "#C8D4E3",
             "minorgridcolor": "#C8D4E3",
             "startlinecolor": "#2a3f5f"
            },
            "baxis": {
             "endlinecolor": "#2a3f5f",
             "gridcolor": "#C8D4E3",
             "linecolor": "#C8D4E3",
             "minorgridcolor": "#C8D4E3",
             "startlinecolor": "#2a3f5f"
            },
            "type": "carpet"
           }
          ],
          "choropleth": [
           {
            "colorbar": {
             "outlinewidth": 0,
             "ticks": ""
            },
            "type": "choropleth"
           }
          ],
          "contour": [
           {
            "colorbar": {
             "outlinewidth": 0,
             "ticks": ""
            },
            "colorscale": [
             [
              0,
              "#0d0887"
             ],
             [
              0.1111111111111111,
              "#46039f"
             ],
             [
              0.2222222222222222,
              "#7201a8"
             ],
             [
              0.3333333333333333,
              "#9c179e"
             ],
             [
              0.4444444444444444,
              "#bd3786"
             ],
             [
              0.5555555555555556,
              "#d8576b"
             ],
             [
              0.6666666666666666,
              "#ed7953"
             ],
             [
              0.7777777777777778,
              "#fb9f3a"
             ],
             [
              0.8888888888888888,
              "#fdca26"
             ],
             [
              1,
              "#f0f921"
             ]
            ],
            "type": "contour"
           }
          ],
          "contourcarpet": [
           {
            "colorbar": {
             "outlinewidth": 0,
             "ticks": ""
            },
            "type": "contourcarpet"
           }
          ],
          "heatmap": [
           {
            "colorbar": {
             "outlinewidth": 0,
             "ticks": ""
            },
            "colorscale": [
             [
              0,
              "#0d0887"
             ],
             [
              0.1111111111111111,
              "#46039f"
             ],
             [
              0.2222222222222222,
              "#7201a8"
             ],
             [
              0.3333333333333333,
              "#9c179e"
             ],
             [
              0.4444444444444444,
              "#bd3786"
             ],
             [
              0.5555555555555556,
              "#d8576b"
             ],
             [
              0.6666666666666666,
              "#ed7953"
             ],
             [
              0.7777777777777778,
              "#fb9f3a"
             ],
             [
              0.8888888888888888,
              "#fdca26"
             ],
             [
              1,
              "#f0f921"
             ]
            ],
            "type": "heatmap"
           }
          ],
          "heatmapgl": [
           {
            "colorbar": {
             "outlinewidth": 0,
             "ticks": ""
            },
            "colorscale": [
             [
              0,
              "#0d0887"
             ],
             [
              0.1111111111111111,
              "#46039f"
             ],
             [
              0.2222222222222222,
              "#7201a8"
             ],
             [
              0.3333333333333333,
              "#9c179e"
             ],
             [
              0.4444444444444444,
              "#bd3786"
             ],
             [
              0.5555555555555556,
              "#d8576b"
             ],
             [
              0.6666666666666666,
              "#ed7953"
             ],
             [
              0.7777777777777778,
              "#fb9f3a"
             ],
             [
              0.8888888888888888,
              "#fdca26"
             ],
             [
              1,
              "#f0f921"
             ]
            ],
            "type": "heatmapgl"
           }
          ],
          "histogram": [
           {
            "marker": {
             "pattern": {
              "fillmode": "overlay",
              "size": 10,
              "solidity": 0.2
             }
            },
            "type": "histogram"
           }
          ],
          "histogram2d": [
           {
            "colorbar": {
             "outlinewidth": 0,
             "ticks": ""
            },
            "colorscale": [
             [
              0,
              "#0d0887"
             ],
             [
              0.1111111111111111,
              "#46039f"
             ],
             [
              0.2222222222222222,
              "#7201a8"
             ],
             [
              0.3333333333333333,
              "#9c179e"
             ],
             [
              0.4444444444444444,
              "#bd3786"
             ],
             [
              0.5555555555555556,
              "#d8576b"
             ],
             [
              0.6666666666666666,
              "#ed7953"
             ],
             [
              0.7777777777777778,
              "#fb9f3a"
             ],
             [
              0.8888888888888888,
              "#fdca26"
             ],
             [
              1,
              "#f0f921"
             ]
            ],
            "type": "histogram2d"
           }
          ],
          "histogram2dcontour": [
           {
            "colorbar": {
             "outlinewidth": 0,
             "ticks": ""
            },
            "colorscale": [
             [
              0,
              "#0d0887"
             ],
             [
              0.1111111111111111,
              "#46039f"
             ],
             [
              0.2222222222222222,
              "#7201a8"
             ],
             [
              0.3333333333333333,
              "#9c179e"
             ],
             [
              0.4444444444444444,
              "#bd3786"
             ],
             [
              0.5555555555555556,
              "#d8576b"
             ],
             [
              0.6666666666666666,
              "#ed7953"
             ],
             [
              0.7777777777777778,
              "#fb9f3a"
             ],
             [
              0.8888888888888888,
              "#fdca26"
             ],
             [
              1,
              "#f0f921"
             ]
            ],
            "type": "histogram2dcontour"
           }
          ],
          "mesh3d": [
           {
            "colorbar": {
             "outlinewidth": 0,
             "ticks": ""
            },
            "type": "mesh3d"
           }
          ],
          "parcoords": [
           {
            "line": {
             "colorbar": {
              "outlinewidth": 0,
              "ticks": ""
             }
            },
            "type": "parcoords"
           }
          ],
          "pie": [
           {
            "automargin": true,
            "type": "pie"
           }
          ],
          "scatter": [
           {
            "fillpattern": {
             "fillmode": "overlay",
             "size": 10,
             "solidity": 0.2
            },
            "type": "scatter"
           }
          ],
          "scatter3d": [
           {
            "line": {
             "colorbar": {
              "outlinewidth": 0,
              "ticks": ""
             }
            },
            "marker": {
             "colorbar": {
              "outlinewidth": 0,
              "ticks": ""
             }
            },
            "type": "scatter3d"
           }
          ],
          "scattercarpet": [
           {
            "marker": {
             "colorbar": {
              "outlinewidth": 0,
              "ticks": ""
             }
            },
            "type": "scattercarpet"
           }
          ],
          "scattergeo": [
           {
            "marker": {
             "colorbar": {
              "outlinewidth": 0,
              "ticks": ""
             }
            },
            "type": "scattergeo"
           }
          ],
          "scattergl": [
           {
            "marker": {
             "colorbar": {
              "outlinewidth": 0,
              "ticks": ""
             }
            },
            "type": "scattergl"
           }
          ],
          "scattermapbox": [
           {
            "marker": {
             "colorbar": {
              "outlinewidth": 0,
              "ticks": ""
             }
            },
            "type": "scattermapbox"
           }
          ],
          "scatterpolar": [
           {
            "marker": {
             "colorbar": {
              "outlinewidth": 0,
              "ticks": ""
             }
            },
            "type": "scatterpolar"
           }
          ],
          "scatterpolargl": [
           {
            "marker": {
             "colorbar": {
              "outlinewidth": 0,
              "ticks": ""
             }
            },
            "type": "scatterpolargl"
           }
          ],
          "scatterternary": [
           {
            "marker": {
             "colorbar": {
              "outlinewidth": 0,
              "ticks": ""
             }
            },
            "type": "scatterternary"
           }
          ],
          "surface": [
           {
            "colorbar": {
             "outlinewidth": 0,
             "ticks": ""
            },
            "colorscale": [
             [
              0,
              "#0d0887"
             ],
             [
              0.1111111111111111,
              "#46039f"
             ],
             [
              0.2222222222222222,
              "#7201a8"
             ],
             [
              0.3333333333333333,
              "#9c179e"
             ],
             [
              0.4444444444444444,
              "#bd3786"
             ],
             [
              0.5555555555555556,
              "#d8576b"
             ],
             [
              0.6666666666666666,
              "#ed7953"
             ],
             [
              0.7777777777777778,
              "#fb9f3a"
             ],
             [
              0.8888888888888888,
              "#fdca26"
             ],
             [
              1,
              "#f0f921"
             ]
            ],
            "type": "surface"
           }
          ],
          "table": [
           {
            "cells": {
             "fill": {
              "color": "#EBF0F8"
             },
             "line": {
              "color": "white"
             }
            },
            "header": {
             "fill": {
              "color": "#C8D4E3"
             },
             "line": {
              "color": "white"
             }
            },
            "type": "table"
           }
          ]
         },
         "layout": {
          "annotationdefaults": {
           "arrowcolor": "#2a3f5f",
           "arrowhead": 0,
           "arrowwidth": 1
          },
          "autotypenumbers": "strict",
          "coloraxis": {
           "colorbar": {
            "outlinewidth": 0,
            "ticks": ""
           }
          },
          "colorscale": {
           "diverging": [
            [
             0,
             "#8e0152"
            ],
            [
             0.1,
             "#c51b7d"
            ],
            [
             0.2,
             "#de77ae"
            ],
            [
             0.3,
             "#f1b6da"
            ],
            [
             0.4,
             "#fde0ef"
            ],
            [
             0.5,
             "#f7f7f7"
            ],
            [
             0.6,
             "#e6f5d0"
            ],
            [
             0.7,
             "#b8e186"
            ],
            [
             0.8,
             "#7fbc41"
            ],
            [
             0.9,
             "#4d9221"
            ],
            [
             1,
             "#276419"
            ]
           ],
           "sequential": [
            [
             0,
             "#0d0887"
            ],
            [
             0.1111111111111111,
             "#46039f"
            ],
            [
             0.2222222222222222,
             "#7201a8"
            ],
            [
             0.3333333333333333,
             "#9c179e"
            ],
            [
             0.4444444444444444,
             "#bd3786"
            ],
            [
             0.5555555555555556,
             "#d8576b"
            ],
            [
             0.6666666666666666,
             "#ed7953"
            ],
            [
             0.7777777777777778,
             "#fb9f3a"
            ],
            [
             0.8888888888888888,
             "#fdca26"
            ],
            [
             1,
             "#f0f921"
            ]
           ],
           "sequentialminus": [
            [
             0,
             "#0d0887"
            ],
            [
             0.1111111111111111,
             "#46039f"
            ],
            [
             0.2222222222222222,
             "#7201a8"
            ],
            [
             0.3333333333333333,
             "#9c179e"
            ],
            [
             0.4444444444444444,
             "#bd3786"
            ],
            [
             0.5555555555555556,
             "#d8576b"
            ],
            [
             0.6666666666666666,
             "#ed7953"
            ],
            [
             0.7777777777777778,
             "#fb9f3a"
            ],
            [
             0.8888888888888888,
             "#fdca26"
            ],
            [
             1,
             "#f0f921"
            ]
           ]
          },
          "colorway": [
           "#636efa",
           "#EF553B",
           "#00cc96",
           "#ab63fa",
           "#FFA15A",
           "#19d3f3",
           "#FF6692",
           "#B6E880",
           "#FF97FF",
           "#FECB52"
          ],
          "font": {
           "color": "#2a3f5f"
          },
          "geo": {
           "bgcolor": "white",
           "lakecolor": "white",
           "landcolor": "white",
           "showlakes": true,
           "showland": true,
           "subunitcolor": "#C8D4E3"
          },
          "hoverlabel": {
           "align": "left"
          },
          "hovermode": "closest",
          "mapbox": {
           "style": "light"
          },
          "paper_bgcolor": "white",
          "plot_bgcolor": "white",
          "polar": {
           "angularaxis": {
            "gridcolor": "#EBF0F8",
            "linecolor": "#EBF0F8",
            "ticks": ""
           },
           "bgcolor": "white",
           "radialaxis": {
            "gridcolor": "#EBF0F8",
            "linecolor": "#EBF0F8",
            "ticks": ""
           }
          },
          "scene": {
           "xaxis": {
            "backgroundcolor": "white",
            "gridcolor": "#DFE8F3",
            "gridwidth": 2,
            "linecolor": "#EBF0F8",
            "showbackground": true,
            "ticks": "",
            "zerolinecolor": "#EBF0F8"
           },
           "yaxis": {
            "backgroundcolor": "white",
            "gridcolor": "#DFE8F3",
            "gridwidth": 2,
            "linecolor": "#EBF0F8",
            "showbackground": true,
            "ticks": "",
            "zerolinecolor": "#EBF0F8"
           },
           "zaxis": {
            "backgroundcolor": "white",
            "gridcolor": "#DFE8F3",
            "gridwidth": 2,
            "linecolor": "#EBF0F8",
            "showbackground": true,
            "ticks": "",
            "zerolinecolor": "#EBF0F8"
           }
          },
          "shapedefaults": {
           "line": {
            "color": "#2a3f5f"
           }
          },
          "ternary": {
           "aaxis": {
            "gridcolor": "#DFE8F3",
            "linecolor": "#A2B1C6",
            "ticks": ""
           },
           "baxis": {
            "gridcolor": "#DFE8F3",
            "linecolor": "#A2B1C6",
            "ticks": ""
           },
           "bgcolor": "white",
           "caxis": {
            "gridcolor": "#DFE8F3",
            "linecolor": "#A2B1C6",
            "ticks": ""
           }
          },
          "title": {
           "x": 0.05
          },
          "xaxis": {
           "automargin": true,
           "gridcolor": "#EBF0F8",
           "linecolor": "#EBF0F8",
           "ticks": "",
           "title": {
            "standoff": 15
           },
           "zerolinecolor": "#EBF0F8",
           "zerolinewidth": 2
          },
          "yaxis": {
           "automargin": true,
           "gridcolor": "#EBF0F8",
           "linecolor": "#EBF0F8",
           "ticks": "",
           "title": {
            "standoff": 15
           },
           "zerolinecolor": "#EBF0F8",
           "zerolinewidth": 2
          }
         }
        },
        "xaxis": {
         "anchor": "y",
         "categoryarray": [
          "Euronews",
          "France 24",
          "France Info:",
          "BFM Business",
          "TMC",
          "Arte",
          "France 5",
          "BFM Grand Littoral",
          "Grand Lille TV",
          "France 2",
          "BFM Lyon",
          "TF1",
          "France 3 Idf",
          "BFMTV",
          "France 3 Nord-Pas-de-Calais",
          "B Smart TV",
          "Provence Azur",
          "LCI",
          "France 3 Bretagne",
          "Tébésud",
          "M6",
          "Tébéo",
          "France 3 Picardie",
          "CNEWS",
          "France 3 Poitou Charentes",
          "TV5Monde",
          "viàOccitanie",
          "Moselle TV",
          "LCP",
          "France 3 Basse Normandie"
         ],
         "categoryorder": "array",
         "domain": [
          0,
          1
         ],
         "tickangle": -45,
         "title": {}
        },
        "yaxis": {
         "anchor": "x",
         "domain": [
          0,
          1
         ],
         "tickformat": "0%",
         "title": {}
        }
       }
      },
      "text/html": [
       "<div>                            <div id=\"52663e35-b9a3-400e-a4cd-b601ed6fa7ad\" class=\"plotly-graph-div\" style=\"height:500px; width:100%;\"></div>            <script type=\"text/javascript\">                require([\"plotly\"], function(Plotly) {                    window.PLOTLYENV=window.PLOTLYENV || {};                                    if (document.getElementById(\"52663e35-b9a3-400e-a4cd-b601ed6fa7ad\")) {                    Plotly.newPlot(                        \"52663e35-b9a3-400e-a4cd-b601ed6fa7ad\",                        [{\"alignmentgroup\":\"True\",\"hovertemplate\":\"media=TV<br>channel_name=%{x}<br>count=%{y}<extra></extra>\",\"legendgroup\":\"TV\",\"marker\":{\"color\":\"rgb(95, 70, 144)\",\"pattern\":{\"shape\":\"\"}},\"name\":\"TV\",\"offsetgroup\":\"TV\",\"orientation\":\"v\",\"showlegend\":true,\"textposition\":\"auto\",\"texttemplate\":\"%{y:.2%}\",\"x\":[\"Euronews\",\"France 24\",\"France Info:\",\"BFM Business\",\"TMC\",\"Arte\",\"France 5\",\"BFM Grand Littoral\",\"Grand Lille TV\",\"France 2\",\"BFM Lyon\",\"TF1\",\"France 3 Idf\",\"BFMTV\",\"France 3 Nord-Pas-de-Calais\",\"B Smart TV\",\"Provence Azur\",\"LCI\",\"France 3 Bretagne\",\"T\\u00e9b\\u00e9sud\",\"M6\",\"T\\u00e9b\\u00e9o\",\"France 3 Picardie\",\"CNEWS\",\"France 3 Poitou Charentes\",\"TV5Monde\",\"vi\\u00e0Occitanie\",\"Moselle TV\",\"LCP\",\"France 3 Basse Normandie\"],\"xaxis\":\"x\",\"y\":[0.17708333333333334,0.14930555555555555,0.12361111111111112,0.04791666666666667,0.0375,0.035416666666666666,0.027083333333333334,0.02638888888888889,0.025,0.022222222222222223,0.022222222222222223,0.019444444444444445,0.019444444444444445,0.018055555555555557,0.015277777777777779,0.015277777777777779,0.01388888888888889,0.01388888888888889,0.01388888888888889,0.013194444444444444,0.0125,0.011805555555555555,0.011805555555555555,0.011111111111111112,0.011111111111111112,0.009722222222222222,0.0076388888888888895,0.006944444444444445,0.006944444444444445,0.00625],\"yaxis\":\"y\",\"type\":\"bar\"}],                        {\"template\":{\"data\":{\"barpolar\":[{\"marker\":{\"line\":{\"color\":\"white\",\"width\":0.5},\"pattern\":{\"fillmode\":\"overlay\",\"size\":10,\"solidity\":0.2}},\"type\":\"barpolar\"}],\"bar\":[{\"error_x\":{\"color\":\"#2a3f5f\"},\"error_y\":{\"color\":\"#2a3f5f\"},\"marker\":{\"line\":{\"color\":\"white\",\"width\":0.5},\"pattern\":{\"fillmode\":\"overlay\",\"size\":10,\"solidity\":0.2}},\"type\":\"bar\"}],\"carpet\":[{\"aaxis\":{\"endlinecolor\":\"#2a3f5f\",\"gridcolor\":\"#C8D4E3\",\"linecolor\":\"#C8D4E3\",\"minorgridcolor\":\"#C8D4E3\",\"startlinecolor\":\"#2a3f5f\"},\"baxis\":{\"endlinecolor\":\"#2a3f5f\",\"gridcolor\":\"#C8D4E3\",\"linecolor\":\"#C8D4E3\",\"minorgridcolor\":\"#C8D4E3\",\"startlinecolor\":\"#2a3f5f\"},\"type\":\"carpet\"}],\"choropleth\":[{\"colorbar\":{\"outlinewidth\":0,\"ticks\":\"\"},\"type\":\"choropleth\"}],\"contourcarpet\":[{\"colorbar\":{\"outlinewidth\":0,\"ticks\":\"\"},\"type\":\"contourcarpet\"}],\"contour\":[{\"colorbar\":{\"outlinewidth\":0,\"ticks\":\"\"},\"colorscale\":[[0.0,\"#0d0887\"],[0.1111111111111111,\"#46039f\"],[0.2222222222222222,\"#7201a8\"],[0.3333333333333333,\"#9c179e\"],[0.4444444444444444,\"#bd3786\"],[0.5555555555555556,\"#d8576b\"],[0.6666666666666666,\"#ed7953\"],[0.7777777777777778,\"#fb9f3a\"],[0.8888888888888888,\"#fdca26\"],[1.0,\"#f0f921\"]],\"type\":\"contour\"}],\"heatmapgl\":[{\"colorbar\":{\"outlinewidth\":0,\"ticks\":\"\"},\"colorscale\":[[0.0,\"#0d0887\"],[0.1111111111111111,\"#46039f\"],[0.2222222222222222,\"#7201a8\"],[0.3333333333333333,\"#9c179e\"],[0.4444444444444444,\"#bd3786\"],[0.5555555555555556,\"#d8576b\"],[0.6666666666666666,\"#ed7953\"],[0.7777777777777778,\"#fb9f3a\"],[0.8888888888888888,\"#fdca26\"],[1.0,\"#f0f921\"]],\"type\":\"heatmapgl\"}],\"heatmap\":[{\"colorbar\":{\"outlinewidth\":0,\"ticks\":\"\"},\"colorscale\":[[0.0,\"#0d0887\"],[0.1111111111111111,\"#46039f\"],[0.2222222222222222,\"#7201a8\"],[0.3333333333333333,\"#9c179e\"],[0.4444444444444444,\"#bd3786\"],[0.5555555555555556,\"#d8576b\"],[0.6666666666666666,\"#ed7953\"],[0.7777777777777778,\"#fb9f3a\"],[0.8888888888888888,\"#fdca26\"],[1.0,\"#f0f921\"]],\"type\":\"heatmap\"}],\"histogram2dcontour\":[{\"colorbar\":{\"outlinewidth\":0,\"ticks\":\"\"},\"colorscale\":[[0.0,\"#0d0887\"],[0.1111111111111111,\"#46039f\"],[0.2222222222222222,\"#7201a8\"],[0.3333333333333333,\"#9c179e\"],[0.4444444444444444,\"#bd3786\"],[0.5555555555555556,\"#d8576b\"],[0.6666666666666666,\"#ed7953\"],[0.7777777777777778,\"#fb9f3a\"],[0.8888888888888888,\"#fdca26\"],[1.0,\"#f0f921\"]],\"type\":\"histogram2dcontour\"}],\"histogram2d\":[{\"colorbar\":{\"outlinewidth\":0,\"ticks\":\"\"},\"colorscale\":[[0.0,\"#0d0887\"],[0.1111111111111111,\"#46039f\"],[0.2222222222222222,\"#7201a8\"],[0.3333333333333333,\"#9c179e\"],[0.4444444444444444,\"#bd3786\"],[0.5555555555555556,\"#d8576b\"],[0.6666666666666666,\"#ed7953\"],[0.7777777777777778,\"#fb9f3a\"],[0.8888888888888888,\"#fdca26\"],[1.0,\"#f0f921\"]],\"type\":\"histogram2d\"}],\"histogram\":[{\"marker\":{\"pattern\":{\"fillmode\":\"overlay\",\"size\":10,\"solidity\":0.2}},\"type\":\"histogram\"}],\"mesh3d\":[{\"colorbar\":{\"outlinewidth\":0,\"ticks\":\"\"},\"type\":\"mesh3d\"}],\"parcoords\":[{\"line\":{\"colorbar\":{\"outlinewidth\":0,\"ticks\":\"\"}},\"type\":\"parcoords\"}],\"pie\":[{\"automargin\":true,\"type\":\"pie\"}],\"scatter3d\":[{\"line\":{\"colorbar\":{\"outlinewidth\":0,\"ticks\":\"\"}},\"marker\":{\"colorbar\":{\"outlinewidth\":0,\"ticks\":\"\"}},\"type\":\"scatter3d\"}],\"scattercarpet\":[{\"marker\":{\"colorbar\":{\"outlinewidth\":0,\"ticks\":\"\"}},\"type\":\"scattercarpet\"}],\"scattergeo\":[{\"marker\":{\"colorbar\":{\"outlinewidth\":0,\"ticks\":\"\"}},\"type\":\"scattergeo\"}],\"scattergl\":[{\"marker\":{\"colorbar\":{\"outlinewidth\":0,\"ticks\":\"\"}},\"type\":\"scattergl\"}],\"scattermapbox\":[{\"marker\":{\"colorbar\":{\"outlinewidth\":0,\"ticks\":\"\"}},\"type\":\"scattermapbox\"}],\"scatterpolargl\":[{\"marker\":{\"colorbar\":{\"outlinewidth\":0,\"ticks\":\"\"}},\"type\":\"scatterpolargl\"}],\"scatterpolar\":[{\"marker\":{\"colorbar\":{\"outlinewidth\":0,\"ticks\":\"\"}},\"type\":\"scatterpolar\"}],\"scatter\":[{\"fillpattern\":{\"fillmode\":\"overlay\",\"size\":10,\"solidity\":0.2},\"type\":\"scatter\"}],\"scatterternary\":[{\"marker\":{\"colorbar\":{\"outlinewidth\":0,\"ticks\":\"\"}},\"type\":\"scatterternary\"}],\"surface\":[{\"colorbar\":{\"outlinewidth\":0,\"ticks\":\"\"},\"colorscale\":[[0.0,\"#0d0887\"],[0.1111111111111111,\"#46039f\"],[0.2222222222222222,\"#7201a8\"],[0.3333333333333333,\"#9c179e\"],[0.4444444444444444,\"#bd3786\"],[0.5555555555555556,\"#d8576b\"],[0.6666666666666666,\"#ed7953\"],[0.7777777777777778,\"#fb9f3a\"],[0.8888888888888888,\"#fdca26\"],[1.0,\"#f0f921\"]],\"type\":\"surface\"}],\"table\":[{\"cells\":{\"fill\":{\"color\":\"#EBF0F8\"},\"line\":{\"color\":\"white\"}},\"header\":{\"fill\":{\"color\":\"#C8D4E3\"},\"line\":{\"color\":\"white\"}},\"type\":\"table\"}]},\"layout\":{\"annotationdefaults\":{\"arrowcolor\":\"#2a3f5f\",\"arrowhead\":0,\"arrowwidth\":1},\"autotypenumbers\":\"strict\",\"coloraxis\":{\"colorbar\":{\"outlinewidth\":0,\"ticks\":\"\"}},\"colorscale\":{\"diverging\":[[0,\"#8e0152\"],[0.1,\"#c51b7d\"],[0.2,\"#de77ae\"],[0.3,\"#f1b6da\"],[0.4,\"#fde0ef\"],[0.5,\"#f7f7f7\"],[0.6,\"#e6f5d0\"],[0.7,\"#b8e186\"],[0.8,\"#7fbc41\"],[0.9,\"#4d9221\"],[1,\"#276419\"]],\"sequential\":[[0.0,\"#0d0887\"],[0.1111111111111111,\"#46039f\"],[0.2222222222222222,\"#7201a8\"],[0.3333333333333333,\"#9c179e\"],[0.4444444444444444,\"#bd3786\"],[0.5555555555555556,\"#d8576b\"],[0.6666666666666666,\"#ed7953\"],[0.7777777777777778,\"#fb9f3a\"],[0.8888888888888888,\"#fdca26\"],[1.0,\"#f0f921\"]],\"sequentialminus\":[[0.0,\"#0d0887\"],[0.1111111111111111,\"#46039f\"],[0.2222222222222222,\"#7201a8\"],[0.3333333333333333,\"#9c179e\"],[0.4444444444444444,\"#bd3786\"],[0.5555555555555556,\"#d8576b\"],[0.6666666666666666,\"#ed7953\"],[0.7777777777777778,\"#fb9f3a\"],[0.8888888888888888,\"#fdca26\"],[1.0,\"#f0f921\"]]},\"colorway\":[\"#636efa\",\"#EF553B\",\"#00cc96\",\"#ab63fa\",\"#FFA15A\",\"#19d3f3\",\"#FF6692\",\"#B6E880\",\"#FF97FF\",\"#FECB52\"],\"font\":{\"color\":\"#2a3f5f\"},\"geo\":{\"bgcolor\":\"white\",\"lakecolor\":\"white\",\"landcolor\":\"white\",\"showlakes\":true,\"showland\":true,\"subunitcolor\":\"#C8D4E3\"},\"hoverlabel\":{\"align\":\"left\"},\"hovermode\":\"closest\",\"mapbox\":{\"style\":\"light\"},\"paper_bgcolor\":\"white\",\"plot_bgcolor\":\"white\",\"polar\":{\"angularaxis\":{\"gridcolor\":\"#EBF0F8\",\"linecolor\":\"#EBF0F8\",\"ticks\":\"\"},\"bgcolor\":\"white\",\"radialaxis\":{\"gridcolor\":\"#EBF0F8\",\"linecolor\":\"#EBF0F8\",\"ticks\":\"\"}},\"scene\":{\"xaxis\":{\"backgroundcolor\":\"white\",\"gridcolor\":\"#DFE8F3\",\"gridwidth\":2,\"linecolor\":\"#EBF0F8\",\"showbackground\":true,\"ticks\":\"\",\"zerolinecolor\":\"#EBF0F8\"},\"yaxis\":{\"backgroundcolor\":\"white\",\"gridcolor\":\"#DFE8F3\",\"gridwidth\":2,\"linecolor\":\"#EBF0F8\",\"showbackground\":true,\"ticks\":\"\",\"zerolinecolor\":\"#EBF0F8\"},\"zaxis\":{\"backgroundcolor\":\"white\",\"gridcolor\":\"#DFE8F3\",\"gridwidth\":2,\"linecolor\":\"#EBF0F8\",\"showbackground\":true,\"ticks\":\"\",\"zerolinecolor\":\"#EBF0F8\"}},\"shapedefaults\":{\"line\":{\"color\":\"#2a3f5f\"}},\"ternary\":{\"aaxis\":{\"gridcolor\":\"#DFE8F3\",\"linecolor\":\"#A2B1C6\",\"ticks\":\"\"},\"baxis\":{\"gridcolor\":\"#DFE8F3\",\"linecolor\":\"#A2B1C6\",\"ticks\":\"\"},\"bgcolor\":\"white\",\"caxis\":{\"gridcolor\":\"#DFE8F3\",\"linecolor\":\"#A2B1C6\",\"ticks\":\"\"}},\"title\":{\"x\":0.05},\"xaxis\":{\"automargin\":true,\"gridcolor\":\"#EBF0F8\",\"linecolor\":\"#EBF0F8\",\"ticks\":\"\",\"title\":{\"standoff\":15},\"zerolinecolor\":\"#EBF0F8\",\"zerolinewidth\":2},\"yaxis\":{\"automargin\":true,\"gridcolor\":\"#EBF0F8\",\"linecolor\":\"#EBF0F8\",\"ticks\":\"\",\"title\":{\"standoff\":15},\"zerolinecolor\":\"#EBF0F8\",\"zerolinewidth\":2}}},\"xaxis\":{\"anchor\":\"y\",\"domain\":[0.0,1.0],\"title\":{},\"categoryorder\":\"array\",\"categoryarray\":[\"Euronews\",\"France 24\",\"France Info:\",\"BFM Business\",\"TMC\",\"Arte\",\"France 5\",\"BFM Grand Littoral\",\"Grand Lille TV\",\"France 2\",\"BFM Lyon\",\"TF1\",\"France 3 Idf\",\"BFMTV\",\"France 3 Nord-Pas-de-Calais\",\"B Smart TV\",\"Provence Azur\",\"LCI\",\"France 3 Bretagne\",\"T\\u00e9b\\u00e9sud\",\"M6\",\"T\\u00e9b\\u00e9o\",\"France 3 Picardie\",\"CNEWS\",\"France 3 Poitou Charentes\",\"TV5Monde\",\"vi\\u00e0Occitanie\",\"Moselle TV\",\"LCP\",\"France 3 Basse Normandie\"],\"tickangle\":-45},\"yaxis\":{\"anchor\":\"x\",\"domain\":[0.0,1.0],\"title\":{},\"tickformat\":\"0%\"},\"legend\":{\"title\":{\"text\":\"media\"},\"tracegroupgap\":0},\"margin\":{\"t\":60,\"b\":100},\"barmode\":\"relative\",\"height\":500},                        {\"responsive\": true}                    ).then(function(){\n",
       "                            \n",
       "var gd = document.getElementById('52663e35-b9a3-400e-a4cd-b601ed6fa7ad');\n",
       "var x = new MutationObserver(function (mutations, observer) {{\n",
       "        var display = window.getComputedStyle(gd).display;\n",
       "        if (!display || display === 'none') {{\n",
       "            console.log([gd, 'removed!']);\n",
       "            Plotly.purge(gd);\n",
       "            observer.disconnect();\n",
       "        }}\n",
       "}});\n",
       "\n",
       "// Listen for the removal of the full notebook cells\n",
       "var notebookContainer = gd.closest('#notebook-container');\n",
       "if (notebookContainer) {{\n",
       "    x.observe(notebookContainer, {childList: true});\n",
       "}}\n",
       "\n",
       "// Listen for the clearing of the current output cell\n",
       "var outputEl = gd.closest('.output');\n",
       "if (outputEl) {{\n",
       "    x.observe(outputEl, {childList: true});\n",
       "}}\n",
       "\n",
       "                        })                };                });            </script>        </div>"
      ]
     },
     "metadata": {}
    }
   ],
   "metadata": {}
  },
  {
   "cell_type": "code",
   "execution_count": 127,
   "source": [
    "# Multiplier is 2min / (3h * 60min * n_days)\n",
    "show_mentions_by_channel(\n",
    "    data_tv,\n",
    "    method = 2 / (3 * 60 * n_days),\n",
    "    list_of_channels = TOP_CHANNELS_TV,\n",
    "    text_auto = \".1%\"\n",
    ").update_layout(yaxis_tickformat='0%').show()"
   ],
   "outputs": [
    {
     "output_type": "display_data",
     "data": {
      "application/vnd.plotly.v1+json": {
       "config": {
        "plotlyServerURL": "https://plot.ly"
       },
       "data": [
        {
         "alignmentgroup": "True",
         "hovertemplate": "media=TV<br>channel_name=%{x}<br>count=%{y}<extra></extra>",
         "legendgroup": "TV",
         "marker": {
          "color": "rgb(95, 70, 144)",
          "pattern": {
           "shape": ""
          }
         },
         "name": "TV",
         "offsetgroup": "TV",
         "orientation": "v",
         "showlegend": true,
         "textposition": "auto",
         "texttemplate": "%{y:.1%}",
         "type": "bar",
         "x": [
          "Euronews",
          "France 24",
          "TMC",
          "Arte",
          "France 5",
          "France 2",
          "TF1",
          "BFMTV",
          "LCI",
          "M6",
          "LCP",
          "Canal+",
          "W9"
         ],
         "xaxis": "x",
         "y": [
          0.17708333333333334,
          0.14930555555555555,
          0.0375,
          0.035416666666666666,
          0.027083333333333334,
          0.022222222222222223,
          0.019444444444444445,
          0.018055555555555557,
          0.01388888888888889,
          0.0125,
          0.006944444444444445,
          0.0006944444444444445,
          0.0006944444444444445
         ],
         "yaxis": "y"
        }
       ],
       "layout": {
        "barmode": "relative",
        "height": 500,
        "legend": {
         "title": {
          "text": "media"
         },
         "tracegroupgap": 0
        },
        "margin": {
         "b": 100,
         "t": 60
        },
        "template": {
         "data": {
          "bar": [
           {
            "error_x": {
             "color": "#2a3f5f"
            },
            "error_y": {
             "color": "#2a3f5f"
            },
            "marker": {
             "line": {
              "color": "white",
              "width": 0.5
             },
             "pattern": {
              "fillmode": "overlay",
              "size": 10,
              "solidity": 0.2
             }
            },
            "type": "bar"
           }
          ],
          "barpolar": [
           {
            "marker": {
             "line": {
              "color": "white",
              "width": 0.5
             },
             "pattern": {
              "fillmode": "overlay",
              "size": 10,
              "solidity": 0.2
             }
            },
            "type": "barpolar"
           }
          ],
          "carpet": [
           {
            "aaxis": {
             "endlinecolor": "#2a3f5f",
             "gridcolor": "#C8D4E3",
             "linecolor": "#C8D4E3",
             "minorgridcolor": "#C8D4E3",
             "startlinecolor": "#2a3f5f"
            },
            "baxis": {
             "endlinecolor": "#2a3f5f",
             "gridcolor": "#C8D4E3",
             "linecolor": "#C8D4E3",
             "minorgridcolor": "#C8D4E3",
             "startlinecolor": "#2a3f5f"
            },
            "type": "carpet"
           }
          ],
          "choropleth": [
           {
            "colorbar": {
             "outlinewidth": 0,
             "ticks": ""
            },
            "type": "choropleth"
           }
          ],
          "contour": [
           {
            "colorbar": {
             "outlinewidth": 0,
             "ticks": ""
            },
            "colorscale": [
             [
              0,
              "#0d0887"
             ],
             [
              0.1111111111111111,
              "#46039f"
             ],
             [
              0.2222222222222222,
              "#7201a8"
             ],
             [
              0.3333333333333333,
              "#9c179e"
             ],
             [
              0.4444444444444444,
              "#bd3786"
             ],
             [
              0.5555555555555556,
              "#d8576b"
             ],
             [
              0.6666666666666666,
              "#ed7953"
             ],
             [
              0.7777777777777778,
              "#fb9f3a"
             ],
             [
              0.8888888888888888,
              "#fdca26"
             ],
             [
              1,
              "#f0f921"
             ]
            ],
            "type": "contour"
           }
          ],
          "contourcarpet": [
           {
            "colorbar": {
             "outlinewidth": 0,
             "ticks": ""
            },
            "type": "contourcarpet"
           }
          ],
          "heatmap": [
           {
            "colorbar": {
             "outlinewidth": 0,
             "ticks": ""
            },
            "colorscale": [
             [
              0,
              "#0d0887"
             ],
             [
              0.1111111111111111,
              "#46039f"
             ],
             [
              0.2222222222222222,
              "#7201a8"
             ],
             [
              0.3333333333333333,
              "#9c179e"
             ],
             [
              0.4444444444444444,
              "#bd3786"
             ],
             [
              0.5555555555555556,
              "#d8576b"
             ],
             [
              0.6666666666666666,
              "#ed7953"
             ],
             [
              0.7777777777777778,
              "#fb9f3a"
             ],
             [
              0.8888888888888888,
              "#fdca26"
             ],
             [
              1,
              "#f0f921"
             ]
            ],
            "type": "heatmap"
           }
          ],
          "heatmapgl": [
           {
            "colorbar": {
             "outlinewidth": 0,
             "ticks": ""
            },
            "colorscale": [
             [
              0,
              "#0d0887"
             ],
             [
              0.1111111111111111,
              "#46039f"
             ],
             [
              0.2222222222222222,
              "#7201a8"
             ],
             [
              0.3333333333333333,
              "#9c179e"
             ],
             [
              0.4444444444444444,
              "#bd3786"
             ],
             [
              0.5555555555555556,
              "#d8576b"
             ],
             [
              0.6666666666666666,
              "#ed7953"
             ],
             [
              0.7777777777777778,
              "#fb9f3a"
             ],
             [
              0.8888888888888888,
              "#fdca26"
             ],
             [
              1,
              "#f0f921"
             ]
            ],
            "type": "heatmapgl"
           }
          ],
          "histogram": [
           {
            "marker": {
             "pattern": {
              "fillmode": "overlay",
              "size": 10,
              "solidity": 0.2
             }
            },
            "type": "histogram"
           }
          ],
          "histogram2d": [
           {
            "colorbar": {
             "outlinewidth": 0,
             "ticks": ""
            },
            "colorscale": [
             [
              0,
              "#0d0887"
             ],
             [
              0.1111111111111111,
              "#46039f"
             ],
             [
              0.2222222222222222,
              "#7201a8"
             ],
             [
              0.3333333333333333,
              "#9c179e"
             ],
             [
              0.4444444444444444,
              "#bd3786"
             ],
             [
              0.5555555555555556,
              "#d8576b"
             ],
             [
              0.6666666666666666,
              "#ed7953"
             ],
             [
              0.7777777777777778,
              "#fb9f3a"
             ],
             [
              0.8888888888888888,
              "#fdca26"
             ],
             [
              1,
              "#f0f921"
             ]
            ],
            "type": "histogram2d"
           }
          ],
          "histogram2dcontour": [
           {
            "colorbar": {
             "outlinewidth": 0,
             "ticks": ""
            },
            "colorscale": [
             [
              0,
              "#0d0887"
             ],
             [
              0.1111111111111111,
              "#46039f"
             ],
             [
              0.2222222222222222,
              "#7201a8"
             ],
             [
              0.3333333333333333,
              "#9c179e"
             ],
             [
              0.4444444444444444,
              "#bd3786"
             ],
             [
              0.5555555555555556,
              "#d8576b"
             ],
             [
              0.6666666666666666,
              "#ed7953"
             ],
             [
              0.7777777777777778,
              "#fb9f3a"
             ],
             [
              0.8888888888888888,
              "#fdca26"
             ],
             [
              1,
              "#f0f921"
             ]
            ],
            "type": "histogram2dcontour"
           }
          ],
          "mesh3d": [
           {
            "colorbar": {
             "outlinewidth": 0,
             "ticks": ""
            },
            "type": "mesh3d"
           }
          ],
          "parcoords": [
           {
            "line": {
             "colorbar": {
              "outlinewidth": 0,
              "ticks": ""
             }
            },
            "type": "parcoords"
           }
          ],
          "pie": [
           {
            "automargin": true,
            "type": "pie"
           }
          ],
          "scatter": [
           {
            "fillpattern": {
             "fillmode": "overlay",
             "size": 10,
             "solidity": 0.2
            },
            "type": "scatter"
           }
          ],
          "scatter3d": [
           {
            "line": {
             "colorbar": {
              "outlinewidth": 0,
              "ticks": ""
             }
            },
            "marker": {
             "colorbar": {
              "outlinewidth": 0,
              "ticks": ""
             }
            },
            "type": "scatter3d"
           }
          ],
          "scattercarpet": [
           {
            "marker": {
             "colorbar": {
              "outlinewidth": 0,
              "ticks": ""
             }
            },
            "type": "scattercarpet"
           }
          ],
          "scattergeo": [
           {
            "marker": {
             "colorbar": {
              "outlinewidth": 0,
              "ticks": ""
             }
            },
            "type": "scattergeo"
           }
          ],
          "scattergl": [
           {
            "marker": {
             "colorbar": {
              "outlinewidth": 0,
              "ticks": ""
             }
            },
            "type": "scattergl"
           }
          ],
          "scattermapbox": [
           {
            "marker": {
             "colorbar": {
              "outlinewidth": 0,
              "ticks": ""
             }
            },
            "type": "scattermapbox"
           }
          ],
          "scatterpolar": [
           {
            "marker": {
             "colorbar": {
              "outlinewidth": 0,
              "ticks": ""
             }
            },
            "type": "scatterpolar"
           }
          ],
          "scatterpolargl": [
           {
            "marker": {
             "colorbar": {
              "outlinewidth": 0,
              "ticks": ""
             }
            },
            "type": "scatterpolargl"
           }
          ],
          "scatterternary": [
           {
            "marker": {
             "colorbar": {
              "outlinewidth": 0,
              "ticks": ""
             }
            },
            "type": "scatterternary"
           }
          ],
          "surface": [
           {
            "colorbar": {
             "outlinewidth": 0,
             "ticks": ""
            },
            "colorscale": [
             [
              0,
              "#0d0887"
             ],
             [
              0.1111111111111111,
              "#46039f"
             ],
             [
              0.2222222222222222,
              "#7201a8"
             ],
             [
              0.3333333333333333,
              "#9c179e"
             ],
             [
              0.4444444444444444,
              "#bd3786"
             ],
             [
              0.5555555555555556,
              "#d8576b"
             ],
             [
              0.6666666666666666,
              "#ed7953"
             ],
             [
              0.7777777777777778,
              "#fb9f3a"
             ],
             [
              0.8888888888888888,
              "#fdca26"
             ],
             [
              1,
              "#f0f921"
             ]
            ],
            "type": "surface"
           }
          ],
          "table": [
           {
            "cells": {
             "fill": {
              "color": "#EBF0F8"
             },
             "line": {
              "color": "white"
             }
            },
            "header": {
             "fill": {
              "color": "#C8D4E3"
             },
             "line": {
              "color": "white"
             }
            },
            "type": "table"
           }
          ]
         },
         "layout": {
          "annotationdefaults": {
           "arrowcolor": "#2a3f5f",
           "arrowhead": 0,
           "arrowwidth": 1
          },
          "autotypenumbers": "strict",
          "coloraxis": {
           "colorbar": {
            "outlinewidth": 0,
            "ticks": ""
           }
          },
          "colorscale": {
           "diverging": [
            [
             0,
             "#8e0152"
            ],
            [
             0.1,
             "#c51b7d"
            ],
            [
             0.2,
             "#de77ae"
            ],
            [
             0.3,
             "#f1b6da"
            ],
            [
             0.4,
             "#fde0ef"
            ],
            [
             0.5,
             "#f7f7f7"
            ],
            [
             0.6,
             "#e6f5d0"
            ],
            [
             0.7,
             "#b8e186"
            ],
            [
             0.8,
             "#7fbc41"
            ],
            [
             0.9,
             "#4d9221"
            ],
            [
             1,
             "#276419"
            ]
           ],
           "sequential": [
            [
             0,
             "#0d0887"
            ],
            [
             0.1111111111111111,
             "#46039f"
            ],
            [
             0.2222222222222222,
             "#7201a8"
            ],
            [
             0.3333333333333333,
             "#9c179e"
            ],
            [
             0.4444444444444444,
             "#bd3786"
            ],
            [
             0.5555555555555556,
             "#d8576b"
            ],
            [
             0.6666666666666666,
             "#ed7953"
            ],
            [
             0.7777777777777778,
             "#fb9f3a"
            ],
            [
             0.8888888888888888,
             "#fdca26"
            ],
            [
             1,
             "#f0f921"
            ]
           ],
           "sequentialminus": [
            [
             0,
             "#0d0887"
            ],
            [
             0.1111111111111111,
             "#46039f"
            ],
            [
             0.2222222222222222,
             "#7201a8"
            ],
            [
             0.3333333333333333,
             "#9c179e"
            ],
            [
             0.4444444444444444,
             "#bd3786"
            ],
            [
             0.5555555555555556,
             "#d8576b"
            ],
            [
             0.6666666666666666,
             "#ed7953"
            ],
            [
             0.7777777777777778,
             "#fb9f3a"
            ],
            [
             0.8888888888888888,
             "#fdca26"
            ],
            [
             1,
             "#f0f921"
            ]
           ]
          },
          "colorway": [
           "#636efa",
           "#EF553B",
           "#00cc96",
           "#ab63fa",
           "#FFA15A",
           "#19d3f3",
           "#FF6692",
           "#B6E880",
           "#FF97FF",
           "#FECB52"
          ],
          "font": {
           "color": "#2a3f5f"
          },
          "geo": {
           "bgcolor": "white",
           "lakecolor": "white",
           "landcolor": "white",
           "showlakes": true,
           "showland": true,
           "subunitcolor": "#C8D4E3"
          },
          "hoverlabel": {
           "align": "left"
          },
          "hovermode": "closest",
          "mapbox": {
           "style": "light"
          },
          "paper_bgcolor": "white",
          "plot_bgcolor": "white",
          "polar": {
           "angularaxis": {
            "gridcolor": "#EBF0F8",
            "linecolor": "#EBF0F8",
            "ticks": ""
           },
           "bgcolor": "white",
           "radialaxis": {
            "gridcolor": "#EBF0F8",
            "linecolor": "#EBF0F8",
            "ticks": ""
           }
          },
          "scene": {
           "xaxis": {
            "backgroundcolor": "white",
            "gridcolor": "#DFE8F3",
            "gridwidth": 2,
            "linecolor": "#EBF0F8",
            "showbackground": true,
            "ticks": "",
            "zerolinecolor": "#EBF0F8"
           },
           "yaxis": {
            "backgroundcolor": "white",
            "gridcolor": "#DFE8F3",
            "gridwidth": 2,
            "linecolor": "#EBF0F8",
            "showbackground": true,
            "ticks": "",
            "zerolinecolor": "#EBF0F8"
           },
           "zaxis": {
            "backgroundcolor": "white",
            "gridcolor": "#DFE8F3",
            "gridwidth": 2,
            "linecolor": "#EBF0F8",
            "showbackground": true,
            "ticks": "",
            "zerolinecolor": "#EBF0F8"
           }
          },
          "shapedefaults": {
           "line": {
            "color": "#2a3f5f"
           }
          },
          "ternary": {
           "aaxis": {
            "gridcolor": "#DFE8F3",
            "linecolor": "#A2B1C6",
            "ticks": ""
           },
           "baxis": {
            "gridcolor": "#DFE8F3",
            "linecolor": "#A2B1C6",
            "ticks": ""
           },
           "bgcolor": "white",
           "caxis": {
            "gridcolor": "#DFE8F3",
            "linecolor": "#A2B1C6",
            "ticks": ""
           }
          },
          "title": {
           "x": 0.05
          },
          "xaxis": {
           "automargin": true,
           "gridcolor": "#EBF0F8",
           "linecolor": "#EBF0F8",
           "ticks": "",
           "title": {
            "standoff": 15
           },
           "zerolinecolor": "#EBF0F8",
           "zerolinewidth": 2
          },
          "yaxis": {
           "automargin": true,
           "gridcolor": "#EBF0F8",
           "linecolor": "#EBF0F8",
           "ticks": "",
           "title": {
            "standoff": 15
           },
           "zerolinecolor": "#EBF0F8",
           "zerolinewidth": 2
          }
         }
        },
        "xaxis": {
         "anchor": "y",
         "categoryarray": [
          "Euronews",
          "France 24",
          "TMC",
          "Arte",
          "France 5",
          "France 2",
          "TF1",
          "BFMTV",
          "LCI",
          "M6",
          "LCP",
          "Canal+",
          "W9"
         ],
         "categoryorder": "array",
         "domain": [
          0,
          1
         ],
         "tickangle": -45,
         "title": {}
        },
        "yaxis": {
         "anchor": "x",
         "domain": [
          0,
          1
         ],
         "tickformat": "0%",
         "title": {}
        }
       }
      },
      "text/html": [
       "<div>                            <div id=\"5ba7ec6a-b015-435c-b014-241744ff7a49\" class=\"plotly-graph-div\" style=\"height:500px; width:100%;\"></div>            <script type=\"text/javascript\">                require([\"plotly\"], function(Plotly) {                    window.PLOTLYENV=window.PLOTLYENV || {};                                    if (document.getElementById(\"5ba7ec6a-b015-435c-b014-241744ff7a49\")) {                    Plotly.newPlot(                        \"5ba7ec6a-b015-435c-b014-241744ff7a49\",                        [{\"alignmentgroup\":\"True\",\"hovertemplate\":\"media=TV<br>channel_name=%{x}<br>count=%{y}<extra></extra>\",\"legendgroup\":\"TV\",\"marker\":{\"color\":\"rgb(95, 70, 144)\",\"pattern\":{\"shape\":\"\"}},\"name\":\"TV\",\"offsetgroup\":\"TV\",\"orientation\":\"v\",\"showlegend\":true,\"textposition\":\"auto\",\"texttemplate\":\"%{y:.1%}\",\"x\":[\"Euronews\",\"France 24\",\"TMC\",\"Arte\",\"France 5\",\"France 2\",\"TF1\",\"BFMTV\",\"LCI\",\"M6\",\"LCP\",\"Canal+\",\"W9\"],\"xaxis\":\"x\",\"y\":[0.17708333333333334,0.14930555555555555,0.0375,0.035416666666666666,0.027083333333333334,0.022222222222222223,0.019444444444444445,0.018055555555555557,0.01388888888888889,0.0125,0.006944444444444445,0.0006944444444444445,0.0006944444444444445],\"yaxis\":\"y\",\"type\":\"bar\"}],                        {\"template\":{\"data\":{\"barpolar\":[{\"marker\":{\"line\":{\"color\":\"white\",\"width\":0.5},\"pattern\":{\"fillmode\":\"overlay\",\"size\":10,\"solidity\":0.2}},\"type\":\"barpolar\"}],\"bar\":[{\"error_x\":{\"color\":\"#2a3f5f\"},\"error_y\":{\"color\":\"#2a3f5f\"},\"marker\":{\"line\":{\"color\":\"white\",\"width\":0.5},\"pattern\":{\"fillmode\":\"overlay\",\"size\":10,\"solidity\":0.2}},\"type\":\"bar\"}],\"carpet\":[{\"aaxis\":{\"endlinecolor\":\"#2a3f5f\",\"gridcolor\":\"#C8D4E3\",\"linecolor\":\"#C8D4E3\",\"minorgridcolor\":\"#C8D4E3\",\"startlinecolor\":\"#2a3f5f\"},\"baxis\":{\"endlinecolor\":\"#2a3f5f\",\"gridcolor\":\"#C8D4E3\",\"linecolor\":\"#C8D4E3\",\"minorgridcolor\":\"#C8D4E3\",\"startlinecolor\":\"#2a3f5f\"},\"type\":\"carpet\"}],\"choropleth\":[{\"colorbar\":{\"outlinewidth\":0,\"ticks\":\"\"},\"type\":\"choropleth\"}],\"contourcarpet\":[{\"colorbar\":{\"outlinewidth\":0,\"ticks\":\"\"},\"type\":\"contourcarpet\"}],\"contour\":[{\"colorbar\":{\"outlinewidth\":0,\"ticks\":\"\"},\"colorscale\":[[0.0,\"#0d0887\"],[0.1111111111111111,\"#46039f\"],[0.2222222222222222,\"#7201a8\"],[0.3333333333333333,\"#9c179e\"],[0.4444444444444444,\"#bd3786\"],[0.5555555555555556,\"#d8576b\"],[0.6666666666666666,\"#ed7953\"],[0.7777777777777778,\"#fb9f3a\"],[0.8888888888888888,\"#fdca26\"],[1.0,\"#f0f921\"]],\"type\":\"contour\"}],\"heatmapgl\":[{\"colorbar\":{\"outlinewidth\":0,\"ticks\":\"\"},\"colorscale\":[[0.0,\"#0d0887\"],[0.1111111111111111,\"#46039f\"],[0.2222222222222222,\"#7201a8\"],[0.3333333333333333,\"#9c179e\"],[0.4444444444444444,\"#bd3786\"],[0.5555555555555556,\"#d8576b\"],[0.6666666666666666,\"#ed7953\"],[0.7777777777777778,\"#fb9f3a\"],[0.8888888888888888,\"#fdca26\"],[1.0,\"#f0f921\"]],\"type\":\"heatmapgl\"}],\"heatmap\":[{\"colorbar\":{\"outlinewidth\":0,\"ticks\":\"\"},\"colorscale\":[[0.0,\"#0d0887\"],[0.1111111111111111,\"#46039f\"],[0.2222222222222222,\"#7201a8\"],[0.3333333333333333,\"#9c179e\"],[0.4444444444444444,\"#bd3786\"],[0.5555555555555556,\"#d8576b\"],[0.6666666666666666,\"#ed7953\"],[0.7777777777777778,\"#fb9f3a\"],[0.8888888888888888,\"#fdca26\"],[1.0,\"#f0f921\"]],\"type\":\"heatmap\"}],\"histogram2dcontour\":[{\"colorbar\":{\"outlinewidth\":0,\"ticks\":\"\"},\"colorscale\":[[0.0,\"#0d0887\"],[0.1111111111111111,\"#46039f\"],[0.2222222222222222,\"#7201a8\"],[0.3333333333333333,\"#9c179e\"],[0.4444444444444444,\"#bd3786\"],[0.5555555555555556,\"#d8576b\"],[0.6666666666666666,\"#ed7953\"],[0.7777777777777778,\"#fb9f3a\"],[0.8888888888888888,\"#fdca26\"],[1.0,\"#f0f921\"]],\"type\":\"histogram2dcontour\"}],\"histogram2d\":[{\"colorbar\":{\"outlinewidth\":0,\"ticks\":\"\"},\"colorscale\":[[0.0,\"#0d0887\"],[0.1111111111111111,\"#46039f\"],[0.2222222222222222,\"#7201a8\"],[0.3333333333333333,\"#9c179e\"],[0.4444444444444444,\"#bd3786\"],[0.5555555555555556,\"#d8576b\"],[0.6666666666666666,\"#ed7953\"],[0.7777777777777778,\"#fb9f3a\"],[0.8888888888888888,\"#fdca26\"],[1.0,\"#f0f921\"]],\"type\":\"histogram2d\"}],\"histogram\":[{\"marker\":{\"pattern\":{\"fillmode\":\"overlay\",\"size\":10,\"solidity\":0.2}},\"type\":\"histogram\"}],\"mesh3d\":[{\"colorbar\":{\"outlinewidth\":0,\"ticks\":\"\"},\"type\":\"mesh3d\"}],\"parcoords\":[{\"line\":{\"colorbar\":{\"outlinewidth\":0,\"ticks\":\"\"}},\"type\":\"parcoords\"}],\"pie\":[{\"automargin\":true,\"type\":\"pie\"}],\"scatter3d\":[{\"line\":{\"colorbar\":{\"outlinewidth\":0,\"ticks\":\"\"}},\"marker\":{\"colorbar\":{\"outlinewidth\":0,\"ticks\":\"\"}},\"type\":\"scatter3d\"}],\"scattercarpet\":[{\"marker\":{\"colorbar\":{\"outlinewidth\":0,\"ticks\":\"\"}},\"type\":\"scattercarpet\"}],\"scattergeo\":[{\"marker\":{\"colorbar\":{\"outlinewidth\":0,\"ticks\":\"\"}},\"type\":\"scattergeo\"}],\"scattergl\":[{\"marker\":{\"colorbar\":{\"outlinewidth\":0,\"ticks\":\"\"}},\"type\":\"scattergl\"}],\"scattermapbox\":[{\"marker\":{\"colorbar\":{\"outlinewidth\":0,\"ticks\":\"\"}},\"type\":\"scattermapbox\"}],\"scatterpolargl\":[{\"marker\":{\"colorbar\":{\"outlinewidth\":0,\"ticks\":\"\"}},\"type\":\"scatterpolargl\"}],\"scatterpolar\":[{\"marker\":{\"colorbar\":{\"outlinewidth\":0,\"ticks\":\"\"}},\"type\":\"scatterpolar\"}],\"scatter\":[{\"fillpattern\":{\"fillmode\":\"overlay\",\"size\":10,\"solidity\":0.2},\"type\":\"scatter\"}],\"scatterternary\":[{\"marker\":{\"colorbar\":{\"outlinewidth\":0,\"ticks\":\"\"}},\"type\":\"scatterternary\"}],\"surface\":[{\"colorbar\":{\"outlinewidth\":0,\"ticks\":\"\"},\"colorscale\":[[0.0,\"#0d0887\"],[0.1111111111111111,\"#46039f\"],[0.2222222222222222,\"#7201a8\"],[0.3333333333333333,\"#9c179e\"],[0.4444444444444444,\"#bd3786\"],[0.5555555555555556,\"#d8576b\"],[0.6666666666666666,\"#ed7953\"],[0.7777777777777778,\"#fb9f3a\"],[0.8888888888888888,\"#fdca26\"],[1.0,\"#f0f921\"]],\"type\":\"surface\"}],\"table\":[{\"cells\":{\"fill\":{\"color\":\"#EBF0F8\"},\"line\":{\"color\":\"white\"}},\"header\":{\"fill\":{\"color\":\"#C8D4E3\"},\"line\":{\"color\":\"white\"}},\"type\":\"table\"}]},\"layout\":{\"annotationdefaults\":{\"arrowcolor\":\"#2a3f5f\",\"arrowhead\":0,\"arrowwidth\":1},\"autotypenumbers\":\"strict\",\"coloraxis\":{\"colorbar\":{\"outlinewidth\":0,\"ticks\":\"\"}},\"colorscale\":{\"diverging\":[[0,\"#8e0152\"],[0.1,\"#c51b7d\"],[0.2,\"#de77ae\"],[0.3,\"#f1b6da\"],[0.4,\"#fde0ef\"],[0.5,\"#f7f7f7\"],[0.6,\"#e6f5d0\"],[0.7,\"#b8e186\"],[0.8,\"#7fbc41\"],[0.9,\"#4d9221\"],[1,\"#276419\"]],\"sequential\":[[0.0,\"#0d0887\"],[0.1111111111111111,\"#46039f\"],[0.2222222222222222,\"#7201a8\"],[0.3333333333333333,\"#9c179e\"],[0.4444444444444444,\"#bd3786\"],[0.5555555555555556,\"#d8576b\"],[0.6666666666666666,\"#ed7953\"],[0.7777777777777778,\"#fb9f3a\"],[0.8888888888888888,\"#fdca26\"],[1.0,\"#f0f921\"]],\"sequentialminus\":[[0.0,\"#0d0887\"],[0.1111111111111111,\"#46039f\"],[0.2222222222222222,\"#7201a8\"],[0.3333333333333333,\"#9c179e\"],[0.4444444444444444,\"#bd3786\"],[0.5555555555555556,\"#d8576b\"],[0.6666666666666666,\"#ed7953\"],[0.7777777777777778,\"#fb9f3a\"],[0.8888888888888888,\"#fdca26\"],[1.0,\"#f0f921\"]]},\"colorway\":[\"#636efa\",\"#EF553B\",\"#00cc96\",\"#ab63fa\",\"#FFA15A\",\"#19d3f3\",\"#FF6692\",\"#B6E880\",\"#FF97FF\",\"#FECB52\"],\"font\":{\"color\":\"#2a3f5f\"},\"geo\":{\"bgcolor\":\"white\",\"lakecolor\":\"white\",\"landcolor\":\"white\",\"showlakes\":true,\"showland\":true,\"subunitcolor\":\"#C8D4E3\"},\"hoverlabel\":{\"align\":\"left\"},\"hovermode\":\"closest\",\"mapbox\":{\"style\":\"light\"},\"paper_bgcolor\":\"white\",\"plot_bgcolor\":\"white\",\"polar\":{\"angularaxis\":{\"gridcolor\":\"#EBF0F8\",\"linecolor\":\"#EBF0F8\",\"ticks\":\"\"},\"bgcolor\":\"white\",\"radialaxis\":{\"gridcolor\":\"#EBF0F8\",\"linecolor\":\"#EBF0F8\",\"ticks\":\"\"}},\"scene\":{\"xaxis\":{\"backgroundcolor\":\"white\",\"gridcolor\":\"#DFE8F3\",\"gridwidth\":2,\"linecolor\":\"#EBF0F8\",\"showbackground\":true,\"ticks\":\"\",\"zerolinecolor\":\"#EBF0F8\"},\"yaxis\":{\"backgroundcolor\":\"white\",\"gridcolor\":\"#DFE8F3\",\"gridwidth\":2,\"linecolor\":\"#EBF0F8\",\"showbackground\":true,\"ticks\":\"\",\"zerolinecolor\":\"#EBF0F8\"},\"zaxis\":{\"backgroundcolor\":\"white\",\"gridcolor\":\"#DFE8F3\",\"gridwidth\":2,\"linecolor\":\"#EBF0F8\",\"showbackground\":true,\"ticks\":\"\",\"zerolinecolor\":\"#EBF0F8\"}},\"shapedefaults\":{\"line\":{\"color\":\"#2a3f5f\"}},\"ternary\":{\"aaxis\":{\"gridcolor\":\"#DFE8F3\",\"linecolor\":\"#A2B1C6\",\"ticks\":\"\"},\"baxis\":{\"gridcolor\":\"#DFE8F3\",\"linecolor\":\"#A2B1C6\",\"ticks\":\"\"},\"bgcolor\":\"white\",\"caxis\":{\"gridcolor\":\"#DFE8F3\",\"linecolor\":\"#A2B1C6\",\"ticks\":\"\"}},\"title\":{\"x\":0.05},\"xaxis\":{\"automargin\":true,\"gridcolor\":\"#EBF0F8\",\"linecolor\":\"#EBF0F8\",\"ticks\":\"\",\"title\":{\"standoff\":15},\"zerolinecolor\":\"#EBF0F8\",\"zerolinewidth\":2},\"yaxis\":{\"automargin\":true,\"gridcolor\":\"#EBF0F8\",\"linecolor\":\"#EBF0F8\",\"ticks\":\"\",\"title\":{\"standoff\":15},\"zerolinecolor\":\"#EBF0F8\",\"zerolinewidth\":2}}},\"xaxis\":{\"anchor\":\"y\",\"domain\":[0.0,1.0],\"title\":{},\"categoryorder\":\"array\",\"categoryarray\":[\"Euronews\",\"France 24\",\"TMC\",\"Arte\",\"France 5\",\"France 2\",\"TF1\",\"BFMTV\",\"LCI\",\"M6\",\"LCP\",\"Canal+\",\"W9\"],\"tickangle\":-45},\"yaxis\":{\"anchor\":\"x\",\"domain\":[0.0,1.0],\"title\":{},\"tickformat\":\"0%\"},\"legend\":{\"title\":{\"text\":\"media\"},\"tracegroupgap\":0},\"margin\":{\"t\":60,\"b\":100},\"barmode\":\"relative\",\"height\":500},                        {\"responsive\": true}                    ).then(function(){\n",
       "                            \n",
       "var gd = document.getElementById('5ba7ec6a-b015-435c-b014-241744ff7a49');\n",
       "var x = new MutationObserver(function (mutations, observer) {{\n",
       "        var display = window.getComputedStyle(gd).display;\n",
       "        if (!display || display === 'none') {{\n",
       "            console.log([gd, 'removed!']);\n",
       "            Plotly.purge(gd);\n",
       "            observer.disconnect();\n",
       "        }}\n",
       "}});\n",
       "\n",
       "// Listen for the removal of the full notebook cells\n",
       "var notebookContainer = gd.closest('#notebook-container');\n",
       "if (notebookContainer) {{\n",
       "    x.observe(notebookContainer, {childList: true});\n",
       "}}\n",
       "\n",
       "// Listen for the clearing of the current output cell\n",
       "var outputEl = gd.closest('.output');\n",
       "if (outputEl) {{\n",
       "    x.observe(outputEl, {childList: true});\n",
       "}}\n",
       "\n",
       "                        })                };                });            </script>        </div>"
      ]
     },
     "metadata": {}
    }
   ],
   "metadata": {}
  },
  {
   "cell_type": "code",
   "execution_count": null,
   "source": [],
   "outputs": [],
   "metadata": {}
  }
 ],
 "metadata": {
  "kernelspec": {
   "name": "python3",
   "display_name": "Python 3.10.2 64-bit ('quotaclimat': pyenv)"
  },
  "language_info": {
   "codemirror_mode": {
    "name": "ipython",
    "version": 3
   },
   "file_extension": ".py",
   "mimetype": "text/x-python",
   "name": "python",
   "nbconvert_exporter": "python",
   "pygments_lexer": "ipython3",
   "version": "3.10.2"
  },
  "vscode": {
   "interpreter": {
    "hash": "b841845b27b8c69fcb4b40deb2f6b6285a40a87379e4c1cb9a4e3ac80431c2ca"
   }
  },
  "interpreter": {
   "hash": "0ff42cd313d39b96e6548fdae68a6a114da09a259a05b6e4c9513dfe461c2a77"
  }
 },
 "nbformat": 4,
 "nbformat_minor": 5
}